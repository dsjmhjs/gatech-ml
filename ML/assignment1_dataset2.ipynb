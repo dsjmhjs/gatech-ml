{
 "cells": [
  {
   "cell_type": "code",
   "execution_count": 86,
   "metadata": {},
   "outputs": [],
   "source": [
    "%matplotlib inline\n",
    "import matplotlib.pyplot as plt\n",
    "from sklearn_evaluation import plot\n",
    "import loadData\n",
    "import pandas as pd\n",
    "import numpy as np\n",
    "from sklearn import tree\n",
    "import graphviz\n",
    "from sklearn.preprocessing import LabelEncoder\n",
    "from sklearn.preprocessing import OneHotEncoder\n",
    "from sklearn.metrics import accuracy_score\n",
    "from sklearn.neural_network import MLPClassifier\n",
    "from sklearn.tree._tree import TREE_LEAF\n",
    "from sklearn.model_selection import GridSearchCV\n",
    "from sklearn.ensemble import GradientBoostingClassifier\n",
    "from sklearn.neighbors import KNeighborsClassifier\n",
    "from sklearn import svm\n",
    "from sklearn.model_selection import StratifiedShuffleSplit\n",
    "from mlxtend.plotting import plot_decision_regions\n",
    "from sklearn.metrics import classification_report\n",
    "from sklearn.utils import resample\n",
    "from sklearn.metrics import precision_recall_fscore_support\n",
    "from sklearn.model_selection import learning_curve\n",
    "from sklearn import cross_validation\n",
    "import timeit"
   ]
  },
  {
   "cell_type": "code",
   "execution_count": 82,
   "metadata": {},
   "outputs": [
    {
     "data": {
      "text/html": [
       "<div>\n",
       "<style scoped>\n",
       "    .dataframe tbody tr th:only-of-type {\n",
       "        vertical-align: middle;\n",
       "    }\n",
       "\n",
       "    .dataframe tbody tr th {\n",
       "        vertical-align: top;\n",
       "    }\n",
       "\n",
       "    .dataframe thead th {\n",
       "        text-align: right;\n",
       "    }\n",
       "</style>\n",
       "<table border=\"1\" class=\"dataframe\">\n",
       "  <thead>\n",
       "    <tr style=\"text-align: right;\">\n",
       "      <th></th>\n",
       "      <th>age</th>\n",
       "      <th>sex</th>\n",
       "      <th>cp</th>\n",
       "      <th>trestbps</th>\n",
       "      <th>chol</th>\n",
       "      <th>fbs</th>\n",
       "      <th>restecg</th>\n",
       "      <th>thalach</th>\n",
       "      <th>exang</th>\n",
       "      <th>oldpeak</th>\n",
       "      <th>slope</th>\n",
       "      <th>ca</th>\n",
       "      <th>thal</th>\n",
       "      <th>cancerPresence</th>\n",
       "    </tr>\n",
       "  </thead>\n",
       "  <tbody>\n",
       "    <tr>\n",
       "      <th>248</th>\n",
       "      <td>52.0</td>\n",
       "      <td>1.0</td>\n",
       "      <td>4.0</td>\n",
       "      <td>125.0</td>\n",
       "      <td>212.0</td>\n",
       "      <td>0.0</td>\n",
       "      <td>0.0</td>\n",
       "      <td>168.0</td>\n",
       "      <td>0.0</td>\n",
       "      <td>1.0</td>\n",
       "      <td>1.0</td>\n",
       "      <td>2.0</td>\n",
       "      <td>7.0</td>\n",
       "      <td>3</td>\n",
       "    </tr>\n",
       "    <tr>\n",
       "      <th>146</th>\n",
       "      <td>57.0</td>\n",
       "      <td>1.0</td>\n",
       "      <td>4.0</td>\n",
       "      <td>165.0</td>\n",
       "      <td>289.0</td>\n",
       "      <td>1.0</td>\n",
       "      <td>2.0</td>\n",
       "      <td>124.0</td>\n",
       "      <td>0.0</td>\n",
       "      <td>1.0</td>\n",
       "      <td>2.0</td>\n",
       "      <td>3.0</td>\n",
       "      <td>7.0</td>\n",
       "      <td>4</td>\n",
       "    </tr>\n",
       "    <tr>\n",
       "      <th>73</th>\n",
       "      <td>65.0</td>\n",
       "      <td>1.0</td>\n",
       "      <td>4.0</td>\n",
       "      <td>110.0</td>\n",
       "      <td>248.0</td>\n",
       "      <td>0.0</td>\n",
       "      <td>2.0</td>\n",
       "      <td>158.0</td>\n",
       "      <td>0.0</td>\n",
       "      <td>0.6</td>\n",
       "      <td>1.0</td>\n",
       "      <td>2.0</td>\n",
       "      <td>6.0</td>\n",
       "      <td>1</td>\n",
       "    </tr>\n",
       "    <tr>\n",
       "      <th>40</th>\n",
       "      <td>65.0</td>\n",
       "      <td>0.0</td>\n",
       "      <td>4.0</td>\n",
       "      <td>150.0</td>\n",
       "      <td>225.0</td>\n",
       "      <td>0.0</td>\n",
       "      <td>2.0</td>\n",
       "      <td>114.0</td>\n",
       "      <td>0.0</td>\n",
       "      <td>1.0</td>\n",
       "      <td>2.0</td>\n",
       "      <td>3.0</td>\n",
       "      <td>7.0</td>\n",
       "      <td>4</td>\n",
       "    </tr>\n",
       "    <tr>\n",
       "      <th>142</th>\n",
       "      <td>52.0</td>\n",
       "      <td>1.0</td>\n",
       "      <td>2.0</td>\n",
       "      <td>128.0</td>\n",
       "      <td>205.0</td>\n",
       "      <td>1.0</td>\n",
       "      <td>0.0</td>\n",
       "      <td>184.0</td>\n",
       "      <td>0.0</td>\n",
       "      <td>0.0</td>\n",
       "      <td>1.0</td>\n",
       "      <td>0.0</td>\n",
       "      <td>3.0</td>\n",
       "      <td>0</td>\n",
       "    </tr>\n",
       "  </tbody>\n",
       "</table>\n",
       "</div>"
      ],
      "text/plain": [
       "      age  sex   cp  trestbps   chol  fbs  restecg  thalach  exang  oldpeak  \\\n",
       "248  52.0  1.0  4.0     125.0  212.0  0.0      0.0    168.0    0.0      1.0   \n",
       "146  57.0  1.0  4.0     165.0  289.0  1.0      2.0    124.0    0.0      1.0   \n",
       "73   65.0  1.0  4.0     110.0  248.0  0.0      2.0    158.0    0.0      0.6   \n",
       "40   65.0  0.0  4.0     150.0  225.0  0.0      2.0    114.0    0.0      1.0   \n",
       "142  52.0  1.0  2.0     128.0  205.0  1.0      0.0    184.0    0.0      0.0   \n",
       "\n",
       "     slope   ca thal  cancerPresence  \n",
       "248    1.0  2.0  7.0               3  \n",
       "146    2.0  3.0  7.0               4  \n",
       "73     1.0  2.0  6.0               1  \n",
       "40     2.0  3.0  7.0               4  \n",
       "142    1.0  0.0  3.0               0  "
      ]
     },
     "execution_count": 82,
     "metadata": {},
     "output_type": "execute_result"
    }
   ],
   "source": [
    "# load data\n",
    "training_set, testing_set = loadData.loadDataWithoutTestSet('processed.cleveland.data', split_to_test=True)\n",
    "training_set.head()"
   ]
  },
  {
   "cell_type": "code",
   "execution_count": 83,
   "metadata": {},
   "outputs": [
    {
     "name": "stdout",
     "output_type": "stream",
     "text": [
      "(242, 13)\n",
      "(61, 13)\n"
     ]
    }
   ],
   "source": [
    "# get features and labels\n",
    "training_set_labels = training_set.iloc[:,-1]\n",
    "training_set = training_set.iloc[:,0:-1]\n",
    "\n",
    "training_set_labels.reset_index(drop=True, inplace=True)\n",
    "training_set.reset_index(drop=True, inplace=True)\n",
    "\n",
    "testing_set_labels = testing_set.iloc[:,-1]\n",
    "testing_set = testing_set.iloc[:,0:-1]\n",
    "\n",
    "testing_set_labels.reset_index(drop=True, inplace=True)\n",
    "testing_set.reset_index(drop=True, inplace=True)\n",
    "\n",
    "print(training_set.shape)\n",
    "print(testing_set.shape)\n",
    "\n",
    "training_set.replace('?',0, inplace=True)\n",
    "testing_set.replace('?',0, inplace=True)\n",
    "\n",
    "training_set[['ca','thal']] = training_set[['ca','thal']].apply(pd.to_numeric)\n",
    "testing_set[['ca','thal']] = testing_set[['ca','thal']].apply(pd.to_numeric)\n",
    "target_names=['class 0', 'class 1', 'class 2', 'class 3', 'class 4']\n"
   ]
  },
  {
   "cell_type": "code",
   "execution_count": 3,
   "metadata": {},
   "outputs": [
    {
     "data": {
      "image/png": "[encoded data removed]",
      "text/plain": [
       "<Figure size 432x288 with 1 Axes>"
      ]
     },
     "metadata": {
      "needs_background": "light"
     },
     "output_type": "display_data"
    },
    {
     "data": {
      "image/png": "[encoded data removed]",
      "text/plain": [
       "<Figure size 432x288 with 1 Axes>"
      ]
     },
     "metadata": {
      "needs_background": "light"
     },
     "output_type": "display_data"
    }
   ],
   "source": [
    "plt.bar(['0','1', '2', '3', '4'],[len(training_set_labels[training_set_labels==0]), \n",
    "         len(training_set_labels[training_set_labels==1]), \n",
    "             len(training_set_labels[training_set_labels==2]),\n",
    "                len(training_set_labels[training_set_labels==3]),\n",
    "                   len(training_set_labels[training_set_labels==4])])\n",
    "plt.title('Training Set Label Distribution')\n",
    "plt.savefig('dataset2_training_set_label_dist.png')\n",
    "plt.show()\n",
    "                 \n",
    "plt.bar(['0','1', '2', '3', '4'],[len(testing_set_labels[testing_set_labels==0]), \n",
    "         len(testing_set_labels[testing_set_labels==1]), \n",
    "             len(testing_set_labels[testing_set_labels==2]),\n",
    "                len(testing_set_labels[testing_set_labels==3]),\n",
    "                   len(testing_set_labels[testing_set_labels==4])])\n",
    "plt.title('Testing Set Label Distribution')\n",
    "plt.savefig('dataset2_testing_set_label_dist.png')\n",
    "plt.show()"
   ]
  },
  {
   "cell_type": "code",
   "execution_count": 4,
   "metadata": {},
   "outputs": [
    {
     "name": "stdout",
     "output_type": "stream",
     "text": [
      "1.0\n",
      "0.4426229508196721\n"
     ]
    }
   ],
   "source": [
    "# decision tree\n",
    "dtc = tree.DecisionTreeClassifier()\n",
    "dtc = dtc.fit(training_set, training_set_labels)\n",
    "\n",
    "predicted_training_set_labels = dtc.predict(training_set)\n",
    "predicted_training_set_labels = pd.DataFrame(predicted_training_set_labels) \n",
    "training_set_acc=accuracy_score(training_set_labels, predicted_training_set_labels)\n",
    "\n",
    "predicted_testing_set_labels = dtc.predict(testing_set)\n",
    "predicted_testing_set_labels = pd.DataFrame(predicted_testing_set_labels)\n",
    "testing_set_acc=accuracy_score(testing_set_labels, predicted_testing_set_labels)\n",
    "\n",
    "print(training_set_acc)\n",
    "print(testing_set_acc)"
   ]
  },
  {
   "cell_type": "code",
   "execution_count": 5,
   "metadata": {},
   "outputs": [],
   "source": [
    "# criterion = ['gini', 'entropy']\n",
    "# splitter  = ['best','random']\n",
    "# min_samples_split = [2, 3, 4]\n",
    "# min_samples_leaf = [1, 2, 3, 4, 5]\n",
    "# param_grid = dict(criterion = criterion, splitter = splitter, min_samples_split=min_samples_split, min_samples_leaf=min_samples_leaf)\n",
    "# grid_dtc = GridSearchCV(estimator=dtc, param_grid=param_grid)\n",
    "# grid_result_dtc = grid_dtc.fit(training_set, training_set_labels)\n",
    "\n",
    "\n",
    "# print(\"Best: %f using %s\" % (grid_result_dtc.best_score_, grid_result_dtc.best_params_))\n",
    "# means = grid_result_dtc.cv_results_['mean_test_score']\n",
    "# stds = grid_result_dtc.cv_results_['std_test_score']\n",
    "# params = grid_result_dtc.cv_results_['params']\n",
    "# results = zip(means, stds, params)\n",
    "# for mean, stdev, param in sorted(results, key=lambda x: x[0], reverse=True):\n",
    "#     print(\"%f (%f) with: %r\" % (mean, stdev, param))\n",
    "    \n",
    "\n",
    "# predicted_training_set_labels = grid_dtc.predict(training_set)\n",
    "# predicted_training_set_labels = pd.DataFrame(predicted_training_set_labels) \n",
    "# training_set_acc=accuracy_score(training_set_labels, predicted_training_set_labels)\n",
    "\n",
    "# predicted_testing_set_labels = grid_dtc.predict(testing_set)\n",
    "# predicted_testing_set_labels = pd.DataFrame(predicted_testing_set_labels)\n",
    "# testing_set_acc=accuracy_score(testing_set_labels, predicted_testing_set_labels)\n",
    "\n",
    "# print(training_set_acc)\n",
    "# print(testing_set_acc)"
   ]
  },
  {
   "cell_type": "code",
   "execution_count": 6,
   "metadata": {},
   "outputs": [],
   "source": [
    "# target_names=['class 0', 'class 1', 'class 2', 'class 3', 'class 4']\n",
    "# print(classification_report(testing_set_labels, predicted_testing_set_labels, target_names=target_names))"
   ]
  },
  {
   "cell_type": "code",
   "execution_count": 7,
   "metadata": {},
   "outputs": [],
   "source": [
    "# ax = plot.grid_search(grid_dtc.grid_scores_, change=('min_samples_leaf', 'min_samples_split'), \n",
    "#                       subset={'criterion': 'entropy', 'splitter': 'random'})\n",
    "# fig = ax.get_figure()\n",
    "# fig.set_size_inches(18.5, 10.5)\n",
    "# fig.savefig('dataset2_dtc1.png')\n",
    "# fig.clf()\n",
    "# ax = plot.grid_search(grid_dtc.grid_scores_, change=('min_samples_leaf', 'min_samples_split'), \n",
    "#                       subset={'criterion': 'gini', 'splitter': 'random'})\n",
    "# fig = ax.get_figure()\n",
    "# fig.savefig('dataset2_dtc2.png')\n",
    "# fig.clf()\n",
    "# ax = plot.grid_search(grid_dtc.grid_scores_, change=('min_samples_leaf', 'min_samples_split'), \n",
    "#                       subset={'criterion': 'entropy', 'splitter': 'best'})\n",
    "# fig = ax.get_figure()\n",
    "# fig.savefig('dataset2_dtc3.png')\n",
    "# fig.clf()\n",
    "# ax = plot.grid_search(grid_dtc.grid_scores_, change=('min_samples_leaf', 'min_samples_split'), \n",
    "#                       subset={'criterion': 'gini', 'splitter': 'best'})\n",
    "# fig = ax.get_figure()\n",
    "# fig.savefig('dataset2_dtc4.png')\n",
    "# fig.clf()"
   ]
  },
  {
   "cell_type": "code",
   "execution_count": 8,
   "metadata": {},
   "outputs": [],
   "source": [
    "# dtc = tree.DecisionTreeClassifier(criterion= 'entropy', min_samples_leaf= 1, min_samples_split= 2, splitter= 'random')\n",
    "# dtc.fit(training_set, training_set_labels)\n",
    "# dot_data = tree.export_graphviz(dtc, out_file='dataset2_tree.dot', feature_names=training_set.columns, \n",
    "#                                 filled=True, rounded=True)  \n",
    "# graph = graphviz.Source(dot_data)\n",
    "# from subprocess import check_call\n",
    "# #check_call(['dot','-Tpng','dataset2_tree.dot','-o','dataset2_tree.png'])"
   ]
  },
  {
   "cell_type": "code",
   "execution_count": 9,
   "metadata": {},
   "outputs": [
    {
     "name": "stdout",
     "output_type": "stream",
     "text": [
      "0.43388429752066116\n",
      "0.4426229508196721\n"
     ]
    }
   ],
   "source": [
    "# neural networks\n",
    "nn = MLPClassifier()\n",
    "nn.fit(training_set, training_set_labels)\n",
    "\n",
    "predicted_training_set_labels = nn.predict(training_set)\n",
    "predicted_training_set_labels = pd.DataFrame(predicted_training_set_labels) \n",
    "training_set_acc=accuracy_score(training_set_labels, predicted_training_set_labels)\n",
    "\n",
    "predicted_testing_set_labels = nn.predict(testing_set)\n",
    "predicted_testing_set_labels = pd.DataFrame(predicted_testing_set_labels)\n",
    "testing_set_acc=accuracy_score(testing_set_labels, predicted_testing_set_labels)\n",
    "\n",
    "print(training_set_acc)\n",
    "print(testing_set_acc)"
   ]
  },
  {
   "cell_type": "code",
   "execution_count": 10,
   "metadata": {},
   "outputs": [],
   "source": [
    "# alphas = [0.0001, 0.0002, 0.0005, 0.0007, 0.001, 0.002, 0.005, 0.01]\n",
    "# learning_rates = [0.001, 0.002, 0.005, 0.007, 0.01]\n",
    "# momentums = [0.9, 0.85, 0.8, 0.75, 0.7]\n",
    "# param_grid = dict(alpha=alphas, learning_rate_init = learning_rates, momentum = momentums)\n",
    "# grid_nn = GridSearchCV(estimator=nn, param_grid=param_grid)\n",
    "# grid_result_nn = grid_nn.fit(training_set, training_set_labels)\n",
    "\n",
    "\n",
    "# print(\"Best: %f using %s\" % (grid_result_nn.best_score_, grid_result_nn.best_params_))\n",
    "# means = grid_result_nn.cv_results_['mean_test_score']\n",
    "# stds = grid_result_nn.cv_results_['std_test_score']\n",
    "# params = grid_result_nn.cv_results_['params']\n",
    "# results = zip(means, stds, params)\n",
    "# for mean, stdev, param in sorted(results, key=lambda x: x[0], reverse=True):\n",
    "#     print(\"%f (%f) with: %r\" % (mean, stdev, param))\n",
    "    \n",
    "\n",
    "# predicted_training_set_labels = grid_nn.predict(training_set)\n",
    "# predicted_training_set_labels = pd.DataFrame(predicted_training_set_labels) \n",
    "# training_set_acc_nn=accuracy_score(training_set_labels, predicted_training_set_labels)\n",
    "\n",
    "# predicted_testing_set_labels = grid_nn.predict(testing_set)\n",
    "# predicted_testing_set_labels = pd.DataFrame(predicted_testing_set_labels)\n",
    "# testing_set_acc_nn=accuracy_score(testing_set_labels, predicted_testing_set_labels)\n",
    "\n",
    "# print(training_set_acc_nn)\n",
    "# print(testing_set_acc_nn)"
   ]
  },
  {
   "cell_type": "code",
   "execution_count": 11,
   "metadata": {},
   "outputs": [],
   "source": [
    "# print(classification_report(testing_set_labels, predicted_testing_set_labels, target_names=target_names))"
   ]
  },
  {
   "cell_type": "code",
   "execution_count": 12,
   "metadata": {},
   "outputs": [],
   "source": [
    "# ax = plot.grid_search(grid_nn.grid_scores_, change=('alpha', 'learning_rate_init'),\n",
    "#               subset={'momentum': 0.85})\n",
    "# fig = ax.get_figure()\n",
    "# fig.set_size_inches(18.5, 10.5)\n",
    "# fig.savefig('dataset2_NN1.png')\n",
    "# fig.clf()\n",
    "# ax = plot.grid_search(grid_nn.grid_scores_, change=('alpha', 'momentum'),\n",
    "#               subset={'learning_rate_init': 0.005})\n",
    "# fig = ax.get_figure()\n",
    "# fig.savefig('dataset2_NN2.png')\n",
    "# fig.clf()"
   ]
  },
  {
   "cell_type": "code",
   "execution_count": 13,
   "metadata": {},
   "outputs": [
    {
     "name": "stdout",
     "output_type": "stream",
     "text": [
      "1.0\n",
      "0.5081967213114754\n"
     ]
    }
   ],
   "source": [
    "# boosting\n",
    "gbc = GradientBoostingClassifier()\n",
    "gbc.fit(training_set, training_set_labels)\n",
    "\n",
    "predicted_training_set_labels = gbc.predict(training_set)\n",
    "predicted_training_set_labels = pd.DataFrame(predicted_training_set_labels) \n",
    "training_set_acc=accuracy_score(training_set_labels, predicted_training_set_labels)\n",
    "\n",
    "predicted_testing_set_labels = gbc.predict(testing_set)\n",
    "predicted_testing_set_labels = pd.DataFrame(predicted_testing_set_labels)\n",
    "testing_set_acc=accuracy_score(testing_set_labels, predicted_testing_set_labels)\n",
    "\n",
    "print(training_set_acc)\n",
    "print(testing_set_acc)"
   ]
  },
  {
   "cell_type": "code",
   "execution_count": 14,
   "metadata": {},
   "outputs": [],
   "source": [
    "# nEstimators = [100, 300, 500, 700, 900]\n",
    "# learning_rates = [0.1, 0.3, 0.5, 0.7, 1.0]\n",
    "# param_grid = dict(learning_rate = learning_rates, n_estimators = nEstimators)\n",
    "# grid_b = GridSearchCV(estimator=gbc, param_grid=param_grid)\n",
    "# grid_result_b = grid_b.fit(training_set, training_set_labels)\n",
    "\n",
    "\n",
    "# print(\"Best: %f using %s\" % (grid_result_b.best_score_, grid_result_b.best_params_))\n",
    "# means = grid_result_b.cv_results_['mean_test_score']\n",
    "# stds = grid_result_b.cv_results_['std_test_score']\n",
    "# params = grid_result_b.cv_results_['params']\n",
    "# results = zip(means, stds, params)\n",
    "# for mean, stdev, param in sorted(results, key=lambda x: x[0], reverse=True):\n",
    "#     print(\"%f (%f) with: %r\" % (mean, stdev, param))\n",
    "    \n",
    "# predicted_training_set_labels = grid_b.predict(training_set)\n",
    "# predicted_training_set_labels = pd.DataFrame(predicted_training_set_labels) \n",
    "# training_set_acc=accuracy_score(training_set_labels, predicted_training_set_labels)\n",
    "\n",
    "# predicted_testing_set_labels = grid_b.predict(testing_set)\n",
    "# predicted_testing_set_labels = pd.DataFrame(predicted_testing_set_labels)\n",
    "# testing_set_acc=accuracy_score(testing_set_labels, predicted_testing_set_labels)\n",
    "\n",
    "# print(training_set_acc)\n",
    "# print(testing_set_acc)"
   ]
  },
  {
   "cell_type": "code",
   "execution_count": 15,
   "metadata": {},
   "outputs": [],
   "source": [
    "# print(classification_report(testing_set_labels, predicted_testing_set_labels, target_names=target_names))"
   ]
  },
  {
   "cell_type": "code",
   "execution_count": 16,
   "metadata": {},
   "outputs": [],
   "source": [
    "# ax = plot.grid_search(grid_b.grid_scores_, change=('learning_rate', 'n_estimators'))\n",
    "# fig = ax.get_figure()\n",
    "# fig.set_size_inches(18.5, 10.5)\n",
    "# fig.savefig('dataset2_boosting1.png')\n",
    "# fig.clf()"
   ]
  },
  {
   "cell_type": "code",
   "execution_count": 17,
   "metadata": {},
   "outputs": [
    {
     "name": "stdout",
     "output_type": "stream",
     "text": [
      "0.6239669421487604\n",
      "0.47540983606557374\n"
     ]
    }
   ],
   "source": [
    "# KNN\n",
    "knn = KNeighborsClassifier()\n",
    "knn.fit(training_set, training_set_labels)\n",
    "\n",
    "predicted_training_set_labels = knn.predict(training_set)\n",
    "predicted_training_set_labels = pd.DataFrame(predicted_training_set_labels) \n",
    "training_set_acc=accuracy_score(training_set_labels, predicted_training_set_labels)\n",
    "\n",
    "predicted_testing_set_labels = knn.predict(testing_set)\n",
    "predicted_testing_set_labels = pd.DataFrame(predicted_testing_set_labels)\n",
    "testing_set_acc=accuracy_score(testing_set_labels, predicted_testing_set_labels)\n",
    "\n",
    "print(training_set_acc)\n",
    "print(testing_set_acc)"
   ]
  },
  {
   "cell_type": "code",
   "execution_count": 18,
   "metadata": {},
   "outputs": [],
   "source": [
    "# n_neighbors = [5, 6, 7, 8, 9, 10]\n",
    "# weights = [\"uniform\", \"distance\"]\n",
    "# p = [1, 2, 3, 4]\n",
    "# param_grid = dict(n_neighbors = n_neighbors, weights = weights, p = p)\n",
    "# grid_knn = GridSearchCV(estimator=knn, param_grid=param_grid)\n",
    "# grid_result_knn = grid_knn.fit(training_set, training_set_labels)\n",
    "\n",
    "\n",
    "# print(\"Best: %f using %s\" % (grid_result_knn.best_score_, grid_result_knn.best_params_))\n",
    "# means = grid_result_knn.cv_results_['mean_test_score']\n",
    "# stds = grid_result_knn.cv_results_['std_test_score']\n",
    "# params = grid_result_knn.cv_results_['params']\n",
    "# results = zip(means, stds, params)\n",
    "# for mean, stdev, param in sorted(results, key=lambda x: x[0], reverse=True):\n",
    "#     print(\"%f (%f) with: %r\" % (mean, stdev, param))\n",
    "    \n",
    "\n",
    "# predicted_training_set_labels = grid_knn.predict(training_set)\n",
    "# predicted_training_set_labels = pd.DataFrame(predicted_training_set_labels) \n",
    "# training_set_acc=accuracy_score(training_set_labels, predicted_training_set_labels)\n",
    "\n",
    "# predicted_testing_set_labels = grid_knn.predict(testing_set)\n",
    "# predicted_testing_set_labels = pd.DataFrame(predicted_testing_set_labels)\n",
    "# testing_set_acc=accuracy_score(testing_set_labels, predicted_testing_set_labels)\n",
    "\n",
    "# print(training_set_acc)\n",
    "# print(testing_set_acc)"
   ]
  },
  {
   "cell_type": "code",
   "execution_count": 19,
   "metadata": {},
   "outputs": [],
   "source": [
    "# print(classification_report(testing_set_labels, predicted_testing_set_labels, target_names=target_names))"
   ]
  },
  {
   "cell_type": "code",
   "execution_count": 20,
   "metadata": {},
   "outputs": [],
   "source": [
    "# ax = plot.grid_search(grid_knn.grid_scores_, change=('n_neighbors', 'p'), subset={'weights': 'uniform'})\n",
    "# fig = ax.get_figure()\n",
    "# fig.set_size_inches(18.5, 10.5)\n",
    "# fig.savefig('dataset2_knn1.png')\n",
    "# fig.clf()\n",
    "# ax = plot.grid_search(grid_knn.grid_scores_, change=('n_neighbors', 'p'), subset={'weights': 'distance'})\n",
    "# fig = ax.get_figure()\n",
    "# fig.set_size_inches(18.5, 10.5)\n",
    "# fig.savefig('dataset2_knn2.png')\n",
    "# fig.clf()"
   ]
  },
  {
   "cell_type": "code",
   "execution_count": 21,
   "metadata": {},
   "outputs": [
    {
     "name": "stdout",
     "output_type": "stream",
     "text": [
      "1.0\n",
      "0.5245901639344263\n"
     ]
    }
   ],
   "source": [
    "# SVM\n",
    "svm_c = svm.SVC()\n",
    "svm_c.fit(training_set, training_set_labels)\n",
    "\n",
    "predicted_training_set_labels = svm_c.predict(training_set)\n",
    "predicted_training_set_labels = pd.DataFrame(predicted_training_set_labels) \n",
    "training_set_acc=accuracy_score(training_set_labels, predicted_training_set_labels)\n",
    "\n",
    "predicted_testing_set_labels = svm_c.predict(testing_set)\n",
    "predicted_testing_set_labels = pd.DataFrame(predicted_testing_set_labels)\n",
    "testing_set_acc=accuracy_score(testing_set_labels, predicted_testing_set_labels)\n",
    "\n",
    "print(training_set_acc)\n",
    "print(testing_set_acc)"
   ]
  },
  {
   "cell_type": "code",
   "execution_count": 22,
   "metadata": {},
   "outputs": [],
   "source": [
    "# C_range = 10. ** np.arange(-3, 8)\n",
    "# gamma_range = 10. ** np.arange(-5, 4)\n",
    "# param_grid = dict(C = C_range, gamma = gamma_range)\n",
    "# grid_svc = GridSearchCV(estimator=svm_c, param_grid=param_grid)\n",
    "# grid_result_svc = grid_svc.fit(training_set, training_set_labels)\n",
    "\n",
    "\n",
    "# print(\"Best: %f using %s\" % (grid_result_svc.best_score_, grid_result_svc.best_params_))\n",
    "# means = grid_result_svc.cv_results_['mean_test_score']\n",
    "# stds = grid_result_svc.cv_results_['std_test_score']\n",
    "# params = grid_result_svc.cv_results_['params']\n",
    "# results = zip(means, stds, params)\n",
    "# for mean, stdev, param in sorted(results, key=lambda x: x[0], reverse=True):\n",
    "#     print(\"%f (%f) with: %r\" % (mean, stdev, param))\n",
    "    \n",
    "\n",
    "# predicted_training_set_labels = grid_svc.predict(training_set)\n",
    "# predicted_training_set_labels = pd.DataFrame(predicted_training_set_labels) \n",
    "# training_set_acc=accuracy_score(training_set_labels, predicted_training_set_labels)\n",
    "\n",
    "# predicted_testing_set_labels = grid_svc.predict(testing_set)\n",
    "# predicted_testing_set_labels = pd.DataFrame(predicted_testing_set_labels)\n",
    "# testing_set_acc=accuracy_score(testing_set_labels, predicted_testing_set_labels)\n",
    "\n",
    "# print(training_set_acc)\n",
    "# print(testing_set_acc)"
   ]
  },
  {
   "cell_type": "code",
   "execution_count": 23,
   "metadata": {},
   "outputs": [],
   "source": [
    "# print(classification_report(testing_set_labels, predicted_testing_set_labels, target_names=target_names))"
   ]
  },
  {
   "cell_type": "code",
   "execution_count": 24,
   "metadata": {},
   "outputs": [],
   "source": [
    "# ax = plot.grid_search(grid_svc.grid_scores_, change=('C', 'gamma'))\n",
    "# fig = ax.get_figure()\n",
    "# fig.set_size_inches(18.5, 10.5)\n",
    "# fig.savefig('dataset2_svm.png')\n",
    "# fig.clf()"
   ]
  },
  {
   "cell_type": "code",
   "execution_count": 25,
   "metadata": {},
   "outputs": [],
   "source": [
    "# linear_svc=svm.LinearSVC()\n",
    "# C_range = 10. ** np.arange(-3, 8)\n",
    "\n",
    "# param_grid = dict(C = C_range)\n",
    "# grid_linear_svc = GridSearchCV(estimator=linear_svc, param_grid=param_grid)\n",
    "# grid_result_linear_svc = grid_linear_svc.fit(training_set, training_set_labels)\n",
    "\n",
    "\n",
    "# print(\"Best: %f using %s\" % (grid_result_linear_svc.best_score_, grid_result_linear_svc.best_params_))\n",
    "# means = grid_result_linear_svc.cv_results_['mean_test_score']\n",
    "# stds = grid_result_linear_svc.cv_results_['std_test_score']\n",
    "# params = grid_result_linear_svc.cv_results_['params']\n",
    "# results = zip(means, stds, params)\n",
    "# for mean, stdev, param in sorted(results, key=lambda x: x[0], reverse=True):\n",
    "#     print(\"%f (%f) with: %r\" % (mean, stdev, param))\n",
    "    \n",
    "\n",
    "# predicted_training_set_labels = grid_result_linear_svc.predict(training_set)\n",
    "# predicted_training_set_labels = pd.DataFrame(predicted_training_set_labels) \n",
    "# training_set_acc=accuracy_score(training_set_labels, predicted_training_set_labels)\n",
    "\n",
    "# predicted_testing_set_labels = grid_result_linear_svc.predict(testing_set)\n",
    "# predicted_testing_set_labels = pd.DataFrame(predicted_testing_set_labels)\n",
    "# testing_set_acc=accuracy_score(testing_set_labels, predicted_testing_set_labels)\n",
    "\n",
    "# print(training_set_acc)\n",
    "# print(testing_set_acc)"
   ]
  },
  {
   "cell_type": "code",
   "execution_count": 26,
   "metadata": {},
   "outputs": [],
   "source": [
    "# print(classification_report(testing_set_labels, predicted_testing_set_labels, target_names=target_names))"
   ]
  },
  {
   "cell_type": "code",
   "execution_count": 27,
   "metadata": {},
   "outputs": [
    {
     "data": {
      "image/png": "[encoded data removed]",
      "text/plain": [
       "<Figure size 432x288 with 1 Axes>"
      ]
     },
     "metadata": {
      "needs_background": "light"
     },
     "output_type": "display_data"
    }
   ],
   "source": [
    "# upsampling data\n",
    "training_set2, testing_set2 = loadData.loadDataWithoutTestSet('processed.cleveland.data', split_to_test=True)\n",
    "class_0 = training_set2[training_set2['cancerPresence']==0]\n",
    "num=len(class_0)\n",
    "class_1 = training_set2[training_set2['cancerPresence']==1]\n",
    "class_2 = training_set2[training_set2['cancerPresence']==2]\n",
    "class_3 = training_set2[training_set2['cancerPresence']==3]\n",
    "class_4 = training_set2[training_set2['cancerPresence']==4]\n",
    "class_1_upsampled = resample(class_1, \n",
    "                                 replace=True,   \n",
    "                                 n_samples=num,   \n",
    "                                 random_state=123)\n",
    "class_2_upsampled = resample(class_2, \n",
    "                                 replace=True,   \n",
    "                                 n_samples=num,   \n",
    "                                 random_state=123)\n",
    "class_3_upsampled = resample(class_3, \n",
    "                                 replace=True,   \n",
    "                                 n_samples=num,   \n",
    "                                 random_state=123)\n",
    "class_4_upsampled = resample(class_4, \n",
    "                                 replace=True,   \n",
    "                                 n_samples=num,   \n",
    "                                 random_state=123)\n",
    "training_set_upsampled=pd.concat([class_0, class_1_upsampled, class_2_upsampled, class_3_upsampled, class_4_upsampled])\n",
    "training_set_upsampled_labels = training_set_upsampled.iloc[:,-1]\n",
    "training_set_upsampled = training_set_upsampled.iloc[:,0:-1]\n",
    "\n",
    "training_set_upsampled_labels.reset_index(drop=True, inplace=True)\n",
    "training_set_upsampled.reset_index(drop=True, inplace=True)\n",
    "training_set_upsampled.replace('?',0, inplace=True)\n",
    "\n",
    "training_set_upsampled[['ca','thal']] = training_set_upsampled[['ca','thal']].apply(pd.to_numeric)\n",
    "\n",
    "\n",
    "plt.bar(['0','1', '2', '3', '4'],[len(training_set_upsampled_labels[training_set_upsampled_labels==0]), \n",
    "         len(training_set_upsampled_labels[training_set_upsampled_labels==1]), \n",
    "             len(training_set_upsampled_labels[training_set_upsampled_labels==2]),\n",
    "                len(training_set_upsampled_labels[training_set_upsampled_labels==3]),\n",
    "                   len(training_set_upsampled_labels[training_set_upsampled_labels==4])])\n",
    "plt.title('Upsampled Training Set Label Distribution')\n",
    "plt.show()\n",
    "\n",
    "metrics=[]"
   ]
  },
  {
   "cell_type": "code",
   "execution_count": 28,
   "metadata": {},
   "outputs": [
    {
     "name": "stdout",
     "output_type": "stream",
     "text": [
      "Best: 0.902222 using {'criterion': 'gini', 'min_samples_leaf': 1, 'min_samples_split': 2, 'splitter': 'random'}\n",
      "0.902222 (0.035740) with: {'criterion': 'gini', 'min_samples_leaf': 1, 'min_samples_split': 2, 'splitter': 'random'}\n",
      "0.900741 (0.017149) with: {'criterion': 'entropy', 'min_samples_leaf': 1, 'min_samples_split': 3, 'splitter': 'best'}\n",
      "0.894815 (0.017901) with: {'criterion': 'entropy', 'min_samples_leaf': 1, 'min_samples_split': 2, 'splitter': 'best'}\n",
      "0.894815 (0.031705) with: {'criterion': 'entropy', 'min_samples_leaf': 1, 'min_samples_split': 2, 'splitter': 'random'}\n",
      "0.891852 (0.014666) with: {'criterion': 'entropy', 'min_samples_leaf': 1, 'min_samples_split': 4, 'splitter': 'best'}\n",
      "0.890370 (0.030216) with: {'criterion': 'gini', 'min_samples_leaf': 1, 'min_samples_split': 2, 'splitter': 'best'}\n",
      "0.885926 (0.034299) with: {'criterion': 'entropy', 'min_samples_leaf': 1, 'min_samples_split': 3, 'splitter': 'random'}\n",
      "0.882963 (0.005543) with: {'criterion': 'entropy', 'min_samples_leaf': 1, 'min_samples_split': 4, 'splitter': 'random'}\n",
      "0.880000 (0.015818) with: {'criterion': 'gini', 'min_samples_leaf': 1, 'min_samples_split': 4, 'splitter': 'random'}\n",
      "0.877037 (0.048324) with: {'criterion': 'gini', 'min_samples_leaf': 1, 'min_samples_split': 3, 'splitter': 'random'}\n",
      "0.877037 (0.005543) with: {'criterion': 'entropy', 'min_samples_leaf': 2, 'min_samples_split': 4, 'splitter': 'best'}\n",
      "0.868148 (0.007554) with: {'criterion': 'entropy', 'min_samples_leaf': 2, 'min_samples_split': 3, 'splitter': 'best'}\n",
      "0.866667 (0.034617) with: {'criterion': 'gini', 'min_samples_leaf': 1, 'min_samples_split': 3, 'splitter': 'best'}\n",
      "0.865185 (0.008381) with: {'criterion': 'entropy', 'min_samples_leaf': 2, 'min_samples_split': 2, 'splitter': 'best'}\n",
      "0.862222 (0.029031) with: {'criterion': 'entropy', 'min_samples_leaf': 2, 'min_samples_split': 2, 'splitter': 'random'}\n",
      "0.856296 (0.030863) with: {'criterion': 'gini', 'min_samples_leaf': 1, 'min_samples_split': 4, 'splitter': 'best'}\n",
      "0.851852 (0.023330) with: {'criterion': 'entropy', 'min_samples_leaf': 2, 'min_samples_split': 3, 'splitter': 'random'}\n",
      "0.850370 (0.043898) with: {'criterion': 'gini', 'min_samples_leaf': 2, 'min_samples_split': 2, 'splitter': 'random'}\n",
      "0.848889 (0.026168) with: {'criterion': 'entropy', 'min_samples_leaf': 3, 'min_samples_split': 4, 'splitter': 'best'}\n",
      "0.845926 (0.040788) with: {'criterion': 'gini', 'min_samples_leaf': 2, 'min_samples_split': 4, 'splitter': 'random'}\n",
      "0.844444 (0.031427) with: {'criterion': 'entropy', 'min_samples_leaf': 3, 'min_samples_split': 3, 'splitter': 'best'}\n",
      "0.842963 (0.026252) with: {'criterion': 'entropy', 'min_samples_leaf': 3, 'min_samples_split': 2, 'splitter': 'best'}\n",
      "0.835556 (0.037712) with: {'criterion': 'gini', 'min_samples_leaf': 2, 'min_samples_split': 3, 'splitter': 'random'}\n",
      "0.825185 (0.035617) with: {'criterion': 'gini', 'min_samples_leaf': 2, 'min_samples_split': 3, 'splitter': 'best'}\n",
      "0.825185 (0.035617) with: {'criterion': 'gini', 'min_samples_leaf': 2, 'min_samples_split': 4, 'splitter': 'best'}\n",
      "0.825185 (0.011086) with: {'criterion': 'entropy', 'min_samples_leaf': 2, 'min_samples_split': 4, 'splitter': 'random'}\n",
      "0.822222 (0.041216) with: {'criterion': 'gini', 'min_samples_leaf': 2, 'min_samples_split': 2, 'splitter': 'best'}\n",
      "0.819259 (0.016363) with: {'criterion': 'gini', 'min_samples_leaf': 3, 'min_samples_split': 4, 'splitter': 'random'}\n",
      "0.814815 (0.020635) with: {'criterion': 'entropy', 'min_samples_leaf': 3, 'min_samples_split': 2, 'splitter': 'random'}\n",
      "0.814815 (0.030216) with: {'criterion': 'entropy', 'min_samples_leaf': 3, 'min_samples_split': 4, 'splitter': 'random'}\n",
      "0.813333 (0.042784) with: {'criterion': 'gini', 'min_samples_leaf': 3, 'min_samples_split': 3, 'splitter': 'random'}\n",
      "0.795556 (0.039918) with: {'criterion': 'gini', 'min_samples_leaf': 3, 'min_samples_split': 2, 'splitter': 'best'}\n",
      "0.792593 (0.038461) with: {'criterion': 'gini', 'min_samples_leaf': 3, 'min_samples_split': 4, 'splitter': 'best'}\n",
      "0.791111 (0.038233) with: {'criterion': 'gini', 'min_samples_leaf': 3, 'min_samples_split': 3, 'splitter': 'best'}\n",
      "0.791111 (0.058401) with: {'criterion': 'entropy', 'min_samples_leaf': 3, 'min_samples_split': 3, 'splitter': 'random'}\n",
      "0.785185 (0.017149) with: {'criterion': 'entropy', 'min_samples_leaf': 4, 'min_samples_split': 2, 'splitter': 'best'}\n",
      "0.785185 (0.024162) with: {'criterion': 'entropy', 'min_samples_leaf': 4, 'min_samples_split': 4, 'splitter': 'best'}\n",
      "0.783704 (0.040464) with: {'criterion': 'gini', 'min_samples_leaf': 3, 'min_samples_split': 2, 'splitter': 'random'}\n",
      "0.782222 (0.016630) with: {'criterion': 'entropy', 'min_samples_leaf': 4, 'min_samples_split': 3, 'splitter': 'best'}\n",
      "0.779259 (0.017149) with: {'criterion': 'gini', 'min_samples_leaf': 4, 'min_samples_split': 3, 'splitter': 'random'}\n",
      "0.768889 (0.056685) with: {'criterion': 'entropy', 'min_samples_leaf': 4, 'min_samples_split': 3, 'splitter': 'random'}\n",
      "0.765926 (0.014666) with: {'criterion': 'gini', 'min_samples_leaf': 4, 'min_samples_split': 4, 'splitter': 'random'}\n",
      "0.760000 (0.007258) with: {'criterion': 'gini', 'min_samples_leaf': 4, 'min_samples_split': 2, 'splitter': 'random'}\n",
      "0.760000 (0.066221) with: {'criterion': 'entropy', 'min_samples_leaf': 4, 'min_samples_split': 2, 'splitter': 'random'}\n",
      "0.760000 (0.019202) with: {'criterion': 'entropy', 'min_samples_leaf': 5, 'min_samples_split': 3, 'splitter': 'best'}\n",
      "0.754074 (0.029332) with: {'criterion': 'gini', 'min_samples_leaf': 4, 'min_samples_split': 3, 'splitter': 'best'}\n",
      "0.754074 (0.014666) with: {'criterion': 'entropy', 'min_samples_leaf': 5, 'min_samples_split': 4, 'splitter': 'best'}\n",
      "0.751111 (0.027397) with: {'criterion': 'gini', 'min_samples_leaf': 4, 'min_samples_split': 2, 'splitter': 'best'}\n",
      "0.751111 (0.014515) with: {'criterion': 'entropy', 'min_samples_leaf': 5, 'min_samples_split': 2, 'splitter': 'best'}\n",
      "0.749630 (0.027237) with: {'criterion': 'gini', 'min_samples_leaf': 4, 'min_samples_split': 4, 'splitter': 'best'}\n",
      "0.736296 (0.026252) with: {'criterion': 'entropy', 'min_samples_leaf': 4, 'min_samples_split': 4, 'splitter': 'random'}\n",
      "0.734815 (0.017149) with: {'criterion': 'gini', 'min_samples_leaf': 5, 'min_samples_split': 3, 'splitter': 'best'}\n",
      "0.733333 (0.016630) with: {'criterion': 'gini', 'min_samples_leaf': 5, 'min_samples_split': 2, 'splitter': 'best'}\n",
      "0.733333 (0.020205) with: {'criterion': 'gini', 'min_samples_leaf': 5, 'min_samples_split': 4, 'splitter': 'best'}\n",
      "0.721481 (0.032928) with: {'criterion': 'entropy', 'min_samples_leaf': 5, 'min_samples_split': 2, 'splitter': 'random'}\n",
      "0.720000 (0.025402) with: {'criterion': 'gini', 'min_samples_leaf': 5, 'min_samples_split': 4, 'splitter': 'random'}\n",
      "0.712593 (0.027237) with: {'criterion': 'entropy', 'min_samples_leaf': 5, 'min_samples_split': 4, 'splitter': 'random'}\n",
      "0.708148 (0.045950) with: {'criterion': 'gini', 'min_samples_leaf': 5, 'min_samples_split': 3, 'splitter': 'random'}\n",
      "0.705185 (0.038802) with: {'criterion': 'entropy', 'min_samples_leaf': 5, 'min_samples_split': 3, 'splitter': 'random'}\n",
      "0.696296 (0.026749) with: {'criterion': 'gini', 'min_samples_leaf': 5, 'min_samples_split': 2, 'splitter': 'random'}\n"
     ]
    }
   ],
   "source": [
    "criterion = ['gini', 'entropy']\n",
    "splitter  = ['best','random']\n",
    "min_samples_split = [2, 3, 4]\n",
    "min_samples_leaf = [1, 2, 3, 4, 5]\n",
    "param_grid = dict(criterion = criterion, splitter = splitter, min_samples_split=min_samples_split, min_samples_leaf=min_samples_leaf)\n",
    "grid_dtc = GridSearchCV(estimator=dtc, param_grid=param_grid)\n",
    "grid_result_dtc = grid_dtc.fit(training_set_upsampled, training_set_upsampled_labels)\n",
    "\n",
    "\n",
    "print(\"Best: %f using %s\" % (grid_result_dtc.best_score_, grid_result_dtc.best_params_))\n",
    "means = grid_result_dtc.cv_results_['mean_test_score']\n",
    "stds = grid_result_dtc.cv_results_['std_test_score']\n",
    "params = grid_result_dtc.cv_results_['params']\n",
    "results = zip(means, stds, params)\n",
    "for mean, stdev, param in sorted(results, key=lambda x: x[0], reverse=True):\n",
    "    print(\"%f (%f) with: %r\" % (mean, stdev, param))\n",
    "\n",
    "predicted_testing_set_labels = grid_dtc.predict(testing_set)\n",
    "predicted_testing_set_labels = pd.DataFrame(predicted_testing_set_labels)\n",
    "testing_set_acc=accuracy_score(testing_set_labels, predicted_testing_set_labels)\n"
   ]
  },
  {
   "cell_type": "code",
   "execution_count": 29,
   "metadata": {},
   "outputs": [
    {
     "name": "stderr",
     "output_type": "stream",
     "text": [
      "c:\\users\\tommy\\.virtualenvs\\assignment1-ocs3pq-h\\lib\\site-packages\\sklearn\\model_selection\\_search.py:762: DeprecationWarning: The grid_scores_ attribute was deprecated in version 0.18 in favor of the more elaborate cv_results_ attribute. The grid_scores_ attribute will not be available from 0.20\n",
      "  DeprecationWarning)\n",
      "c:\\users\\tommy\\.virtualenvs\\assignment1-ocs3pq-h\\lib\\site-packages\\sklearn\\model_selection\\_search.py:762: DeprecationWarning: The grid_scores_ attribute was deprecated in version 0.18 in favor of the more elaborate cv_results_ attribute. The grid_scores_ attribute will not be available from 0.20\n",
      "  DeprecationWarning)\n",
      "c:\\users\\tommy\\.virtualenvs\\assignment1-ocs3pq-h\\lib\\site-packages\\sklearn\\model_selection\\_search.py:762: DeprecationWarning: The grid_scores_ attribute was deprecated in version 0.18 in favor of the more elaborate cv_results_ attribute. The grid_scores_ attribute will not be available from 0.20\n",
      "  DeprecationWarning)\n",
      "c:\\users\\tommy\\.virtualenvs\\assignment1-ocs3pq-h\\lib\\site-packages\\sklearn\\model_selection\\_search.py:762: DeprecationWarning: The grid_scores_ attribute was deprecated in version 0.18 in favor of the more elaborate cv_results_ attribute. The grid_scores_ attribute will not be available from 0.20\n",
      "  DeprecationWarning)\n"
     ]
    },
    {
     "data": {
      "text/plain": [
       "<Figure size 720x576 with 0 Axes>"
      ]
     },
     "metadata": {},
     "output_type": "display_data"
    }
   ],
   "source": [
    "ax = plot.grid_search(grid_dtc.grid_scores_, change=('min_samples_leaf', 'min_samples_split'), \n",
    "                      subset={'criterion': 'entropy', 'splitter': 'random'})\n",
    "fig = ax.get_figure()\n",
    "fig.set_size_inches(10, 8)\n",
    "fig.savefig('dataset2_dtc1.png')\n",
    "fig.clf()\n",
    "ax = plot.grid_search(grid_dtc.grid_scores_, change=('min_samples_leaf', 'min_samples_split'), \n",
    "                      subset={'criterion': 'gini', 'splitter': 'random'})\n",
    "fig = ax.get_figure()\n",
    "fig.set_size_inches(10, 8)\n",
    "fig.savefig('dataset2_dtc2.png')\n",
    "fig.clf()\n",
    "ax = plot.grid_search(grid_dtc.grid_scores_, change=('min_samples_leaf', 'min_samples_split'), \n",
    "                      subset={'criterion': 'entropy', 'splitter': 'best'})\n",
    "fig = ax.get_figure()\n",
    "fig.set_size_inches(10, 8)\n",
    "fig.savefig('dataset2_dtc3.png')\n",
    "fig.clf()\n",
    "ax = plot.grid_search(grid_dtc.grid_scores_, change=('min_samples_leaf', 'min_samples_split'), \n",
    "                      subset={'criterion': 'gini', 'splitter': 'best'})\n",
    "fig = ax.get_figure()\n",
    "fig.set_size_inches(10, 8)\n",
    "fig.savefig('dataset2_dtc4.png')\n",
    "fig.clf()"
   ]
  },
  {
   "cell_type": "code",
   "execution_count": 30,
   "metadata": {},
   "outputs": [
    {
     "name": "stdout",
     "output_type": "stream",
     "text": [
      "             precision    recall  f1-score   support\n",
      "\n",
      "    class 0       0.94      0.94      0.94        32\n",
      "    class 1       0.82      0.90      0.86        10\n",
      "    class 2       1.00      0.83      0.91         6\n",
      "    class 3       0.85      1.00      0.92        11\n",
      "    class 4       0.00      0.00      0.00         2\n",
      "\n",
      "avg / total       0.88      0.90      0.89        61\n",
      "\n"
     ]
    },
    {
     "name": "stderr",
     "output_type": "stream",
     "text": [
      "c:\\users\\tommy\\.virtualenvs\\assignment1-ocs3pq-h\\lib\\site-packages\\sklearn\\metrics\\classification.py:1135: UndefinedMetricWarning: Precision and F-score are ill-defined and being set to 0.0 in labels with no predicted samples.\n",
      "  'precision', 'predicted', average, warn_for)\n"
     ]
    }
   ],
   "source": [
    "print(classification_report(testing_set_labels, predicted_testing_set_labels, target_names=target_names))\n",
    "metrics.append(precision_recall_fscore_support(testing_set_labels, predicted_testing_set_labels, average='weighted'))"
   ]
  },
  {
   "cell_type": "code",
   "execution_count": 74,
   "metadata": {},
   "outputs": [
    {
     "data": {
      "text/plain": [
       "<Figure size 432x288 with 0 Axes>"
      ]
     },
     "metadata": {},
     "output_type": "display_data"
    }
   ],
   "source": [
    "cv = cross_validation.ShuffleSplit(training_set_upsampled.shape[0], n_iter=10,\n",
    "                                   test_size=0.2, random_state=0)\n",
    "cv = 5\n",
    "estimator = tree.DecisionTreeClassifier(criterion= 'entropy', min_samples_leaf= 1, min_samples_split= 2, splitter= 'random')\n",
    "train_sizes = np.linspace(.1, 1.0, 5)\n",
    "train_sizes, train_scores, test_scores = learning_curve(\n",
    "        estimator, training_set_upsampled, training_set_upsampled_labels, cv=cv, n_jobs=1, train_sizes=train_sizes, shuffle=True)\n",
    "plot.learning_curve(train_scores, test_scores, train_sizes)\n",
    "plt.savefig('dataset2_dtcLearningCurve.png')\n",
    "plt.clf()\n",
    "plt.show()"
   ]
  },
  {
   "cell_type": "code",
   "execution_count": 101,
   "metadata": {},
   "outputs": [
    {
     "name": "stdout",
     "output_type": "stream",
     "text": [
      "1.5804200913294153 milleseconds\n",
      "0.35273059359042236 milleseconds\n"
     ]
    }
   ],
   "source": [
    "training_times=[]\n",
    "testing_times=[]\n",
    "start_time = timeit.default_timer()\n",
    "estimator = tree.DecisionTreeClassifier(criterion= 'entropy', min_samples_leaf= 1, min_samples_split= 2, splitter= 'random')\n",
    "estimator.fit(training_set_upsampled,training_set_upsampled_labels)\n",
    "end_time = timeit.default_timer()\n",
    "elapsed = end_time - start_time\n",
    "training_times.append(elapsed*1000)\n",
    "print(elapsed*1000, 'milleseconds')\n",
    "start_time = timeit.default_timer()\n",
    "estimator.predict(testing_set)\n",
    "end_time = timeit.default_timer()\n",
    "elapsed = end_time - start_time\n",
    "print(elapsed*1000, 'milleseconds')\n",
    "testing_times.append(elapsed*1000)"
   ]
  },
  {
   "cell_type": "code",
   "execution_count": 95,
   "metadata": {},
   "outputs": [
    {
     "data": {
      "text/plain": [
       "0"
      ]
     },
     "execution_count": 95,
     "metadata": {},
     "output_type": "execute_result"
    }
   ],
   "source": [
    "dtc = tree.DecisionTreeClassifier(criterion= 'entropy', min_samples_leaf= 1, min_samples_split= 2, splitter= 'random')\n",
    "dtc.fit(training_set, training_set_labels)\n",
    "dot_data = tree.export_graphviz(dtc, out_file='dataset2_tree.dot', feature_names=training_set.columns, \n",
    "                                filled=True, rounded=True)  \n",
    "graph = graphviz.Source(dot_data)\n",
    "from subprocess import check_call\n",
    "check_call(['dot','-Tpng','dataset2_tree.dot','-o','dataset2_tree.png'])"
   ]
  },
  {
   "cell_type": "code",
   "execution_count": 96,
   "metadata": {},
   "outputs": [
    {
     "name": "stdout",
     "output_type": "stream",
     "text": [
      "Best: 0.951111 using {'C': 1.0, 'gamma': 0.1}\n",
      "0.951111 (0.021773) with: {'C': 1.0, 'gamma': 0.1}\n",
      "0.951111 (0.021773) with: {'C': 1.0, 'gamma': 1.0}\n",
      "0.951111 (0.021773) with: {'C': 1.0, 'gamma': 10.0}\n",
      "0.951111 (0.021773) with: {'C': 1.0, 'gamma': 100.0}\n",
      "0.951111 (0.021773) with: {'C': 1.0, 'gamma': 1000.0}\n",
      "0.951111 (0.021773) with: {'C': 10.0, 'gamma': 0.1}\n",
      "0.951111 (0.021773) with: {'C': 10.0, 'gamma': 1.0}\n",
      "0.951111 (0.021773) with: {'C': 10.0, 'gamma': 10.0}\n",
      "0.951111 (0.021773) with: {'C': 10.0, 'gamma': 100.0}\n",
      "0.951111 (0.021773) with: {'C': 10.0, 'gamma': 1000.0}\n",
      "0.951111 (0.021773) with: {'C': 100.0, 'gamma': 0.1}\n",
      "0.951111 (0.021773) with: {'C': 100.0, 'gamma': 1.0}\n",
      "0.951111 (0.021773) with: {'C': 100.0, 'gamma': 10.0}\n",
      "0.951111 (0.021773) with: {'C': 100.0, 'gamma': 100.0}\n",
      "0.951111 (0.021773) with: {'C': 100.0, 'gamma': 1000.0}\n",
      "0.951111 (0.021773) with: {'C': 1000.0, 'gamma': 0.1}\n",
      "0.951111 (0.021773) with: {'C': 1000.0, 'gamma': 1.0}\n",
      "0.951111 (0.021773) with: {'C': 1000.0, 'gamma': 10.0}\n",
      "0.951111 (0.021773) with: {'C': 1000.0, 'gamma': 100.0}\n",
      "0.951111 (0.021773) with: {'C': 1000.0, 'gamma': 1000.0}\n",
      "0.951111 (0.021773) with: {'C': 10000.0, 'gamma': 0.1}\n",
      "0.951111 (0.021773) with: {'C': 10000.0, 'gamma': 1.0}\n",
      "0.951111 (0.021773) with: {'C': 10000.0, 'gamma': 10.0}\n",
      "0.951111 (0.021773) with: {'C': 10000.0, 'gamma': 100.0}\n",
      "0.951111 (0.021773) with: {'C': 10000.0, 'gamma': 1000.0}\n",
      "0.951111 (0.021773) with: {'C': 100000.0, 'gamma': 0.1}\n",
      "0.951111 (0.021773) with: {'C': 100000.0, 'gamma': 1.0}\n",
      "0.951111 (0.021773) with: {'C': 100000.0, 'gamma': 10.0}\n",
      "0.951111 (0.021773) with: {'C': 100000.0, 'gamma': 100.0}\n",
      "0.951111 (0.021773) with: {'C': 100000.0, 'gamma': 1000.0}\n",
      "0.951111 (0.021773) with: {'C': 1000000.0, 'gamma': 0.1}\n",
      "0.951111 (0.021773) with: {'C': 1000000.0, 'gamma': 1.0}\n",
      "0.951111 (0.021773) with: {'C': 1000000.0, 'gamma': 10.0}\n",
      "0.951111 (0.021773) with: {'C': 1000000.0, 'gamma': 100.0}\n",
      "0.951111 (0.021773) with: {'C': 1000000.0, 'gamma': 1000.0}\n",
      "0.951111 (0.021773) with: {'C': 10000000.0, 'gamma': 0.1}\n",
      "0.951111 (0.021773) with: {'C': 10000000.0, 'gamma': 1.0}\n",
      "0.951111 (0.021773) with: {'C': 10000000.0, 'gamma': 10.0}\n",
      "0.951111 (0.021773) with: {'C': 10000000.0, 'gamma': 100.0}\n",
      "0.951111 (0.021773) with: {'C': 10000000.0, 'gamma': 1000.0}\n",
      "0.931852 (0.023611) with: {'C': 10.0, 'gamma': 0.01}\n",
      "0.931852 (0.023611) with: {'C': 100.0, 'gamma': 0.01}\n",
      "0.931852 (0.023611) with: {'C': 1000.0, 'gamma': 0.01}\n",
      "0.931852 (0.023611) with: {'C': 10000.0, 'gamma': 0.01}\n",
      "0.931852 (0.023611) with: {'C': 100000.0, 'gamma': 0.01}\n",
      "0.931852 (0.023611) with: {'C': 1000000.0, 'gamma': 0.01}\n",
      "0.931852 (0.023611) with: {'C': 10000000.0, 'gamma': 0.01}\n",
      "0.925926 (0.027716) with: {'C': 1.0, 'gamma': 0.01}\n",
      "0.911111 (0.032660) with: {'C': 10000.0, 'gamma': 0.0001}\n",
      "0.911111 (0.032660) with: {'C': 100000.0, 'gamma': 0.0001}\n",
      "0.911111 (0.032660) with: {'C': 1000000.0, 'gamma': 0.0001}\n",
      "0.911111 (0.032660) with: {'C': 10000000.0, 'gamma': 0.0001}\n",
      "0.908148 (0.034490) with: {'C': 10000000.0, 'gamma': 1e-05}\n",
      "0.885926 (0.029332) with: {'C': 1000000.0, 'gamma': 1e-05}\n",
      "0.882963 (0.020951) with: {'C': 1000.0, 'gamma': 0.001}\n",
      "0.882963 (0.020951) with: {'C': 10000.0, 'gamma': 0.001}\n",
      "0.882963 (0.020951) with: {'C': 100000.0, 'gamma': 0.001}\n",
      "0.882963 (0.020951) with: {'C': 1000000.0, 'gamma': 0.001}\n",
      "0.882963 (0.020951) with: {'C': 10000000.0, 'gamma': 0.001}\n",
      "0.881481 (0.019986) with: {'C': 100.0, 'gamma': 0.001}\n",
      "0.831111 (0.021773) with: {'C': 10.0, 'gamma': 0.001}\n",
      "0.826667 (0.039252) with: {'C': 1000.0, 'gamma': 0.0001}\n",
      "0.800000 (0.041216) with: {'C': 100000.0, 'gamma': 1e-05}\n",
      "0.779259 (0.046093) with: {'C': 0.1, 'gamma': 0.01}\n",
      "0.761481 (0.059665) with: {'C': 0.001, 'gamma': 0.01}\n",
      "0.761481 (0.059665) with: {'C': 0.01, 'gamma': 0.01}\n",
      "0.751111 (0.023796) with: {'C': 10000.0, 'gamma': 1e-05}\n",
      "0.745185 (0.029332) with: {'C': 100.0, 'gamma': 0.0001}\n",
      "0.699259 (0.051873) with: {'C': 0.001, 'gamma': 0.1}\n",
      "0.699259 (0.051873) with: {'C': 0.01, 'gamma': 0.1}\n",
      "0.699259 (0.051873) with: {'C': 0.1, 'gamma': 0.1}\n",
      "0.699259 (0.051873) with: {'C': 0.1, 'gamma': 1.0}\n",
      "0.699259 (0.051873) with: {'C': 0.1, 'gamma': 10.0}\n",
      "0.699259 (0.051873) with: {'C': 0.1, 'gamma': 100.0}\n",
      "0.699259 (0.051873) with: {'C': 0.1, 'gamma': 1000.0}\n",
      "0.674074 (0.026252) with: {'C': 1.0, 'gamma': 0.001}\n",
      "0.674074 (0.011086) with: {'C': 1000.0, 'gamma': 1e-05}\n",
      "0.666667 (0.076033) with: {'C': 0.001, 'gamma': 1.0}\n",
      "0.666667 (0.076033) with: {'C': 0.01, 'gamma': 1.0}\n",
      "0.629630 (0.100850) with: {'C': 0.001, 'gamma': 10.0}\n",
      "0.629630 (0.100850) with: {'C': 0.001, 'gamma': 100.0}\n",
      "0.629630 (0.100850) with: {'C': 0.001, 'gamma': 1000.0}\n",
      "0.629630 (0.100850) with: {'C': 0.01, 'gamma': 10.0}\n",
      "0.629630 (0.100850) with: {'C': 0.01, 'gamma': 100.0}\n",
      "0.629630 (0.100850) with: {'C': 0.01, 'gamma': 1000.0}\n",
      "0.570370 (0.032727) with: {'C': 10.0, 'gamma': 0.0001}\n",
      "0.534815 (0.018265) with: {'C': 100.0, 'gamma': 1e-05}\n",
      "0.530370 (0.013739) with: {'C': 0.1, 'gamma': 0.001}\n",
      "0.520000 (0.003629) with: {'C': 0.001, 'gamma': 0.001}\n",
      "0.520000 (0.003629) with: {'C': 0.01, 'gamma': 0.001}\n",
      "0.432593 (0.020635) with: {'C': 1.0, 'gamma': 0.0001}\n",
      "0.402963 (0.009132) with: {'C': 10.0, 'gamma': 1e-05}\n",
      "0.371852 (0.011086) with: {'C': 0.001, 'gamma': 1e-05}\n",
      "0.371852 (0.011086) with: {'C': 0.01, 'gamma': 1e-05}\n",
      "0.371852 (0.011086) with: {'C': 0.1, 'gamma': 1e-05}\n",
      "0.352593 (0.023611) with: {'C': 0.1, 'gamma': 0.0001}\n",
      "0.351111 (0.015818) with: {'C': 1.0, 'gamma': 1e-05}\n",
      "0.337778 (0.020205) with: {'C': 0.001, 'gamma': 0.0001}\n",
      "0.337778 (0.020205) with: {'C': 0.01, 'gamma': 0.0001}\n"
     ]
    }
   ],
   "source": [
    "C_range = 10. ** np.arange(-3, 8)\n",
    "gamma_range = 10. ** np.arange(-5, 4)\n",
    "param_grid = dict(C = C_range, gamma = gamma_range)\n",
    "grid_svc = GridSearchCV(estimator=svm_c, param_grid=param_grid)\n",
    "grid_result_svc = grid_svc.fit(training_set_upsampled, training_set_upsampled_labels)\n",
    "\n",
    "\n",
    "print(\"Best: %f using %s\" % (grid_result_svc.best_score_, grid_result_svc.best_params_))\n",
    "means = grid_result_svc.cv_results_['mean_test_score']\n",
    "stds = grid_result_svc.cv_results_['std_test_score']\n",
    "params = grid_result_svc.cv_results_['params']\n",
    "results = zip(means, stds, params)\n",
    "for mean, stdev, param in sorted(results, key=lambda x: x[0], reverse=True):\n",
    "    print(\"%f (%f) with: %r\" % (mean, stdev, param))\n",
    "    \n",
    "predicted_testing_set_labels = grid_svc.predict(testing_set)\n",
    "predicted_testing_set_labels = pd.DataFrame(predicted_testing_set_labels)\n",
    "testing_set_acc=accuracy_score(testing_set_labels, predicted_testing_set_labels)\n"
   ]
  },
  {
   "cell_type": "code",
   "execution_count": 34,
   "metadata": {},
   "outputs": [
    {
     "name": "stdout",
     "output_type": "stream",
     "text": [
      "             precision    recall  f1-score   support\n",
      "\n",
      "    class 0       0.82      1.00      0.90        32\n",
      "    class 1       1.00      0.80      0.89        10\n",
      "    class 2       1.00      0.83      0.91         6\n",
      "    class 3       1.00      0.82      0.90        11\n",
      "    class 4       0.00      0.00      0.00         2\n",
      "\n",
      "avg / total       0.87      0.89      0.87        61\n",
      "\n"
     ]
    },
    {
     "name": "stderr",
     "output_type": "stream",
     "text": [
      "c:\\users\\tommy\\.virtualenvs\\assignment1-ocs3pq-h\\lib\\site-packages\\sklearn\\metrics\\classification.py:1135: UndefinedMetricWarning: Precision and F-score are ill-defined and being set to 0.0 in labels with no predicted samples.\n",
      "  'precision', 'predicted', average, warn_for)\n"
     ]
    }
   ],
   "source": [
    "print(classification_report(testing_set_labels, predicted_testing_set_labels, target_names=target_names))\n",
    "metrics.append(precision_recall_fscore_support(testing_set_labels, predicted_testing_set_labels, average='weighted'))"
   ]
  },
  {
   "cell_type": "code",
   "execution_count": 76,
   "metadata": {},
   "outputs": [
    {
     "name": "stdout",
     "output_type": "stream",
     "text": [
      "[0.1   0.325 0.55  0.775 1.   ]\n"
     ]
    },
    {
     "data": {
      "text/plain": [
       "<Figure size 432x288 with 0 Axes>"
      ]
     },
     "metadata": {},
     "output_type": "display_data"
    }
   ],
   "source": [
    "cv = cross_validation.ShuffleSplit(training_set_upsampled.shape[0], n_iter=10,\n",
    "                                   test_size=0.2, random_state=0)\n",
    "cv = 5\n",
    "estimator = svm.SVC(C= 1.0, gamma= 0.1)\n",
    "train_sizes = np.linspace(.1, 1.0, 5)\n",
    "print(train_sizes)\n",
    "train_sizes, train_scores, test_scores = learning_curve(\n",
    "        estimator, training_set_upsampled, training_set_upsampled_labels, cv=cv, n_jobs=1, train_sizes=train_sizes, shuffle=True)\n",
    "plot.learning_curve(train_scores, test_scores, train_sizes)\n",
    "plt.savefig('dataset2_svmLearningCurve.png')\n",
    "plt.clf()\n",
    "plt.show()"
   ]
  },
  {
   "cell_type": "code",
   "execution_count": 102,
   "metadata": {},
   "outputs": [
    {
     "name": "stdout",
     "output_type": "stream",
     "text": [
      "40.650812785372636 milleseconds\n",
      "1.467908675806484 milleseconds\n"
     ]
    }
   ],
   "source": [
    "start_time = timeit.default_timer()\n",
    "estimator = svm.SVC(C= 1.0, gamma= 0.1)\n",
    "estimator.fit(training_set_upsampled,training_set_upsampled_labels)\n",
    "end_time = timeit.default_timer()\n",
    "elapsed = end_time - start_time\n",
    "training_times.append(elapsed*1000)\n",
    "print(elapsed*1000, 'milleseconds')\n",
    "start_time = timeit.default_timer()\n",
    "estimator.predict(testing_set)\n",
    "end_time = timeit.default_timer()\n",
    "elapsed = end_time - start_time\n",
    "print(elapsed*1000, 'milleseconds')\n",
    "testing_times.append(elapsed*1000)"
   ]
  },
  {
   "cell_type": "code",
   "execution_count": 51,
   "metadata": {},
   "outputs": [
    {
     "name": "stderr",
     "output_type": "stream",
     "text": [
      "c:\\users\\tommy\\.virtualenvs\\assignment1-ocs3pq-h\\lib\\site-packages\\sklearn\\model_selection\\_search.py:762: DeprecationWarning: The grid_scores_ attribute was deprecated in version 0.18 in favor of the more elaborate cv_results_ attribute. The grid_scores_ attribute will not be available from 0.20\n",
      "  DeprecationWarning)\n"
     ]
    },
    {
     "data": {
      "text/plain": [
       "<Figure size 720x576 with 0 Axes>"
      ]
     },
     "metadata": {},
     "output_type": "display_data"
    }
   ],
   "source": [
    "ax = plot.grid_search(grid_svc.grid_scores_, change=('C', 'gamma'))\n",
    "fig = ax.get_figure()\n",
    "fig.set_size_inches(10, 8)\n",
    "fig.savefig('dataset2_svm.png')\n",
    "fig.clf()"
   ]
  },
  {
   "cell_type": "code",
   "execution_count": 52,
   "metadata": {},
   "outputs": [
    {
     "name": "stdout",
     "output_type": "stream",
     "text": [
      "Best: 0.856296 using {'n_neighbors': 10, 'p': 1, 'weights': 'distance'}\n",
      "0.856296 (0.019986) with: {'n_neighbors': 10, 'p': 1, 'weights': 'distance'}\n",
      "0.854815 (0.026749) with: {'n_neighbors': 8, 'p': 1, 'weights': 'distance'}\n",
      "0.853333 (0.022662) with: {'n_neighbors': 5, 'p': 1, 'weights': 'distance'}\n",
      "0.851852 (0.024162) with: {'n_neighbors': 7, 'p': 1, 'weights': 'distance'}\n",
      "0.850370 (0.019986) with: {'n_neighbors': 6, 'p': 1, 'weights': 'distance'}\n",
      "0.850370 (0.029332) with: {'n_neighbors': 7, 'p': 2, 'weights': 'distance'}\n",
      "0.850370 (0.025488) with: {'n_neighbors': 9, 'p': 1, 'weights': 'distance'}\n",
      "0.845926 (0.027237) with: {'n_neighbors': 7, 'p': 4, 'weights': 'distance'}\n",
      "0.844444 (0.022074) with: {'n_neighbors': 8, 'p': 2, 'weights': 'distance'}\n",
      "0.844444 (0.023796) with: {'n_neighbors': 8, 'p': 4, 'weights': 'distance'}\n",
      "0.842963 (0.018265) with: {'n_neighbors': 6, 'p': 2, 'weights': 'distance'}\n",
      "0.842963 (0.027237) with: {'n_neighbors': 7, 'p': 3, 'weights': 'distance'}\n",
      "0.842963 (0.027716) with: {'n_neighbors': 9, 'p': 2, 'weights': 'distance'}\n",
      "0.842963 (0.024162) with: {'n_neighbors': 9, 'p': 3, 'weights': 'distance'}\n",
      "0.842963 (0.033718) with: {'n_neighbors': 10, 'p': 2, 'weights': 'distance'}\n",
      "0.841481 (0.025488) with: {'n_neighbors': 6, 'p': 4, 'weights': 'distance'}\n",
      "0.841481 (0.022173) with: {'n_neighbors': 8, 'p': 3, 'weights': 'distance'}\n",
      "0.841481 (0.024701) with: {'n_neighbors': 9, 'p': 4, 'weights': 'distance'}\n",
      "0.841481 (0.025745) with: {'n_neighbors': 10, 'p': 3, 'weights': 'distance'}\n",
      "0.840000 (0.020205) with: {'n_neighbors': 6, 'p': 3, 'weights': 'distance'}\n",
      "0.838519 (0.020951) with: {'n_neighbors': 5, 'p': 3, 'weights': 'distance'}\n",
      "0.838519 (0.022173) with: {'n_neighbors': 5, 'p': 4, 'weights': 'distance'}\n",
      "0.838519 (0.024162) with: {'n_neighbors': 10, 'p': 4, 'weights': 'distance'}\n",
      "0.835556 (0.015818) with: {'n_neighbors': 5, 'p': 2, 'weights': 'distance'}\n",
      "0.712593 (0.030216) with: {'n_neighbors': 5, 'p': 1, 'weights': 'uniform'}\n",
      "0.697778 (0.016630) with: {'n_neighbors': 5, 'p': 2, 'weights': 'uniform'}\n",
      "0.696296 (0.030434) with: {'n_neighbors': 5, 'p': 4, 'weights': 'uniform'}\n",
      "0.694815 (0.020635) with: {'n_neighbors': 5, 'p': 3, 'weights': 'uniform'}\n",
      "0.668148 (0.037067) with: {'n_neighbors': 6, 'p': 2, 'weights': 'uniform'}\n",
      "0.660741 (0.029332) with: {'n_neighbors': 6, 'p': 4, 'weights': 'uniform'}\n",
      "0.659259 (0.030863) with: {'n_neighbors': 6, 'p': 3, 'weights': 'uniform'}\n",
      "0.645926 (0.009132) with: {'n_neighbors': 6, 'p': 1, 'weights': 'uniform'}\n",
      "0.619259 (0.011665) with: {'n_neighbors': 7, 'p': 2, 'weights': 'uniform'}\n",
      "0.617778 (0.022662) with: {'n_neighbors': 7, 'p': 4, 'weights': 'uniform'}\n",
      "0.614815 (0.005543) with: {'n_neighbors': 7, 'p': 1, 'weights': 'uniform'}\n",
      "0.613333 (0.016630) with: {'n_neighbors': 7, 'p': 3, 'weights': 'uniform'}\n",
      "0.611852 (0.022173) with: {'n_neighbors': 8, 'p': 1, 'weights': 'uniform'}\n",
      "0.595556 (0.016630) with: {'n_neighbors': 8, 'p': 4, 'weights': 'uniform'}\n",
      "0.594074 (0.007554) with: {'n_neighbors': 8, 'p': 2, 'weights': 'uniform'}\n",
      "0.585185 (0.018265) with: {'n_neighbors': 8, 'p': 3, 'weights': 'uniform'}\n",
      "0.582222 (0.009601) with: {'n_neighbors': 9, 'p': 1, 'weights': 'uniform'}\n",
      "0.577778 (0.003629) with: {'n_neighbors': 10, 'p': 1, 'weights': 'uniform'}\n",
      "0.557037 (0.007554) with: {'n_neighbors': 9, 'p': 2, 'weights': 'uniform'}\n",
      "0.557037 (0.009132) with: {'n_neighbors': 9, 'p': 3, 'weights': 'uniform'}\n",
      "0.552593 (0.011086) with: {'n_neighbors': 9, 'p': 4, 'weights': 'uniform'}\n",
      "0.540741 (0.011086) with: {'n_neighbors': 10, 'p': 2, 'weights': 'uniform'}\n",
      "0.539259 (0.007554) with: {'n_neighbors': 10, 'p': 3, 'weights': 'uniform'}\n",
      "0.534815 (0.017901) with: {'n_neighbors': 10, 'p': 4, 'weights': 'uniform'}\n"
     ]
    }
   ],
   "source": [
    "n_neighbors = [5, 6, 7, 8, 9, 10]\n",
    "weights = [\"uniform\", \"distance\"]\n",
    "p = [1, 2, 3, 4]\n",
    "param_grid = dict(n_neighbors = n_neighbors, weights = weights, p = p)\n",
    "grid_knn = GridSearchCV(estimator=knn, param_grid=param_grid)\n",
    "grid_result_knn = grid_knn.fit(training_set_upsampled, training_set_upsampled_labels)\n",
    "\n",
    "\n",
    "print(\"Best: %f using %s\" % (grid_result_knn.best_score_, grid_result_knn.best_params_))\n",
    "means = grid_result_knn.cv_results_['mean_test_score']\n",
    "stds = grid_result_knn.cv_results_['std_test_score']\n",
    "params = grid_result_knn.cv_results_['params']\n",
    "results = zip(means, stds, params)\n",
    "for mean, stdev, param in sorted(results, key=lambda x: x[0], reverse=True):\n",
    "    print(\"%f (%f) with: %r\" % (mean, stdev, param))\n",
    "    \n",
    "\n",
    "predicted_testing_set_labels = grid_knn.predict(testing_set)\n",
    "predicted_testing_set_labels = pd.DataFrame(predicted_testing_set_labels)\n",
    "testing_set_acc=accuracy_score(testing_set_labels, predicted_testing_set_labels)\n"
   ]
  },
  {
   "cell_type": "code",
   "execution_count": 53,
   "metadata": {},
   "outputs": [
    {
     "name": "stdout",
     "output_type": "stream",
     "text": [
      "             precision    recall  f1-score   support\n",
      "\n",
      "    class 0       0.94      0.94      0.94        32\n",
      "    class 1       0.73      0.80      0.76        10\n",
      "    class 2       0.83      0.83      0.83         6\n",
      "    class 3       0.82      0.82      0.82        11\n",
      "    class 4       0.00      0.00      0.00         2\n",
      "\n",
      "avg / total       0.84      0.85      0.85        61\n",
      "\n"
     ]
    }
   ],
   "source": [
    "print(classification_report(testing_set_labels, predicted_testing_set_labels, target_names=target_names))\n",
    "metrics.append(precision_recall_fscore_support(testing_set_labels, predicted_testing_set_labels, average='weighted'))"
   ]
  },
  {
   "cell_type": "code",
   "execution_count": 77,
   "metadata": {},
   "outputs": [
    {
     "name": "stdout",
     "output_type": "stream",
     "text": [
      "[[1. 1. 1.]\n",
      " [1. 1. 1.]\n",
      " [1. 1. 1.]\n",
      " [1. 1. 1.]\n",
      " [1. 1. 1.]]\n"
     ]
    },
    {
     "data": {
      "text/plain": [
       "<Figure size 432x288 with 0 Axes>"
      ]
     },
     "metadata": {},
     "output_type": "display_data"
    }
   ],
   "source": [
    "cv = cross_validation.ShuffleSplit(training_set_upsampled.shape[0], n_iter=10,\n",
    "                                   test_size=0.2, random_state=0)\n",
    "cv = 5\n",
    "estimator = KNeighborsClassifier(n_neighbors= 9, p= 1, weights='distance')\n",
    "train_sizes = np.linspace(.1, 1.0, 5)\n",
    "train_sizes, train_scores, test_scores = learning_curve(\n",
    "        estimator, training_set_upsampled, training_set_upsampled_labels, cv=None, n_jobs=1, train_sizes=train_sizes, shuffle=True)\n",
    "print(train_scores)\n",
    "plot.learning_curve(train_scores, test_scores, train_sizes)\n",
    "plt.savefig('dataset2_knnLearningCurve.png')\n",
    "plt.clf()\n",
    "plt.show()"
   ]
  },
  {
   "cell_type": "code",
   "execution_count": 103,
   "metadata": {},
   "outputs": [
    {
     "name": "stdout",
     "output_type": "stream",
     "text": [
      "1.202557077590427 milleseconds\n",
      "1.499178082212893 milleseconds\n"
     ]
    }
   ],
   "source": [
    "start_time = timeit.default_timer()\n",
    "estimator = KNeighborsClassifier(n_neighbors= 9, p= 1, weights='distance')\n",
    "estimator.fit(training_set_upsampled,training_set_upsampled_labels)\n",
    "end_time = timeit.default_timer()\n",
    "elapsed = end_time - start_time\n",
    "training_times.append(elapsed*1000)\n",
    "print(elapsed*1000, 'milleseconds')\n",
    "start_time = timeit.default_timer()\n",
    "estimator.predict(testing_set)\n",
    "end_time = timeit.default_timer()\n",
    "elapsed = end_time - start_time\n",
    "print(elapsed*1000, 'milleseconds')\n",
    "testing_times.append(elapsed*1000)"
   ]
  },
  {
   "cell_type": "code",
   "execution_count": 61,
   "metadata": {},
   "outputs": [
    {
     "name": "stderr",
     "output_type": "stream",
     "text": [
      "c:\\users\\tommy\\.virtualenvs\\assignment1-ocs3pq-h\\lib\\site-packages\\sklearn\\model_selection\\_search.py:762: DeprecationWarning: The grid_scores_ attribute was deprecated in version 0.18 in favor of the more elaborate cv_results_ attribute. The grid_scores_ attribute will not be available from 0.20\n",
      "  DeprecationWarning)\n",
      "c:\\users\\tommy\\.virtualenvs\\assignment1-ocs3pq-h\\lib\\site-packages\\sklearn\\model_selection\\_search.py:762: DeprecationWarning: The grid_scores_ attribute was deprecated in version 0.18 in favor of the more elaborate cv_results_ attribute. The grid_scores_ attribute will not be available from 0.20\n",
      "  DeprecationWarning)\n"
     ]
    },
    {
     "data": {
      "text/plain": [
       "<Figure size 720x576 with 0 Axes>"
      ]
     },
     "metadata": {},
     "output_type": "display_data"
    }
   ],
   "source": [
    "ax = plot.grid_search(grid_knn.grid_scores_, change=('n_neighbors', 'p'), subset={'weights': 'uniform'})\n",
    "fig = ax.get_figure()\n",
    "fig.set_size_inches(10, 8)\n",
    "fig.savefig('dataset2_knn1.png')\n",
    "fig.clf()\n",
    "ax = plot.grid_search(grid_knn.grid_scores_, change=('n_neighbors', 'p'), subset={'weights': 'distance'})\n",
    "fig = ax.get_figure()\n",
    "fig.set_size_inches(10, 8)\n",
    "fig.savefig('dataset2_knn2.png')\n",
    "fig.clf()"
   ]
  },
  {
   "cell_type": "code",
   "execution_count": 62,
   "metadata": {},
   "outputs": [
    {
     "name": "stdout",
     "output_type": "stream",
     "text": [
      "Best: 0.927407 using {'learning_rate': 0.7, 'n_estimators': 300}\n",
      "0.927407 (0.018622) with: {'learning_rate': 0.7, 'n_estimators': 300}\n",
      "0.927407 (0.018622) with: {'learning_rate': 0.7, 'n_estimators': 500}\n",
      "0.925926 (0.008381) with: {'learning_rate': 0.5, 'n_estimators': 100}\n",
      "0.925926 (0.008381) with: {'learning_rate': 0.5, 'n_estimators': 700}\n",
      "0.925926 (0.018265) with: {'learning_rate': 0.7, 'n_estimators': 100}\n",
      "0.925926 (0.017149) with: {'learning_rate': 0.7, 'n_estimators': 700}\n",
      "0.925926 (0.017149) with: {'learning_rate': 0.7, 'n_estimators': 900}\n",
      "0.924444 (0.009601) with: {'learning_rate': 0.5, 'n_estimators': 900}\n",
      "0.921481 (0.012744) with: {'learning_rate': 0.5, 'n_estimators': 300}\n",
      "0.921481 (0.018265) with: {'learning_rate': 1.0, 'n_estimators': 300}\n",
      "0.921481 (0.012744) with: {'learning_rate': 1.0, 'n_estimators': 500}\n",
      "0.920000 (0.014515) with: {'learning_rate': 0.5, 'n_estimators': 500}\n",
      "0.920000 (0.018144) with: {'learning_rate': 1.0, 'n_estimators': 700}\n",
      "0.918519 (0.017901) with: {'learning_rate': 0.1, 'n_estimators': 300}\n",
      "0.918519 (0.019986) with: {'learning_rate': 1.0, 'n_estimators': 100}\n",
      "0.918519 (0.016363) with: {'learning_rate': 1.0, 'n_estimators': 900}\n",
      "0.915556 (0.016630) with: {'learning_rate': 0.3, 'n_estimators': 900}\n",
      "0.914074 (0.014666) with: {'learning_rate': 0.1, 'n_estimators': 500}\n",
      "0.914074 (0.014666) with: {'learning_rate': 0.1, 'n_estimators': 700}\n",
      "0.914074 (0.014666) with: {'learning_rate': 0.1, 'n_estimators': 900}\n",
      "0.914074 (0.017149) with: {'learning_rate': 0.3, 'n_estimators': 100}\n",
      "0.914074 (0.014666) with: {'learning_rate': 0.3, 'n_estimators': 300}\n",
      "0.914074 (0.014666) with: {'learning_rate': 0.3, 'n_estimators': 500}\n",
      "0.914074 (0.014666) with: {'learning_rate': 0.3, 'n_estimators': 700}\n",
      "0.909630 (0.014666) with: {'learning_rate': 0.1, 'n_estimators': 100}\n"
     ]
    }
   ],
   "source": [
    "nEstimators = [100, 300, 500, 700, 900]\n",
    "learning_rates = [0.1, 0.3, 0.5, 0.7, 1.0]\n",
    "param_grid = dict(learning_rate = learning_rates, n_estimators = nEstimators)\n",
    "grid_b = GridSearchCV(estimator=gbc, param_grid=param_grid)\n",
    "grid_result_b = grid_b.fit(training_set_upsampled, training_set_upsampled_labels)\n",
    "\n",
    "\n",
    "print(\"Best: %f using %s\" % (grid_result_b.best_score_, grid_result_b.best_params_))\n",
    "means = grid_result_b.cv_results_['mean_test_score']\n",
    "stds = grid_result_b.cv_results_['std_test_score']\n",
    "params = grid_result_b.cv_results_['params']\n",
    "results = zip(means, stds, params)\n",
    "for mean, stdev, param in sorted(results, key=lambda x: x[0], reverse=True):\n",
    "    print(\"%f (%f) with: %r\" % (mean, stdev, param))\n",
    "\n",
    "\n",
    "predicted_testing_set_labels = grid_b.predict(testing_set)\n",
    "predicted_testing_set_labels = pd.DataFrame(predicted_testing_set_labels)\n",
    "testing_set_acc=accuracy_score(testing_set_labels, predicted_testing_set_labels)\n"
   ]
  },
  {
   "cell_type": "code",
   "execution_count": 63,
   "metadata": {},
   "outputs": [
    {
     "name": "stdout",
     "output_type": "stream",
     "text": [
      "             precision    recall  f1-score   support\n",
      "\n",
      "    class 0       0.94      0.97      0.95        32\n",
      "    class 1       0.90      0.90      0.90        10\n",
      "    class 2       1.00      0.83      0.91         6\n",
      "    class 3       0.77      0.91      0.83        11\n",
      "    class 4       0.00      0.00      0.00         2\n",
      "\n",
      "avg / total       0.88      0.90      0.89        61\n",
      "\n"
     ]
    },
    {
     "name": "stderr",
     "output_type": "stream",
     "text": [
      "c:\\users\\tommy\\.virtualenvs\\assignment1-ocs3pq-h\\lib\\site-packages\\sklearn\\metrics\\classification.py:1135: UndefinedMetricWarning: Precision and F-score are ill-defined and being set to 0.0 in labels with no predicted samples.\n",
      "  'precision', 'predicted', average, warn_for)\n"
     ]
    }
   ],
   "source": [
    "print(classification_report(testing_set_labels, predicted_testing_set_labels, target_names=target_names))\n",
    "metrics.append(precision_recall_fscore_support(testing_set_labels, predicted_testing_set_labels, average='weighted'))"
   ]
  },
  {
   "cell_type": "code",
   "execution_count": 104,
   "metadata": {},
   "outputs": [
    {
     "name": "stdout",
     "output_type": "stream",
     "text": [
      "311.5563835616513 milleseconds\n",
      "0.9103196347268749 milleseconds\n"
     ]
    }
   ],
   "source": [
    "start_time = timeit.default_timer()\n",
    "estimator = GradientBoostingClassifier(learning_rate= 0.5, n_estimators= 100)\n",
    "estimator.fit(training_set_upsampled,training_set_upsampled_labels)\n",
    "end_time = timeit.default_timer()\n",
    "elapsed = end_time - start_time\n",
    "training_times.append(elapsed*1000)\n",
    "print(elapsed*1000, 'milleseconds')\n",
    "start_time = timeit.default_timer()\n",
    "estimator.predict(testing_set)\n",
    "end_time = timeit.default_timer()\n",
    "elapsed = end_time - start_time\n",
    "print(elapsed*1000, 'milleseconds')\n",
    "testing_times.append(elapsed*1000)"
   ]
  },
  {
   "cell_type": "code",
   "execution_count": 78,
   "metadata": {},
   "outputs": [
    {
     "data": {
      "text/plain": [
       "<Figure size 432x288 with 0 Axes>"
      ]
     },
     "metadata": {},
     "output_type": "display_data"
    }
   ],
   "source": [
    "cv = cross_validation.ShuffleSplit(training_set_upsampled.shape[0], n_iter=10,\n",
    "                                   test_size=0.2, random_state=0)\n",
    "cv = 5\n",
    "estimator = GradientBoostingClassifier(learning_rate= 0.5, n_estimators= 100)\n",
    "train_sizes = np.linspace(.1, 1.0, 5)\n",
    "train_sizes, train_scores, test_scores = learning_curve(\n",
    "        estimator, training_set_upsampled, training_set_upsampled_labels, cv=cv, n_jobs=1, train_sizes=train_sizes, shuffle=True)\n",
    "plot.learning_curve(train_scores, test_scores, train_sizes)\n",
    "plt.savefig('dataset2_boostingLearningCurve.png')\n",
    "plt.clf()\n",
    "plt.show()"
   ]
  },
  {
   "cell_type": "code",
   "execution_count": 66,
   "metadata": {},
   "outputs": [
    {
     "name": "stderr",
     "output_type": "stream",
     "text": [
      "c:\\users\\tommy\\.virtualenvs\\assignment1-ocs3pq-h\\lib\\site-packages\\sklearn\\model_selection\\_search.py:762: DeprecationWarning: The grid_scores_ attribute was deprecated in version 0.18 in favor of the more elaborate cv_results_ attribute. The grid_scores_ attribute will not be available from 0.20\n",
      "  DeprecationWarning)\n"
     ]
    },
    {
     "data": {
      "text/plain": [
       "<Figure size 720x576 with 0 Axes>"
      ]
     },
     "metadata": {},
     "output_type": "display_data"
    }
   ],
   "source": [
    "ax = plot.grid_search(grid_b.grid_scores_, change=('learning_rate', 'n_estimators'))\n",
    "fig = ax.get_figure()\n",
    "fig.set_size_inches(10, 8)\n",
    "fig.savefig('dataset2_boosting1.png')\n",
    "fig.clf()"
   ]
  },
  {
   "cell_type": "code",
   "execution_count": 67,
   "metadata": {},
   "outputs": [
    {
     "name": "stdout",
     "output_type": "stream",
     "text": [
      "Best: 0.539259 using {'alpha': 0.0007, 'hidden_layer_sizes': (400,), 'learning_rate_init': 0.001}\n",
      "0.539259 (0.048324) with: {'alpha': 0.0007, 'hidden_layer_sizes': (400,), 'learning_rate_init': 0.001}\n",
      "0.537778 (0.021773) with: {'alpha': 0.0001, 'hidden_layer_sizes': (300,), 'learning_rate_init': 0.001}\n",
      "0.534815 (0.053498) with: {'alpha': 0.0005, 'hidden_layer_sizes': (400,), 'learning_rate_init': 0.001}\n",
      "0.534815 (0.057416) with: {'alpha': 0.001, 'hidden_layer_sizes': (500,), 'learning_rate_init': 0.001}\n",
      "0.534815 (0.070957) with: {'alpha': 0.002, 'hidden_layer_sizes': (500,), 'learning_rate_init': 0.001}\n",
      "0.525926 (0.022173) with: {'alpha': 0.0001, 'hidden_layer_sizes': (200,), 'learning_rate_init': 0.001}\n",
      "0.525926 (0.036349) with: {'alpha': 0.005, 'hidden_layer_sizes': (300,), 'learning_rate_init': 0.007}\n",
      "0.524444 (0.055866) with: {'alpha': 0.0007, 'hidden_layer_sizes': (300,), 'learning_rate_init': 0.001}\n",
      "0.522963 (0.014666) with: {'alpha': 0.0005, 'hidden_layer_sizes': (300,), 'learning_rate_init': 0.002}\n",
      "0.522963 (0.056491) with: {'alpha': 0.01, 'hidden_layer_sizes': (400,), 'learning_rate_init': 0.002}\n",
      "0.521481 (0.032928) with: {'alpha': 0.001, 'hidden_layer_sizes': (200,), 'learning_rate_init': 0.01}\n",
      "0.515556 (0.074987) with: {'alpha': 0.0001, 'hidden_layer_sizes': (400,), 'learning_rate_init': 0.001}\n",
      "0.515556 (0.038233) with: {'alpha': 0.0007, 'hidden_layer_sizes': (400,), 'learning_rate_init': 0.01}\n",
      "0.515556 (0.056685) with: {'alpha': 0.002, 'hidden_layer_sizes': (400,), 'learning_rate_init': 0.001}\n",
      "0.512593 (0.030863) with: {'alpha': 0.01, 'hidden_layer_sizes': (400,), 'learning_rate_init': 0.001}\n",
      "0.508148 (0.045662) with: {'alpha': 0.001, 'hidden_layer_sizes': (400,), 'learning_rate_init': 0.002}\n",
      "0.506667 (0.015818) with: {'alpha': 0.01, 'hidden_layer_sizes': (300,), 'learning_rate_init': 0.001}\n",
      "0.505185 (0.040464) with: {'alpha': 0.001, 'hidden_layer_sizes': (400,), 'learning_rate_init': 0.001}\n",
      "0.503704 (0.073419) with: {'alpha': 0.0007, 'hidden_layer_sizes': (200,), 'learning_rate_init': 0.005}\n",
      "0.502222 (0.009601) with: {'alpha': 0.005, 'hidden_layer_sizes': (300,), 'learning_rate_init': 0.002}\n",
      "0.500741 (0.061833) with: {'alpha': 0.0001, 'hidden_layer_sizes': (500,), 'learning_rate_init': 0.002}\n",
      "0.499259 (0.042988) with: {'alpha': 0.0005, 'hidden_layer_sizes': (300,), 'learning_rate_init': 0.01}\n",
      "0.499259 (0.014666) with: {'alpha': 0.001, 'hidden_layer_sizes': (300,), 'learning_rate_init': 0.001}\n",
      "0.499259 (0.041269) with: {'alpha': 0.005, 'hidden_layer_sizes': (400,), 'learning_rate_init': 0.001}\n",
      "0.496296 (0.073330) with: {'alpha': 0.0002, 'hidden_layer_sizes': (100,), 'learning_rate_init': 0.002}\n",
      "0.491852 (0.035246) with: {'alpha': 0.0002, 'hidden_layer_sizes': (300,), 'learning_rate_init': 0.001}\n",
      "0.487407 (0.016363) with: {'alpha': 0.0005, 'hidden_layer_sizes': (100,), 'learning_rate_init': 0.002}\n",
      "0.487407 (0.099800) with: {'alpha': 0.002, 'hidden_layer_sizes': (300,), 'learning_rate_init': 0.001}\n",
      "0.485926 (0.098203) with: {'alpha': 0.0007, 'hidden_layer_sizes': (400,), 'learning_rate_init': 0.002}\n",
      "0.482963 (0.032727) with: {'alpha': 0.001, 'hidden_layer_sizes': (100,), 'learning_rate_init': 0.005}\n",
      "0.480000 (0.022662) with: {'alpha': 0.005, 'hidden_layer_sizes': (500,), 'learning_rate_init': 0.002}\n",
      "0.478519 (0.063721) with: {'alpha': 0.0001, 'hidden_layer_sizes': (200,), 'learning_rate_init': 0.002}\n",
      "0.478519 (0.049536) with: {'alpha': 0.0005, 'hidden_layer_sizes': (500,), 'learning_rate_init': 0.001}\n",
      "0.477037 (0.068693) with: {'alpha': 0.002, 'hidden_layer_sizes': (200,), 'learning_rate_init': 0.002}\n",
      "0.477037 (0.080027) with: {'alpha': 0.005, 'hidden_layer_sizes': (200,), 'learning_rate_init': 0.002}\n",
      "0.477037 (0.023611) with: {'alpha': 0.01, 'hidden_layer_sizes': (200,), 'learning_rate_init': 0.002}\n",
      "0.475556 (0.061691) with: {'alpha': 0.005, 'hidden_layer_sizes': (300,), 'learning_rate_init': 0.001}\n",
      "0.474074 (0.088691) with: {'alpha': 0.0007, 'hidden_layer_sizes': (500,), 'learning_rate_init': 0.001}\n",
      "0.474074 (0.045950) with: {'alpha': 0.01, 'hidden_layer_sizes': (100,), 'learning_rate_init': 0.001}\n",
      "0.474074 (0.027477) with: {'alpha': 0.01, 'hidden_layer_sizes': (500,), 'learning_rate_init': 0.002}\n",
      "0.472593 (0.042371) with: {'alpha': 0.0001, 'hidden_layer_sizes': (400,), 'learning_rate_init': 0.002}\n",
      "0.472593 (0.070023) with: {'alpha': 0.001, 'hidden_layer_sizes': (500,), 'learning_rate_init': 0.005}\n",
      "0.471111 (0.100632) with: {'alpha': 0.0002, 'hidden_layer_sizes': (500,), 'learning_rate_init': 0.001}\n",
      "0.469630 (0.098337) with: {'alpha': 0.0001, 'hidden_layer_sizes': (100,), 'learning_rate_init': 0.005}\n",
      "0.469630 (0.068693) with: {'alpha': 0.005, 'hidden_layer_sizes': (500,), 'learning_rate_init': 0.005}\n",
      "0.468148 (0.017149) with: {'alpha': 0.0005, 'hidden_layer_sizes': (200,), 'learning_rate_init': 0.002}\n",
      "0.466667 (0.032660) with: {'alpha': 0.002, 'hidden_layer_sizes': (300,), 'learning_rate_init': 0.007}\n",
      "0.465185 (0.017149) with: {'alpha': 0.002, 'hidden_layer_sizes': (100,), 'learning_rate_init': 0.01}\n",
      "0.463704 (0.072062) with: {'alpha': 0.0005, 'hidden_layer_sizes': (100,), 'learning_rate_init': 0.005}\n",
      "0.460741 (0.041745) with: {'alpha': 0.005, 'hidden_layer_sizes': (100,), 'learning_rate_init': 0.002}\n",
      "0.459259 (0.055551) with: {'alpha': 0.0002, 'hidden_layer_sizes': (500,), 'learning_rate_init': 0.002}\n",
      "0.457778 (0.087319) with: {'alpha': 0.0001, 'hidden_layer_sizes': (500,), 'learning_rate_init': 0.001}\n",
      "0.454815 (0.018622) with: {'alpha': 0.0002, 'hidden_layer_sizes': (500,), 'learning_rate_init': 0.005}\n",
      "0.454815 (0.018622) with: {'alpha': 0.01, 'hidden_layer_sizes': (200,), 'learning_rate_init': 0.005}\n",
      "0.453333 (0.052712) with: {'alpha': 0.0002, 'hidden_layer_sizes': (200,), 'learning_rate_init': 0.001}\n",
      "0.453333 (0.065420) with: {'alpha': 0.0002, 'hidden_layer_sizes': (300,), 'learning_rate_init': 0.002}\n",
      "0.453333 (0.050283) with: {'alpha': 0.0002, 'hidden_layer_sizes': (300,), 'learning_rate_init': 0.01}\n",
      "0.453333 (0.047592) with: {'alpha': 0.0005, 'hidden_layer_sizes': (400,), 'learning_rate_init': 0.002}\n",
      "0.453333 (0.083700) with: {'alpha': 0.0005, 'hidden_layer_sizes': (400,), 'learning_rate_init': 0.007}\n",
      "0.451852 (0.047361) with: {'alpha': 0.01, 'hidden_layer_sizes': (200,), 'learning_rate_init': 0.001}\n",
      "0.450370 (0.045373) with: {'alpha': 0.0007, 'hidden_layer_sizes': (200,), 'learning_rate_init': 0.002}\n",
      "0.450370 (0.170840) with: {'alpha': 0.002, 'hidden_layer_sizes': (200,), 'learning_rate_init': 0.01}\n",
      "0.448889 (0.034617) with: {'alpha': 0.0005, 'hidden_layer_sizes': (300,), 'learning_rate_init': 0.001}\n",
      "0.445926 (0.045662) with: {'alpha': 0.0002, 'hidden_layer_sizes': (200,), 'learning_rate_init': 0.01}\n",
      "0.445926 (0.038802) with: {'alpha': 0.001, 'hidden_layer_sizes': (100,), 'learning_rate_init': 0.01}\n",
      "0.445926 (0.062574) with: {'alpha': 0.005, 'hidden_layer_sizes': (500,), 'learning_rate_init': 0.001}\n",
      "0.444444 (0.062959) with: {'alpha': 0.0002, 'hidden_layer_sizes': (100,), 'learning_rate_init': 0.005}\n",
      "0.444444 (0.086410) with: {'alpha': 0.002, 'hidden_layer_sizes': (500,), 'learning_rate_init': 0.005}\n",
      "0.442963 (0.016363) with: {'alpha': 0.0001, 'hidden_layer_sizes': (200,), 'learning_rate_init': 0.007}\n",
      "0.442963 (0.074044) with: {'alpha': 0.0002, 'hidden_layer_sizes': (400,), 'learning_rate_init': 0.001}\n",
      "0.442963 (0.039807) with: {'alpha': 0.0005, 'hidden_layer_sizes': (100,), 'learning_rate_init': 0.01}\n",
      "0.442963 (0.067142) with: {'alpha': 0.005, 'hidden_layer_sizes': (400,), 'learning_rate_init': 0.002}\n",
      "0.442963 (0.055787) with: {'alpha': 0.01, 'hidden_layer_sizes': (100,), 'learning_rate_init': 0.002}\n",
      "0.441481 (0.027716) with: {'alpha': 0.005, 'hidden_layer_sizes': (200,), 'learning_rate_init': 0.007}\n",
      "0.438519 (0.054352) with: {'alpha': 0.0001, 'hidden_layer_sizes': (300,), 'learning_rate_init': 0.002}\n",
      "0.438519 (0.042988) with: {'alpha': 0.002, 'hidden_layer_sizes': (100,), 'learning_rate_init': 0.007}\n",
      "0.438519 (0.038802) with: {'alpha': 0.002, 'hidden_layer_sizes': (400,), 'learning_rate_init': 0.002}\n",
      "0.437037 (0.039807) with: {'alpha': 0.01, 'hidden_layer_sizes': (300,), 'learning_rate_init': 0.002}\n",
      "0.435556 (0.070833) with: {'alpha': 0.01, 'hidden_layer_sizes': (500,), 'learning_rate_init': 0.001}\n",
      "0.434074 (0.054352) with: {'alpha': 0.0007, 'hidden_layer_sizes': (500,), 'learning_rate_init': 0.002}\n",
      "0.431111 (0.049090) with: {'alpha': 0.0007, 'hidden_layer_sizes': (100,), 'learning_rate_init': 0.005}\n",
      "0.429630 (0.110447) with: {'alpha': 0.0007, 'hidden_layer_sizes': (300,), 'learning_rate_init': 0.007}\n",
      "0.429630 (0.045082) with: {'alpha': 0.002, 'hidden_layer_sizes': (200,), 'learning_rate_init': 0.007}\n",
      "0.425185 (0.027477) with: {'alpha': 0.0002, 'hidden_layer_sizes': (300,), 'learning_rate_init': 0.007}\n",
      "0.423704 (0.124462) with: {'alpha': 0.0005, 'hidden_layer_sizes': (500,), 'learning_rate_init': 0.002}\n",
      "0.423704 (0.055551) with: {'alpha': 0.01, 'hidden_layer_sizes': (100,), 'learning_rate_init': 0.005}\n",
      "0.423704 (0.158691) with: {'alpha': 0.01, 'hidden_layer_sizes': (400,), 'learning_rate_init': 0.005}\n",
      "0.422222 (0.074458) with: {'alpha': 0.002, 'hidden_layer_sizes': (200,), 'learning_rate_init': 0.005}\n",
      "0.420741 (0.109910) with: {'alpha': 0.0002, 'hidden_layer_sizes': (200,), 'learning_rate_init': 0.002}\n",
      "0.420741 (0.019986) with: {'alpha': 0.0005, 'hidden_layer_sizes': (200,), 'learning_rate_init': 0.005}\n",
      "0.420741 (0.112807) with: {'alpha': 0.001, 'hidden_layer_sizes': (100,), 'learning_rate_init': 0.002}\n",
      "0.420741 (0.014666) with: {'alpha': 0.01, 'hidden_layer_sizes': (300,), 'learning_rate_init': 0.005}\n",
      "0.419259 (0.065855) with: {'alpha': 0.0001, 'hidden_layer_sizes': (100,), 'learning_rate_init': 0.001}\n",
      "0.419259 (0.059886) with: {'alpha': 0.001, 'hidden_layer_sizes': (300,), 'learning_rate_init': 0.002}\n",
      "0.419259 (0.034490) with: {'alpha': 0.005, 'hidden_layer_sizes': (200,), 'learning_rate_init': 0.001}\n",
      "0.417778 (0.110009) with: {'alpha': 0.002, 'hidden_layer_sizes': (500,), 'learning_rate_init': 0.002}\n",
      "0.416296 (0.115118) with: {'alpha': 0.0007, 'hidden_layer_sizes': (400,), 'learning_rate_init': 0.007}\n",
      "0.416296 (0.052879) with: {'alpha': 0.001, 'hidden_layer_sizes': (500,), 'learning_rate_init': 0.007}\n",
      "0.416296 (0.054955) with: {'alpha': 0.005, 'hidden_layer_sizes': (100,), 'learning_rate_init': 0.005}\n",
      "0.416296 (0.045373) with: {'alpha': 0.01, 'hidden_layer_sizes': (100,), 'learning_rate_init': 0.007}\n",
      "0.414815 (0.133350) with: {'alpha': 0.0007, 'hidden_layer_sizes': (200,), 'learning_rate_init': 0.001}\n",
      "0.413333 (0.031427) with: {'alpha': 0.001, 'hidden_layer_sizes': (300,), 'learning_rate_init': 0.007}\n",
      "0.413333 (0.038404) with: {'alpha': 0.01, 'hidden_layer_sizes': (200,), 'learning_rate_init': 0.007}\n",
      "0.411852 (0.145713) with: {'alpha': 0.0001, 'hidden_layer_sizes': (400,), 'learning_rate_init': 0.005}\n",
      "0.411852 (0.187593) with: {'alpha': 0.0005, 'hidden_layer_sizes': (100,), 'learning_rate_init': 0.001}\n",
      "0.410370 (0.023611) with: {'alpha': 0.0002, 'hidden_layer_sizes': (200,), 'learning_rate_init': 0.005}\n",
      "0.410370 (0.066154) with: {'alpha': 0.005, 'hidden_layer_sizes': (300,), 'learning_rate_init': 0.005}\n",
      "0.407407 (0.052629) with: {'alpha': 0.0002, 'hidden_layer_sizes': (100,), 'learning_rate_init': 0.007}\n",
      "0.407407 (0.129339) with: {'alpha': 0.002, 'hidden_layer_sizes': (200,), 'learning_rate_init': 0.001}\n",
      "0.404444 (0.075773) with: {'alpha': 0.0007, 'hidden_layer_sizes': (300,), 'learning_rate_init': 0.002}\n",
      "0.402963 (0.023330) with: {'alpha': 0.001, 'hidden_layer_sizes': (200,), 'learning_rate_init': 0.005}\n",
      "0.402963 (0.117271) with: {'alpha': 0.002, 'hidden_layer_sizes': (100,), 'learning_rate_init': 0.002}\n",
      "0.401481 (0.050847) with: {'alpha': 0.0002, 'hidden_layer_sizes': (200,), 'learning_rate_init': 0.007}\n",
      "0.401481 (0.086206) with: {'alpha': 0.002, 'hidden_layer_sizes': (300,), 'learning_rate_init': 0.002}\n",
      "0.398519 (0.077605) with: {'alpha': 0.0001, 'hidden_layer_sizes': (100,), 'learning_rate_init': 0.01}\n",
      "0.398519 (0.016363) with: {'alpha': 0.0002, 'hidden_layer_sizes': (400,), 'learning_rate_init': 0.002}\n",
      "0.398519 (0.131059) with: {'alpha': 0.01, 'hidden_layer_sizes': (500,), 'learning_rate_init': 0.005}\n",
      "0.394074 (0.120374) with: {'alpha': 0.0007, 'hidden_layer_sizes': (500,), 'learning_rate_init': 0.007}\n",
      "0.394074 (0.105820) with: {'alpha': 0.001, 'hidden_layer_sizes': (200,), 'learning_rate_init': 0.001}\n",
      "0.394074 (0.035802) with: {'alpha': 0.001, 'hidden_layer_sizes': (200,), 'learning_rate_init': 0.007}\n",
      "0.392593 (0.136955) with: {'alpha': 0.0005, 'hidden_layer_sizes': (300,), 'learning_rate_init': 0.007}\n",
      "0.391111 (0.052336) with: {'alpha': 0.0001, 'hidden_layer_sizes': (100,), 'learning_rate_init': 0.002}\n",
      "0.391111 (0.101154) with: {'alpha': 0.0007, 'hidden_layer_sizes': (100,), 'learning_rate_init': 0.002}\n",
      "0.389630 (0.079034) with: {'alpha': 0.0007, 'hidden_layer_sizes': (100,), 'learning_rate_init': 0.007}\n",
      "0.389630 (0.061726) with: {'alpha': 0.0007, 'hidden_layer_sizes': (100,), 'learning_rate_init': 0.01}\n",
      "0.388148 (0.064542) with: {'alpha': 0.0005, 'hidden_layer_sizes': (300,), 'learning_rate_init': 0.005}\n",
      "0.388148 (0.101630) with: {'alpha': 0.001, 'hidden_layer_sizes': (200,), 'learning_rate_init': 0.002}\n",
      "0.386667 (0.137179) with: {'alpha': 0.0001, 'hidden_layer_sizes': (300,), 'learning_rate_init': 0.01}\n",
      "0.386667 (0.049090) with: {'alpha': 0.01, 'hidden_layer_sizes': (400,), 'learning_rate_init': 0.007}\n",
      "0.385185 (0.058100) with: {'alpha': 0.002, 'hidden_layer_sizes': (100,), 'learning_rate_init': 0.005}\n",
      "0.385185 (0.066154) with: {'alpha': 0.002, 'hidden_layer_sizes': (400,), 'learning_rate_init': 0.005}\n",
      "0.385185 (0.163313) with: {'alpha': 0.005, 'hidden_layer_sizes': (100,), 'learning_rate_init': 0.01}\n",
      "0.383704 (0.145397) with: {'alpha': 0.001, 'hidden_layer_sizes': (500,), 'learning_rate_init': 0.002}\n",
      "0.382222 (0.133383) with: {'alpha': 0.0007, 'hidden_layer_sizes': (300,), 'learning_rate_init': 0.01}\n",
      "0.382222 (0.064201) with: {'alpha': 0.005, 'hidden_layer_sizes': (100,), 'learning_rate_init': 0.007}\n",
      "0.382222 (0.113370) with: {'alpha': 0.005, 'hidden_layer_sizes': (200,), 'learning_rate_init': 0.005}\n",
      "0.382222 (0.129170) with: {'alpha': 0.005, 'hidden_layer_sizes': (400,), 'learning_rate_init': 0.01}\n",
      "0.382222 (0.031005) with: {'alpha': 0.01, 'hidden_layer_sizes': (100,), 'learning_rate_init': 0.01}\n",
      "0.379259 (0.140749) with: {'alpha': 0.0005, 'hidden_layer_sizes': (200,), 'learning_rate_init': 0.01}\n",
      "0.379259 (0.018622) with: {'alpha': 0.0007, 'hidden_layer_sizes': (300,), 'learning_rate_init': 0.005}\n",
      "0.379259 (0.115916) with: {'alpha': 0.001, 'hidden_layer_sizes': (100,), 'learning_rate_init': 0.001}\n",
      "0.377778 (0.031427) with: {'alpha': 0.001, 'hidden_layer_sizes': (100,), 'learning_rate_init': 0.007}\n",
      "0.373333 (0.045325) with: {'alpha': 0.01, 'hidden_layer_sizes': (500,), 'learning_rate_init': 0.007}\n",
      "0.371852 (0.073060) with: {'alpha': 0.0001, 'hidden_layer_sizes': (200,), 'learning_rate_init': 0.005}\n",
      "0.370370 (0.107303) with: {'alpha': 0.0005, 'hidden_layer_sizes': (200,), 'learning_rate_init': 0.001}\n",
      "0.370370 (0.122758) with: {'alpha': 0.001, 'hidden_layer_sizes': (500,), 'learning_rate_init': 0.01}\n",
      "0.368889 (0.108199) with: {'alpha': 0.0002, 'hidden_layer_sizes': (100,), 'learning_rate_init': 0.001}\n",
      "0.367407 (0.107057) with: {'alpha': 0.0001, 'hidden_layer_sizes': (500,), 'learning_rate_init': 0.005}\n",
      "0.365926 (0.117831) with: {'alpha': 0.0001, 'hidden_layer_sizes': (300,), 'learning_rate_init': 0.007}\n",
      "0.365926 (0.014666) with: {'alpha': 0.005, 'hidden_layer_sizes': (400,), 'learning_rate_init': 0.007}\n",
      "0.364444 (0.094560) with: {'alpha': 0.0007, 'hidden_layer_sizes': (100,), 'learning_rate_init': 0.001}\n",
      "0.364444 (0.116294) with: {'alpha': 0.002, 'hidden_layer_sizes': (300,), 'learning_rate_init': 0.01}\n",
      "0.362963 (0.090383) with: {'alpha': 0.0005, 'hidden_layer_sizes': (400,), 'learning_rate_init': 0.005}\n",
      "0.362963 (0.140186) with: {'alpha': 0.0007, 'hidden_layer_sizes': (200,), 'learning_rate_init': 0.01}\n",
      "0.360000 (0.072849) with: {'alpha': 0.0001, 'hidden_layer_sizes': (100,), 'learning_rate_init': 0.007}\n",
      "0.355556 (0.115270) with: {'alpha': 0.0002, 'hidden_layer_sizes': (400,), 'learning_rate_init': 0.005}\n",
      "0.355556 (0.139180) with: {'alpha': 0.0005, 'hidden_layer_sizes': (500,), 'learning_rate_init': 0.01}\n",
      "0.355556 (0.098783) with: {'alpha': 0.001, 'hidden_layer_sizes': (300,), 'learning_rate_init': 0.005}\n",
      "0.354074 (0.112748) with: {'alpha': 0.005, 'hidden_layer_sizes': (200,), 'learning_rate_init': 0.01}\n",
      "0.346667 (0.104673) with: {'alpha': 0.0007, 'hidden_layer_sizes': (400,), 'learning_rate_init': 0.005}\n",
      "0.345185 (0.102918) with: {'alpha': 0.001, 'hidden_layer_sizes': (400,), 'learning_rate_init': 0.005}\n",
      "0.345185 (0.118722) with: {'alpha': 0.002, 'hidden_layer_sizes': (300,), 'learning_rate_init': 0.005}\n",
      "0.342222 (0.081063) with: {'alpha': 0.0001, 'hidden_layer_sizes': (200,), 'learning_rate_init': 0.01}\n",
      "0.342222 (0.092661) with: {'alpha': 0.005, 'hidden_layer_sizes': (100,), 'learning_rate_init': 0.001}\n",
      "0.334815 (0.098203) with: {'alpha': 0.0002, 'hidden_layer_sizes': (100,), 'learning_rate_init': 0.01}\n",
      "0.330370 (0.065152) with: {'alpha': 0.005, 'hidden_layer_sizes': (400,), 'learning_rate_init': 0.005}\n",
      "0.330370 (0.165873) with: {'alpha': 0.01, 'hidden_layer_sizes': (300,), 'learning_rate_init': 0.007}\n",
      "0.327407 (0.115688) with: {'alpha': 0.0001, 'hidden_layer_sizes': (500,), 'learning_rate_init': 0.007}\n",
      "0.325926 (0.116029) with: {'alpha': 0.0007, 'hidden_layer_sizes': (500,), 'learning_rate_init': 0.005}\n",
      "0.322963 (0.062046) with: {'alpha': 0.01, 'hidden_layer_sizes': (200,), 'learning_rate_init': 0.01}\n",
      "0.320000 (0.084872) with: {'alpha': 0.0005, 'hidden_layer_sizes': (200,), 'learning_rate_init': 0.007}\n",
      "0.317037 (0.124144) with: {'alpha': 0.0001, 'hidden_layer_sizes': (500,), 'learning_rate_init': 0.01}\n",
      "0.312593 (0.162383) with: {'alpha': 0.001, 'hidden_layer_sizes': (300,), 'learning_rate_init': 0.01}\n",
      "0.311111 (0.093861) with: {'alpha': 0.002, 'hidden_layer_sizes': (400,), 'learning_rate_init': 0.007}\n",
      "0.309630 (0.155040) with: {'alpha': 0.0002, 'hidden_layer_sizes': (400,), 'learning_rate_init': 0.01}\n",
      "0.309630 (0.151908) with: {'alpha': 0.0005, 'hidden_layer_sizes': (500,), 'learning_rate_init': 0.007}\n",
      "0.306667 (0.079587) with: {'alpha': 0.01, 'hidden_layer_sizes': (300,), 'learning_rate_init': 0.01}\n",
      "0.305185 (0.130354) with: {'alpha': 0.0001, 'hidden_layer_sizes': (400,), 'learning_rate_init': 0.01}\n",
      "0.299259 (0.140374) with: {'alpha': 0.0005, 'hidden_layer_sizes': (400,), 'learning_rate_init': 0.01}\n",
      "0.297778 (0.081710) with: {'alpha': 0.0001, 'hidden_layer_sizes': (300,), 'learning_rate_init': 0.005}\n",
      "0.297778 (0.122579) with: {'alpha': 0.0005, 'hidden_layer_sizes': (500,), 'learning_rate_init': 0.005}\n",
      "0.296296 (0.136184) with: {'alpha': 0.0007, 'hidden_layer_sizes': (200,), 'learning_rate_init': 0.007}\n",
      "0.296296 (0.136184) with: {'alpha': 0.002, 'hidden_layer_sizes': (500,), 'learning_rate_init': 0.01}\n",
      "0.294815 (0.002095) with: {'alpha': 0.0005, 'hidden_layer_sizes': (100,), 'learning_rate_init': 0.007}\n",
      "0.294815 (0.134088) with: {'alpha': 0.005, 'hidden_layer_sizes': (500,), 'learning_rate_init': 0.01}\n",
      "0.290370 (0.127803) with: {'alpha': 0.002, 'hidden_layer_sizes': (400,), 'learning_rate_init': 0.01}\n",
      "0.287407 (0.142515) with: {'alpha': 0.002, 'hidden_layer_sizes': (100,), 'learning_rate_init': 0.001}\n",
      "0.277037 (0.108947) with: {'alpha': 0.01, 'hidden_layer_sizes': (400,), 'learning_rate_init': 0.01}\n",
      "0.268148 (0.096376) with: {'alpha': 0.0002, 'hidden_layer_sizes': (500,), 'learning_rate_init': 0.007}\n",
      "0.251852 (0.067142) with: {'alpha': 0.0002, 'hidden_layer_sizes': (500,), 'learning_rate_init': 0.01}\n",
      "0.240000 (0.056569) with: {'alpha': 0.0001, 'hidden_layer_sizes': (400,), 'learning_rate_init': 0.007}\n",
      "0.234074 (0.048188) with: {'alpha': 0.005, 'hidden_layer_sizes': (300,), 'learning_rate_init': 0.01}\n",
      "0.226667 (0.018856) with: {'alpha': 0.0002, 'hidden_layer_sizes': (300,), 'learning_rate_init': 0.005}\n",
      "0.216296 (0.023046) with: {'alpha': 0.002, 'hidden_layer_sizes': (500,), 'learning_rate_init': 0.007}\n",
      "0.211852 (0.016761) with: {'alpha': 0.001, 'hidden_layer_sizes': (400,), 'learning_rate_init': 0.007}\n",
      "0.211852 (0.016761) with: {'alpha': 0.001, 'hidden_layer_sizes': (400,), 'learning_rate_init': 0.01}\n",
      "0.202963 (0.004190) with: {'alpha': 0.0007, 'hidden_layer_sizes': (500,), 'learning_rate_init': 0.01}\n",
      "0.200000 (0.000000) with: {'alpha': 0.005, 'hidden_layer_sizes': (500,), 'learning_rate_init': 0.007}\n",
      "0.200000 (0.000000) with: {'alpha': 0.01, 'hidden_layer_sizes': (500,), 'learning_rate_init': 0.01}\n",
      "0.186667 (0.022074) with: {'alpha': 0.0002, 'hidden_layer_sizes': (400,), 'learning_rate_init': 0.007}\n"
     ]
    }
   ],
   "source": [
    "alphas = [0.0001, 0.0002, 0.0005, 0.0007, 0.001, 0.002, 0.005, 0.01]\n",
    "learning_rates = [0.001, 0.002, 0.005, 0.007, 0.01]\n",
    "hidden_layer_sizes=[(100,), (200,), (300,), (400,), (500,)]\n",
    "# momentums = [0.9, 0.85, 0.8, 0.75, 0.7]\n",
    "param_grid = dict(alpha=alphas, learning_rate_init = learning_rates, hidden_layer_sizes = hidden_layer_sizes)\n",
    "grid_nn = GridSearchCV(estimator=nn, param_grid=param_grid)\n",
    "grid_result_nn = grid_nn.fit(training_set_upsampled, training_set_upsampled_labels)\n",
    "\n",
    "\n",
    "print(\"Best: %f using %s\" % (grid_result_nn.best_score_, grid_result_nn.best_params_))\n",
    "means = grid_result_nn.cv_results_['mean_test_score']\n",
    "stds = grid_result_nn.cv_results_['std_test_score']\n",
    "params = grid_result_nn.cv_results_['params']\n",
    "results = zip(means, stds, params)\n",
    "for mean, stdev, param in sorted(results, key=lambda x: x[0], reverse=True):\n",
    "    print(\"%f (%f) with: %r\" % (mean, stdev, param))\n",
    "    \n",
    "\n",
    "predicted_testing_set_labels = grid_nn.predict(testing_set)\n",
    "predicted_testing_set_labels = pd.DataFrame(predicted_testing_set_labels)\n",
    "testing_set_acc_nn=accuracy_score(testing_set_labels, predicted_testing_set_labels)\n"
   ]
  },
  {
   "cell_type": "code",
   "execution_count": 68,
   "metadata": {},
   "outputs": [
    {
     "name": "stderr",
     "output_type": "stream",
     "text": [
      "c:\\users\\tommy\\.virtualenvs\\assignment1-ocs3pq-h\\lib\\site-packages\\sklearn\\model_selection\\_search.py:762: DeprecationWarning: The grid_scores_ attribute was deprecated in version 0.18 in favor of the more elaborate cv_results_ attribute. The grid_scores_ attribute will not be available from 0.20\n",
      "  DeprecationWarning)\n"
     ]
    },
    {
     "data": {
      "text/plain": [
       "<Figure size 720x576 with 0 Axes>"
      ]
     },
     "metadata": {},
     "output_type": "display_data"
    }
   ],
   "source": [
    "# ax = plot.grid_search(grid_nn.grid_scores_, change=('alpha', 'learning_rate_init'),\n",
    "#               subset={'hidden_layer_sizes': (300,)})\n",
    "# fig = ax.get_figure()\n",
    "# fig.set_size_inches(18.5, 10.5)\n",
    "# fig.savefig('dataset2_NN1.png')\n",
    "# fig.clf()\n",
    "ax = plot.grid_search(grid_nn.grid_scores_, change=('alpha', 'hidden_layer_sizes'),\n",
    "              subset={'learning_rate_init': 0.001})\n",
    "fig = ax.get_figure()\n",
    "fig.set_size_inches(10, 8)\n",
    "fig.savefig('dataset2_NN1.png')\n",
    "fig.clf()"
   ]
  },
  {
   "cell_type": "code",
   "execution_count": 79,
   "metadata": {},
   "outputs": [
    {
     "data": {
      "text/plain": [
       "<Figure size 432x288 with 0 Axes>"
      ]
     },
     "metadata": {},
     "output_type": "display_data"
    }
   ],
   "source": [
    "cv = cross_validation.ShuffleSplit(training_set_upsampled.shape[0], n_iter=10,\n",
    "                                   test_size=0.2, random_state=0)\n",
    "cv = 5\n",
    "estimator = MLPClassifier(alpha=0.001, hidden_layer_sizes=(300,), learning_rate_init= 0.001)\n",
    "train_sizes = np.linspace(.1, 1.0, 5)\n",
    "train_sizes, train_scores, test_scores = learning_curve(\n",
    "        estimator, training_set_upsampled, training_set_upsampled_labels, cv=cv, n_jobs=1, train_sizes=train_sizes, shuffle=True)\n",
    "plot.learning_curve(train_scores, test_scores, train_sizes)\n",
    "plt.savefig('dataset2_nnLearningCurve.png')\n",
    "plt.clf()\n",
    "plt.show()"
   ]
  },
  {
   "cell_type": "code",
   "execution_count": 105,
   "metadata": {},
   "outputs": [
    {
     "name": "stdout",
     "output_type": "stream",
     "text": [
      "153.88814611867474 milleseconds\n",
      "0.5274885845665267 milleseconds\n"
     ]
    }
   ],
   "source": [
    "start_time = timeit.default_timer()\n",
    "estimator = MLPClassifier(alpha=0.001, hidden_layer_sizes=(300,), learning_rate_init= 0.001)\n",
    "estimator.fit(training_set_upsampled,training_set_upsampled_labels)\n",
    "end_time = timeit.default_timer()\n",
    "elapsed = end_time - start_time\n",
    "training_times.append(elapsed*1000)\n",
    "print(elapsed*1000, 'milleseconds')\n",
    "start_time = timeit.default_timer()\n",
    "estimator.predict(testing_set)\n",
    "end_time = timeit.default_timer()\n",
    "elapsed = end_time - start_time\n",
    "print(elapsed*1000, 'milleseconds')\n",
    "testing_times.append(elapsed*1000)"
   ]
  },
  {
   "cell_type": "code",
   "execution_count": 70,
   "metadata": {},
   "outputs": [
    {
     "name": "stdout",
     "output_type": "stream",
     "text": [
      "             precision    recall  f1-score   support\n",
      "\n",
      "    class 0       0.86      0.75      0.80        32\n",
      "    class 1       0.25      0.20      0.22        10\n",
      "    class 2       0.22      0.83      0.34         6\n",
      "    class 3       1.00      0.09      0.17        11\n",
      "    class 4       0.00      0.00      0.00         2\n",
      "\n",
      "avg / total       0.69      0.52      0.52        61\n",
      "\n"
     ]
    }
   ],
   "source": [
    "print(classification_report(testing_set_labels, predicted_testing_set_labels, target_names=target_names))\n",
    "metrics.append(precision_recall_fscore_support(testing_set_labels, predicted_testing_set_labels, average='weighted'))"
   ]
  },
  {
   "cell_type": "code",
   "execution_count": 112,
   "metadata": {
    "scrolled": true
   },
   "outputs": [
    {
     "name": "stdout",
     "output_type": "stream",
     "text": [
      "[(0.8768772211395162, 0.9016393442622951, 0.8870378255624156, None), (0.873055905842791, 0.8852459016393442, 0.870303356819173, None), (0.8405365126676603, 0.8524590163934426, 0.8462138953942233, None), (0.8774122052810578, 0.9016393442622951, 0.8876112958080171, None), (0.6923429386009571, 0.5245901639344263, 0.5200741159474906, None)]\n"
     ]
    },
    {
     "data": {
      "text/plain": [
       "<Figure size 432x288 with 0 Axes>"
      ]
     },
     "metadata": {},
     "output_type": "display_data"
    }
   ],
   "source": [
    "print(metrics)\n",
    "x=['Decision Tree', 'SVM', 'KNN', 'Boosting', 'Neural Net']\n",
    "plt.bar(x, [prec[0] for prec in metrics])\n",
    "plt.title('Precisions by Classifiers')\n",
    "plt.ylim(0.0, 1.1)\n",
    "plt.savefig('dataset2_precisions.png')\n",
    "plt.clf()\n",
    "\n",
    "plt.bar(x, [rec[1] for rec in metrics])\n",
    "plt.title('Recalls by Classifiers')\n",
    "plt.ylim(0.0, 1.1)\n",
    "plt.savefig('dataset2_recalls.png')\n",
    "plt.clf()\n",
    "\n",
    "plt.bar(x, [f[2] for f in metrics])\n",
    "plt.title('F1 Scores by Classifiers')\n",
    "plt.ylim(0.0, 1.1)\n",
    "plt.savefig('dataset2_F1.png')\n",
    "plt.clf()"
   ]
  },
  {
   "cell_type": "code",
   "execution_count": 114,
   "metadata": {},
   "outputs": [
    {
     "name": "stdout",
     "output_type": "stream",
     "text": [
      "[1.5804200913294153, 40.650812785372636, 1.202557077590427, 311.5563835616513, 153.88814611867474]\n",
      "[1.5804200913294153, 40.650812785372636, 1.202557077590427, 311.5563835616513, 153.88814611867474]\n"
     ]
    },
    {
     "data": {
      "text/plain": [
       "<Figure size 432x288 with 0 Axes>"
      ]
     },
     "metadata": {},
     "output_type": "display_data"
    }
   ],
   "source": [
    "print(training_times)\n",
    "x=['Decision Tree', 'SVM',  'KNN', 'Boosting', 'Neural Net']\n",
    "plt.bar(x, training_times)\n",
    "plt.title('Training Times by Classifiers')\n",
    "plt.ylabel('Milleseconds')\n",
    "plt.savefig('dataset2_training_times.png')\n",
    "plt.clf()\n",
    "\n",
    "print(training_times)\n",
    "x=['Decision Tree', 'SVM',  'KNN', 'Boosting', 'Neural Net']\n",
    "plt.bar(x, testing_times)\n",
    "plt.title('Running Times by Classifiers')\n",
    "plt.ylabel('Milleseconds')\n",
    "plt.savefig('dataset2_predicting_times.png')\n",
    "plt.clf()"
   ]
  },
  {
   "cell_type": "code",
   "execution_count": null,
   "metadata": {},
   "outputs": [],
   "source": []
  }
 ],
 "metadata": {
  "kernelspec": {
   "display_name": "Python 3",
   "language": "python",
   "name": "python3"
  },
  "language_info": {
   "codemirror_mode": {
    "name": "ipython",
    "version": 3
   },
   "file_extension": ".py",
   "mimetype": "text/x-python",
   "name": "python",
   "nbconvert_exporter": "python",
   "pygments_lexer": "ipython3",
   "version": "3.6.2"
  }
 },
 "nbformat": 4,
 "nbformat_minor": 2
}
