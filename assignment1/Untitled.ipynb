{
 "cells": [
  {
   "cell_type": "code",
   "execution_count": 1,
   "metadata": {},
   "outputs": [
    {
     "name": "stderr",
     "output_type": "stream",
     "text": [
      "C:\\Users\\Tommy\\.virtualenvs\\assignment1-oCS3Pq-H\\lib\\site-packages\\sklearn\\cross_validation.py:41: DeprecationWarning: This module was deprecated in version 0.18 in favor of the model_selection module into which all the refactored classes and functions are moved. Also note that the interface of the new CV iterators are different from that of this module. This module will be removed in 0.20.\n",
      "  \"This module will be removed in 0.20.\", DeprecationWarning)\n"
     ]
    }
   ],
   "source": [
    "import loadData\n",
    "import pandas\n",
    "import numpy\n",
    "from sklearn import tree\n",
    "import graphviz"
   ]
  },
  {
   "cell_type": "code",
   "execution_count": 3,
   "metadata": {},
   "outputs": [
    {
     "name": "stdout",
     "output_type": "stream",
     "text": [
      "Adult datasets:\n",
      "   age          workclass   fnlwgt   education   education-num  \\\n",
      "0   39          State-gov    77516   Bachelors              13   \n",
      "1   50   Self-emp-not-inc    83311   Bachelors              13   \n",
      "2   38            Private   215646     HS-grad               9   \n",
      "3   53            Private   234721        11th               7   \n",
      "4   28            Private   338409   Bachelors              13   \n",
      "\n",
      "        marital-status          occupation    relationship    race      sex  \\\n",
      "0        Never-married        Adm-clerical   Not-in-family   White     Male   \n",
      "1   Married-civ-spouse     Exec-managerial         Husband   White     Male   \n",
      "2             Divorced   Handlers-cleaners   Not-in-family   White     Male   \n",
      "3   Married-civ-spouse   Handlers-cleaners         Husband   Black     Male   \n",
      "4   Married-civ-spouse      Prof-specialty            Wife   Black   Female   \n",
      "\n",
      "    capital-gain   capital-loss   hours-per-week  native-country  \\\n",
      "0           2174              0               40   United-States   \n",
      "1              0              0               13   United-States   \n",
      "2              0              0               40   United-States   \n",
      "3              0              0               40   United-States   \n",
      "4              0              0               40            Cuba   \n",
      "\n",
      "   incomeCategory  \n",
      "0           <=50K  \n",
      "1           <=50K  \n",
      "2           <=50K  \n",
      "3           <=50K  \n",
      "4           <=50K  \n",
      "   age   workclass   fnlwgt      education   education-num  \\\n",
      "0   25     Private   226802           11th               7   \n",
      "1   38     Private    89814        HS-grad               9   \n",
      "2   28   Local-gov   336951     Assoc-acdm              12   \n",
      "3   44     Private   160323   Some-college              10   \n",
      "4   18           ?   103497   Some-college              10   \n",
      "\n",
      "        marital-status          occupation  relationship    race      sex  \\\n",
      "0        Never-married   Machine-op-inspct     Own-child   Black     Male   \n",
      "1   Married-civ-spouse     Farming-fishing       Husband   White     Male   \n",
      "2   Married-civ-spouse     Protective-serv       Husband   White     Male   \n",
      "3   Married-civ-spouse   Machine-op-inspct       Husband   Black     Male   \n",
      "4        Never-married                   ?     Own-child   White   Female   \n",
      "\n",
      "    capital-gain   capital-loss   hours-per-week  native-country  \\\n",
      "0              0              0               40   United-States   \n",
      "1              0              0               50   United-States   \n",
      "2              0              0               40   United-States   \n",
      "3           7688              0               40   United-States   \n",
      "4              0              0               30   United-States   \n",
      "\n",
      "   incomeCategory  \n",
      "0          <=50K.  \n",
      "1          <=50K.  \n",
      "2           >50K.  \n",
      "3           >50K.  \n",
      "4          <=50K.  \n"
     ]
    }
   ],
   "source": [
    "adult_training_set, adult_testing_set = loadData.loadDataWithTestSet('adult.data', 'adult.test')\n",
    "hd_training_set, hd_testing_set = loadData.loadDataWithoutTestSet('processed.cleveland.data', True)\n",
    "print('Adult datasets:')\n",
    "print(adult_training_set.head())\n",
    "print(adult_testing_set.head())\n",
    "#print('Heart disease dataset:')\n",
    "#print(hd_training_set.head())\n",
    "#print(hd_testing_set.head())"
   ]
  },
  {
   "cell_type": "code",
   "execution_count": 5,
   "metadata": {},
   "outputs": [
    {
     "name": "stdout",
     "output_type": "stream",
     "text": [
      "Adult datasets labels:\n",
      "   age          workclass   fnlwgt   education   education-num  \\\n",
      "0   39          State-gov    77516   Bachelors              13   \n",
      "1   50   Self-emp-not-inc    83311   Bachelors              13   \n",
      "2   38            Private   215646     HS-grad               9   \n",
      "3   53            Private   234721        11th               7   \n",
      "4   28            Private   338409   Bachelors              13   \n",
      "\n",
      "        marital-status          occupation    relationship    race      sex  \\\n",
      "0        Never-married        Adm-clerical   Not-in-family   White     Male   \n",
      "1   Married-civ-spouse     Exec-managerial         Husband   White     Male   \n",
      "2             Divorced   Handlers-cleaners   Not-in-family   White     Male   \n",
      "3   Married-civ-spouse   Handlers-cleaners         Husband   Black     Male   \n",
      "4   Married-civ-spouse      Prof-specialty            Wife   Black   Female   \n",
      "\n",
      "    capital-gain   capital-loss   hours-per-week  \n",
      "0           2174              0               40  \n",
      "1              0              0               13  \n",
      "2              0              0               40  \n",
      "3              0              0               40  \n",
      "4              0              0               40  \n",
      "0     United-States\n",
      "1     United-States\n",
      "2     United-States\n",
      "3     United-States\n",
      "4              Cuba\n",
      "Name:  native-country, dtype: object\n",
      "0     <=50K.\n",
      "1     <=50K.\n",
      "2      >50K.\n",
      "3      >50K.\n",
      "4     <=50K.\n",
      "Name:  incomeCategory, dtype: object\n"
     ]
    }
   ],
   "source": [
    "# preprocess data\n",
    "adult_training_set_labels = adult_training_set.iloc[:,-1]\n",
    "adult_training_set = adult_training_set.iloc[:,0:-1]\n",
    "adult_training_set_labels[adult_training_set_labels.str.contains('>50K',na=False)] = 1\n",
    "adult_training_set_labels[adult_training_set_labels.str.contains('<=50K',na=False)] = 0\n",
    "adult_testing_set_labels = adult_testing_set.iloc[:,-1]\n",
    "print('Adult datasets labels:')\n",
    "print(adult_training_set.head())\n",
    "print(adult_training_set_labels.head())\n",
    "print(adult_testing_set_labels.head())"
   ]
  },
  {
   "cell_type": "code",
   "execution_count": null,
   "metadata": {},
   "outputs": [],
   "source": [
    "# decision tree\n",
    "dtc = tree.DecisionTreeClassifier()\n",
    "dtc = dtc.fit(adult_training_set, adult_training_set_labels)\n",
    "dot_data = tree.export_graphviz(dtc, out_file=None)\n",
    "graph = graphviz.Source(dot_data)\n",
    "graph.render('adult')"
   ]
  }
 ],
 "metadata": {
  "kernelspec": {
   "display_name": "assignment1",
   "language": "python",
   "name": "assignment1"
  },
  "language_info": {
   "codemirror_mode": {
    "name": "ipython",
    "version": 3
   },
   "file_extension": ".py",
   "mimetype": "text/x-python",
   "name": "python",
   "nbconvert_exporter": "python",
   "pygments_lexer": "ipython3",
   "version": "3.6.2"
  }
 },
 "nbformat": 4,
 "nbformat_minor": 2
}
