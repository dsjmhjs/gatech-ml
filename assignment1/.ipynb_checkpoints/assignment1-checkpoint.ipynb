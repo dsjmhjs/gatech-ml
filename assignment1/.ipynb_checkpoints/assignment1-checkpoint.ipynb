{
 "cells": [
  {
   "cell_type": "code",
   "execution_count": 61,
   "metadata": {},
   "outputs": [],
   "source": [
    "import loadData\n",
    "import pandas as pd\n",
    "import numpy as np\n",
    "from sklearn import tree\n",
    "import graphviz\n",
    "from sklearn.preprocessing import LabelEncoder\n",
    "from sklearn.preprocessing import OneHotEncoder\n",
    "from sklearn.metrics import accuracy_score"
   ]
  },
  {
   "cell_type": "code",
   "execution_count": 62,
   "metadata": {},
   "outputs": [],
   "source": [
    "adult_training_set, adult_testing_set = loadData.loadDataWithTestSet('adult.data', 'adult.test')\n",
    "#hd_training_set, hd_testing_set = loadData.loadDataWithoutTestSet('processed.cleveland.data', True)"
   ]
  },
  {
   "cell_type": "code",
   "execution_count": 63,
   "metadata": {},
   "outputs": [
    {
     "name": "stdout",
     "output_type": "stream",
     "text": [
      "Index(['native-country_Holand-Netherlands'], dtype='object')\n",
      "   age  fnlwgt  education-num  capital-gain  capital-loss  hours-per-week  \\\n",
      "0   25  226802              7             0             0              40   \n",
      "1   38   89814              9             0             0              50   \n",
      "2   28  336951             12             0             0              40   \n",
      "3   44  160323             10          7688             0              40   \n",
      "4   18  103497             10             0             0              30   \n",
      "\n",
      "   workclass_?  workclass_Federal-gov  workclass_Local-gov  \\\n",
      "0            0                      0                    0   \n",
      "1            0                      0                    0   \n",
      "2            0                      0                    1   \n",
      "3            0                      0                    0   \n",
      "4            1                      0                    0   \n",
      "\n",
      "   workclass_Never-worked                ...                  \\\n",
      "0                       0                ...                   \n",
      "1                       0                ...                   \n",
      "2                       0                ...                   \n",
      "3                       0                ...                   \n",
      "4                       0                ...                   \n",
      "\n",
      "   native-country_Puerto-Rico  native-country_Scotland  native-country_South  \\\n",
      "0                           0                        0                     0   \n",
      "1                           0                        0                     0   \n",
      "2                           0                        0                     0   \n",
      "3                           0                        0                     0   \n",
      "4                           0                        0                     0   \n",
      "\n",
      "   native-country_Taiwan  native-country_Thailand  \\\n",
      "0                      0                        0   \n",
      "1                      0                        0   \n",
      "2                      0                        0   \n",
      "3                      0                        0   \n",
      "4                      0                        0   \n",
      "\n",
      "   native-country_Trinadad&Tobago  native-country_United-States  \\\n",
      "0                               0                             1   \n",
      "1                               0                             1   \n",
      "2                               0                             1   \n",
      "3                               0                             1   \n",
      "4                               0                             1   \n",
      "\n",
      "   native-country_Vietnam  native-country_Yugoslavia  \\\n",
      "0                       0                          0   \n",
      "1                       0                          0   \n",
      "2                       0                          0   \n",
      "3                       0                          0   \n",
      "4                       0                          0   \n",
      "\n",
      "   native-country_Holand-Netherlands  \n",
      "0                                0.0  \n",
      "1                                0.0  \n",
      "2                                0.0  \n",
      "3                                0.0  \n",
      "4                                0.0  \n",
      "\n",
      "[5 rows x 108 columns]\n"
     ]
    }
   ],
   "source": [
    "# preprocess data\n",
    "# training set\n",
    "adult_training_set_labels = adult_training_set.iloc[:,-1]\n",
    "adult_training_set = adult_training_set.iloc[:,0:-1]\n",
    "adult_training_set_labels[adult_training_set_labels.str.contains('>50K',na=False)] = 1\n",
    "adult_training_set_labels[adult_training_set_labels.str.contains('<=50K',na=False)] = 0\n",
    "adult_training_set_labels = adult_training_set_labels.astype('int')\n",
    "# testing set\n",
    "adult_testing_set_labels = adult_testing_set.iloc[:,-1]\n",
    "adult_testing_set = adult_testing_set.iloc[:,0:-1]\n",
    "adult_testing_set_labels[adult_testing_set_labels.str.contains('>50K',na=False)] = 1\n",
    "adult_testing_set_labels[adult_testing_set_labels.str.contains('<=50K',na=False)] = 0\n",
    "adult_testing_set_labels = adult_testing_set_labels.astype('int')\n",
    "\n",
    "processed_adult_training_set = pd.get_dummies(adult_training_set, columns=['workclass','education','marital-status','occupation','relationship',\n",
    "                                           'race','sex','native-country'])\n",
    "processed_adult_testing_set = pd.get_dummies(adult_testing_set, columns=['workclass','education','marital-status','occupation','relationship',\n",
    "                                           'race','sex','native-country'])\n",
    "print(processed_adult_training_set.columns[~processed_adult_training_set.columns.isin(processed_adult_testing_set.columns)])\n",
    "missing_column = np.zeros(16281)\n",
    "missing_column = pd.DataFrame(missing_column, columns=['native-country_Holand-Netherlands'])\n",
    "processed_adult_testing_set = pd.concat([processed_adult_testing_set,missing_column], axis=1)"
   ]
  },
  {
   "cell_type": "code",
   "execution_count": 67,
   "metadata": {},
   "outputs": [
    {
     "name": "stdout",
     "output_type": "stream",
     "text": [
      "[0.9999692884125181, 0.9318202757900556, 0.9104450109026135, 0.8995116857590368, 0.8925094438131507, 0.8882712447406407, 0.8847701237676976, 0.8825896010564787, 0.880900463744971, 0.879457019133319, 0.8778907281717392, 0.8760480329228217, 0.874512453548724, 0.8736218175117472, 0.8729154509996622, 0.8719633917877215, 0.8719019686127576, 0.8695985995516108, 0.8692914836767912, 0.8690457909769356]\n",
      "[0.7977396965788343, 0.8213254714083902, 0.8299244518149991, 0.8317670904735581, 0.8325041459369817, 0.8436828204655734, 0.846446778453412, 0.8491493151526319, 0.8512990602542841, 0.852158958294945, 0.8510533750998096, 0.8515447454087587, 0.8526503286038941, 0.8530802776242246, 0.8540630182421227, 0.8540630182421227, 0.8541244395307414, 0.8525889073152755, 0.8536330692217923, 0.8536944905104109]\n"
     ]
    }
   ],
   "source": [
    "# decision tree\n",
    "dtc = tree.DecisionTreeClassifier()\n",
    "dtc = dtc.fit(processed_adult_training_set, adult_training_set_labels)\n",
    "from sklearn.tree._tree import TREE_LEAF\n",
    "\n",
    "def prune_index(inner_tree, index, threshold):\n",
    "    if inner_tree.value[index].min() < threshold:\n",
    "        # turn node into a leaf by \"unlinking\" its children\n",
    "        inner_tree.children_left[index] = TREE_LEAF\n",
    "        inner_tree.children_right[index] = TREE_LEAF\n",
    "    # if there are shildren, visit them as well\n",
    "    if inner_tree.children_left[index] != TREE_LEAF:\n",
    "        prune_index(inner_tree, inner_tree.children_left[index], threshold)\n",
    "        prune_index(inner_tree, inner_tree.children_right[index], threshold)\n",
    "\n",
    "training_set_acc = []\n",
    "testing_set_acc = []\n",
    "for x in range(0, 100, 5):\n",
    "    prune_index(dtc.tree_, 0, x)\n",
    "    predicted_training_set_labels = dtc.predict(processed_adult_training_set)\n",
    "    predicted_training_set_labels = pd.DataFrame(predicted_training_set_labels) \n",
    "    training_set_acc.append(accuracy_score(adult_training_set_labels, predicted_training_set_labels))\n",
    "    \n",
    "    predicted_testing_set_labels = dtc.predict(processed_adult_testing_set)\n",
    "    predicted_testing_set_labels = pd.DataFrame(predicted_testing_set_labels)\n",
    "    testing_set_acc.append(accuracy_score(adult_testing_set_labels, predicted_testing_set_labels))\n",
    "print(training_set_acc)\n",
    "print(testing_set_acc)\n"
   ]
  },
  {
   "cell_type": "code",
   "execution_count": 68,
   "metadata": {},
   "outputs": [
    {
     "data": {
      "text/plain": [
       "0"
      ]
     },
     "execution_count": 68,
     "metadata": {},
     "output_type": "execute_result"
    }
   ],
   "source": [
    "# graph decision tree as png\n",
    "dot_data = tree.export_graphviz(dtc, out_file='tree1.dot', feature_names=processed_adult_training_set.columns, \n",
    "                                filled=True, rounded=True)  \n",
    "graph = graphviz.Source(dot_data)\n",
    "from subprocess import check_call\n",
    "check_call(['dot','-Tpng','tree1.dot','-o','tree1.png'])"
   ]
  },
  {
   "cell_type": "code",
   "execution_count": null,
   "metadata": {},
   "outputs": [],
   "source": []
  }
 ],
 "metadata": {
  "kernelspec": {
   "display_name": "assignment1",
   "language": "python",
   "name": "assignment1"
  },
  "language_info": {
   "codemirror_mode": {
    "name": "ipython",
    "version": 3
   },
   "file_extension": ".py",
   "mimetype": "text/x-python",
   "name": "python",
   "nbconvert_exporter": "python",
   "pygments_lexer": "ipython3",
   "version": "3.6.2"
  }
 },
 "nbformat": 4,
 "nbformat_minor": 2
}
