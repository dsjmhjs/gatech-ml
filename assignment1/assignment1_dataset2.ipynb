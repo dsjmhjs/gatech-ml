{
 "cells": [
  {
   "cell_type": "code",
   "execution_count": 1,
   "metadata": {},
   "outputs": [
    {
     "name": "stderr",
     "output_type": "stream",
     "text": [
      "/Users/tomhuang/.local/share/virtualenvs/assignment1-2RDWss_u/lib/python3.6/site-packages/sklearn/cross_validation.py:41: DeprecationWarning: This module was deprecated in version 0.18 in favor of the model_selection module into which all the refactored classes and functions are moved. Also note that the interface of the new CV iterators are different from that of this module. This module will be removed in 0.20.\n",
      "  \"This module will be removed in 0.20.\", DeprecationWarning)\n",
      "/Users/tomhuang/.local/share/virtualenvs/assignment1-2RDWss_u/lib/python3.6/site-packages/sklearn/ensemble/weight_boosting.py:29: DeprecationWarning: numpy.core.umath_tests is an internal NumPy module and should not be imported. It will be removed in a future NumPy release.\n",
      "  from numpy.core.umath_tests import inner1d\n"
     ]
    }
   ],
   "source": [
    "%matplotlib inline\n",
    "import matplotlib.pyplot as plt\n",
    "from sklearn_evaluation import plot\n",
    "import loadData\n",
    "import pandas as pd\n",
    "import numpy as np\n",
    "from sklearn import tree\n",
    "import graphviz\n",
    "from sklearn.preprocessing import LabelEncoder\n",
    "from sklearn.preprocessing import OneHotEncoder\n",
    "from sklearn.metrics import accuracy_score\n",
    "from sklearn.neural_network import MLPClassifier\n",
    "from sklearn.tree._tree import TREE_LEAF\n",
    "from sklearn.model_selection import GridSearchCV\n",
    "from sklearn.ensemble import GradientBoostingClassifier\n",
    "from sklearn.neighbors import KNeighborsClassifier\n",
    "from sklearn import svm\n",
    "from sklearn.model_selection import StratifiedShuffleSplit\n",
    "from mlxtend.plotting import plot_decision_regions\n",
    "from sklearn.metrics import classification_report\n",
    "from sklearn.utils import resample\n",
    "from sklearn.metrics import precision_recall_fscore_support"
   ]
  },
  {
   "cell_type": "code",
   "execution_count": 2,
   "metadata": {},
   "outputs": [
    {
     "name": "stdout",
     "output_type": "stream",
     "text": [
      "(242, 13)\n",
      "(61, 13)\n"
     ]
    }
   ],
   "source": [
    "# load data\n",
    "training_set, testing_set = loadData.loadDataWithoutTestSet('processed.cleveland.data', split_to_test=True)\n",
    "# get features and labels\n",
    "training_set_labels = training_set.iloc[:,-1]\n",
    "training_set = training_set.iloc[:,0:-1]\n",
    "\n",
    "training_set_labels.reset_index(drop=True, inplace=True)\n",
    "training_set.reset_index(drop=True, inplace=True)\n",
    "\n",
    "testing_set_labels = testing_set.iloc[:,-1]\n",
    "testing_set = testing_set.iloc[:,0:-1]\n",
    "\n",
    "testing_set_labels.reset_index(drop=True, inplace=True)\n",
    "testing_set.reset_index(drop=True, inplace=True)\n",
    "\n",
    "print(training_set.shape)\n",
    "print(testing_set.shape)\n",
    "\n",
    "training_set.replace('?',0, inplace=True)\n",
    "testing_set.replace('?',0, inplace=True)\n",
    "\n",
    "training_set[['ca','thal']] = training_set[['ca','thal']].apply(pd.to_numeric)\n",
    "testing_set[['ca','thal']] = testing_set[['ca','thal']].apply(pd.to_numeric)"
   ]
  },
  {
   "cell_type": "code",
   "execution_count": 3,
   "metadata": {},
   "outputs": [
    {
     "data": {
      "image/png": "[encoded data removed]",
      "text/plain": [
       "<Figure size 432x288 with 1 Axes>"
      ]
     },
     "metadata": {
      "needs_background": "light"
     },
     "output_type": "display_data"
    },
    {
     "data": {
      "image/png": "[encoded data removed]",
      "text/plain": [
       "<Figure size 432x288 with 1 Axes>"
      ]
     },
     "metadata": {
      "needs_background": "light"
     },
     "output_type": "display_data"
    }
   ],
   "source": [
    "plt.bar(['0','1', '2', '3', '4'],[len(training_set_labels[training_set_labels==0]), \n",
    "         len(training_set_labels[training_set_labels==1]), \n",
    "             len(training_set_labels[training_set_labels==2]),\n",
    "                len(training_set_labels[training_set_labels==3]),\n",
    "                   len(training_set_labels[training_set_labels==4])])\n",
    "plt.title('Training Set Label Distribution')\n",
    "plt.savefig('dataset2_training_set_label_dist.png')\n",
    "plt.show()\n",
    "                 \n",
    "plt.bar(['0','1', '2', '3', '4'],[len(testing_set_labels[testing_set_labels==0]), \n",
    "         len(testing_set_labels[testing_set_labels==1]), \n",
    "             len(testing_set_labels[testing_set_labels==2]),\n",
    "                len(testing_set_labels[testing_set_labels==3]),\n",
    "                   len(testing_set_labels[testing_set_labels==4])])\n",
    "plt.title('Testing Set Label Distribution')\n",
    "plt.savefig('dataset2_testing_set_label_dist.png')\n",
    "plt.show()"
   ]
  },
  {
   "cell_type": "code",
   "execution_count": 4,
   "metadata": {},
   "outputs": [
    {
     "name": "stdout",
     "output_type": "stream",
     "text": [
      "1.0\n",
      "0.45901639344262296\n"
     ]
    }
   ],
   "source": [
    "# decision tree\n",
    "dtc = tree.DecisionTreeClassifier()\n",
    "dtc = dtc.fit(training_set, training_set_labels)\n",
    "\n",
    "predicted_training_set_labels = dtc.predict(training_set)\n",
    "predicted_training_set_labels = pd.DataFrame(predicted_training_set_labels) \n",
    "training_set_acc=accuracy_score(training_set_labels, predicted_training_set_labels)\n",
    "\n",
    "predicted_testing_set_labels = dtc.predict(testing_set)\n",
    "predicted_testing_set_labels = pd.DataFrame(predicted_testing_set_labels)\n",
    "testing_set_acc=accuracy_score(testing_set_labels, predicted_testing_set_labels)\n",
    "\n",
    "print(training_set_acc)\n",
    "print(testing_set_acc)"
   ]
  },
  {
   "cell_type": "code",
   "execution_count": 5,
   "metadata": {},
   "outputs": [
    {
     "name": "stdout",
     "output_type": "stream",
     "text": [
      "Best: 0.578512 using {'criterion': 'entropy', 'min_samples_leaf': 5, 'min_samples_split': 2, 'splitter': 'random'}\n",
      "0.578512 (0.038098) with: {'criterion': 'entropy', 'min_samples_leaf': 5, 'min_samples_split': 2, 'splitter': 'random'}\n",
      "0.570248 (0.021384) with: {'criterion': 'gini', 'min_samples_leaf': 4, 'min_samples_split': 3, 'splitter': 'random'}\n",
      "0.566116 (0.020551) with: {'criterion': 'gini', 'min_samples_leaf': 5, 'min_samples_split': 4, 'splitter': 'random'}\n",
      "0.566116 (0.040968) with: {'criterion': 'entropy', 'min_samples_leaf': 4, 'min_samples_split': 4, 'splitter': 'random'}\n",
      "0.561983 (0.017221) with: {'criterion': 'gini', 'min_samples_leaf': 1, 'min_samples_split': 4, 'splitter': 'random'}\n",
      "0.557851 (0.031176) with: {'criterion': 'entropy', 'min_samples_leaf': 5, 'min_samples_split': 4, 'splitter': 'random'}\n",
      "0.549587 (0.026113) with: {'criterion': 'gini', 'min_samples_leaf': 2, 'min_samples_split': 4, 'splitter': 'random'}\n",
      "0.545455 (0.025521) with: {'criterion': 'entropy', 'min_samples_leaf': 3, 'min_samples_split': 2, 'splitter': 'random'}\n",
      "0.545455 (0.025521) with: {'criterion': 'entropy', 'min_samples_leaf': 3, 'min_samples_split': 3, 'splitter': 'random'}\n",
      "0.541322 (0.030956) with: {'criterion': 'gini', 'min_samples_leaf': 1, 'min_samples_split': 2, 'splitter': 'random'}\n",
      "0.537190 (0.026255) with: {'criterion': 'gini', 'min_samples_leaf': 2, 'min_samples_split': 3, 'splitter': 'random'}\n",
      "0.537190 (0.036786) with: {'criterion': 'gini', 'min_samples_leaf': 4, 'min_samples_split': 4, 'splitter': 'random'}\n",
      "0.533058 (0.035183) with: {'criterion': 'gini', 'min_samples_leaf': 3, 'min_samples_split': 3, 'splitter': 'random'}\n",
      "0.533058 (0.031117) with: {'criterion': 'entropy', 'min_samples_leaf': 2, 'min_samples_split': 2, 'splitter': 'random'}\n",
      "0.528926 (0.046683) with: {'criterion': 'gini', 'min_samples_leaf': 1, 'min_samples_split': 3, 'splitter': 'random'}\n",
      "0.528926 (0.005484) with: {'criterion': 'gini', 'min_samples_leaf': 3, 'min_samples_split': 4, 'splitter': 'random'}\n",
      "0.528926 (0.021055) with: {'criterion': 'gini', 'min_samples_leaf': 5, 'min_samples_split': 2, 'splitter': 'random'}\n",
      "0.528926 (0.032760) with: {'criterion': 'gini', 'min_samples_leaf': 5, 'min_samples_split': 3, 'splitter': 'random'}\n",
      "0.524793 (0.036648) with: {'criterion': 'entropy', 'min_samples_leaf': 2, 'min_samples_split': 4, 'splitter': 'random'}\n",
      "0.524793 (0.017714) with: {'criterion': 'entropy', 'min_samples_leaf': 4, 'min_samples_split': 2, 'splitter': 'best'}\n",
      "0.520661 (0.041984) with: {'criterion': 'gini', 'min_samples_leaf': 2, 'min_samples_split': 2, 'splitter': 'random'}\n",
      "0.520661 (0.059320) with: {'criterion': 'gini', 'min_samples_leaf': 4, 'min_samples_split': 2, 'splitter': 'random'}\n",
      "0.520661 (0.046970) with: {'criterion': 'entropy', 'min_samples_leaf': 1, 'min_samples_split': 4, 'splitter': 'random'}\n",
      "0.520661 (0.006061) with: {'criterion': 'entropy', 'min_samples_leaf': 4, 'min_samples_split': 4, 'splitter': 'best'}\n",
      "0.516529 (0.005954) with: {'criterion': 'entropy', 'min_samples_leaf': 1, 'min_samples_split': 2, 'splitter': 'random'}\n",
      "0.516529 (0.023521) with: {'criterion': 'entropy', 'min_samples_leaf': 1, 'min_samples_split': 3, 'splitter': 'random'}\n",
      "0.512397 (0.040532) with: {'criterion': 'entropy', 'min_samples_leaf': 2, 'min_samples_split': 3, 'splitter': 'random'}\n",
      "0.512397 (0.020328) with: {'criterion': 'entropy', 'min_samples_leaf': 4, 'min_samples_split': 3, 'splitter': 'best'}\n",
      "0.512397 (0.030181) with: {'criterion': 'entropy', 'min_samples_leaf': 4, 'min_samples_split': 3, 'splitter': 'random'}\n",
      "0.508264 (0.025565) with: {'criterion': 'gini', 'min_samples_leaf': 3, 'min_samples_split': 2, 'splitter': 'random'}\n",
      "0.508264 (0.040946) with: {'criterion': 'entropy', 'min_samples_leaf': 5, 'min_samples_split': 3, 'splitter': 'random'}\n",
      "0.500000 (0.026680) with: {'criterion': 'entropy', 'min_samples_leaf': 3, 'min_samples_split': 4, 'splitter': 'random'}\n",
      "0.495868 (0.030871) with: {'criterion': 'gini', 'min_samples_leaf': 5, 'min_samples_split': 4, 'splitter': 'best'}\n",
      "0.491736 (0.032507) with: {'criterion': 'gini', 'min_samples_leaf': 5, 'min_samples_split': 2, 'splitter': 'best'}\n",
      "0.491736 (0.005809) with: {'criterion': 'entropy', 'min_samples_leaf': 2, 'min_samples_split': 3, 'splitter': 'best'}\n",
      "0.491736 (0.021142) with: {'criterion': 'entropy', 'min_samples_leaf': 5, 'min_samples_split': 2, 'splitter': 'best'}\n",
      "0.491736 (0.021142) with: {'criterion': 'entropy', 'min_samples_leaf': 5, 'min_samples_split': 3, 'splitter': 'best'}\n",
      "0.491736 (0.021142) with: {'criterion': 'entropy', 'min_samples_leaf': 5, 'min_samples_split': 4, 'splitter': 'best'}\n",
      "0.487603 (0.043803) with: {'criterion': 'entropy', 'min_samples_leaf': 4, 'min_samples_split': 2, 'splitter': 'random'}\n",
      "0.483471 (0.038362) with: {'criterion': 'gini', 'min_samples_leaf': 5, 'min_samples_split': 3, 'splitter': 'best'}\n",
      "0.483471 (0.047846) with: {'criterion': 'entropy', 'min_samples_leaf': 3, 'min_samples_split': 3, 'splitter': 'best'}\n",
      "0.483471 (0.055819) with: {'criterion': 'entropy', 'min_samples_leaf': 3, 'min_samples_split': 4, 'splitter': 'best'}\n",
      "0.479339 (0.015640) with: {'criterion': 'gini', 'min_samples_leaf': 1, 'min_samples_split': 4, 'splitter': 'best'}\n",
      "0.479339 (0.015478) with: {'criterion': 'entropy', 'min_samples_leaf': 1, 'min_samples_split': 2, 'splitter': 'best'}\n",
      "0.479339 (0.032650) with: {'criterion': 'entropy', 'min_samples_leaf': 3, 'min_samples_split': 2, 'splitter': 'best'}\n",
      "0.475207 (0.020330) with: {'criterion': 'entropy', 'min_samples_leaf': 2, 'min_samples_split': 2, 'splitter': 'best'}\n",
      "0.475207 (0.020330) with: {'criterion': 'entropy', 'min_samples_leaf': 2, 'min_samples_split': 4, 'splitter': 'best'}\n",
      "0.471074 (0.023594) with: {'criterion': 'gini', 'min_samples_leaf': 4, 'min_samples_split': 2, 'splitter': 'best'}\n",
      "0.471074 (0.021322) with: {'criterion': 'gini', 'min_samples_leaf': 4, 'min_samples_split': 3, 'splitter': 'best'}\n",
      "0.471074 (0.011977) with: {'criterion': 'entropy', 'min_samples_leaf': 1, 'min_samples_split': 4, 'splitter': 'best'}\n",
      "0.466942 (0.021343) with: {'criterion': 'gini', 'min_samples_leaf': 4, 'min_samples_split': 4, 'splitter': 'best'}\n",
      "0.462810 (0.027081) with: {'criterion': 'gini', 'min_samples_leaf': 2, 'min_samples_split': 3, 'splitter': 'best'}\n",
      "0.462810 (0.027105) with: {'criterion': 'entropy', 'min_samples_leaf': 1, 'min_samples_split': 3, 'splitter': 'best'}\n",
      "0.454545 (0.041286) with: {'criterion': 'gini', 'min_samples_leaf': 3, 'min_samples_split': 3, 'splitter': 'best'}\n",
      "0.450413 (0.018038) with: {'criterion': 'gini', 'min_samples_leaf': 2, 'min_samples_split': 2, 'splitter': 'best'}\n",
      "0.450413 (0.036925) with: {'criterion': 'gini', 'min_samples_leaf': 2, 'min_samples_split': 4, 'splitter': 'best'}\n",
      "0.446281 (0.059757) with: {'criterion': 'gini', 'min_samples_leaf': 3, 'min_samples_split': 4, 'splitter': 'best'}\n",
      "0.442149 (0.056216) with: {'criterion': 'gini', 'min_samples_leaf': 3, 'min_samples_split': 2, 'splitter': 'best'}\n",
      "0.438017 (0.035643) with: {'criterion': 'gini', 'min_samples_leaf': 1, 'min_samples_split': 2, 'splitter': 'best'}\n",
      "0.433884 (0.016041) with: {'criterion': 'gini', 'min_samples_leaf': 1, 'min_samples_split': 3, 'splitter': 'best'}\n",
      "0.6859504132231405\n",
      "0.5245901639344263\n"
     ]
    }
   ],
   "source": [
    "criterion = ['gini', 'entropy']\n",
    "splitter  = ['best','random']\n",
    "min_samples_split = [2, 3, 4]\n",
    "min_samples_leaf = [1, 2, 3, 4, 5]\n",
    "param_grid = dict(criterion = criterion, splitter = splitter, min_samples_split=min_samples_split, min_samples_leaf=min_samples_leaf)\n",
    "grid_dtc = GridSearchCV(estimator=dtc, param_grid=param_grid)\n",
    "grid_result_dtc = grid_dtc.fit(training_set, training_set_labels)\n",
    "\n",
    "\n",
    "print(\"Best: %f using %s\" % (grid_result_dtc.best_score_, grid_result_dtc.best_params_))\n",
    "means = grid_result_dtc.cv_results_['mean_test_score']\n",
    "stds = grid_result_dtc.cv_results_['std_test_score']\n",
    "params = grid_result_dtc.cv_results_['params']\n",
    "results = zip(means, stds, params)\n",
    "for mean, stdev, param in sorted(results, key=lambda x: x[0], reverse=True):\n",
    "    print(\"%f (%f) with: %r\" % (mean, stdev, param))\n",
    "    \n",
    "\n",
    "predicted_training_set_labels = grid_dtc.predict(training_set)\n",
    "predicted_training_set_labels = pd.DataFrame(predicted_training_set_labels) \n",
    "training_set_acc=accuracy_score(training_set_labels, predicted_training_set_labels)\n",
    "\n",
    "predicted_testing_set_labels = grid_dtc.predict(testing_set)\n",
    "predicted_testing_set_labels = pd.DataFrame(predicted_testing_set_labels)\n",
    "testing_set_acc=accuracy_score(testing_set_labels, predicted_testing_set_labels)\n",
    "\n",
    "print(training_set_acc)\n",
    "print(testing_set_acc)"
   ]
  },
  {
   "cell_type": "code",
   "execution_count": 6,
   "metadata": {},
   "outputs": [
    {
     "name": "stdout",
     "output_type": "stream",
     "text": [
      "             precision    recall  f1-score   support\n",
      "\n",
      "    class 0       0.72      0.88      0.79        32\n",
      "    class 1       0.18      0.17      0.17        12\n",
      "    class 2       0.00      0.00      0.00         6\n",
      "    class 3       0.29      0.25      0.27         8\n",
      "    class 4       0.00      0.00      0.00         3\n",
      "\n",
      "avg / total       0.45      0.52      0.48        61\n",
      "\n"
     ]
    },
    {
     "name": "stderr",
     "output_type": "stream",
     "text": [
      "/Users/tomhuang/.local/share/virtualenvs/assignment1-2RDWss_u/lib/python3.6/site-packages/sklearn/metrics/classification.py:1135: UndefinedMetricWarning: Precision and F-score are ill-defined and being set to 0.0 in labels with no predicted samples.\n",
      "  'precision', 'predicted', average, warn_for)\n"
     ]
    }
   ],
   "source": [
    "target_names=['class 0', 'class 1', 'class 2', 'class 3', 'class 4']\n",
    "print(classification_report(testing_set_labels, predicted_testing_set_labels, target_names=target_names))"
   ]
  },
  {
   "cell_type": "code",
   "execution_count": 7,
   "metadata": {},
   "outputs": [],
   "source": [
    "# ax = plot.grid_search(grid_dtc.grid_scores_, change=('min_samples_leaf', 'min_samples_split'), \n",
    "#                       subset={'criterion': 'entropy', 'splitter': 'random'})\n",
    "# fig = ax.get_figure()\n",
    "# fig.set_size_inches(18.5, 10.5)\n",
    "# fig.savefig('dataset2_dtc1.png')\n",
    "# fig.clf()\n",
    "# ax = plot.grid_search(grid_dtc.grid_scores_, change=('min_samples_leaf', 'min_samples_split'), \n",
    "#                       subset={'criterion': 'gini', 'splitter': 'random'})\n",
    "# fig = ax.get_figure()\n",
    "# fig.savefig('dataset2_dtc2.png')\n",
    "# fig.clf()\n",
    "# ax = plot.grid_search(grid_dtc.grid_scores_, change=('min_samples_leaf', 'min_samples_split'), \n",
    "#                       subset={'criterion': 'entropy', 'splitter': 'best'})\n",
    "# fig = ax.get_figure()\n",
    "# fig.savefig('dataset2_dtc3.png')\n",
    "# fig.clf()\n",
    "# ax = plot.grid_search(grid_dtc.grid_scores_, change=('min_samples_leaf', 'min_samples_split'), \n",
    "#                       subset={'criterion': 'gini', 'splitter': 'best'})\n",
    "# fig = ax.get_figure()\n",
    "# fig.savefig('dataset2_dtc4.png')\n",
    "# fig.clf()"
   ]
  },
  {
   "cell_type": "code",
   "execution_count": 8,
   "metadata": {},
   "outputs": [],
   "source": [
    "# dtc = tree.DecisionTreeClassifier(criterion= 'entropy', min_samples_leaf= 1, min_samples_split= 2, splitter= 'random')\n",
    "# dtc.fit(training_set, training_set_labels)\n",
    "# dot_data = tree.export_graphviz(dtc, out_file='dataset2_tree.dot', feature_names=training_set.columns, \n",
    "#                                 filled=True, rounded=True)  \n",
    "# graph = graphviz.Source(dot_data)\n",
    "# from subprocess import check_call\n",
    "# #check_call(['dot','-Tpng','dataset2_tree.dot','-o','dataset2_tree.png'])"
   ]
  },
  {
   "cell_type": "code",
   "execution_count": 9,
   "metadata": {},
   "outputs": [
    {
     "name": "stdout",
     "output_type": "stream",
     "text": [
      "0.5165289256198347\n",
      "0.5409836065573771\n"
     ]
    }
   ],
   "source": [
    "# neural networks\n",
    "nn = MLPClassifier()\n",
    "nn.fit(training_set, training_set_labels)\n",
    "\n",
    "predicted_training_set_labels = nn.predict(training_set)\n",
    "predicted_training_set_labels = pd.DataFrame(predicted_training_set_labels) \n",
    "training_set_acc=accuracy_score(training_set_labels, predicted_training_set_labels)\n",
    "\n",
    "predicted_testing_set_labels = nn.predict(testing_set)\n",
    "predicted_testing_set_labels = pd.DataFrame(predicted_testing_set_labels)\n",
    "testing_set_acc=accuracy_score(testing_set_labels, predicted_testing_set_labels)\n",
    "\n",
    "print(training_set_acc)\n",
    "print(testing_set_acc)"
   ]
  },
  {
   "cell_type": "code",
   "execution_count": 10,
   "metadata": {},
   "outputs": [
    {
     "name": "stderr",
     "output_type": "stream",
     "text": [
      "/Users/tomhuang/.local/share/virtualenvs/assignment1-2RDWss_u/lib/python3.6/site-packages/sklearn/neural_network/multilayer_perceptron.py:564: ConvergenceWarning: Stochastic Optimizer: Maximum iterations (200) reached and the optimization hasn't converged yet.\n",
      "  % self.max_iter, ConvergenceWarning)\n",
      "/Users/tomhuang/.local/share/virtualenvs/assignment1-2RDWss_u/lib/python3.6/site-packages/sklearn/neural_network/multilayer_perceptron.py:564: ConvergenceWarning: Stochastic Optimizer: Maximum iterations (200) reached and the optimization hasn't converged yet.\n",
      "  % self.max_iter, ConvergenceWarning)\n"
     ]
    },
    {
     "name": "stdout",
     "output_type": "stream",
     "text": [
      "Best: 0.557851 using {'alpha': 0.001, 'learning_rate_init': 0.007, 'momentum': 0.85}\n",
      "0.557851 (0.010967) with: {'alpha': 0.001, 'learning_rate_init': 0.007, 'momentum': 0.85}\n",
      "0.549587 (0.010605) with: {'alpha': 0.0005, 'learning_rate_init': 0.007, 'momentum': 0.85}\n",
      "0.549587 (0.026425) with: {'alpha': 0.005, 'learning_rate_init': 0.007, 'momentum': 0.7}\n",
      "0.549587 (0.017863) with: {'alpha': 0.005, 'learning_rate_init': 0.01, 'momentum': 0.75}\n",
      "0.549587 (0.019707) with: {'alpha': 0.01, 'learning_rate_init': 0.007, 'momentum': 0.8}\n",
      "0.545455 (0.006349) with: {'alpha': 0.0001, 'learning_rate_init': 0.01, 'momentum': 0.8}\n",
      "0.545455 (0.006349) with: {'alpha': 0.0001, 'learning_rate_init': 0.01, 'momentum': 0.75}\n",
      "0.545455 (0.006349) with: {'alpha': 0.0002, 'learning_rate_init': 0.01, 'momentum': 0.7}\n",
      "0.545455 (0.015431) with: {'alpha': 0.001, 'learning_rate_init': 0.005, 'momentum': 0.85}\n",
      "0.545455 (0.055216) with: {'alpha': 0.002, 'learning_rate_init': 0.005, 'momentum': 0.9}\n",
      "0.545455 (0.006349) with: {'alpha': 0.002, 'learning_rate_init': 0.005, 'momentum': 0.7}\n",
      "0.545455 (0.006349) with: {'alpha': 0.01, 'learning_rate_init': 0.002, 'momentum': 0.8}\n",
      "0.545455 (0.006349) with: {'alpha': 0.01, 'learning_rate_init': 0.007, 'momentum': 0.75}\n",
      "0.545455 (0.005612) with: {'alpha': 0.01, 'learning_rate_init': 0.01, 'momentum': 0.8}\n",
      "0.541322 (0.012122) with: {'alpha': 0.0001, 'learning_rate_init': 0.007, 'momentum': 0.9}\n",
      "0.541322 (0.012122) with: {'alpha': 0.0002, 'learning_rate_init': 0.005, 'momentum': 0.9}\n",
      "0.541322 (0.012122) with: {'alpha': 0.0007, 'learning_rate_init': 0.01, 'momentum': 0.7}\n",
      "0.541322 (0.006110) with: {'alpha': 0.001, 'learning_rate_init': 0.005, 'momentum': 0.9}\n",
      "0.541322 (0.021462) with: {'alpha': 0.001, 'learning_rate_init': 0.005, 'momentum': 0.75}\n",
      "0.541322 (0.006110) with: {'alpha': 0.001, 'learning_rate_init': 0.01, 'momentum': 0.75}\n",
      "0.541322 (0.006110) with: {'alpha': 0.002, 'learning_rate_init': 0.007, 'momentum': 0.8}\n",
      "0.541322 (0.006110) with: {'alpha': 0.005, 'learning_rate_init': 0.01, 'momentum': 0.8}\n",
      "0.541322 (0.012122) with: {'alpha': 0.005, 'learning_rate_init': 0.01, 'momentum': 0.7}\n",
      "0.537190 (0.017894) with: {'alpha': 0.0001, 'learning_rate_init': 0.01, 'momentum': 0.85}\n",
      "0.537190 (0.017894) with: {'alpha': 0.0007, 'learning_rate_init': 0.001, 'momentum': 0.8}\n",
      "0.537190 (0.000433) with: {'alpha': 0.001, 'learning_rate_init': 0.007, 'momentum': 0.8}\n",
      "0.537190 (0.010173) with: {'alpha': 0.001, 'learning_rate_init': 0.01, 'momentum': 0.85}\n",
      "0.537190 (0.010173) with: {'alpha': 0.005, 'learning_rate_init': 0.002, 'momentum': 0.7}\n",
      "0.533058 (0.015454) with: {'alpha': 0.0002, 'learning_rate_init': 0.007, 'momentum': 0.85}\n",
      "0.533058 (0.015776) with: {'alpha': 0.0005, 'learning_rate_init': 0.002, 'momentum': 0.75}\n",
      "0.533058 (0.015454) with: {'alpha': 0.0005, 'learning_rate_init': 0.01, 'momentum': 0.85}\n",
      "0.528926 (0.006031) with: {'alpha': 0.0002, 'learning_rate_init': 0.007, 'momentum': 0.7}\n",
      "0.528926 (0.030981) with: {'alpha': 0.0005, 'learning_rate_init': 0.005, 'momentum': 0.9}\n",
      "0.528926 (0.029115) with: {'alpha': 0.0005, 'learning_rate_init': 0.005, 'momentum': 0.8}\n",
      "0.528926 (0.015588) with: {'alpha': 0.005, 'learning_rate_init': 0.002, 'momentum': 0.8}\n",
      "0.528926 (0.029438) with: {'alpha': 0.01, 'learning_rate_init': 0.007, 'momentum': 0.9}\n",
      "0.524793 (0.063266) with: {'alpha': 0.0001, 'learning_rate_init': 0.002, 'momentum': 0.7}\n",
      "0.524793 (0.026775) with: {'alpha': 0.0001, 'learning_rate_init': 0.005, 'momentum': 0.9}\n",
      "0.524793 (0.017427) with: {'alpha': 0.0007, 'learning_rate_init': 0.002, 'momentum': 0.9}\n",
      "0.524793 (0.026775) with: {'alpha': 0.0007, 'learning_rate_init': 0.005, 'momentum': 0.8}\n",
      "0.524793 (0.017714) with: {'alpha': 0.002, 'learning_rate_init': 0.005, 'momentum': 0.8}\n",
      "0.520661 (0.040982) with: {'alpha': 0.0007, 'learning_rate_init': 0.002, 'momentum': 0.7}\n",
      "0.520661 (0.015273) with: {'alpha': 0.001, 'learning_rate_init': 0.007, 'momentum': 0.7}\n",
      "0.520661 (0.040982) with: {'alpha': 0.005, 'learning_rate_init': 0.001, 'momentum': 0.9}\n",
      "0.520661 (0.023306) with: {'alpha': 0.01, 'learning_rate_init': 0.001, 'momentum': 0.9}\n",
      "0.516529 (0.073329) with: {'alpha': 0.0001, 'learning_rate_init': 0.005, 'momentum': 0.7}\n",
      "0.516529 (0.015231) with: {'alpha': 0.0002, 'learning_rate_init': 0.002, 'momentum': 0.9}\n",
      "0.516529 (0.032707) with: {'alpha': 0.0002, 'learning_rate_init': 0.005, 'momentum': 0.75}\n",
      "0.512397 (0.035066) with: {'alpha': 0.0001, 'learning_rate_init': 0.002, 'momentum': 0.9}\n",
      "0.512397 (0.026915) with: {'alpha': 0.0001, 'learning_rate_init': 0.002, 'momentum': 0.8}\n",
      "0.512397 (0.035066) with: {'alpha': 0.0005, 'learning_rate_init': 0.005, 'momentum': 0.75}\n",
      "0.512397 (0.020328) with: {'alpha': 0.0007, 'learning_rate_init': 0.005, 'momentum': 0.9}\n",
      "0.512397 (0.044190) with: {'alpha': 0.002, 'learning_rate_init': 0.001, 'momentum': 0.9}\n",
      "0.512397 (0.030492) with: {'alpha': 0.002, 'learning_rate_init': 0.001, 'momentum': 0.8}\n",
      "0.508264 (0.040946) with: {'alpha': 0.0001, 'learning_rate_init': 0.002, 'momentum': 0.85}\n",
      "0.508264 (0.025367) with: {'alpha': 0.0002, 'learning_rate_init': 0.005, 'momentum': 0.8}\n",
      "0.508264 (0.042263) with: {'alpha': 0.0005, 'learning_rate_init': 0.01, 'momentum': 0.9}\n",
      "0.508264 (0.050030) with: {'alpha': 0.0007, 'learning_rate_init': 0.01, 'momentum': 0.85}\n",
      "0.508264 (0.067221) with: {'alpha': 0.01, 'learning_rate_init': 0.002, 'momentum': 0.75}\n",
      "0.504132 (0.047982) with: {'alpha': 0.0005, 'learning_rate_init': 0.01, 'momentum': 0.75}\n",
      "0.504132 (0.015530) with: {'alpha': 0.001, 'learning_rate_init': 0.005, 'momentum': 0.7}\n",
      "0.504132 (0.064395) with: {'alpha': 0.002, 'learning_rate_init': 0.007, 'momentum': 0.9}\n",
      "0.504132 (0.035697) with: {'alpha': 0.005, 'learning_rate_init': 0.001, 'momentum': 0.7}\n",
      "0.500000 (0.046564) with: {'alpha': 0.0002, 'learning_rate_init': 0.002, 'momentum': 0.85}\n",
      "0.500000 (0.053736) with: {'alpha': 0.0007, 'learning_rate_init': 0.005, 'momentum': 0.75}\n",
      "0.495868 (0.038416) with: {'alpha': 0.01, 'learning_rate_init': 0.005, 'momentum': 0.9}\n",
      "0.491736 (0.073455) with: {'alpha': 0.001, 'learning_rate_init': 0.001, 'momentum': 0.8}\n",
      "0.487603 (0.092829) with: {'alpha': 0.0002, 'learning_rate_init': 0.007, 'momentum': 0.75}\n",
      "0.487603 (0.044190) with: {'alpha': 0.0005, 'learning_rate_init': 0.007, 'momentum': 0.75}\n",
      "0.487603 (0.056602) with: {'alpha': 0.001, 'learning_rate_init': 0.002, 'momentum': 0.85}\n",
      "0.487603 (0.020328) with: {'alpha': 0.001, 'learning_rate_init': 0.005, 'momentum': 0.8}\n",
      "0.487603 (0.079320) with: {'alpha': 0.002, 'learning_rate_init': 0.007, 'momentum': 0.85}\n",
      "0.487603 (0.079320) with: {'alpha': 0.01, 'learning_rate_init': 0.005, 'momentum': 0.75}\n",
      "0.483471 (0.085187) with: {'alpha': 0.0002, 'learning_rate_init': 0.007, 'momentum': 0.9}\n",
      "0.483471 (0.038362) with: {'alpha': 0.002, 'learning_rate_init': 0.005, 'momentum': 0.75}\n",
      "0.479339 (0.098704) with: {'alpha': 0.0005, 'learning_rate_init': 0.005, 'momentum': 0.7}\n",
      "0.479339 (0.100236) with: {'alpha': 0.001, 'learning_rate_init': 0.01, 'momentum': 0.8}\n",
      "0.475207 (0.106085) with: {'alpha': 0.0007, 'learning_rate_init': 0.01, 'momentum': 0.75}\n",
      "0.475207 (0.036562) with: {'alpha': 0.002, 'learning_rate_init': 0.001, 'momentum': 0.75}\n",
      "0.471074 (0.047987) with: {'alpha': 0.0001, 'learning_rate_init': 0.001, 'momentum': 0.9}\n",
      "0.471074 (0.062068) with: {'alpha': 0.0007, 'learning_rate_init': 0.007, 'momentum': 0.8}\n",
      "0.466942 (0.050115) with: {'alpha': 0.005, 'learning_rate_init': 0.005, 'momentum': 0.85}\n",
      "0.462810 (0.088608) with: {'alpha': 0.0002, 'learning_rate_init': 0.002, 'momentum': 0.7}\n",
      "0.462810 (0.121792) with: {'alpha': 0.0002, 'learning_rate_init': 0.01, 'momentum': 0.75}\n",
      "0.462810 (0.150246) with: {'alpha': 0.001, 'learning_rate_init': 0.01, 'momentum': 0.7}\n",
      "0.462810 (0.056514) with: {'alpha': 0.005, 'learning_rate_init': 0.007, 'momentum': 0.75}\n",
      "0.458678 (0.147035) with: {'alpha': 0.002, 'learning_rate_init': 0.01, 'momentum': 0.8}\n",
      "0.458678 (0.127565) with: {'alpha': 0.005, 'learning_rate_init': 0.002, 'momentum': 0.9}\n",
      "0.458678 (0.118943) with: {'alpha': 0.005, 'learning_rate_init': 0.01, 'momentum': 0.9}\n",
      "0.450413 (0.085726) with: {'alpha': 0.0001, 'learning_rate_init': 0.007, 'momentum': 0.7}\n",
      "0.450413 (0.156899) with: {'alpha': 0.0005, 'learning_rate_init': 0.001, 'momentum': 0.7}\n",
      "0.450413 (0.086843) with: {'alpha': 0.001, 'learning_rate_init': 0.002, 'momentum': 0.8}\n",
      "0.450413 (0.098122) with: {'alpha': 0.002, 'learning_rate_init': 0.001, 'momentum': 0.7}\n",
      "0.450413 (0.123712) with: {'alpha': 0.002, 'learning_rate_init': 0.002, 'momentum': 0.85}\n",
      "0.450413 (0.118389) with: {'alpha': 0.005, 'learning_rate_init': 0.005, 'momentum': 0.8}\n",
      "0.446281 (0.066274) with: {'alpha': 0.0001, 'learning_rate_init': 0.005, 'momentum': 0.75}\n",
      "0.446281 (0.094012) with: {'alpha': 0.002, 'learning_rate_init': 0.005, 'momentum': 0.85}\n",
      "0.446281 (0.086466) with: {'alpha': 0.002, 'learning_rate_init': 0.007, 'momentum': 0.75}\n",
      "0.446281 (0.144881) with: {'alpha': 0.005, 'learning_rate_init': 0.007, 'momentum': 0.85}\n",
      "0.446281 (0.034893) with: {'alpha': 0.01, 'learning_rate_init': 0.005, 'momentum': 0.7}\n",
      "0.442149 (0.075798) with: {'alpha': 0.0005, 'learning_rate_init': 0.007, 'momentum': 0.8}\n",
      "0.442149 (0.104424) with: {'alpha': 0.0007, 'learning_rate_init': 0.007, 'momentum': 0.9}\n",
      "0.442149 (0.095462) with: {'alpha': 0.001, 'learning_rate_init': 0.007, 'momentum': 0.75}\n",
      "0.438017 (0.086960) with: {'alpha': 0.0002, 'learning_rate_init': 0.007, 'momentum': 0.8}\n",
      "0.438017 (0.174183) with: {'alpha': 0.0007, 'learning_rate_init': 0.007, 'momentum': 0.75}\n",
      "0.438017 (0.149793) with: {'alpha': 0.002, 'learning_rate_init': 0.007, 'momentum': 0.7}\n",
      "0.438017 (0.165234) with: {'alpha': 0.01, 'learning_rate_init': 0.01, 'momentum': 0.75}\n",
      "0.433884 (0.113444) with: {'alpha': 0.002, 'learning_rate_init': 0.002, 'momentum': 0.75}\n",
      "0.433884 (0.173853) with: {'alpha': 0.005, 'learning_rate_init': 0.005, 'momentum': 0.7}\n",
      "0.429752 (0.136640) with: {'alpha': 0.0005, 'learning_rate_init': 0.007, 'momentum': 0.9}\n",
      "0.429752 (0.159320) with: {'alpha': 0.001, 'learning_rate_init': 0.007, 'momentum': 0.9}\n",
      "0.425620 (0.123413) with: {'alpha': 0.0001, 'learning_rate_init': 0.007, 'momentum': 0.75}\n",
      "0.425620 (0.053461) with: {'alpha': 0.0005, 'learning_rate_init': 0.001, 'momentum': 0.8}\n",
      "0.425620 (0.060990) with: {'alpha': 0.01, 'learning_rate_init': 0.005, 'momentum': 0.8}\n",
      "0.421488 (0.056914) with: {'alpha': 0.0001, 'learning_rate_init': 0.005, 'momentum': 0.85}\n",
      "0.421488 (0.130728) with: {'alpha': 0.0002, 'learning_rate_init': 0.01, 'momentum': 0.8}\n",
      "0.417355 (0.179178) with: {'alpha': 0.0007, 'learning_rate_init': 0.01, 'momentum': 0.8}\n",
      "0.417355 (0.170632) with: {'alpha': 0.001, 'learning_rate_init': 0.001, 'momentum': 0.9}\n",
      "0.417355 (0.119402) with: {'alpha': 0.005, 'learning_rate_init': 0.001, 'momentum': 0.75}\n",
      "0.413223 (0.173895) with: {'alpha': 0.0002, 'learning_rate_init': 0.002, 'momentum': 0.8}\n",
      "0.413223 (0.167492) with: {'alpha': 0.0005, 'learning_rate_init': 0.002, 'momentum': 0.85}\n",
      "0.413223 (0.165570) with: {'alpha': 0.01, 'learning_rate_init': 0.001, 'momentum': 0.75}\n",
      "0.413223 (0.144299) with: {'alpha': 0.01, 'learning_rate_init': 0.007, 'momentum': 0.85}\n",
      "0.413223 (0.101892) with: {'alpha': 0.01, 'learning_rate_init': 0.01, 'momentum': 0.9}\n",
      "0.409091 (0.147631) with: {'alpha': 0.0002, 'learning_rate_init': 0.001, 'momentum': 0.7}\n",
      "0.409091 (0.182372) with: {'alpha': 0.002, 'learning_rate_init': 0.002, 'momentum': 0.8}\n",
      "0.404959 (0.211394) with: {'alpha': 0.0002, 'learning_rate_init': 0.01, 'momentum': 0.9}\n",
      "0.404959 (0.214350) with: {'alpha': 0.0005, 'learning_rate_init': 0.002, 'momentum': 0.7}\n",
      "0.400826 (0.105550) with: {'alpha': 0.0007, 'learning_rate_init': 0.001, 'momentum': 0.85}\n",
      "0.400826 (0.019215) with: {'alpha': 0.0007, 'learning_rate_init': 0.005, 'momentum': 0.7}\n",
      "0.400826 (0.161586) with: {'alpha': 0.0007, 'learning_rate_init': 0.01, 'momentum': 0.9}\n",
      "0.400826 (0.208375) with: {'alpha': 0.002, 'learning_rate_init': 0.01, 'momentum': 0.75}\n",
      "0.400826 (0.177446) with: {'alpha': 0.002, 'learning_rate_init': 0.01, 'momentum': 0.7}\n",
      "0.400826 (0.202689) with: {'alpha': 0.01, 'learning_rate_init': 0.007, 'momentum': 0.7}\n",
      "0.396694 (0.208568) with: {'alpha': 0.0007, 'learning_rate_init': 0.007, 'momentum': 0.7}\n",
      "0.392562 (0.142019) with: {'alpha': 0.0001, 'learning_rate_init': 0.001, 'momentum': 0.75}\n",
      "0.392562 (0.153142) with: {'alpha': 0.0002, 'learning_rate_init': 0.01, 'momentum': 0.85}\n",
      "0.392562 (0.144194) with: {'alpha': 0.0005, 'learning_rate_init': 0.005, 'momentum': 0.85}\n",
      "0.392562 (0.219919) with: {'alpha': 0.001, 'learning_rate_init': 0.01, 'momentum': 0.9}\n",
      "0.392562 (0.141259) with: {'alpha': 0.005, 'learning_rate_init': 0.001, 'momentum': 0.8}\n",
      "0.392562 (0.205592) with: {'alpha': 0.01, 'learning_rate_init': 0.01, 'momentum': 0.85}\n",
      "0.388430 (0.225691) with: {'alpha': 0.0005, 'learning_rate_init': 0.01, 'momentum': 0.7}\n",
      "0.388430 (0.194154) with: {'alpha': 0.005, 'learning_rate_init': 0.007, 'momentum': 0.9}\n",
      "0.388430 (0.081322) with: {'alpha': 0.01, 'learning_rate_init': 0.002, 'momentum': 0.7}\n",
      "0.384298 (0.200027) with: {'alpha': 0.005, 'learning_rate_init': 0.007, 'momentum': 0.8}\n",
      "0.380165 (0.223233) with: {'alpha': 0.001, 'learning_rate_init': 0.001, 'momentum': 0.75}\n",
      "0.376033 (0.163787) with: {'alpha': 0.0007, 'learning_rate_init': 0.005, 'momentum': 0.85}\n",
      "0.376033 (0.194233) with: {'alpha': 0.002, 'learning_rate_init': 0.002, 'momentum': 0.9}\n",
      "0.376033 (0.239280) with: {'alpha': 0.005, 'learning_rate_init': 0.005, 'momentum': 0.9}\n",
      "0.376033 (0.232584) with: {'alpha': 0.01, 'learning_rate_init': 0.002, 'momentum': 0.9}\n",
      "0.371901 (0.177082) with: {'alpha': 0.005, 'learning_rate_init': 0.002, 'momentum': 0.85}\n",
      "0.371901 (0.120804) with: {'alpha': 0.01, 'learning_rate_init': 0.002, 'momentum': 0.85}\n",
      "0.367769 (0.196041) with: {'alpha': 0.0002, 'learning_rate_init': 0.001, 'momentum': 0.85}\n",
      "0.363636 (0.161008) with: {'alpha': 0.0005, 'learning_rate_init': 0.007, 'momentum': 0.7}\n",
      "0.363636 (0.196401) with: {'alpha': 0.005, 'learning_rate_init': 0.001, 'momentum': 0.85}\n",
      "0.359504 (0.179014) with: {'alpha': 0.002, 'learning_rate_init': 0.01, 'momentum': 0.9}\n",
      "0.359504 (0.139329) with: {'alpha': 0.005, 'learning_rate_init': 0.002, 'momentum': 0.75}\n",
      "0.355372 (0.121955) with: {'alpha': 0.0002, 'learning_rate_init': 0.005, 'momentum': 0.7}\n",
      "0.347107 (0.152112) with: {'alpha': 0.0001, 'learning_rate_init': 0.002, 'momentum': 0.75}\n",
      "0.347107 (0.077560) with: {'alpha': 0.005, 'learning_rate_init': 0.005, 'momentum': 0.75}\n",
      "0.342975 (0.217568) with: {'alpha': 0.0001, 'learning_rate_init': 0.01, 'momentum': 0.7}\n",
      "0.342975 (0.146037) with: {'alpha': 0.0007, 'learning_rate_init': 0.001, 'momentum': 0.7}\n",
      "0.342975 (0.149161) with: {'alpha': 0.01, 'learning_rate_init': 0.001, 'momentum': 0.8}\n",
      "0.338843 (0.064535) with: {'alpha': 0.0001, 'learning_rate_init': 0.005, 'momentum': 0.8}\n",
      "0.338843 (0.154429) with: {'alpha': 0.0007, 'learning_rate_init': 0.002, 'momentum': 0.75}\n",
      "0.338843 (0.154139) with: {'alpha': 0.001, 'learning_rate_init': 0.001, 'momentum': 0.7}\n",
      "0.334711 (0.198548) with: {'alpha': 0.001, 'learning_rate_init': 0.001, 'momentum': 0.85}\n",
      "0.326446 (0.209470) with: {'alpha': 0.0001, 'learning_rate_init': 0.007, 'momentum': 0.8}\n",
      "0.322314 (0.129069) with: {'alpha': 0.0005, 'learning_rate_init': 0.001, 'momentum': 0.9}\n",
      "0.322314 (0.172039) with: {'alpha': 0.01, 'learning_rate_init': 0.001, 'momentum': 0.7}\n",
      "0.318182 (0.135125) with: {'alpha': 0.0005, 'learning_rate_init': 0.002, 'momentum': 0.8}\n",
      "0.314050 (0.167262) with: {'alpha': 0.01, 'learning_rate_init': 0.005, 'momentum': 0.85}\n",
      "0.309917 (0.190191) with: {'alpha': 0.0001, 'learning_rate_init': 0.001, 'momentum': 0.7}\n",
      "0.309917 (0.072484) with: {'alpha': 0.0007, 'learning_rate_init': 0.002, 'momentum': 0.8}\n",
      "0.309917 (0.174858) with: {'alpha': 0.001, 'learning_rate_init': 0.002, 'momentum': 0.9}\n",
      "0.305785 (0.181918) with: {'alpha': 0.005, 'learning_rate_init': 0.01, 'momentum': 0.85}\n",
      "0.293388 (0.149904) with: {'alpha': 0.0002, 'learning_rate_init': 0.001, 'momentum': 0.75}\n",
      "0.289256 (0.107306) with: {'alpha': 0.002, 'learning_rate_init': 0.002, 'momentum': 0.7}\n",
      "0.280992 (0.191222) with: {'alpha': 0.0001, 'learning_rate_init': 0.001, 'momentum': 0.8}\n",
      "0.280992 (0.176090) with: {'alpha': 0.0007, 'learning_rate_init': 0.001, 'momentum': 0.75}\n",
      "0.280992 (0.180181) with: {'alpha': 0.0007, 'learning_rate_init': 0.002, 'momentum': 0.85}\n",
      "0.280992 (0.190281) with: {'alpha': 0.001, 'learning_rate_init': 0.002, 'momentum': 0.7}\n",
      "0.276860 (0.114346) with: {'alpha': 0.0005, 'learning_rate_init': 0.002, 'momentum': 0.9}\n",
      "0.272727 (0.100924) with: {'alpha': 0.0005, 'learning_rate_init': 0.01, 'momentum': 0.8}\n",
      "0.272727 (0.170615) with: {'alpha': 0.002, 'learning_rate_init': 0.01, 'momentum': 0.85}\n",
      "0.268595 (0.127663) with: {'alpha': 0.0002, 'learning_rate_init': 0.001, 'momentum': 0.9}\n",
      "0.260331 (0.195105) with: {'alpha': 0.0002, 'learning_rate_init': 0.005, 'momentum': 0.85}\n",
      "0.256198 (0.216788) with: {'alpha': 0.0007, 'learning_rate_init': 0.007, 'momentum': 0.85}\n",
      "0.252066 (0.200586) with: {'alpha': 0.0005, 'learning_rate_init': 0.001, 'momentum': 0.75}\n",
      "0.247934 (0.231944) with: {'alpha': 0.002, 'learning_rate_init': 0.001, 'momentum': 0.85}\n",
      "0.247934 (0.196781) with: {'alpha': 0.01, 'learning_rate_init': 0.01, 'momentum': 0.7}\n",
      "0.243802 (0.219732) with: {'alpha': 0.0002, 'learning_rate_init': 0.001, 'momentum': 0.8}\n",
      "0.243802 (0.085448) with: {'alpha': 0.001, 'learning_rate_init': 0.002, 'momentum': 0.75}\n",
      "0.231405 (0.093394) with: {'alpha': 0.0001, 'learning_rate_init': 0.007, 'momentum': 0.85}\n",
      "0.231405 (0.218712) with: {'alpha': 0.0007, 'learning_rate_init': 0.001, 'momentum': 0.9}\n",
      "0.227273 (0.104698) with: {'alpha': 0.0002, 'learning_rate_init': 0.002, 'momentum': 0.75}\n",
      "0.223140 (0.091064) with: {'alpha': 0.0001, 'learning_rate_init': 0.01, 'momentum': 0.9}\n",
      "0.181818 (0.047435) with: {'alpha': 0.01, 'learning_rate_init': 0.001, 'momentum': 0.85}\n",
      "0.148760 (0.103436) with: {'alpha': 0.0001, 'learning_rate_init': 0.001, 'momentum': 0.85}\n",
      "0.074380 (0.029560) with: {'alpha': 0.0005, 'learning_rate_init': 0.001, 'momentum': 0.85}\n",
      "0.6074380165289256\n",
      "0.6229508196721312\n"
     ]
    }
   ],
   "source": [
    "alphas = [0.0001, 0.0002, 0.0005, 0.0007, 0.001, 0.002, 0.005, 0.01]\n",
    "learning_rates = [0.001, 0.002, 0.005, 0.007, 0.01]\n",
    "momentums = [0.9, 0.85, 0.8, 0.75, 0.7]\n",
    "param_grid = dict(alpha=alphas, learning_rate_init = learning_rates, momentum = momentums)\n",
    "grid_nn = GridSearchCV(estimator=nn, param_grid=param_grid)\n",
    "grid_result_nn = grid_nn.fit(training_set, training_set_labels)\n",
    "\n",
    "\n",
    "print(\"Best: %f using %s\" % (grid_result_nn.best_score_, grid_result_nn.best_params_))\n",
    "means = grid_result_nn.cv_results_['mean_test_score']\n",
    "stds = grid_result_nn.cv_results_['std_test_score']\n",
    "params = grid_result_nn.cv_results_['params']\n",
    "results = zip(means, stds, params)\n",
    "for mean, stdev, param in sorted(results, key=lambda x: x[0], reverse=True):\n",
    "    print(\"%f (%f) with: %r\" % (mean, stdev, param))\n",
    "    \n",
    "\n",
    "predicted_training_set_labels = grid_nn.predict(training_set)\n",
    "predicted_training_set_labels = pd.DataFrame(predicted_training_set_labels) \n",
    "training_set_acc_nn=accuracy_score(training_set_labels, predicted_training_set_labels)\n",
    "\n",
    "predicted_testing_set_labels = grid_nn.predict(testing_set)\n",
    "predicted_testing_set_labels = pd.DataFrame(predicted_testing_set_labels)\n",
    "testing_set_acc_nn=accuracy_score(testing_set_labels, predicted_testing_set_labels)\n",
    "\n",
    "print(training_set_acc_nn)\n",
    "print(testing_set_acc_nn)"
   ]
  },
  {
   "cell_type": "code",
   "execution_count": 11,
   "metadata": {},
   "outputs": [
    {
     "name": "stdout",
     "output_type": "stream",
     "text": [
      "             precision    recall  f1-score   support\n",
      "\n",
      "    class 0       0.73      0.94      0.82        32\n",
      "    class 1       0.50      0.08      0.14        12\n",
      "    class 2       1.00      0.17      0.29         6\n",
      "    class 3       0.35      0.75      0.48         8\n",
      "    class 4       0.00      0.00      0.00         3\n",
      "\n",
      "avg / total       0.63      0.62      0.55        61\n",
      "\n"
     ]
    },
    {
     "name": "stderr",
     "output_type": "stream",
     "text": [
      "/Users/tomhuang/.local/share/virtualenvs/assignment1-2RDWss_u/lib/python3.6/site-packages/sklearn/metrics/classification.py:1135: UndefinedMetricWarning: Precision and F-score are ill-defined and being set to 0.0 in labels with no predicted samples.\n",
      "  'precision', 'predicted', average, warn_for)\n"
     ]
    }
   ],
   "source": [
    "print(classification_report(testing_set_labels, predicted_testing_set_labels, target_names=target_names))"
   ]
  },
  {
   "cell_type": "code",
   "execution_count": 12,
   "metadata": {},
   "outputs": [],
   "source": [
    "# ax = plot.grid_search(grid_nn.grid_scores_, change=('alpha', 'learning_rate_init'),\n",
    "#               subset={'momentum': 0.85})\n",
    "# fig = ax.get_figure()\n",
    "# fig.set_size_inches(18.5, 10.5)\n",
    "# fig.savefig('dataset2_NN1.png')\n",
    "# fig.clf()\n",
    "# ax = plot.grid_search(grid_nn.grid_scores_, change=('alpha', 'momentum'),\n",
    "#               subset={'learning_rate_init': 0.005})\n",
    "# fig = ax.get_figure()\n",
    "# fig.savefig('dataset2_NN2.png')\n",
    "# fig.clf()"
   ]
  },
  {
   "cell_type": "code",
   "execution_count": 13,
   "metadata": {},
   "outputs": [
    {
     "name": "stdout",
     "output_type": "stream",
     "text": [
      "1.0\n",
      "0.5409836065573771\n"
     ]
    }
   ],
   "source": [
    "# boosting\n",
    "gbc = GradientBoostingClassifier()\n",
    "gbc.fit(training_set, training_set_labels)\n",
    "\n",
    "predicted_training_set_labels = gbc.predict(training_set)\n",
    "predicted_training_set_labels = pd.DataFrame(predicted_training_set_labels) \n",
    "training_set_acc=accuracy_score(training_set_labels, predicted_training_set_labels)\n",
    "\n",
    "predicted_testing_set_labels = gbc.predict(testing_set)\n",
    "predicted_testing_set_labels = pd.DataFrame(predicted_testing_set_labels)\n",
    "testing_set_acc=accuracy_score(testing_set_labels, predicted_testing_set_labels)\n",
    "\n",
    "print(training_set_acc)\n",
    "print(testing_set_acc)"
   ]
  },
  {
   "cell_type": "code",
   "execution_count": 14,
   "metadata": {},
   "outputs": [
    {
     "name": "stdout",
     "output_type": "stream",
     "text": [
      "Best: 0.557851 using {'learning_rate': 1.0, 'n_estimators': 900}\n",
      "0.557851 (0.048309) with: {'learning_rate': 1.0, 'n_estimators': 900}\n",
      "0.549587 (0.020704) with: {'learning_rate': 0.3, 'n_estimators': 500}\n",
      "0.545455 (0.006349) with: {'learning_rate': 0.5, 'n_estimators': 300}\n",
      "0.545455 (0.038687) with: {'learning_rate': 1.0, 'n_estimators': 300}\n",
      "0.545455 (0.056132) with: {'learning_rate': 1.0, 'n_estimators': 500}\n",
      "0.541322 (0.023668) with: {'learning_rate': 0.3, 'n_estimators': 300}\n",
      "0.541322 (0.021462) with: {'learning_rate': 0.5, 'n_estimators': 100}\n",
      "0.541322 (0.012122) with: {'learning_rate': 0.5, 'n_estimators': 500}\n",
      "0.541322 (0.012122) with: {'learning_rate': 0.5, 'n_estimators': 700}\n",
      "0.537190 (0.027012) with: {'learning_rate': 0.3, 'n_estimators': 100}\n",
      "0.537190 (0.027012) with: {'learning_rate': 0.3, 'n_estimators': 700}\n",
      "0.537190 (0.027012) with: {'learning_rate': 0.3, 'n_estimators': 900}\n",
      "0.537190 (0.017894) with: {'learning_rate': 0.5, 'n_estimators': 900}\n",
      "0.537190 (0.044433) with: {'learning_rate': 1.0, 'n_estimators': 100}\n",
      "0.537190 (0.053878) with: {'learning_rate': 1.0, 'n_estimators': 700}\n",
      "0.533058 (0.031198) with: {'learning_rate': 0.1, 'n_estimators': 300}\n",
      "0.528926 (0.035775) with: {'learning_rate': 0.1, 'n_estimators': 500}\n",
      "0.528926 (0.035775) with: {'learning_rate': 0.1, 'n_estimators': 900}\n",
      "0.524793 (0.040657) with: {'learning_rate': 0.1, 'n_estimators': 700}\n",
      "0.520661 (0.031088) with: {'learning_rate': 0.1, 'n_estimators': 100}\n",
      "0.520661 (0.025624) with: {'learning_rate': 0.7, 'n_estimators': 700}\n",
      "0.516529 (0.031007) with: {'learning_rate': 0.7, 'n_estimators': 300}\n",
      "0.516529 (0.021182) with: {'learning_rate': 0.7, 'n_estimators': 900}\n",
      "0.512397 (0.026821) with: {'learning_rate': 0.7, 'n_estimators': 100}\n",
      "0.508264 (0.023377) with: {'learning_rate': 0.7, 'n_estimators': 500}\n",
      "1.0\n",
      "0.5081967213114754\n"
     ]
    }
   ],
   "source": [
    "nEstimators = [100, 300, 500, 700, 900]\n",
    "learning_rates = [0.1, 0.3, 0.5, 0.7, 1.0]\n",
    "param_grid = dict(learning_rate = learning_rates, n_estimators = nEstimators)\n",
    "grid_b = GridSearchCV(estimator=gbc, param_grid=param_grid)\n",
    "grid_result_b = grid_b.fit(training_set, training_set_labels)\n",
    "\n",
    "\n",
    "print(\"Best: %f using %s\" % (grid_result_b.best_score_, grid_result_b.best_params_))\n",
    "means = grid_result_b.cv_results_['mean_test_score']\n",
    "stds = grid_result_b.cv_results_['std_test_score']\n",
    "params = grid_result_b.cv_results_['params']\n",
    "results = zip(means, stds, params)\n",
    "for mean, stdev, param in sorted(results, key=lambda x: x[0], reverse=True):\n",
    "    print(\"%f (%f) with: %r\" % (mean, stdev, param))\n",
    "    \n",
    "predicted_training_set_labels = grid_b.predict(training_set)\n",
    "predicted_training_set_labels = pd.DataFrame(predicted_training_set_labels) \n",
    "training_set_acc=accuracy_score(training_set_labels, predicted_training_set_labels)\n",
    "\n",
    "predicted_testing_set_labels = grid_b.predict(testing_set)\n",
    "predicted_testing_set_labels = pd.DataFrame(predicted_testing_set_labels)\n",
    "testing_set_acc=accuracy_score(testing_set_labels, predicted_testing_set_labels)\n",
    "\n",
    "print(training_set_acc)\n",
    "print(testing_set_acc)"
   ]
  },
  {
   "cell_type": "code",
   "execution_count": 15,
   "metadata": {},
   "outputs": [
    {
     "name": "stdout",
     "output_type": "stream",
     "text": [
      "             precision    recall  f1-score   support\n",
      "\n",
      "    class 0       0.74      0.88      0.80        32\n",
      "    class 1       0.18      0.17      0.17        12\n",
      "    class 2       0.00      0.00      0.00         6\n",
      "    class 3       0.17      0.12      0.14         8\n",
      "    class 4       0.00      0.00      0.00         3\n",
      "\n",
      "avg / total       0.44      0.51      0.47        61\n",
      "\n"
     ]
    }
   ],
   "source": [
    "print(classification_report(testing_set_labels, predicted_testing_set_labels, target_names=target_names))"
   ]
  },
  {
   "cell_type": "code",
   "execution_count": 16,
   "metadata": {},
   "outputs": [],
   "source": [
    "# ax = plot.grid_search(grid_b.grid_scores_, change=('learning_rate', 'n_estimators'))\n",
    "# fig = ax.get_figure()\n",
    "# fig.set_size_inches(18.5, 10.5)\n",
    "# fig.savefig('dataset2_boosting1.png')\n",
    "# fig.clf()"
   ]
  },
  {
   "cell_type": "code",
   "execution_count": 17,
   "metadata": {},
   "outputs": [
    {
     "name": "stdout",
     "output_type": "stream",
     "text": [
      "0.6322314049586777\n",
      "0.47540983606557374\n"
     ]
    }
   ],
   "source": [
    "# KNN\n",
    "knn = KNeighborsClassifier()\n",
    "knn.fit(training_set, training_set_labels)\n",
    "\n",
    "predicted_training_set_labels = knn.predict(training_set)\n",
    "predicted_training_set_labels = pd.DataFrame(predicted_training_set_labels) \n",
    "training_set_acc=accuracy_score(training_set_labels, predicted_training_set_labels)\n",
    "\n",
    "predicted_testing_set_labels = knn.predict(testing_set)\n",
    "predicted_testing_set_labels = pd.DataFrame(predicted_testing_set_labels)\n",
    "testing_set_acc=accuracy_score(testing_set_labels, predicted_testing_set_labels)\n",
    "\n",
    "print(training_set_acc)\n",
    "print(testing_set_acc)"
   ]
  },
  {
   "cell_type": "code",
   "execution_count": 18,
   "metadata": {},
   "outputs": [
    {
     "name": "stdout",
     "output_type": "stream",
     "text": [
      "Best: 0.566116 using {'n_neighbors': 10, 'p': 1, 'weights': 'distance'}\n",
      "0.566116 (0.024700) with: {'n_neighbors': 10, 'p': 1, 'weights': 'distance'}\n",
      "0.561983 (0.009485) with: {'n_neighbors': 10, 'p': 1, 'weights': 'uniform'}\n",
      "0.557851 (0.020342) with: {'n_neighbors': 7, 'p': 1, 'weights': 'uniform'}\n",
      "0.553719 (0.034893) with: {'n_neighbors': 9, 'p': 1, 'weights': 'uniform'}\n",
      "0.549587 (0.026113) with: {'n_neighbors': 9, 'p': 1, 'weights': 'distance'}\n",
      "0.541322 (0.031937) with: {'n_neighbors': 7, 'p': 1, 'weights': 'distance'}\n",
      "0.541322 (0.022800) with: {'n_neighbors': 8, 'p': 1, 'weights': 'uniform'}\n",
      "0.537190 (0.026517) with: {'n_neighbors': 5, 'p': 1, 'weights': 'distance'}\n",
      "0.537190 (0.034489) with: {'n_neighbors': 9, 'p': 2, 'weights': 'distance'}\n",
      "0.537190 (0.026255) with: {'n_neighbors': 9, 'p': 3, 'weights': 'uniform'}\n",
      "0.537190 (0.000433) with: {'n_neighbors': 10, 'p': 3, 'weights': 'uniform'}\n",
      "0.533058 (0.030462) with: {'n_neighbors': 8, 'p': 1, 'weights': 'distance'}\n",
      "0.533058 (0.028716) with: {'n_neighbors': 9, 'p': 4, 'weights': 'uniform'}\n",
      "0.533058 (0.015454) with: {'n_neighbors': 10, 'p': 2, 'weights': 'uniform'}\n",
      "0.533058 (0.037790) with: {'n_neighbors': 10, 'p': 2, 'weights': 'distance'}\n",
      "0.533058 (0.011256) with: {'n_neighbors': 10, 'p': 4, 'weights': 'uniform'}\n",
      "0.528926 (0.035153) with: {'n_neighbors': 5, 'p': 1, 'weights': 'uniform'}\n",
      "0.528926 (0.025095) with: {'n_neighbors': 5, 'p': 2, 'weights': 'uniform'}\n",
      "0.528926 (0.035153) with: {'n_neighbors': 6, 'p': 1, 'weights': 'uniform'}\n",
      "0.528926 (0.032080) with: {'n_neighbors': 9, 'p': 2, 'weights': 'uniform'}\n",
      "0.528926 (0.032080) with: {'n_neighbors': 9, 'p': 3, 'weights': 'distance'}\n",
      "0.528926 (0.040405) with: {'n_neighbors': 10, 'p': 3, 'weights': 'distance'}\n",
      "0.528926 (0.032080) with: {'n_neighbors': 10, 'p': 4, 'weights': 'distance'}\n",
      "0.524793 (0.026610) with: {'n_neighbors': 6, 'p': 1, 'weights': 'distance'}\n",
      "0.524793 (0.036285) with: {'n_neighbors': 7, 'p': 3, 'weights': 'uniform'}\n",
      "0.524793 (0.030056) with: {'n_neighbors': 7, 'p': 4, 'weights': 'uniform'}\n",
      "0.524793 (0.043660) with: {'n_neighbors': 8, 'p': 2, 'weights': 'uniform'}\n",
      "0.520661 (0.028861) with: {'n_neighbors': 6, 'p': 2, 'weights': 'uniform'}\n",
      "0.520661 (0.020762) with: {'n_neighbors': 8, 'p': 2, 'weights': 'distance'}\n",
      "0.520661 (0.047424) with: {'n_neighbors': 8, 'p': 3, 'weights': 'uniform'}\n",
      "0.516529 (0.032222) with: {'n_neighbors': 7, 'p': 2, 'weights': 'uniform'}\n",
      "0.516529 (0.049541) with: {'n_neighbors': 8, 'p': 4, 'weights': 'uniform'}\n",
      "0.516529 (0.032222) with: {'n_neighbors': 9, 'p': 4, 'weights': 'distance'}\n",
      "0.512397 (0.017316) with: {'n_neighbors': 5, 'p': 3, 'weights': 'uniform'}\n",
      "0.508264 (0.035419) with: {'n_neighbors': 6, 'p': 3, 'weights': 'uniform'}\n",
      "0.504132 (0.030871) with: {'n_neighbors': 6, 'p': 4, 'weights': 'uniform'}\n",
      "0.504132 (0.032365) with: {'n_neighbors': 7, 'p': 2, 'weights': 'distance'}\n",
      "0.504132 (0.015367) with: {'n_neighbors': 8, 'p': 4, 'weights': 'distance'}\n",
      "0.500000 (0.017461) with: {'n_neighbors': 5, 'p': 2, 'weights': 'distance'}\n",
      "0.500000 (0.010102) with: {'n_neighbors': 5, 'p': 4, 'weights': 'uniform'}\n",
      "0.500000 (0.010102) with: {'n_neighbors': 8, 'p': 3, 'weights': 'distance'}\n",
      "0.491736 (0.015503) with: {'n_neighbors': 6, 'p': 2, 'weights': 'distance'}\n",
      "0.491736 (0.025491) with: {'n_neighbors': 7, 'p': 4, 'weights': 'distance'}\n",
      "0.487603 (0.017641) with: {'n_neighbors': 7, 'p': 3, 'weights': 'distance'}\n",
      "0.479339 (0.006061) with: {'n_neighbors': 5, 'p': 4, 'weights': 'distance'}\n",
      "0.479339 (0.015640) with: {'n_neighbors': 6, 'p': 4, 'weights': 'distance'}\n",
      "0.475207 (0.010168) with: {'n_neighbors': 6, 'p': 3, 'weights': 'distance'}\n",
      "0.471074 (0.006031) with: {'n_neighbors': 5, 'p': 3, 'weights': 'distance'}\n",
      "1.0\n",
      "0.5081967213114754\n"
     ]
    }
   ],
   "source": [
    "n_neighbors = [5, 6, 7, 8, 9, 10]\n",
    "weights = [\"uniform\", \"distance\"]\n",
    "p = [1, 2, 3, 4]\n",
    "param_grid = dict(n_neighbors = n_neighbors, weights = weights, p = p)\n",
    "grid_knn = GridSearchCV(estimator=knn, param_grid=param_grid)\n",
    "grid_result_knn = grid_knn.fit(training_set, training_set_labels)\n",
    "\n",
    "\n",
    "print(\"Best: %f using %s\" % (grid_result_knn.best_score_, grid_result_knn.best_params_))\n",
    "means = grid_result_knn.cv_results_['mean_test_score']\n",
    "stds = grid_result_knn.cv_results_['std_test_score']\n",
    "params = grid_result_knn.cv_results_['params']\n",
    "results = zip(means, stds, params)\n",
    "for mean, stdev, param in sorted(results, key=lambda x: x[0], reverse=True):\n",
    "    print(\"%f (%f) with: %r\" % (mean, stdev, param))\n",
    "    \n",
    "\n",
    "predicted_training_set_labels = grid_knn.predict(training_set)\n",
    "predicted_training_set_labels = pd.DataFrame(predicted_training_set_labels) \n",
    "training_set_acc=accuracy_score(training_set_labels, predicted_training_set_labels)\n",
    "\n",
    "predicted_testing_set_labels = grid_knn.predict(testing_set)\n",
    "predicted_testing_set_labels = pd.DataFrame(predicted_testing_set_labels)\n",
    "testing_set_acc=accuracy_score(testing_set_labels, predicted_testing_set_labels)\n",
    "\n",
    "print(training_set_acc)\n",
    "print(testing_set_acc)"
   ]
  },
  {
   "cell_type": "code",
   "execution_count": 19,
   "metadata": {},
   "outputs": [
    {
     "name": "stdout",
     "output_type": "stream",
     "text": [
      "             precision    recall  f1-score   support\n",
      "\n",
      "    class 0       0.60      0.94      0.73        32\n",
      "    class 1       0.00      0.00      0.00        12\n",
      "    class 2       0.25      0.17      0.20         6\n",
      "    class 3       0.00      0.00      0.00         8\n",
      "    class 4       0.00      0.00      0.00         3\n",
      "\n",
      "avg / total       0.34      0.51      0.40        61\n",
      "\n"
     ]
    },
    {
     "name": "stderr",
     "output_type": "stream",
     "text": [
      "/Users/tomhuang/.local/share/virtualenvs/assignment1-2RDWss_u/lib/python3.6/site-packages/sklearn/metrics/classification.py:1135: UndefinedMetricWarning: Precision and F-score are ill-defined and being set to 0.0 in labels with no predicted samples.\n",
      "  'precision', 'predicted', average, warn_for)\n"
     ]
    }
   ],
   "source": [
    "print(classification_report(testing_set_labels, predicted_testing_set_labels, target_names=target_names))"
   ]
  },
  {
   "cell_type": "code",
   "execution_count": 20,
   "metadata": {},
   "outputs": [],
   "source": [
    "# ax = plot.grid_search(grid_knn.grid_scores_, change=('n_neighbors', 'p'), subset={'weights': 'uniform'})\n",
    "# fig = ax.get_figure()\n",
    "# fig.set_size_inches(18.5, 10.5)\n",
    "# fig.savefig('dataset2_knn1.png')\n",
    "# fig.clf()\n",
    "# ax = plot.grid_search(grid_knn.grid_scores_, change=('n_neighbors', 'p'), subset={'weights': 'distance'})\n",
    "# fig = ax.get_figure()\n",
    "# fig.set_size_inches(18.5, 10.5)\n",
    "# fig.savefig('dataset2_knn2.png')\n",
    "# fig.clf()"
   ]
  },
  {
   "cell_type": "code",
   "execution_count": 21,
   "metadata": {},
   "outputs": [
    {
     "name": "stdout",
     "output_type": "stream",
     "text": [
      "1.0\n",
      "0.5245901639344263\n"
     ]
    }
   ],
   "source": [
    "# SVM\n",
    "svm_c = svm.SVC()\n",
    "svm_c.fit(training_set, training_set_labels)\n",
    "\n",
    "predicted_training_set_labels = svm_c.predict(training_set)\n",
    "predicted_training_set_labels = pd.DataFrame(predicted_training_set_labels) \n",
    "training_set_acc=accuracy_score(training_set_labels, predicted_training_set_labels)\n",
    "\n",
    "predicted_testing_set_labels = svm_c.predict(testing_set)\n",
    "predicted_testing_set_labels = pd.DataFrame(predicted_testing_set_labels)\n",
    "testing_set_acc=accuracy_score(testing_set_labels, predicted_testing_set_labels)\n",
    "\n",
    "print(training_set_acc)\n",
    "print(testing_set_acc)"
   ]
  },
  {
   "cell_type": "code",
   "execution_count": 22,
   "metadata": {},
   "outputs": [
    {
     "name": "stdout",
     "output_type": "stream",
     "text": [
      "Best: 0.590909 using {'C': 1000.0, 'gamma': 1e-05}\n",
      "0.590909 (0.024437) with: {'C': 1000.0, 'gamma': 1e-05}\n",
      "0.582645 (0.020063) with: {'C': 10000.0, 'gamma': 1e-05}\n",
      "0.561983 (0.016739) with: {'C': 10.0, 'gamma': 0.0001}\n",
      "0.561983 (0.000722) with: {'C': 100.0, 'gamma': 1e-05}\n",
      "0.561983 (0.052351) with: {'C': 100000.0, 'gamma': 1e-05}\n",
      "0.545455 (0.006349) with: {'C': 0.001, 'gamma': 1e-05}\n",
      "0.545455 (0.006349) with: {'C': 0.001, 'gamma': 0.0001}\n",
      "0.545455 (0.006349) with: {'C': 0.001, 'gamma': 0.001}\n",
      "0.545455 (0.006349) with: {'C': 0.001, 'gamma': 0.01}\n",
      "0.545455 (0.006349) with: {'C': 0.001, 'gamma': 0.1}\n",
      "0.545455 (0.006349) with: {'C': 0.001, 'gamma': 1.0}\n",
      "0.545455 (0.006349) with: {'C': 0.001, 'gamma': 10.0}\n",
      "0.545455 (0.006349) with: {'C': 0.001, 'gamma': 100.0}\n",
      "0.545455 (0.006349) with: {'C': 0.001, 'gamma': 1000.0}\n",
      "0.545455 (0.006349) with: {'C': 0.01, 'gamma': 1e-05}\n",
      "0.545455 (0.006349) with: {'C': 0.01, 'gamma': 0.0001}\n",
      "0.545455 (0.006349) with: {'C': 0.01, 'gamma': 0.001}\n",
      "0.545455 (0.006349) with: {'C': 0.01, 'gamma': 0.01}\n",
      "0.545455 (0.006349) with: {'C': 0.01, 'gamma': 0.1}\n",
      "0.545455 (0.006349) with: {'C': 0.01, 'gamma': 1.0}\n",
      "0.545455 (0.006349) with: {'C': 0.01, 'gamma': 10.0}\n",
      "0.545455 (0.006349) with: {'C': 0.01, 'gamma': 100.0}\n",
      "0.545455 (0.006349) with: {'C': 0.01, 'gamma': 1000.0}\n",
      "0.545455 (0.006349) with: {'C': 0.1, 'gamma': 1e-05}\n",
      "0.545455 (0.006349) with: {'C': 0.1, 'gamma': 0.0001}\n",
      "0.545455 (0.006349) with: {'C': 0.1, 'gamma': 0.001}\n",
      "0.545455 (0.006349) with: {'C': 0.1, 'gamma': 0.01}\n",
      "0.545455 (0.006349) with: {'C': 0.1, 'gamma': 0.1}\n",
      "0.545455 (0.006349) with: {'C': 0.1, 'gamma': 1.0}\n",
      "0.545455 (0.006349) with: {'C': 0.1, 'gamma': 10.0}\n",
      "0.545455 (0.006349) with: {'C': 0.1, 'gamma': 100.0}\n",
      "0.545455 (0.006349) with: {'C': 0.1, 'gamma': 1000.0}\n",
      "0.545455 (0.006349) with: {'C': 1.0, 'gamma': 1e-05}\n",
      "0.545455 (0.006349) with: {'C': 1.0, 'gamma': 0.0001}\n",
      "0.545455 (0.015059) with: {'C': 1.0, 'gamma': 0.001}\n",
      "0.545455 (0.006349) with: {'C': 1.0, 'gamma': 0.1}\n",
      "0.545455 (0.006349) with: {'C': 1.0, 'gamma': 1.0}\n",
      "0.545455 (0.006349) with: {'C': 1.0, 'gamma': 10.0}\n",
      "0.545455 (0.006349) with: {'C': 1.0, 'gamma': 100.0}\n",
      "0.545455 (0.006349) with: {'C': 1.0, 'gamma': 1000.0}\n",
      "0.545455 (0.006349) with: {'C': 10.0, 'gamma': 1e-05}\n",
      "0.545455 (0.006349) with: {'C': 10.0, 'gamma': 0.1}\n",
      "0.545455 (0.006349) with: {'C': 10.0, 'gamma': 1.0}\n",
      "0.545455 (0.006349) with: {'C': 10.0, 'gamma': 10.0}\n",
      "0.545455 (0.006349) with: {'C': 10.0, 'gamma': 100.0}\n",
      "0.545455 (0.006349) with: {'C': 10.0, 'gamma': 1000.0}\n",
      "0.545455 (0.006349) with: {'C': 100.0, 'gamma': 0.1}\n",
      "0.545455 (0.006349) with: {'C': 100.0, 'gamma': 1.0}\n",
      "0.545455 (0.006349) with: {'C': 100.0, 'gamma': 10.0}\n",
      "0.545455 (0.006349) with: {'C': 100.0, 'gamma': 100.0}\n",
      "0.545455 (0.006349) with: {'C': 100.0, 'gamma': 1000.0}\n",
      "0.545455 (0.006349) with: {'C': 1000.0, 'gamma': 0.1}\n",
      "0.545455 (0.006349) with: {'C': 1000.0, 'gamma': 1.0}\n",
      "0.545455 (0.006349) with: {'C': 1000.0, 'gamma': 10.0}\n",
      "0.545455 (0.006349) with: {'C': 1000.0, 'gamma': 100.0}\n",
      "0.545455 (0.006349) with: {'C': 1000.0, 'gamma': 1000.0}\n",
      "0.545455 (0.006349) with: {'C': 10000.0, 'gamma': 0.1}\n",
      "0.545455 (0.006349) with: {'C': 10000.0, 'gamma': 1.0}\n",
      "0.545455 (0.006349) with: {'C': 10000.0, 'gamma': 10.0}\n",
      "0.545455 (0.006349) with: {'C': 10000.0, 'gamma': 100.0}\n",
      "0.545455 (0.006349) with: {'C': 10000.0, 'gamma': 1000.0}\n",
      "0.545455 (0.006349) with: {'C': 100000.0, 'gamma': 0.1}\n",
      "0.545455 (0.006349) with: {'C': 100000.0, 'gamma': 1.0}\n",
      "0.545455 (0.006349) with: {'C': 100000.0, 'gamma': 10.0}\n",
      "0.545455 (0.006349) with: {'C': 100000.0, 'gamma': 100.0}\n",
      "0.545455 (0.006349) with: {'C': 100000.0, 'gamma': 1000.0}\n",
      "0.545455 (0.006349) with: {'C': 1000000.0, 'gamma': 0.1}\n",
      "0.545455 (0.006349) with: {'C': 1000000.0, 'gamma': 1.0}\n",
      "0.545455 (0.006349) with: {'C': 1000000.0, 'gamma': 10.0}\n",
      "0.545455 (0.006349) with: {'C': 1000000.0, 'gamma': 100.0}\n",
      "0.545455 (0.006349) with: {'C': 1000000.0, 'gamma': 1000.0}\n",
      "0.545455 (0.006349) with: {'C': 10000000.0, 'gamma': 0.1}\n",
      "0.545455 (0.006349) with: {'C': 10000000.0, 'gamma': 1.0}\n",
      "0.545455 (0.006349) with: {'C': 10000000.0, 'gamma': 10.0}\n",
      "0.545455 (0.006349) with: {'C': 10000000.0, 'gamma': 100.0}\n",
      "0.545455 (0.006349) with: {'C': 10000000.0, 'gamma': 1000.0}\n",
      "0.541322 (0.006110) with: {'C': 1.0, 'gamma': 0.01}\n",
      "0.541322 (0.024963) with: {'C': 100.0, 'gamma': 0.0001}\n",
      "0.528926 (0.021055) with: {'C': 10.0, 'gamma': 0.01}\n",
      "0.528926 (0.021055) with: {'C': 100.0, 'gamma': 0.01}\n",
      "0.528926 (0.021055) with: {'C': 1000.0, 'gamma': 0.01}\n",
      "0.528926 (0.021055) with: {'C': 10000.0, 'gamma': 0.01}\n",
      "0.528926 (0.021055) with: {'C': 100000.0, 'gamma': 0.01}\n",
      "0.528926 (0.021055) with: {'C': 1000000.0, 'gamma': 0.01}\n",
      "0.528926 (0.021055) with: {'C': 10000000.0, 'gamma': 0.01}\n",
      "0.524793 (0.026396) with: {'C': 1000.0, 'gamma': 0.0001}\n",
      "0.516529 (0.029186) with: {'C': 100000.0, 'gamma': 0.0001}\n",
      "0.516529 (0.015558) with: {'C': 1000000.0, 'gamma': 1e-05}\n",
      "0.516529 (0.029186) with: {'C': 1000000.0, 'gamma': 0.0001}\n",
      "0.516529 (0.029186) with: {'C': 10000000.0, 'gamma': 0.0001}\n",
      "0.508264 (0.035685) with: {'C': 10000.0, 'gamma': 0.0001}\n",
      "0.500000 (0.017569) with: {'C': 10000000.0, 'gamma': 1e-05}\n",
      "0.479339 (0.031088) with: {'C': 10.0, 'gamma': 0.001}\n",
      "0.479339 (0.041059) with: {'C': 100.0, 'gamma': 0.001}\n",
      "0.475207 (0.036699) with: {'C': 1000.0, 'gamma': 0.001}\n",
      "0.475207 (0.036699) with: {'C': 10000.0, 'gamma': 0.001}\n",
      "0.475207 (0.036699) with: {'C': 100000.0, 'gamma': 0.001}\n",
      "0.475207 (0.036699) with: {'C': 1000000.0, 'gamma': 0.001}\n",
      "0.475207 (0.036699) with: {'C': 10000000.0, 'gamma': 0.001}\n",
      "0.6818181818181818\n",
      "0.5573770491803278\n"
     ]
    }
   ],
   "source": [
    "C_range = 10. ** np.arange(-3, 8)\n",
    "gamma_range = 10. ** np.arange(-5, 4)\n",
    "param_grid = dict(C = C_range, gamma = gamma_range)\n",
    "grid_svc = GridSearchCV(estimator=svm_c, param_grid=param_grid)\n",
    "grid_result_svc = grid_svc.fit(training_set, training_set_labels)\n",
    "\n",
    "\n",
    "print(\"Best: %f using %s\" % (grid_result_svc.best_score_, grid_result_svc.best_params_))\n",
    "means = grid_result_svc.cv_results_['mean_test_score']\n",
    "stds = grid_result_svc.cv_results_['std_test_score']\n",
    "params = grid_result_svc.cv_results_['params']\n",
    "results = zip(means, stds, params)\n",
    "for mean, stdev, param in sorted(results, key=lambda x: x[0], reverse=True):\n",
    "    print(\"%f (%f) with: %r\" % (mean, stdev, param))\n",
    "    \n",
    "\n",
    "predicted_training_set_labels = grid_svc.predict(training_set)\n",
    "predicted_training_set_labels = pd.DataFrame(predicted_training_set_labels) \n",
    "training_set_acc=accuracy_score(training_set_labels, predicted_training_set_labels)\n",
    "\n",
    "predicted_testing_set_labels = grid_svc.predict(testing_set)\n",
    "predicted_testing_set_labels = pd.DataFrame(predicted_testing_set_labels)\n",
    "testing_set_acc=accuracy_score(testing_set_labels, predicted_testing_set_labels)\n",
    "\n",
    "print(training_set_acc)\n",
    "print(testing_set_acc)"
   ]
  },
  {
   "cell_type": "code",
   "execution_count": 23,
   "metadata": {},
   "outputs": [
    {
     "name": "stdout",
     "output_type": "stream",
     "text": [
      "             precision    recall  f1-score   support\n",
      "\n",
      "    class 0       0.77      0.94      0.85        32\n",
      "    class 1       0.31      0.33      0.32        12\n",
      "    class 2       0.00      0.00      0.00         6\n",
      "    class 3       0.00      0.00      0.00         8\n",
      "    class 4       0.00      0.00      0.00         3\n",
      "\n",
      "avg / total       0.46      0.56      0.51        61\n",
      "\n"
     ]
    }
   ],
   "source": [
    "print(classification_report(testing_set_labels, predicted_testing_set_labels, target_names=target_names))"
   ]
  },
  {
   "cell_type": "code",
   "execution_count": 24,
   "metadata": {},
   "outputs": [],
   "source": [
    "# ax = plot.grid_search(grid_svc.grid_scores_, change=('C', 'gamma'))\n",
    "# fig = ax.get_figure()\n",
    "# fig.set_size_inches(18.5, 10.5)\n",
    "# fig.savefig('dataset2_svm.png')\n",
    "# fig.clf()"
   ]
  },
  {
   "cell_type": "code",
   "execution_count": 25,
   "metadata": {},
   "outputs": [
    {
     "name": "stdout",
     "output_type": "stream",
     "text": [
      "Best: 0.599174 using {'C': 1000000.0}\n",
      "0.599174 (0.018615) with: {'C': 1000000.0}\n",
      "0.582645 (0.015370) with: {'C': 10000000.0}\n",
      "0.566116 (0.020946) with: {'C': 0.001}\n",
      "0.541322 (0.030546) with: {'C': 0.01}\n",
      "0.541322 (0.099943) with: {'C': 1.0}\n",
      "0.500000 (0.040656) with: {'C': 0.1}\n",
      "0.483471 (0.155337) with: {'C': 100.0}\n",
      "0.433884 (0.235415) with: {'C': 1000.0}\n",
      "0.421488 (0.214435) with: {'C': 100000.0}\n",
      "0.417355 (0.112009) with: {'C': 10000.0}\n",
      "0.359504 (0.035863) with: {'C': 10.0}\n",
      "0.39669421487603307\n",
      "0.4098360655737705\n"
     ]
    }
   ],
   "source": [
    "linear_svc=svm.LinearSVC()\n",
    "C_range = 10. ** np.arange(-3, 8)\n",
    "\n",
    "param_grid = dict(C = C_range)\n",
    "grid_linear_svc = GridSearchCV(estimator=linear_svc, param_grid=param_grid)\n",
    "grid_result_linear_svc = grid_linear_svc.fit(training_set, training_set_labels)\n",
    "\n",
    "\n",
    "print(\"Best: %f using %s\" % (grid_result_linear_svc.best_score_, grid_result_linear_svc.best_params_))\n",
    "means = grid_result_linear_svc.cv_results_['mean_test_score']\n",
    "stds = grid_result_linear_svc.cv_results_['std_test_score']\n",
    "params = grid_result_linear_svc.cv_results_['params']\n",
    "results = zip(means, stds, params)\n",
    "for mean, stdev, param in sorted(results, key=lambda x: x[0], reverse=True):\n",
    "    print(\"%f (%f) with: %r\" % (mean, stdev, param))\n",
    "    \n",
    "\n",
    "predicted_training_set_labels = grid_result_linear_svc.predict(training_set)\n",
    "predicted_training_set_labels = pd.DataFrame(predicted_training_set_labels) \n",
    "training_set_acc=accuracy_score(training_set_labels, predicted_training_set_labels)\n",
    "\n",
    "predicted_testing_set_labels = grid_result_linear_svc.predict(testing_set)\n",
    "predicted_testing_set_labels = pd.DataFrame(predicted_testing_set_labels)\n",
    "testing_set_acc=accuracy_score(testing_set_labels, predicted_testing_set_labels)\n",
    "\n",
    "print(training_set_acc)\n",
    "print(testing_set_acc)"
   ]
  },
  {
   "cell_type": "code",
   "execution_count": 26,
   "metadata": {},
   "outputs": [
    {
     "name": "stdout",
     "output_type": "stream",
     "text": [
      "             precision    recall  f1-score   support\n",
      "\n",
      "    class 0       0.81      0.53      0.64        32\n",
      "    class 1       0.00      0.00      0.00        12\n",
      "    class 2       0.00      0.00      0.00         6\n",
      "    class 3       0.20      1.00      0.33         8\n",
      "    class 4       0.00      0.00      0.00         3\n",
      "\n",
      "avg / total       0.45      0.41      0.38        61\n",
      "\n"
     ]
    },
    {
     "name": "stderr",
     "output_type": "stream",
     "text": [
      "/Users/tomhuang/.local/share/virtualenvs/assignment1-2RDWss_u/lib/python3.6/site-packages/sklearn/metrics/classification.py:1135: UndefinedMetricWarning: Precision and F-score are ill-defined and being set to 0.0 in labels with no predicted samples.\n",
      "  'precision', 'predicted', average, warn_for)\n"
     ]
    }
   ],
   "source": [
    "print(classification_report(testing_set_labels, predicted_testing_set_labels, target_names=target_names))"
   ]
  },
  {
   "cell_type": "code",
   "execution_count": 27,
   "metadata": {},
   "outputs": [
    {
     "data": {
      "image/png": "[encoded data removed]",
      "text/plain": [
       "<Figure size 432x288 with 1 Axes>"
      ]
     },
     "metadata": {
      "needs_background": "light"
     },
     "output_type": "display_data"
    }
   ],
   "source": [
    "# upsampling data\n",
    "training_set2, testing_set2 = loadData.loadDataWithoutTestSet('processed.cleveland.data', split_to_test=True)\n",
    "class_0 = training_set2[training_set2['cancerPresence']==0]\n",
    "num=len(class_0)\n",
    "class_1 = training_set2[training_set2['cancerPresence']==1]\n",
    "class_2 = training_set2[training_set2['cancerPresence']==2]\n",
    "class_3 = training_set2[training_set2['cancerPresence']==3]\n",
    "class_4 = training_set2[training_set2['cancerPresence']==4]\n",
    "class_1_upsampled = resample(class_1, \n",
    "                                 replace=True,   \n",
    "                                 n_samples=num,   \n",
    "                                 random_state=123)\n",
    "class_2_upsampled = resample(class_2, \n",
    "                                 replace=True,   \n",
    "                                 n_samples=num,   \n",
    "                                 random_state=123)\n",
    "class_3_upsampled = resample(class_3, \n",
    "                                 replace=True,   \n",
    "                                 n_samples=num,   \n",
    "                                 random_state=123)\n",
    "class_4_upsampled = resample(class_4, \n",
    "                                 replace=True,   \n",
    "                                 n_samples=num,   \n",
    "                                 random_state=123)\n",
    "training_set_upsampled=pd.concat([class_0, class_1_upsampled, class_2_upsampled, class_3_upsampled, class_4_upsampled])\n",
    "training_set_upsampled_labels = training_set_upsampled.iloc[:,-1]\n",
    "training_set_upsampled = training_set_upsampled.iloc[:,0:-1]\n",
    "\n",
    "training_set_upsampled_labels.reset_index(drop=True, inplace=True)\n",
    "training_set_upsampled.reset_index(drop=True, inplace=True)\n",
    "training_set_upsampled.replace('?',0, inplace=True)\n",
    "\n",
    "training_set_upsampled[['ca','thal']] = training_set_upsampled[['ca','thal']].apply(pd.to_numeric)\n",
    "\n",
    "\n",
    "plt.bar(['0','1', '2', '3', '4'],[len(training_set_upsampled_labels[training_set_upsampled_labels==0]), \n",
    "         len(training_set_upsampled_labels[training_set_upsampled_labels==1]), \n",
    "             len(training_set_upsampled_labels[training_set_upsampled_labels==2]),\n",
    "                len(training_set_upsampled_labels[training_set_upsampled_labels==3]),\n",
    "                   len(training_set_upsampled_labels[training_set_upsampled_labels==4])])\n",
    "plt.title('Upsampled Training Set Label Distribution')\n",
    "plt.show()\n",
    "\n",
    "metrics=[]"
   ]
  },
  {
   "cell_type": "code",
   "execution_count": 28,
   "metadata": {},
   "outputs": [
    {
     "name": "stdout",
     "output_type": "stream",
     "text": [
      "Best: 0.914074 using {'criterion': 'entropy', 'min_samples_leaf': 1, 'min_samples_split': 2, 'splitter': 'random'}\n",
      "0.914074 (0.014666) with: {'criterion': 'entropy', 'min_samples_leaf': 1, 'min_samples_split': 2, 'splitter': 'random'}\n",
      "0.908148 (0.014666) with: {'criterion': 'entropy', 'min_samples_leaf': 1, 'min_samples_split': 2, 'splitter': 'best'}\n",
      "0.903704 (0.018265) with: {'criterion': 'entropy', 'min_samples_leaf': 1, 'min_samples_split': 4, 'splitter': 'best'}\n",
      "0.900741 (0.024162) with: {'criterion': 'entropy', 'min_samples_leaf': 1, 'min_samples_split': 3, 'splitter': 'best'}\n",
      "0.899259 (0.017149) with: {'criterion': 'gini', 'min_samples_leaf': 1, 'min_samples_split': 3, 'splitter': 'best'}\n",
      "0.897778 (0.020205) with: {'criterion': 'gini', 'min_samples_leaf': 1, 'min_samples_split': 3, 'splitter': 'random'}\n",
      "0.896296 (0.035617) with: {'criterion': 'gini', 'min_samples_leaf': 1, 'min_samples_split': 2, 'splitter': 'random'}\n",
      "0.894815 (0.025745) with: {'criterion': 'gini', 'min_samples_leaf': 1, 'min_samples_split': 2, 'splitter': 'best'}\n",
      "0.891852 (0.032928) with: {'criterion': 'gini', 'min_samples_leaf': 1, 'min_samples_split': 4, 'splitter': 'random'}\n",
      "0.887407 (0.018265) with: {'criterion': 'entropy', 'min_samples_leaf': 1, 'min_samples_split': 3, 'splitter': 'random'}\n",
      "0.880000 (0.018856) with: {'criterion': 'entropy', 'min_samples_leaf': 1, 'min_samples_split': 4, 'splitter': 'random'}\n",
      "0.868148 (0.021263) with: {'criterion': 'gini', 'min_samples_leaf': 1, 'min_samples_split': 4, 'splitter': 'best'}\n",
      "0.856296 (0.026252) with: {'criterion': 'gini', 'min_samples_leaf': 2, 'min_samples_split': 4, 'splitter': 'random'}\n",
      "0.853333 (0.025402) with: {'criterion': 'gini', 'min_samples_leaf': 2, 'min_samples_split': 2, 'splitter': 'best'}\n",
      "0.851852 (0.021874) with: {'criterion': 'entropy', 'min_samples_leaf': 2, 'min_samples_split': 2, 'splitter': 'random'}\n",
      "0.851852 (0.012744) with: {'criterion': 'entropy', 'min_samples_leaf': 2, 'min_samples_split': 3, 'splitter': 'best'}\n",
      "0.850370 (0.024701) with: {'criterion': 'gini', 'min_samples_leaf': 2, 'min_samples_split': 3, 'splitter': 'best'}\n",
      "0.850370 (0.031705) with: {'criterion': 'entropy', 'min_samples_leaf': 2, 'min_samples_split': 3, 'splitter': 'random'}\n",
      "0.848889 (0.013084) with: {'criterion': 'entropy', 'min_samples_leaf': 2, 'min_samples_split': 4, 'splitter': 'best'}\n",
      "0.842963 (0.018622) with: {'criterion': 'entropy', 'min_samples_leaf': 2, 'min_samples_split': 2, 'splitter': 'best'}\n",
      "0.841481 (0.034299) with: {'criterion': 'gini', 'min_samples_leaf': 2, 'min_samples_split': 4, 'splitter': 'best'}\n",
      "0.841481 (0.011086) with: {'criterion': 'entropy', 'min_samples_leaf': 3, 'min_samples_split': 4, 'splitter': 'best'}\n",
      "0.840000 (0.009601) with: {'criterion': 'gini', 'min_samples_leaf': 2, 'min_samples_split': 3, 'splitter': 'random'}\n",
      "0.840000 (0.014515) with: {'criterion': 'entropy', 'min_samples_leaf': 3, 'min_samples_split': 3, 'splitter': 'best'}\n",
      "0.835556 (0.013084) with: {'criterion': 'entropy', 'min_samples_leaf': 3, 'min_samples_split': 2, 'splitter': 'best'}\n",
      "0.832593 (0.031705) with: {'criterion': 'gini', 'min_samples_leaf': 3, 'min_samples_split': 3, 'splitter': 'best'}\n",
      "0.832593 (0.011665) with: {'criterion': 'entropy', 'min_samples_leaf': 2, 'min_samples_split': 4, 'splitter': 'random'}\n",
      "0.826667 (0.032254) with: {'criterion': 'gini', 'min_samples_leaf': 2, 'min_samples_split': 2, 'splitter': 'random'}\n",
      "0.826667 (0.036829) with: {'criterion': 'gini', 'min_samples_leaf': 3, 'min_samples_split': 4, 'splitter': 'best'}\n",
      "0.825185 (0.029555) with: {'criterion': 'entropy', 'min_samples_leaf': 3, 'min_samples_split': 4, 'splitter': 'random'}\n",
      "0.823704 (0.037771) with: {'criterion': 'gini', 'min_samples_leaf': 3, 'min_samples_split': 2, 'splitter': 'best'}\n",
      "0.820741 (0.024162) with: {'criterion': 'entropy', 'min_samples_leaf': 4, 'min_samples_split': 4, 'splitter': 'best'}\n",
      "0.819259 (0.020635) with: {'criterion': 'entropy', 'min_samples_leaf': 4, 'min_samples_split': 3, 'splitter': 'best'}\n",
      "0.817778 (0.022662) with: {'criterion': 'entropy', 'min_samples_leaf': 4, 'min_samples_split': 2, 'splitter': 'best'}\n",
      "0.813333 (0.021773) with: {'criterion': 'gini', 'min_samples_leaf': 4, 'min_samples_split': 4, 'splitter': 'best'}\n",
      "0.811852 (0.052879) with: {'criterion': 'gini', 'min_samples_leaf': 3, 'min_samples_split': 3, 'splitter': 'random'}\n",
      "0.810370 (0.016761) with: {'criterion': 'entropy', 'min_samples_leaf': 3, 'min_samples_split': 3, 'splitter': 'random'}\n",
      "0.807407 (0.023330) with: {'criterion': 'gini', 'min_samples_leaf': 4, 'min_samples_split': 3, 'splitter': 'best'}\n",
      "0.804444 (0.018144) with: {'criterion': 'entropy', 'min_samples_leaf': 3, 'min_samples_split': 2, 'splitter': 'random'}\n",
      "0.802963 (0.021874) with: {'criterion': 'gini', 'min_samples_leaf': 3, 'min_samples_split': 2, 'splitter': 'random'}\n",
      "0.801481 (0.028187) with: {'criterion': 'gini', 'min_samples_leaf': 4, 'min_samples_split': 2, 'splitter': 'best'}\n",
      "0.791111 (0.015818) with: {'criterion': 'gini', 'min_samples_leaf': 4, 'min_samples_split': 2, 'splitter': 'random'}\n",
      "0.791111 (0.015818) with: {'criterion': 'entropy', 'min_samples_leaf': 5, 'min_samples_split': 4, 'splitter': 'best'}\n",
      "0.789630 (0.012744) with: {'criterion': 'gini', 'min_samples_leaf': 3, 'min_samples_split': 4, 'splitter': 'random'}\n",
      "0.785185 (0.020635) with: {'criterion': 'entropy', 'min_samples_leaf': 5, 'min_samples_split': 2, 'splitter': 'best'}\n",
      "0.783704 (0.015108) with: {'criterion': 'entropy', 'min_samples_leaf': 5, 'min_samples_split': 3, 'splitter': 'best'}\n",
      "0.777778 (0.043998) with: {'criterion': 'entropy', 'min_samples_leaf': 4, 'min_samples_split': 3, 'splitter': 'random'}\n",
      "0.770370 (0.023330) with: {'criterion': 'entropy', 'min_samples_leaf': 4, 'min_samples_split': 4, 'splitter': 'random'}\n",
      "0.767407 (0.019986) with: {'criterion': 'gini', 'min_samples_leaf': 5, 'min_samples_split': 3, 'splitter': 'best'}\n",
      "0.764444 (0.039252) with: {'criterion': 'gini', 'min_samples_leaf': 4, 'min_samples_split': 4, 'splitter': 'random'}\n",
      "0.764444 (0.022074) with: {'criterion': 'gini', 'min_samples_leaf': 5, 'min_samples_split': 4, 'splitter': 'best'}\n",
      "0.761481 (0.024162) with: {'criterion': 'gini', 'min_samples_leaf': 5, 'min_samples_split': 2, 'splitter': 'best'}\n",
      "0.760000 (0.039252) with: {'criterion': 'entropy', 'min_samples_leaf': 4, 'min_samples_split': 2, 'splitter': 'random'}\n",
      "0.748148 (0.009132) with: {'criterion': 'gini', 'min_samples_leaf': 4, 'min_samples_split': 3, 'splitter': 'random'}\n",
      "0.739259 (0.045950) with: {'criterion': 'gini', 'min_samples_leaf': 5, 'min_samples_split': 4, 'splitter': 'random'}\n",
      "0.725926 (0.049402) with: {'criterion': 'entropy', 'min_samples_leaf': 5, 'min_samples_split': 2, 'splitter': 'random'}\n",
      "0.725926 (0.005543) with: {'criterion': 'entropy', 'min_samples_leaf': 5, 'min_samples_split': 4, 'splitter': 'random'}\n",
      "0.715556 (0.041216) with: {'criterion': 'gini', 'min_samples_leaf': 5, 'min_samples_split': 3, 'splitter': 'random'}\n",
      "0.708148 (0.014666) with: {'criterion': 'gini', 'min_samples_leaf': 5, 'min_samples_split': 2, 'splitter': 'random'}\n",
      "0.700741 (0.005543) with: {'criterion': 'entropy', 'min_samples_leaf': 5, 'min_samples_split': 3, 'splitter': 'random'}\n"
     ]
    }
   ],
   "source": [
    "criterion = ['gini', 'entropy']\n",
    "splitter  = ['best','random']\n",
    "min_samples_split = [2, 3, 4]\n",
    "min_samples_leaf = [1, 2, 3, 4, 5]\n",
    "param_grid = dict(criterion = criterion, splitter = splitter, min_samples_split=min_samples_split, min_samples_leaf=min_samples_leaf)\n",
    "grid_dtc = GridSearchCV(estimator=dtc, param_grid=param_grid)\n",
    "grid_result_dtc = grid_dtc.fit(training_set_upsampled, training_set_upsampled_labels)\n",
    "\n",
    "\n",
    "print(\"Best: %f using %s\" % (grid_result_dtc.best_score_, grid_result_dtc.best_params_))\n",
    "means = grid_result_dtc.cv_results_['mean_test_score']\n",
    "stds = grid_result_dtc.cv_results_['std_test_score']\n",
    "params = grid_result_dtc.cv_results_['params']\n",
    "results = zip(means, stds, params)\n",
    "for mean, stdev, param in sorted(results, key=lambda x: x[0], reverse=True):\n",
    "    print(\"%f (%f) with: %r\" % (mean, stdev, param))\n",
    "\n",
    "predicted_testing_set_labels = grid_dtc.predict(testing_set)\n",
    "predicted_testing_set_labels = pd.DataFrame(predicted_testing_set_labels)\n",
    "testing_set_acc=accuracy_score(testing_set_labels, predicted_testing_set_labels)\n"
   ]
  },
  {
   "cell_type": "code",
   "execution_count": 29,
   "metadata": {},
   "outputs": [
    {
     "name": "stderr",
     "output_type": "stream",
     "text": [
      "/Users/tomhuang/.local/share/virtualenvs/assignment1-2RDWss_u/lib/python3.6/site-packages/sklearn/model_selection/_search.py:762: DeprecationWarning: The grid_scores_ attribute was deprecated in version 0.18 in favor of the more elaborate cv_results_ attribute. The grid_scores_ attribute will not be available from 0.20\n",
      "  DeprecationWarning)\n",
      "/Users/tomhuang/.local/share/virtualenvs/assignment1-2RDWss_u/lib/python3.6/site-packages/sklearn/model_selection/_search.py:762: DeprecationWarning: The grid_scores_ attribute was deprecated in version 0.18 in favor of the more elaborate cv_results_ attribute. The grid_scores_ attribute will not be available from 0.20\n",
      "  DeprecationWarning)\n",
      "/Users/tomhuang/.local/share/virtualenvs/assignment1-2RDWss_u/lib/python3.6/site-packages/sklearn/model_selection/_search.py:762: DeprecationWarning: The grid_scores_ attribute was deprecated in version 0.18 in favor of the more elaborate cv_results_ attribute. The grid_scores_ attribute will not be available from 0.20\n",
      "  DeprecationWarning)\n",
      "/Users/tomhuang/.local/share/virtualenvs/assignment1-2RDWss_u/lib/python3.6/site-packages/sklearn/model_selection/_search.py:762: DeprecationWarning: The grid_scores_ attribute was deprecated in version 0.18 in favor of the more elaborate cv_results_ attribute. The grid_scores_ attribute will not be available from 0.20\n",
      "  DeprecationWarning)\n"
     ]
    },
    {
     "data": {
      "text/plain": [
       "<Figure size 720x576 with 0 Axes>"
      ]
     },
     "metadata": {},
     "output_type": "display_data"
    }
   ],
   "source": [
    "ax = plot.grid_search(grid_dtc.grid_scores_, change=('min_samples_leaf', 'min_samples_split'), \n",
    "                      subset={'criterion': 'entropy', 'splitter': 'random'})\n",
    "fig = ax.get_figure()\n",
    "fig.set_size_inches(10, 8)\n",
    "fig.savefig('dataset2_dtc1.png')\n",
    "fig.clf()\n",
    "ax = plot.grid_search(grid_dtc.grid_scores_, change=('min_samples_leaf', 'min_samples_split'), \n",
    "                      subset={'criterion': 'gini', 'splitter': 'random'})\n",
    "fig = ax.get_figure()\n",
    "fig.set_size_inches(10, 8)\n",
    "fig.savefig('dataset2_dtc2.png')\n",
    "fig.clf()\n",
    "ax = plot.grid_search(grid_dtc.grid_scores_, change=('min_samples_leaf', 'min_samples_split'), \n",
    "                      subset={'criterion': 'entropy', 'splitter': 'best'})\n",
    "fig = ax.get_figure()\n",
    "fig.set_size_inches(10, 8)\n",
    "fig.savefig('dataset2_dtc3.png')\n",
    "fig.clf()\n",
    "ax = plot.grid_search(grid_dtc.grid_scores_, change=('min_samples_leaf', 'min_samples_split'), \n",
    "                      subset={'criterion': 'gini', 'splitter': 'best'})\n",
    "fig = ax.get_figure()\n",
    "fig.set_size_inches(10, 8)\n",
    "fig.savefig('dataset2_dtc4.png')\n",
    "fig.clf()"
   ]
  },
  {
   "cell_type": "code",
   "execution_count": 30,
   "metadata": {},
   "outputs": [
    {
     "name": "stdout",
     "output_type": "stream",
     "text": [
      "             precision    recall  f1-score   support\n",
      "\n",
      "    class 0       0.89      0.97      0.93        32\n",
      "    class 1       0.89      0.67      0.76        12\n",
      "    class 2       0.71      0.83      0.77         6\n",
      "    class 3       0.83      0.62      0.71         8\n",
      "    class 4       0.75      1.00      0.86         3\n",
      "\n",
      "avg / total       0.86      0.85      0.85        61\n",
      "\n"
     ]
    }
   ],
   "source": [
    "print(classification_report(testing_set_labels, predicted_testing_set_labels, target_names=target_names))\n",
    "metrics.append(precision_recall_fscore_support(testing_set_labels, predicted_testing_set_labels, average='weighted'))"
   ]
  },
  {
   "cell_type": "code",
   "execution_count": 31,
   "metadata": {},
   "outputs": [],
   "source": [
    "dtc = tree.DecisionTreeClassifier(criterion= 'entropy', min_samples_leaf= 1, min_samples_split= 2, splitter= 'random')\n",
    "dtc.fit(training_set, training_set_labels)\n",
    "dot_data = tree.export_graphviz(dtc, out_file='dataset2_tree.dot', feature_names=training_set.columns, \n",
    "                                filled=True, rounded=True)  \n",
    "graph = graphviz.Source(dot_data)\n",
    "from subprocess import check_call\n",
    "# check_call(['dot','-Tpng','dataset2_tree.dot','-o','dataset2_tree.png'])"
   ]
  },
  {
   "cell_type": "code",
   "execution_count": 32,
   "metadata": {},
   "outputs": [
    {
     "name": "stdout",
     "output_type": "stream",
     "text": [
      "Best: 0.952593 using {'C': 1.0, 'gamma': 0.1}\n",
      "0.952593 (0.019986) with: {'C': 1.0, 'gamma': 0.1}\n",
      "0.952593 (0.019986) with: {'C': 1.0, 'gamma': 1.0}\n",
      "0.952593 (0.019986) with: {'C': 1.0, 'gamma': 10.0}\n",
      "0.952593 (0.019986) with: {'C': 1.0, 'gamma': 100.0}\n",
      "0.952593 (0.019986) with: {'C': 1.0, 'gamma': 1000.0}\n",
      "0.952593 (0.019986) with: {'C': 10.0, 'gamma': 0.1}\n",
      "0.952593 (0.019986) with: {'C': 10.0, 'gamma': 1.0}\n",
      "0.952593 (0.019986) with: {'C': 10.0, 'gamma': 10.0}\n",
      "0.952593 (0.019986) with: {'C': 10.0, 'gamma': 100.0}\n",
      "0.952593 (0.019986) with: {'C': 10.0, 'gamma': 1000.0}\n",
      "0.952593 (0.019986) with: {'C': 100.0, 'gamma': 0.1}\n",
      "0.952593 (0.019986) with: {'C': 100.0, 'gamma': 1.0}\n",
      "0.952593 (0.019986) with: {'C': 100.0, 'gamma': 10.0}\n",
      "0.952593 (0.019986) with: {'C': 100.0, 'gamma': 100.0}\n",
      "0.952593 (0.019986) with: {'C': 100.0, 'gamma': 1000.0}\n",
      "0.952593 (0.019986) with: {'C': 1000.0, 'gamma': 0.1}\n",
      "0.952593 (0.019986) with: {'C': 1000.0, 'gamma': 1.0}\n",
      "0.952593 (0.019986) with: {'C': 1000.0, 'gamma': 10.0}\n",
      "0.952593 (0.019986) with: {'C': 1000.0, 'gamma': 100.0}\n",
      "0.952593 (0.019986) with: {'C': 1000.0, 'gamma': 1000.0}\n",
      "0.952593 (0.019986) with: {'C': 10000.0, 'gamma': 0.1}\n",
      "0.952593 (0.019986) with: {'C': 10000.0, 'gamma': 1.0}\n",
      "0.952593 (0.019986) with: {'C': 10000.0, 'gamma': 10.0}\n",
      "0.952593 (0.019986) with: {'C': 10000.0, 'gamma': 100.0}\n",
      "0.952593 (0.019986) with: {'C': 10000.0, 'gamma': 1000.0}\n",
      "0.952593 (0.019986) with: {'C': 100000.0, 'gamma': 0.1}\n",
      "0.952593 (0.019986) with: {'C': 100000.0, 'gamma': 1.0}\n",
      "0.952593 (0.019986) with: {'C': 100000.0, 'gamma': 10.0}\n",
      "0.952593 (0.019986) with: {'C': 100000.0, 'gamma': 100.0}\n",
      "0.952593 (0.019986) with: {'C': 100000.0, 'gamma': 1000.0}\n",
      "0.952593 (0.019986) with: {'C': 1000000.0, 'gamma': 0.1}\n",
      "0.952593 (0.019986) with: {'C': 1000000.0, 'gamma': 1.0}\n",
      "0.952593 (0.019986) with: {'C': 1000000.0, 'gamma': 10.0}\n",
      "0.952593 (0.019986) with: {'C': 1000000.0, 'gamma': 100.0}\n",
      "0.952593 (0.019986) with: {'C': 1000000.0, 'gamma': 1000.0}\n",
      "0.952593 (0.019986) with: {'C': 10000000.0, 'gamma': 0.1}\n",
      "0.952593 (0.019986) with: {'C': 10000000.0, 'gamma': 1.0}\n",
      "0.952593 (0.019986) with: {'C': 10000000.0, 'gamma': 10.0}\n",
      "0.952593 (0.019986) with: {'C': 10000000.0, 'gamma': 100.0}\n",
      "0.952593 (0.019986) with: {'C': 10000000.0, 'gamma': 1000.0}\n",
      "0.939259 (0.019986) with: {'C': 10.0, 'gamma': 0.01}\n",
      "0.939259 (0.019986) with: {'C': 100.0, 'gamma': 0.01}\n",
      "0.939259 (0.019986) with: {'C': 1000.0, 'gamma': 0.01}\n",
      "0.939259 (0.019986) with: {'C': 10000.0, 'gamma': 0.01}\n",
      "0.939259 (0.019986) with: {'C': 100000.0, 'gamma': 0.01}\n",
      "0.939259 (0.019986) with: {'C': 1000000.0, 'gamma': 0.01}\n",
      "0.939259 (0.019986) with: {'C': 10000000.0, 'gamma': 0.01}\n",
      "0.930370 (0.018265) with: {'C': 1.0, 'gamma': 0.01}\n",
      "0.908148 (0.024162) with: {'C': 10000000.0, 'gamma': 1e-05}\n",
      "0.903704 (0.030434) with: {'C': 100000.0, 'gamma': 0.0001}\n",
      "0.903704 (0.030434) with: {'C': 1000000.0, 'gamma': 0.0001}\n",
      "0.903704 (0.030434) with: {'C': 10000000.0, 'gamma': 0.0001}\n",
      "0.900741 (0.037244) with: {'C': 10000.0, 'gamma': 0.0001}\n",
      "0.893333 (0.032254) with: {'C': 1000000.0, 'gamma': 1e-05}\n",
      "0.882963 (0.050847) with: {'C': 1000.0, 'gamma': 0.001}\n",
      "0.882963 (0.050847) with: {'C': 10000.0, 'gamma': 0.001}\n",
      "0.882963 (0.050847) with: {'C': 100000.0, 'gamma': 0.001}\n",
      "0.882963 (0.050847) with: {'C': 1000000.0, 'gamma': 0.001}\n",
      "0.882963 (0.050847) with: {'C': 10000000.0, 'gamma': 0.001}\n",
      "0.880000 (0.047592) with: {'C': 100.0, 'gamma': 0.001}\n",
      "0.865185 (0.023330) with: {'C': 1000.0, 'gamma': 0.0001}\n",
      "0.862222 (0.043998) with: {'C': 100000.0, 'gamma': 1e-05}\n",
      "0.840000 (0.036829) with: {'C': 10.0, 'gamma': 0.001}\n",
      "0.826667 (0.010887) with: {'C': 10000.0, 'gamma': 1e-05}\n",
      "0.765926 (0.038118) with: {'C': 100.0, 'gamma': 0.0001}\n",
      "0.751111 (0.041850) with: {'C': 0.001, 'gamma': 0.01}\n",
      "0.751111 (0.041850) with: {'C': 0.01, 'gamma': 0.01}\n",
      "0.751111 (0.041850) with: {'C': 0.1, 'gamma': 0.01}\n",
      "0.674074 (0.030216) with: {'C': 1.0, 'gamma': 0.001}\n",
      "0.668148 (0.049001) with: {'C': 0.001, 'gamma': 0.1}\n",
      "0.668148 (0.049001) with: {'C': 0.01, 'gamma': 0.1}\n",
      "0.668148 (0.049001) with: {'C': 0.1, 'gamma': 0.1}\n",
      "0.668148 (0.049001) with: {'C': 0.1, 'gamma': 1.0}\n",
      "0.668148 (0.049001) with: {'C': 0.1, 'gamma': 10.0}\n",
      "0.668148 (0.049001) with: {'C': 0.1, 'gamma': 100.0}\n",
      "0.668148 (0.049001) with: {'C': 0.1, 'gamma': 1000.0}\n",
      "0.654815 (0.052879) with: {'C': 0.001, 'gamma': 1.0}\n",
      "0.654815 (0.052879) with: {'C': 0.01, 'gamma': 1.0}\n",
      "0.638519 (0.069456) with: {'C': 0.001, 'gamma': 10.0}\n",
      "0.638519 (0.069456) with: {'C': 0.001, 'gamma': 100.0}\n",
      "0.638519 (0.069456) with: {'C': 0.001, 'gamma': 1000.0}\n",
      "0.638519 (0.069456) with: {'C': 0.01, 'gamma': 10.0}\n",
      "0.638519 (0.069456) with: {'C': 0.01, 'gamma': 100.0}\n",
      "0.638519 (0.069456) with: {'C': 0.01, 'gamma': 1000.0}\n",
      "0.629630 (0.042527) with: {'C': 1000.0, 'gamma': 1e-05}\n",
      "0.564444 (0.012571) with: {'C': 10.0, 'gamma': 0.0001}\n",
      "0.508148 (0.036349) with: {'C': 100.0, 'gamma': 1e-05}\n",
      "0.475556 (0.045325) with: {'C': 0.1, 'gamma': 0.001}\n",
      "0.472593 (0.043294) with: {'C': 0.001, 'gamma': 0.001}\n",
      "0.472593 (0.043294) with: {'C': 0.01, 'gamma': 0.001}\n",
      "0.431111 (0.025402) with: {'C': 10.0, 'gamma': 1e-05}\n",
      "0.416296 (0.017149) with: {'C': 1.0, 'gamma': 0.0001}\n",
      "0.318519 (0.005543) with: {'C': 0.001, 'gamma': 0.0001}\n",
      "0.318519 (0.005543) with: {'C': 0.01, 'gamma': 0.0001}\n",
      "0.318519 (0.004190) with: {'C': 0.1, 'gamma': 0.0001}\n",
      "0.318519 (0.002095) with: {'C': 1.0, 'gamma': 1e-05}\n",
      "0.291852 (0.012744) with: {'C': 0.001, 'gamma': 1e-05}\n",
      "0.291852 (0.012744) with: {'C': 0.01, 'gamma': 1e-05}\n",
      "0.291852 (0.012744) with: {'C': 0.1, 'gamma': 1e-05}\n"
     ]
    }
   ],
   "source": [
    "C_range = 10. ** np.arange(-3, 8)\n",
    "gamma_range = 10. ** np.arange(-5, 4)\n",
    "param_grid = dict(C = C_range, gamma = gamma_range)\n",
    "grid_svc = GridSearchCV(estimator=svm_c, param_grid=param_grid)\n",
    "grid_result_svc = grid_svc.fit(training_set_upsampled, training_set_upsampled_labels)\n",
    "\n",
    "\n",
    "print(\"Best: %f using %s\" % (grid_result_svc.best_score_, grid_result_svc.best_params_))\n",
    "means = grid_result_svc.cv_results_['mean_test_score']\n",
    "stds = grid_result_svc.cv_results_['std_test_score']\n",
    "params = grid_result_svc.cv_results_['params']\n",
    "results = zip(means, stds, params)\n",
    "for mean, stdev, param in sorted(results, key=lambda x: x[0], reverse=True):\n",
    "    print(\"%f (%f) with: %r\" % (mean, stdev, param))\n",
    "    \n",
    "predicted_testing_set_labels = grid_svc.predict(testing_set)\n",
    "predicted_testing_set_labels = pd.DataFrame(predicted_testing_set_labels)\n",
    "testing_set_acc=accuracy_score(testing_set_labels, predicted_testing_set_labels)\n"
   ]
  },
  {
   "cell_type": "code",
   "execution_count": 33,
   "metadata": {},
   "outputs": [
    {
     "name": "stdout",
     "output_type": "stream",
     "text": [
      "             precision    recall  f1-score   support\n",
      "\n",
      "    class 0       0.78      1.00      0.88        32\n",
      "    class 1       1.00      0.67      0.80        12\n",
      "    class 2       1.00      0.67      0.80         6\n",
      "    class 3       1.00      0.62      0.77         8\n",
      "    class 4       1.00      1.00      1.00         3\n",
      "\n",
      "avg / total       0.88      0.85      0.85        61\n",
      "\n"
     ]
    }
   ],
   "source": [
    "print(classification_report(testing_set_labels, predicted_testing_set_labels, target_names=target_names))\n",
    "metrics.append(precision_recall_fscore_support(testing_set_labels, predicted_testing_set_labels, average='weighted'))"
   ]
  },
  {
   "cell_type": "code",
   "execution_count": 34,
   "metadata": {},
   "outputs": [
    {
     "name": "stderr",
     "output_type": "stream",
     "text": [
      "/Users/tomhuang/.local/share/virtualenvs/assignment1-2RDWss_u/lib/python3.6/site-packages/sklearn/model_selection/_search.py:762: DeprecationWarning: The grid_scores_ attribute was deprecated in version 0.18 in favor of the more elaborate cv_results_ attribute. The grid_scores_ attribute will not be available from 0.20\n",
      "  DeprecationWarning)\n"
     ]
    },
    {
     "data": {
      "text/plain": [
       "<Figure size 720x576 with 0 Axes>"
      ]
     },
     "metadata": {},
     "output_type": "display_data"
    }
   ],
   "source": [
    "ax = plot.grid_search(grid_svc.grid_scores_, change=('C', 'gamma'))\n",
    "fig = ax.get_figure()\n",
    "fig.set_size_inches(10, 8)\n",
    "fig.savefig('dataset2_svm.png')\n",
    "fig.clf()"
   ]
  },
  {
   "cell_type": "code",
   "execution_count": 35,
   "metadata": {},
   "outputs": [
    {
     "name": "stdout",
     "output_type": "stream",
     "text": [
      "Best: 0.859259 using {'n_neighbors': 9, 'p': 1, 'weights': 'distance'}\n",
      "0.859259 (0.022173) with: {'n_neighbors': 9, 'p': 1, 'weights': 'distance'}\n",
      "0.857778 (0.023796) with: {'n_neighbors': 5, 'p': 1, 'weights': 'distance'}\n",
      "0.857778 (0.027397) with: {'n_neighbors': 8, 'p': 1, 'weights': 'distance'}\n",
      "0.856296 (0.024162) with: {'n_neighbors': 6, 'p': 1, 'weights': 'distance'}\n",
      "0.856296 (0.027716) with: {'n_neighbors': 7, 'p': 1, 'weights': 'distance'}\n",
      "0.856296 (0.027237) with: {'n_neighbors': 10, 'p': 1, 'weights': 'distance'}\n",
      "0.853333 (0.027397) with: {'n_neighbors': 8, 'p': 2, 'weights': 'distance'}\n",
      "0.850370 (0.027716) with: {'n_neighbors': 9, 'p': 2, 'weights': 'distance'}\n",
      "0.847407 (0.034490) with: {'n_neighbors': 10, 'p': 2, 'weights': 'distance'}\n",
      "0.845926 (0.032727) with: {'n_neighbors': 8, 'p': 3, 'weights': 'distance'}\n",
      "0.844444 (0.029031) with: {'n_neighbors': 9, 'p': 3, 'weights': 'distance'}\n",
      "0.842963 (0.027237) with: {'n_neighbors': 6, 'p': 2, 'weights': 'distance'}\n",
      "0.842963 (0.032928) with: {'n_neighbors': 7, 'p': 2, 'weights': 'distance'}\n",
      "0.842963 (0.030863) with: {'n_neighbors': 7, 'p': 3, 'weights': 'distance'}\n",
      "0.841481 (0.027716) with: {'n_neighbors': 5, 'p': 2, 'weights': 'distance'}\n",
      "0.841481 (0.025488) with: {'n_neighbors': 8, 'p': 4, 'weights': 'distance'}\n",
      "0.840000 (0.023796) with: {'n_neighbors': 5, 'p': 3, 'weights': 'distance'}\n",
      "0.840000 (0.034617) with: {'n_neighbors': 10, 'p': 3, 'weights': 'distance'}\n",
      "0.840000 (0.029704) with: {'n_neighbors': 10, 'p': 4, 'weights': 'distance'}\n",
      "0.838519 (0.025745) with: {'n_neighbors': 7, 'p': 4, 'weights': 'distance'}\n",
      "0.838519 (0.019986) with: {'n_neighbors': 9, 'p': 4, 'weights': 'distance'}\n",
      "0.835556 (0.026168) with: {'n_neighbors': 6, 'p': 3, 'weights': 'distance'}\n",
      "0.834074 (0.028187) with: {'n_neighbors': 5, 'p': 4, 'weights': 'distance'}\n",
      "0.832593 (0.023330) with: {'n_neighbors': 6, 'p': 4, 'weights': 'distance'}\n",
      "0.700741 (0.039973) with: {'n_neighbors': 5, 'p': 3, 'weights': 'uniform'}\n",
      "0.696296 (0.040464) with: {'n_neighbors': 5, 'p': 1, 'weights': 'uniform'}\n",
      "0.694815 (0.036349) with: {'n_neighbors': 5, 'p': 2, 'weights': 'uniform'}\n",
      "0.693333 (0.039918) with: {'n_neighbors': 5, 'p': 4, 'weights': 'uniform'}\n",
      "0.651852 (0.047361) with: {'n_neighbors': 6, 'p': 3, 'weights': 'uniform'}\n",
      "0.648889 (0.029704) with: {'n_neighbors': 6, 'p': 1, 'weights': 'uniform'}\n",
      "0.648889 (0.041850) with: {'n_neighbors': 6, 'p': 2, 'weights': 'uniform'}\n",
      "0.645926 (0.043294) with: {'n_neighbors': 6, 'p': 4, 'weights': 'uniform'}\n",
      "0.635556 (0.052336) with: {'n_neighbors': 7, 'p': 2, 'weights': 'uniform'}\n",
      "0.628148 (0.057416) with: {'n_neighbors': 7, 'p': 3, 'weights': 'uniform'}\n",
      "0.623704 (0.047361) with: {'n_neighbors': 7, 'p': 1, 'weights': 'uniform'}\n",
      "0.619259 (0.052879) with: {'n_neighbors': 7, 'p': 4, 'weights': 'uniform'}\n",
      "0.601481 (0.038802) with: {'n_neighbors': 8, 'p': 2, 'weights': 'uniform'}\n",
      "0.597037 (0.040788) with: {'n_neighbors': 8, 'p': 1, 'weights': 'uniform'}\n",
      "0.594074 (0.056724) with: {'n_neighbors': 8, 'p': 3, 'weights': 'uniform'}\n",
      "0.579259 (0.049269) with: {'n_neighbors': 8, 'p': 4, 'weights': 'uniform'}\n",
      "0.561481 (0.026749) with: {'n_neighbors': 9, 'p': 1, 'weights': 'uniform'}\n",
      "0.543704 (0.038461) with: {'n_neighbors': 9, 'p': 2, 'weights': 'uniform'}\n",
      "0.537778 (0.048822) with: {'n_neighbors': 9, 'p': 3, 'weights': 'uniform'}\n",
      "0.530370 (0.045373) with: {'n_neighbors': 9, 'p': 4, 'weights': 'uniform'}\n",
      "0.520000 (0.034617) with: {'n_neighbors': 10, 'p': 1, 'weights': 'uniform'}\n",
      "0.512593 (0.040464) with: {'n_neighbors': 10, 'p': 2, 'weights': 'uniform'}\n",
      "0.509630 (0.034490) with: {'n_neighbors': 10, 'p': 4, 'weights': 'uniform'}\n",
      "0.508148 (0.047361) with: {'n_neighbors': 10, 'p': 3, 'weights': 'uniform'}\n"
     ]
    }
   ],
   "source": [
    "n_neighbors = [5, 6, 7, 8, 9, 10]\n",
    "weights = [\"uniform\", \"distance\"]\n",
    "p = [1, 2, 3, 4]\n",
    "param_grid = dict(n_neighbors = n_neighbors, weights = weights, p = p)\n",
    "grid_knn = GridSearchCV(estimator=knn, param_grid=param_grid)\n",
    "grid_result_knn = grid_knn.fit(training_set_upsampled, training_set_upsampled_labels)\n",
    "\n",
    "\n",
    "print(\"Best: %f using %s\" % (grid_result_knn.best_score_, grid_result_knn.best_params_))\n",
    "means = grid_result_knn.cv_results_['mean_test_score']\n",
    "stds = grid_result_knn.cv_results_['std_test_score']\n",
    "params = grid_result_knn.cv_results_['params']\n",
    "results = zip(means, stds, params)\n",
    "for mean, stdev, param in sorted(results, key=lambda x: x[0], reverse=True):\n",
    "    print(\"%f (%f) with: %r\" % (mean, stdev, param))\n",
    "    \n",
    "\n",
    "predicted_testing_set_labels = grid_knn.predict(testing_set)\n",
    "predicted_testing_set_labels = pd.DataFrame(predicted_testing_set_labels)\n",
    "testing_set_acc=accuracy_score(testing_set_labels, predicted_testing_set_labels)\n"
   ]
  },
  {
   "cell_type": "code",
   "execution_count": 36,
   "metadata": {},
   "outputs": [
    {
     "name": "stdout",
     "output_type": "stream",
     "text": [
      "             precision    recall  f1-score   support\n",
      "\n",
      "    class 0       0.87      0.84      0.86        32\n",
      "    class 1       0.62      0.67      0.64        12\n",
      "    class 2       0.71      0.83      0.77         6\n",
      "    class 3       0.71      0.62      0.67         8\n",
      "    class 4       1.00      1.00      1.00         3\n",
      "\n",
      "avg / total       0.79      0.79      0.79        61\n",
      "\n"
     ]
    }
   ],
   "source": [
    "print(classification_report(testing_set_labels, predicted_testing_set_labels, target_names=target_names))\n",
    "metrics.append(precision_recall_fscore_support(testing_set_labels, predicted_testing_set_labels, average='weighted'))"
   ]
  },
  {
   "cell_type": "code",
   "execution_count": 37,
   "metadata": {},
   "outputs": [
    {
     "name": "stderr",
     "output_type": "stream",
     "text": [
      "/Users/tomhuang/.local/share/virtualenvs/assignment1-2RDWss_u/lib/python3.6/site-packages/sklearn/model_selection/_search.py:762: DeprecationWarning: The grid_scores_ attribute was deprecated in version 0.18 in favor of the more elaborate cv_results_ attribute. The grid_scores_ attribute will not be available from 0.20\n",
      "  DeprecationWarning)\n",
      "/Users/tomhuang/.local/share/virtualenvs/assignment1-2RDWss_u/lib/python3.6/site-packages/sklearn/model_selection/_search.py:762: DeprecationWarning: The grid_scores_ attribute was deprecated in version 0.18 in favor of the more elaborate cv_results_ attribute. The grid_scores_ attribute will not be available from 0.20\n",
      "  DeprecationWarning)\n"
     ]
    },
    {
     "data": {
      "text/plain": [
       "<Figure size 720x576 with 0 Axes>"
      ]
     },
     "metadata": {},
     "output_type": "display_data"
    }
   ],
   "source": [
    "ax = plot.grid_search(grid_knn.grid_scores_, change=('n_neighbors', 'p'), subset={'weights': 'uniform'})\n",
    "fig = ax.get_figure()\n",
    "fig.set_size_inches(10, 8)\n",
    "fig.savefig('dataset2_knn1.png')\n",
    "fig.clf()\n",
    "ax = plot.grid_search(grid_knn.grid_scores_, change=('n_neighbors', 'p'), subset={'weights': 'distance'})\n",
    "fig = ax.get_figure()\n",
    "fig.set_size_inches(10, 8)\n",
    "fig.savefig('dataset2_knn2.png')\n",
    "fig.clf()"
   ]
  },
  {
   "cell_type": "code",
   "execution_count": 38,
   "metadata": {},
   "outputs": [
    {
     "name": "stdout",
     "output_type": "stream",
     "text": [
      "Best: 0.931852 using {'learning_rate': 0.5, 'n_estimators': 100}\n",
      "0.931852 (0.016761) with: {'learning_rate': 0.5, 'n_estimators': 100}\n",
      "0.931852 (0.016761) with: {'learning_rate': 0.5, 'n_estimators': 300}\n",
      "0.931852 (0.016761) with: {'learning_rate': 0.5, 'n_estimators': 500}\n",
      "0.931852 (0.016761) with: {'learning_rate': 0.5, 'n_estimators': 700}\n",
      "0.931852 (0.016761) with: {'learning_rate': 0.5, 'n_estimators': 900}\n",
      "0.928889 (0.022662) with: {'learning_rate': 0.1, 'n_estimators': 300}\n",
      "0.928889 (0.022662) with: {'learning_rate': 0.1, 'n_estimators': 500}\n",
      "0.928889 (0.022662) with: {'learning_rate': 0.1, 'n_estimators': 900}\n",
      "0.925926 (0.018622) with: {'learning_rate': 0.1, 'n_estimators': 700}\n",
      "0.925926 (0.018622) with: {'learning_rate': 0.3, 'n_estimators': 300}\n",
      "0.924444 (0.025402) with: {'learning_rate': 0.7, 'n_estimators': 300}\n",
      "0.924444 (0.029704) with: {'learning_rate': 1.0, 'n_estimators': 900}\n",
      "0.922963 (0.018265) with: {'learning_rate': 0.3, 'n_estimators': 100}\n",
      "0.922963 (0.014666) with: {'learning_rate': 0.3, 'n_estimators': 500}\n",
      "0.922963 (0.014666) with: {'learning_rate': 0.3, 'n_estimators': 700}\n",
      "0.922963 (0.014666) with: {'learning_rate': 0.3, 'n_estimators': 900}\n",
      "0.922963 (0.021263) with: {'learning_rate': 0.7, 'n_estimators': 100}\n",
      "0.920000 (0.021773) with: {'learning_rate': 1.0, 'n_estimators': 700}\n",
      "0.918519 (0.019986) with: {'learning_rate': 1.0, 'n_estimators': 300}\n",
      "0.918519 (0.019986) with: {'learning_rate': 1.0, 'n_estimators': 500}\n",
      "0.917037 (0.014666) with: {'learning_rate': 0.1, 'n_estimators': 100}\n",
      "0.917037 (0.019986) with: {'learning_rate': 0.7, 'n_estimators': 500}\n",
      "0.917037 (0.018265) with: {'learning_rate': 0.7, 'n_estimators': 900}\n",
      "0.917037 (0.023611) with: {'learning_rate': 1.0, 'n_estimators': 100}\n",
      "0.915556 (0.020205) with: {'learning_rate': 0.7, 'n_estimators': 700}\n"
     ]
    }
   ],
   "source": [
    "nEstimators = [100, 300, 500, 700, 900]\n",
    "learning_rates = [0.1, 0.3, 0.5, 0.7, 1.0]\n",
    "param_grid = dict(learning_rate = learning_rates, n_estimators = nEstimators)\n",
    "grid_b = GridSearchCV(estimator=gbc, param_grid=param_grid)\n",
    "grid_result_b = grid_b.fit(training_set_upsampled, training_set_upsampled_labels)\n",
    "\n",
    "\n",
    "print(\"Best: %f using %s\" % (grid_result_b.best_score_, grid_result_b.best_params_))\n",
    "means = grid_result_b.cv_results_['mean_test_score']\n",
    "stds = grid_result_b.cv_results_['std_test_score']\n",
    "params = grid_result_b.cv_results_['params']\n",
    "results = zip(means, stds, params)\n",
    "for mean, stdev, param in sorted(results, key=lambda x: x[0], reverse=True):\n",
    "    print(\"%f (%f) with: %r\" % (mean, stdev, param))\n",
    "\n",
    "\n",
    "predicted_testing_set_labels = grid_b.predict(testing_set)\n",
    "predicted_testing_set_labels = pd.DataFrame(predicted_testing_set_labels)\n",
    "testing_set_acc=accuracy_score(testing_set_labels, predicted_testing_set_labels)\n"
   ]
  },
  {
   "cell_type": "code",
   "execution_count": 39,
   "metadata": {},
   "outputs": [
    {
     "name": "stdout",
     "output_type": "stream",
     "text": [
      "             precision    recall  f1-score   support\n",
      "\n",
      "    class 0       0.86      0.94      0.90        32\n",
      "    class 1       0.73      0.67      0.70        12\n",
      "    class 2       0.67      0.67      0.67         6\n",
      "    class 3       0.83      0.62      0.71         8\n",
      "    class 4       1.00      1.00      1.00         3\n",
      "\n",
      "avg / total       0.82      0.82      0.82        61\n",
      "\n"
     ]
    }
   ],
   "source": [
    "print(classification_report(testing_set_labels, predicted_testing_set_labels, target_names=target_names))\n",
    "metrics.append(precision_recall_fscore_support(testing_set_labels, predicted_testing_set_labels, average='weighted'))"
   ]
  },
  {
   "cell_type": "code",
   "execution_count": 40,
   "metadata": {},
   "outputs": [
    {
     "name": "stderr",
     "output_type": "stream",
     "text": [
      "/Users/tomhuang/.local/share/virtualenvs/assignment1-2RDWss_u/lib/python3.6/site-packages/sklearn/model_selection/_search.py:762: DeprecationWarning: The grid_scores_ attribute was deprecated in version 0.18 in favor of the more elaborate cv_results_ attribute. The grid_scores_ attribute will not be available from 0.20\n",
      "  DeprecationWarning)\n"
     ]
    },
    {
     "data": {
      "text/plain": [
       "<Figure size 720x576 with 0 Axes>"
      ]
     },
     "metadata": {},
     "output_type": "display_data"
    }
   ],
   "source": [
    "ax = plot.grid_search(grid_b.grid_scores_, change=('learning_rate', 'n_estimators'))\n",
    "fig = ax.get_figure()\n",
    "fig.set_size_inches(10, 8)\n",
    "fig.savefig('dataset2_boosting1.png')\n",
    "fig.clf()"
   ]
  },
  {
   "cell_type": "code",
   "execution_count": 41,
   "metadata": {},
   "outputs": [
    {
     "name": "stdout",
     "output_type": "stream",
     "text": [
      "Best: 0.525926 using {'alpha': 0.001, 'hidden_layer_sizes': (300,), 'learning_rate_init': 0.001}\n",
      "0.525926 (0.063927) with: {'alpha': 0.001, 'hidden_layer_sizes': (300,), 'learning_rate_init': 0.001}\n",
      "0.521481 (0.013739) with: {'alpha': 0.0007, 'hidden_layer_sizes': (500,), 'learning_rate_init': 0.01}\n",
      "0.509630 (0.036349) with: {'alpha': 0.0001, 'hidden_layer_sizes': (200,), 'learning_rate_init': 0.002}\n",
      "0.509630 (0.065152) with: {'alpha': 0.001, 'hidden_layer_sizes': (500,), 'learning_rate_init': 0.001}\n",
      "0.505185 (0.064949) with: {'alpha': 0.0002, 'hidden_layer_sizes': (200,), 'learning_rate_init': 0.001}\n",
      "0.494815 (0.027477) with: {'alpha': 0.0005, 'hidden_layer_sizes': (500,), 'learning_rate_init': 0.001}\n",
      "0.490370 (0.040788) with: {'alpha': 0.0007, 'hidden_layer_sizes': (400,), 'learning_rate_init': 0.001}\n",
      "0.485926 (0.039807) with: {'alpha': 0.0007, 'hidden_layer_sizes': (300,), 'learning_rate_init': 0.001}\n",
      "0.485926 (0.080356) with: {'alpha': 0.005, 'hidden_layer_sizes': (300,), 'learning_rate_init': 0.001}\n",
      "0.482963 (0.042371) with: {'alpha': 0.002, 'hidden_layer_sizes': (100,), 'learning_rate_init': 0.007}\n",
      "0.481481 (0.019986) with: {'alpha': 0.005, 'hidden_layer_sizes': (500,), 'learning_rate_init': 0.001}\n",
      "0.480000 (0.061904) with: {'alpha': 0.0002, 'hidden_layer_sizes': (100,), 'learning_rate_init': 0.002}\n",
      "0.478519 (0.014666) with: {'alpha': 0.0007, 'hidden_layer_sizes': (100,), 'learning_rate_init': 0.002}\n",
      "0.477037 (0.052879) with: {'alpha': 0.005, 'hidden_layer_sizes': (100,), 'learning_rate_init': 0.007}\n",
      "0.475556 (0.013084) with: {'alpha': 0.0005, 'hidden_layer_sizes': (200,), 'learning_rate_init': 0.001}\n",
      "0.475556 (0.067208) with: {'alpha': 0.002, 'hidden_layer_sizes': (500,), 'learning_rate_init': 0.001}\n",
      "0.472593 (0.065855) with: {'alpha': 0.0002, 'hidden_layer_sizes': (200,), 'learning_rate_init': 0.01}\n",
      "0.472593 (0.012744) with: {'alpha': 0.005, 'hidden_layer_sizes': (100,), 'learning_rate_init': 0.002}\n",
      "0.471111 (0.025142) with: {'alpha': 0.005, 'hidden_layer_sizes': (400,), 'learning_rate_init': 0.001}\n",
      "0.469630 (0.017901) with: {'alpha': 0.001, 'hidden_layer_sizes': (400,), 'learning_rate_init': 0.002}\n",
      "0.466667 (0.054433) with: {'alpha': 0.0007, 'hidden_layer_sizes': (200,), 'learning_rate_init': 0.001}\n",
      "0.465185 (0.042527) with: {'alpha': 0.005, 'hidden_layer_sizes': (200,), 'learning_rate_init': 0.002}\n",
      "0.465185 (0.050327) with: {'alpha': 0.01, 'hidden_layer_sizes': (300,), 'learning_rate_init': 0.002}\n",
      "0.462222 (0.038233) with: {'alpha': 0.01, 'hidden_layer_sizes': (400,), 'learning_rate_init': 0.001}\n",
      "0.456296 (0.089944) with: {'alpha': 0.001, 'hidden_layer_sizes': (400,), 'learning_rate_init': 0.001}\n",
      "0.454815 (0.036349) with: {'alpha': 0.001, 'hidden_layer_sizes': (300,), 'learning_rate_init': 0.007}\n",
      "0.454815 (0.060867) with: {'alpha': 0.002, 'hidden_layer_sizes': (100,), 'learning_rate_init': 0.001}\n",
      "0.451852 (0.050847) with: {'alpha': 0.002, 'hidden_layer_sizes': (300,), 'learning_rate_init': 0.001}\n",
      "0.450370 (0.023330) with: {'alpha': 0.0005, 'hidden_layer_sizes': (300,), 'learning_rate_init': 0.001}\n",
      "0.450370 (0.013739) with: {'alpha': 0.0005, 'hidden_layer_sizes': (400,), 'learning_rate_init': 0.002}\n",
      "0.450370 (0.054473) with: {'alpha': 0.0007, 'hidden_layer_sizes': (500,), 'learning_rate_init': 0.001}\n",
      "0.448889 (0.032254) with: {'alpha': 0.0002, 'hidden_layer_sizes': (300,), 'learning_rate_init': 0.001}\n",
      "0.448889 (0.031636) with: {'alpha': 0.0002, 'hidden_layer_sizes': (400,), 'learning_rate_init': 0.001}\n",
      "0.448889 (0.034996) with: {'alpha': 0.0007, 'hidden_layer_sizes': (200,), 'learning_rate_init': 0.002}\n",
      "0.447407 (0.081171) with: {'alpha': 0.005, 'hidden_layer_sizes': (400,), 'learning_rate_init': 0.002}\n",
      "0.447407 (0.045373) with: {'alpha': 0.01, 'hidden_layer_sizes': (100,), 'learning_rate_init': 0.002}\n",
      "0.445926 (0.073060) with: {'alpha': 0.0007, 'hidden_layer_sizes': (500,), 'learning_rate_init': 0.002}\n",
      "0.445926 (0.037067) with: {'alpha': 0.002, 'hidden_layer_sizes': (100,), 'learning_rate_init': 0.005}\n",
      "0.445926 (0.026252) with: {'alpha': 0.005, 'hidden_layer_sizes': (300,), 'learning_rate_init': 0.002}\n",
      "0.444444 (0.043546) with: {'alpha': 0.005, 'hidden_layer_sizes': (300,), 'learning_rate_init': 0.005}\n",
      "0.442963 (0.055432) with: {'alpha': 0.0005, 'hidden_layer_sizes': (400,), 'learning_rate_init': 0.001}\n",
      "0.441481 (0.033718) with: {'alpha': 0.0002, 'hidden_layer_sizes': (100,), 'learning_rate_init': 0.005}\n",
      "0.441481 (0.045662) with: {'alpha': 0.0002, 'hidden_layer_sizes': (200,), 'learning_rate_init': 0.002}\n",
      "0.441481 (0.033718) with: {'alpha': 0.01, 'hidden_layer_sizes': (200,), 'learning_rate_init': 0.001}\n",
      "0.440000 (0.062959) with: {'alpha': 0.0001, 'hidden_layer_sizes': (500,), 'learning_rate_init': 0.001}\n",
      "0.440000 (0.075773) with: {'alpha': 0.0005, 'hidden_layer_sizes': (400,), 'learning_rate_init': 0.005}\n",
      "0.440000 (0.029031) with: {'alpha': 0.001, 'hidden_layer_sizes': (200,), 'learning_rate_init': 0.005}\n",
      "0.438519 (0.040788) with: {'alpha': 0.0005, 'hidden_layer_sizes': (100,), 'learning_rate_init': 0.01}\n",
      "0.437037 (0.061833) with: {'alpha': 0.0001, 'hidden_layer_sizes': (400,), 'learning_rate_init': 0.005}\n",
      "0.435556 (0.077236) with: {'alpha': 0.0002, 'hidden_layer_sizes': (500,), 'learning_rate_init': 0.002}\n",
      "0.435556 (0.022662) with: {'alpha': 0.01, 'hidden_layer_sizes': (500,), 'learning_rate_init': 0.001}\n",
      "0.434074 (0.100850) with: {'alpha': 0.0001, 'hidden_layer_sizes': (200,), 'learning_rate_init': 0.007}\n",
      "0.432593 (0.123826) with: {'alpha': 0.0001, 'hidden_layer_sizes': (300,), 'learning_rate_init': 0.001}\n",
      "0.431111 (0.029704) with: {'alpha': 0.0001, 'hidden_layer_sizes': (200,), 'learning_rate_init': 0.005}\n",
      "0.431111 (0.016630) with: {'alpha': 0.0001, 'hidden_layer_sizes': (300,), 'learning_rate_init': 0.002}\n",
      "0.431111 (0.056569) with: {'alpha': 0.0005, 'hidden_layer_sizes': (100,), 'learning_rate_init': 0.005}\n",
      "0.431111 (0.101608) with: {'alpha': 0.002, 'hidden_layer_sizes': (200,), 'learning_rate_init': 0.01}\n",
      "0.428148 (0.077605) with: {'alpha': 0.0001, 'hidden_layer_sizes': (100,), 'learning_rate_init': 0.007}\n",
      "0.428148 (0.055074) with: {'alpha': 0.0002, 'hidden_layer_sizes': (300,), 'learning_rate_init': 0.007}\n",
      "0.428148 (0.110864) with: {'alpha': 0.002, 'hidden_layer_sizes': (400,), 'learning_rate_init': 0.005}\n",
      "0.428148 (0.052879) with: {'alpha': 0.005, 'hidden_layer_sizes': (200,), 'learning_rate_init': 0.005}\n",
      "0.426667 (0.077576) with: {'alpha': 0.0005, 'hidden_layer_sizes': (300,), 'learning_rate_init': 0.007}\n",
      "0.426667 (0.041216) with: {'alpha': 0.01, 'hidden_layer_sizes': (300,), 'learning_rate_init': 0.001}\n",
      "0.426667 (0.078588) with: {'alpha': 0.01, 'hidden_layer_sizes': (300,), 'learning_rate_init': 0.01}\n",
      "0.425185 (0.026252) with: {'alpha': 0.0002, 'hidden_layer_sizes': (200,), 'learning_rate_init': 0.005}\n",
      "0.425185 (0.043294) with: {'alpha': 0.0007, 'hidden_layer_sizes': (100,), 'learning_rate_init': 0.005}\n",
      "0.423704 (0.081656) with: {'alpha': 0.005, 'hidden_layer_sizes': (200,), 'learning_rate_init': 0.007}\n",
      "0.422222 (0.034996) with: {'alpha': 0.002, 'hidden_layer_sizes': (100,), 'learning_rate_init': 0.002}\n",
      "0.422222 (0.145019) with: {'alpha': 0.002, 'hidden_layer_sizes': (200,), 'learning_rate_init': 0.001}\n",
      "0.420741 (0.028187) with: {'alpha': 0.0001, 'hidden_layer_sizes': (200,), 'learning_rate_init': 0.001}\n",
      "0.420741 (0.076494) with: {'alpha': 0.002, 'hidden_layer_sizes': (500,), 'learning_rate_init': 0.005}\n",
      "0.420741 (0.081171) with: {'alpha': 0.005, 'hidden_layer_sizes': (500,), 'learning_rate_init': 0.002}\n",
      "0.420741 (0.059111) with: {'alpha': 0.01, 'hidden_layer_sizes': (100,), 'learning_rate_init': 0.001}\n",
      "0.419259 (0.012744) with: {'alpha': 0.002, 'hidden_layer_sizes': (200,), 'learning_rate_init': 0.005}\n",
      "0.419259 (0.056491) with: {'alpha': 0.01, 'hidden_layer_sizes': (100,), 'learning_rate_init': 0.005}\n",
      "0.416296 (0.048324) with: {'alpha': 0.0005, 'hidden_layer_sizes': (500,), 'learning_rate_init': 0.002}\n",
      "0.414815 (0.074576) with: {'alpha': 0.0001, 'hidden_layer_sizes': (100,), 'learning_rate_init': 0.002}\n",
      "0.414815 (0.063410) with: {'alpha': 0.01, 'hidden_layer_sizes': (500,), 'learning_rate_init': 0.002}\n",
      "0.413333 (0.053457) with: {'alpha': 0.01, 'hidden_layer_sizes': (300,), 'learning_rate_init': 0.007}\n",
      "0.410370 (0.055551) with: {'alpha': 0.0002, 'hidden_layer_sizes': (300,), 'learning_rate_init': 0.005}\n",
      "0.410370 (0.039807) with: {'alpha': 0.002, 'hidden_layer_sizes': (300,), 'learning_rate_init': 0.002}\n",
      "0.410370 (0.044346) with: {'alpha': 0.01, 'hidden_layer_sizes': (300,), 'learning_rate_init': 0.005}\n",
      "0.408889 (0.059959) with: {'alpha': 0.001, 'hidden_layer_sizes': (200,), 'learning_rate_init': 0.002}\n",
      "0.408889 (0.046330) with: {'alpha': 0.002, 'hidden_layer_sizes': (500,), 'learning_rate_init': 0.002}\n",
      "0.407407 (0.009132) with: {'alpha': 0.002, 'hidden_layer_sizes': (200,), 'learning_rate_init': 0.002}\n",
      "0.407407 (0.152988) with: {'alpha': 0.002, 'hidden_layer_sizes': (500,), 'learning_rate_init': 0.01}\n",
      "0.405926 (0.066946) with: {'alpha': 0.001, 'hidden_layer_sizes': (100,), 'learning_rate_init': 0.002}\n",
      "0.405926 (0.114314) with: {'alpha': 0.001, 'hidden_layer_sizes': (400,), 'learning_rate_init': 0.01}\n",
      "0.405926 (0.023330) with: {'alpha': 0.01, 'hidden_layer_sizes': (200,), 'learning_rate_init': 0.007}\n",
      "0.404444 (0.149049) with: {'alpha': 0.0005, 'hidden_layer_sizes': (100,), 'learning_rate_init': 0.001}\n",
      "0.404444 (0.036829) with: {'alpha': 0.0005, 'hidden_layer_sizes': (200,), 'learning_rate_init': 0.007}\n",
      "0.404444 (0.041216) with: {'alpha': 0.002, 'hidden_layer_sizes': (400,), 'learning_rate_init': 0.002}\n",
      "0.402963 (0.145442) with: {'alpha': 0.001, 'hidden_layer_sizes': (100,), 'learning_rate_init': 0.01}\n",
      "0.402963 (0.048324) with: {'alpha': 0.001, 'hidden_layer_sizes': (300,), 'learning_rate_init': 0.005}\n",
      "0.401481 (0.127855) with: {'alpha': 0.002, 'hidden_layer_sizes': (300,), 'learning_rate_init': 0.01}\n",
      "0.400000 (0.163299) with: {'alpha': 0.0002, 'hidden_layer_sizes': (500,), 'learning_rate_init': 0.001}\n",
      "0.398519 (0.038802) with: {'alpha': 0.01, 'hidden_layer_sizes': (400,), 'learning_rate_init': 0.007}\n",
      "0.397037 (0.059111) with: {'alpha': 0.0001, 'hidden_layer_sizes': (500,), 'learning_rate_init': 0.002}\n",
      "0.397037 (0.103746) with: {'alpha': 0.001, 'hidden_layer_sizes': (300,), 'learning_rate_init': 0.002}\n",
      "0.397037 (0.030216) with: {'alpha': 0.005, 'hidden_layer_sizes': (200,), 'learning_rate_init': 0.01}\n",
      "0.397037 (0.085747) with: {'alpha': 0.01, 'hidden_layer_sizes': (100,), 'learning_rate_init': 0.007}\n",
      "0.395556 (0.042784) with: {'alpha': 0.0007, 'hidden_layer_sizes': (400,), 'learning_rate_init': 0.002}\n",
      "0.395556 (0.138707) with: {'alpha': 0.01, 'hidden_layer_sizes': (500,), 'learning_rate_init': 0.01}\n",
      "0.394074 (0.023046) with: {'alpha': 0.0001, 'hidden_layer_sizes': (200,), 'learning_rate_init': 0.01}\n",
      "0.392593 (0.047361) with: {'alpha': 0.0002, 'hidden_layer_sizes': (300,), 'learning_rate_init': 0.002}\n",
      "0.391111 (0.031427) with: {'alpha': 0.0005, 'hidden_layer_sizes': (200,), 'learning_rate_init': 0.002}\n",
      "0.391111 (0.038233) with: {'alpha': 0.0007, 'hidden_layer_sizes': (200,), 'learning_rate_init': 0.007}\n",
      "0.388148 (0.058100) with: {'alpha': 0.0001, 'hidden_layer_sizes': (400,), 'learning_rate_init': 0.001}\n",
      "0.385185 (0.108523) with: {'alpha': 0.01, 'hidden_layer_sizes': (200,), 'learning_rate_init': 0.01}\n",
      "0.382222 (0.145291) with: {'alpha': 0.0005, 'hidden_layer_sizes': (500,), 'learning_rate_init': 0.01}\n",
      "0.379259 (0.027716) with: {'alpha': 0.0001, 'hidden_layer_sizes': (400,), 'learning_rate_init': 0.002}\n",
      "0.379259 (0.084041) with: {'alpha': 0.0005, 'hidden_layer_sizes': (200,), 'learning_rate_init': 0.005}\n",
      "0.377778 (0.087093) with: {'alpha': 0.0002, 'hidden_layer_sizes': (400,), 'learning_rate_init': 0.002}\n",
      "0.376296 (0.111515) with: {'alpha': 0.0001, 'hidden_layer_sizes': (300,), 'learning_rate_init': 0.007}\n",
      "0.376296 (0.129339) with: {'alpha': 0.0007, 'hidden_layer_sizes': (500,), 'learning_rate_init': 0.007}\n",
      "0.374815 (0.141542) with: {'alpha': 0.0002, 'hidden_layer_sizes': (300,), 'learning_rate_init': 0.01}\n",
      "0.374815 (0.119331) with: {'alpha': 0.0007, 'hidden_layer_sizes': (100,), 'learning_rate_init': 0.001}\n",
      "0.374815 (0.133646) with: {'alpha': 0.0007, 'hidden_layer_sizes': (200,), 'learning_rate_init': 0.01}\n",
      "0.373333 (0.125551) with: {'alpha': 0.0002, 'hidden_layer_sizes': (500,), 'learning_rate_init': 0.005}\n",
      "0.373333 (0.074458) with: {'alpha': 0.0007, 'hidden_layer_sizes': (200,), 'learning_rate_init': 0.005}\n",
      "0.371852 (0.011665) with: {'alpha': 0.0002, 'hidden_layer_sizes': (200,), 'learning_rate_init': 0.007}\n",
      "0.371852 (0.070398) with: {'alpha': 0.001, 'hidden_layer_sizes': (100,), 'learning_rate_init': 0.007}\n",
      "0.371852 (0.118389) with: {'alpha': 0.01, 'hidden_layer_sizes': (500,), 'learning_rate_init': 0.007}\n",
      "0.370370 (0.021263) with: {'alpha': 0.0002, 'hidden_layer_sizes': (100,), 'learning_rate_init': 0.01}\n",
      "0.368889 (0.023796) with: {'alpha': 0.0007, 'hidden_layer_sizes': (300,), 'learning_rate_init': 0.002}\n",
      "0.364444 (0.127011) with: {'alpha': 0.001, 'hidden_layer_sizes': (200,), 'learning_rate_init': 0.001}\n",
      "0.364444 (0.065621) with: {'alpha': 0.01, 'hidden_layer_sizes': (400,), 'learning_rate_init': 0.002}\n",
      "0.361481 (0.049536) with: {'alpha': 0.0007, 'hidden_layer_sizes': (100,), 'learning_rate_init': 0.007}\n",
      "0.360000 (0.122579) with: {'alpha': 0.0002, 'hidden_layer_sizes': (500,), 'learning_rate_init': 0.01}\n",
      "0.360000 (0.103725) with: {'alpha': 0.005, 'hidden_layer_sizes': (200,), 'learning_rate_init': 0.001}\n",
      "0.360000 (0.122579) with: {'alpha': 0.005, 'hidden_layer_sizes': (500,), 'learning_rate_init': 0.007}\n",
      "0.358519 (0.151908) with: {'alpha': 0.005, 'hidden_layer_sizes': (100,), 'learning_rate_init': 0.001}\n",
      "0.357037 (0.052504) with: {'alpha': 0.002, 'hidden_layer_sizes': (200,), 'learning_rate_init': 0.007}\n",
      "0.354074 (0.083884) with: {'alpha': 0.0005, 'hidden_layer_sizes': (100,), 'learning_rate_init': 0.002}\n",
      "0.354074 (0.071603) with: {'alpha': 0.002, 'hidden_layer_sizes': (300,), 'learning_rate_init': 0.005}\n",
      "0.354074 (0.108947) with: {'alpha': 0.005, 'hidden_layer_sizes': (400,), 'learning_rate_init': 0.005}\n",
      "0.354074 (0.069266) with: {'alpha': 0.01, 'hidden_layer_sizes': (200,), 'learning_rate_init': 0.005}\n",
      "0.352593 (0.099071) with: {'alpha': 0.001, 'hidden_layer_sizes': (200,), 'learning_rate_init': 0.01}\n",
      "0.351111 (0.152542) with: {'alpha': 0.0005, 'hidden_layer_sizes': (500,), 'learning_rate_init': 0.005}\n",
      "0.351111 (0.078084) with: {'alpha': 0.002, 'hidden_layer_sizes': (400,), 'learning_rate_init': 0.001}\n",
      "0.348148 (0.097125) with: {'alpha': 0.0002, 'hidden_layer_sizes': (400,), 'learning_rate_init': 0.007}\n",
      "0.348148 (0.108947) with: {'alpha': 0.01, 'hidden_layer_sizes': (200,), 'learning_rate_init': 0.002}\n",
      "0.346667 (0.105612) with: {'alpha': 0.0007, 'hidden_layer_sizes': (300,), 'learning_rate_init': 0.01}\n",
      "0.346667 (0.071388) with: {'alpha': 0.002, 'hidden_layer_sizes': (100,), 'learning_rate_init': 0.01}\n",
      "0.345185 (0.041903) with: {'alpha': 0.0005, 'hidden_layer_sizes': (100,), 'learning_rate_init': 0.007}\n",
      "0.345185 (0.070210) with: {'alpha': 0.005, 'hidden_layer_sizes': (100,), 'learning_rate_init': 0.005}\n",
      "0.343704 (0.128931) with: {'alpha': 0.0001, 'hidden_layer_sizes': (100,), 'learning_rate_init': 0.001}\n",
      "0.340741 (0.034490) with: {'alpha': 0.0001, 'hidden_layer_sizes': (100,), 'learning_rate_init': 0.01}\n",
      "0.339259 (0.109188) with: {'alpha': 0.001, 'hidden_layer_sizes': (100,), 'learning_rate_init': 0.001}\n",
      "0.339259 (0.086206) with: {'alpha': 0.001, 'hidden_layer_sizes': (500,), 'learning_rate_init': 0.002}\n",
      "0.337778 (0.097845) with: {'alpha': 0.01, 'hidden_layer_sizes': (100,), 'learning_rate_init': 0.01}\n",
      "0.336296 (0.105757) with: {'alpha': 0.0002, 'hidden_layer_sizes': (400,), 'learning_rate_init': 0.01}\n",
      "0.334815 (0.059111) with: {'alpha': 0.0001, 'hidden_layer_sizes': (100,), 'learning_rate_init': 0.005}\n",
      "0.334815 (0.005543) with: {'alpha': 0.001, 'hidden_layer_sizes': (200,), 'learning_rate_init': 0.007}\n",
      "0.330370 (0.070771) with: {'alpha': 0.0005, 'hidden_layer_sizes': (300,), 'learning_rate_init': 0.002}\n",
      "0.324444 (0.083464) with: {'alpha': 0.01, 'hidden_layer_sizes': (400,), 'learning_rate_init': 0.005}\n",
      "0.322963 (0.173896) with: {'alpha': 0.005, 'hidden_layer_sizes': (500,), 'learning_rate_init': 0.01}\n",
      "0.321481 (0.060324) with: {'alpha': 0.0002, 'hidden_layer_sizes': (100,), 'learning_rate_init': 0.007}\n",
      "0.320000 (0.096216) with: {'alpha': 0.0001, 'hidden_layer_sizes': (500,), 'learning_rate_init': 0.005}\n",
      "0.320000 (0.078588) with: {'alpha': 0.005, 'hidden_layer_sizes': (500,), 'learning_rate_init': 0.005}\n",
      "0.318519 (0.146164) with: {'alpha': 0.001, 'hidden_layer_sizes': (300,), 'learning_rate_init': 0.01}\n",
      "0.318519 (0.167610) with: {'alpha': 0.002, 'hidden_layer_sizes': (300,), 'learning_rate_init': 0.007}\n",
      "0.315556 (0.083700) with: {'alpha': 0.0007, 'hidden_layer_sizes': (400,), 'learning_rate_init': 0.007}\n",
      "0.314074 (0.082299) with: {'alpha': 0.001, 'hidden_layer_sizes': (500,), 'learning_rate_init': 0.005}\n",
      "0.312593 (0.068501) with: {'alpha': 0.001, 'hidden_layer_sizes': (100,), 'learning_rate_init': 0.005}\n",
      "0.311111 (0.144746) with: {'alpha': 0.001, 'hidden_layer_sizes': (500,), 'learning_rate_init': 0.01}\n",
      "0.306667 (0.072849) with: {'alpha': 0.0007, 'hidden_layer_sizes': (300,), 'learning_rate_init': 0.005}\n",
      "0.306667 (0.022074) with: {'alpha': 0.0007, 'hidden_layer_sizes': (300,), 'learning_rate_init': 0.007}\n",
      "0.305185 (0.133350) with: {'alpha': 0.001, 'hidden_layer_sizes': (500,), 'learning_rate_init': 0.007}\n",
      "0.305185 (0.058100) with: {'alpha': 0.005, 'hidden_layer_sizes': (100,), 'learning_rate_init': 0.01}\n",
      "0.303704 (0.152988) with: {'alpha': 0.0001, 'hidden_layer_sizes': (500,), 'learning_rate_init': 0.007}\n",
      "0.303704 (0.111101) with: {'alpha': 0.0005, 'hidden_layer_sizes': (400,), 'learning_rate_init': 0.007}\n",
      "0.303704 (0.098203) with: {'alpha': 0.0005, 'hidden_layer_sizes': (400,), 'learning_rate_init': 0.01}\n",
      "0.299259 (0.122004) with: {'alpha': 0.0001, 'hidden_layer_sizes': (300,), 'learning_rate_init': 0.005}\n",
      "0.297778 (0.074987) with: {'alpha': 0.0005, 'hidden_layer_sizes': (200,), 'learning_rate_init': 0.01}\n",
      "0.297778 (0.138279) with: {'alpha': 0.005, 'hidden_layer_sizes': (400,), 'learning_rate_init': 0.01}\n",
      "0.285926 (0.115289) with: {'alpha': 0.0001, 'hidden_layer_sizes': (400,), 'learning_rate_init': 0.01}\n",
      "0.284444 (0.068949) with: {'alpha': 0.0007, 'hidden_layer_sizes': (100,), 'learning_rate_init': 0.01}\n",
      "0.278519 (0.069456) with: {'alpha': 0.0007, 'hidden_layer_sizes': (500,), 'learning_rate_init': 0.005}\n",
      "0.278519 (0.111042) with: {'alpha': 0.002, 'hidden_layer_sizes': (500,), 'learning_rate_init': 0.007}\n",
      "0.277037 (0.082299) with: {'alpha': 0.005, 'hidden_layer_sizes': (300,), 'learning_rate_init': 0.007}\n",
      "0.275556 (0.106852) with: {'alpha': 0.005, 'hidden_layer_sizes': (300,), 'learning_rate_init': 0.01}\n",
      "0.269630 (0.089062) with: {'alpha': 0.0001, 'hidden_layer_sizes': (300,), 'learning_rate_init': 0.01}\n",
      "0.266667 (0.094281) with: {'alpha': 0.002, 'hidden_layer_sizes': (400,), 'learning_rate_init': 0.007}\n",
      "0.263704 (0.077859) with: {'alpha': 0.001, 'hidden_layer_sizes': (400,), 'learning_rate_init': 0.007}\n",
      "0.263704 (0.063927) with: {'alpha': 0.01, 'hidden_layer_sizes': (500,), 'learning_rate_init': 0.005}\n",
      "0.259259 (0.083884) with: {'alpha': 0.0002, 'hidden_layer_sizes': (100,), 'learning_rate_init': 0.001}\n",
      "0.253333 (0.075425) with: {'alpha': 0.0001, 'hidden_layer_sizes': (400,), 'learning_rate_init': 0.007}\n",
      "0.250370 (0.056257) with: {'alpha': 0.001, 'hidden_layer_sizes': (400,), 'learning_rate_init': 0.005}\n",
      "0.245926 (0.034870) with: {'alpha': 0.0002, 'hidden_layer_sizes': (400,), 'learning_rate_init': 0.005}\n",
      "0.245926 (0.040137) with: {'alpha': 0.0007, 'hidden_layer_sizes': (400,), 'learning_rate_init': 0.005}\n",
      "0.240000 (0.031636) with: {'alpha': 0.0005, 'hidden_layer_sizes': (300,), 'learning_rate_init': 0.005}\n",
      "0.222222 (0.031427) with: {'alpha': 0.0001, 'hidden_layer_sizes': (500,), 'learning_rate_init': 0.01}\n",
      "0.217778 (0.025142) with: {'alpha': 0.0005, 'hidden_layer_sizes': (300,), 'learning_rate_init': 0.01}\n",
      "0.214815 (0.020951) with: {'alpha': 0.0002, 'hidden_layer_sizes': (500,), 'learning_rate_init': 0.007}\n",
      "0.213333 (0.018856) with: {'alpha': 0.002, 'hidden_layer_sizes': (400,), 'learning_rate_init': 0.01}\n",
      "0.208889 (0.012571) with: {'alpha': 0.01, 'hidden_layer_sizes': (400,), 'learning_rate_init': 0.01}\n",
      "0.200000 (0.000000) with: {'alpha': 0.0007, 'hidden_layer_sizes': (400,), 'learning_rate_init': 0.01}\n",
      "0.200000 (0.000000) with: {'alpha': 0.005, 'hidden_layer_sizes': (400,), 'learning_rate_init': 0.007}\n",
      "0.198519 (0.002095) with: {'alpha': 0.0005, 'hidden_layer_sizes': (500,), 'learning_rate_init': 0.007}\n"
     ]
    }
   ],
   "source": [
    "alphas = [0.0001, 0.0002, 0.0005, 0.0007, 0.001, 0.002, 0.005, 0.01]\n",
    "learning_rates = [0.001, 0.002, 0.005, 0.007, 0.01]\n",
    "hidden_layer_sizes=[(100,), (200,), (300,), (400,), (500,)]\n",
    "# momentums = [0.9, 0.85, 0.8, 0.75, 0.7]\n",
    "param_grid = dict(alpha=alphas, learning_rate_init = learning_rates, hidden_layer_sizes = hidden_layer_sizes)\n",
    "grid_nn = GridSearchCV(estimator=nn, param_grid=param_grid)\n",
    "grid_result_nn = grid_nn.fit(training_set_upsampled, training_set_upsampled_labels)\n",
    "\n",
    "\n",
    "print(\"Best: %f using %s\" % (grid_result_nn.best_score_, grid_result_nn.best_params_))\n",
    "means = grid_result_nn.cv_results_['mean_test_score']\n",
    "stds = grid_result_nn.cv_results_['std_test_score']\n",
    "params = grid_result_nn.cv_results_['params']\n",
    "results = zip(means, stds, params)\n",
    "for mean, stdev, param in sorted(results, key=lambda x: x[0], reverse=True):\n",
    "    print(\"%f (%f) with: %r\" % (mean, stdev, param))\n",
    "    \n",
    "\n",
    "predicted_testing_set_labels = grid_nn.predict(testing_set)\n",
    "predicted_testing_set_labels = pd.DataFrame(predicted_testing_set_labels)\n",
    "testing_set_acc_nn=accuracy_score(testing_set_labels, predicted_testing_set_labels)\n"
   ]
  },
  {
   "cell_type": "code",
   "execution_count": 42,
   "metadata": {},
   "outputs": [
    {
     "name": "stderr",
     "output_type": "stream",
     "text": [
      "/Users/tomhuang/.local/share/virtualenvs/assignment1-2RDWss_u/lib/python3.6/site-packages/sklearn/model_selection/_search.py:762: DeprecationWarning: The grid_scores_ attribute was deprecated in version 0.18 in favor of the more elaborate cv_results_ attribute. The grid_scores_ attribute will not be available from 0.20\n",
      "  DeprecationWarning)\n"
     ]
    },
    {
     "data": {
      "text/plain": [
       "<Figure size 720x576 with 0 Axes>"
      ]
     },
     "metadata": {},
     "output_type": "display_data"
    }
   ],
   "source": [
    "# ax = plot.grid_search(grid_nn.grid_scores_, change=('alpha', 'learning_rate_init'),\n",
    "#               subset={'hidden_layer_sizes': (300,)})\n",
    "# fig = ax.get_figure()\n",
    "# fig.set_size_inches(18.5, 10.5)\n",
    "# fig.savefig('dataset2_NN1.png')\n",
    "# fig.clf()\n",
    "ax = plot.grid_search(grid_nn.grid_scores_, change=('alpha', 'hidden_layer_sizes'),\n",
    "              subset={'learning_rate_init': 0.001})\n",
    "fig = ax.get_figure()\n",
    "fig.set_size_inches(10, 8)\n",
    "fig.savefig('dataset2_NN2.png')\n",
    "fig.clf()"
   ]
  },
  {
   "cell_type": "code",
   "execution_count": 43,
   "metadata": {},
   "outputs": [
    {
     "name": "stdout",
     "output_type": "stream",
     "text": [
      "             precision    recall  f1-score   support\n",
      "\n",
      "    class 0       0.72      0.66      0.69        32\n",
      "    class 1       0.40      0.33      0.36        12\n",
      "    class 2       0.00      0.00      0.00         6\n",
      "    class 3       0.38      0.62      0.48         8\n",
      "    class 4       0.60      1.00      0.75         3\n",
      "\n",
      "avg / total       0.54      0.54      0.53        61\n",
      "\n"
     ]
    }
   ],
   "source": [
    "print(classification_report(testing_set_labels, predicted_testing_set_labels, target_names=target_names))\n",
    "metrics.append(precision_recall_fscore_support(testing_set_labels, predicted_testing_set_labels, average='weighted'))"
   ]
  },
  {
   "cell_type": "code",
   "execution_count": 44,
   "metadata": {
    "scrolled": true
   },
   "outputs": [
    {
     "name": "stdout",
     "output_type": "stream",
     "text": [
      "[(0.8559328649492582, 0.8524590163934426, 0.8468179728272706, None), (0.8848460615753698, 0.8524590163934426, 0.8460432897441656, None), (0.7910751332221454, 0.7868852459016393, 0.7878244160211373, None), (0.8167624725001773, 0.819672131147541, 0.8150627576910277, None), (0.5385137191807627, 0.5409836065573771, 0.5320647058755095, None)]\n"
     ]
    },
    {
     "data": {
      "text/plain": [
       "<Figure size 432x288 with 0 Axes>"
      ]
     },
     "metadata": {},
     "output_type": "display_data"
    }
   ],
   "source": [
    "print(metrics)\n",
    "x=['Decision Tree', 'SVM', 'Boosting', 'KNN', 'Neural Net']\n",
    "plt.bar(x, [prec[0] for prec in metrics])\n",
    "plt.title('Precisions by Classifiers')\n",
    "plt.ylim(0.0, 1.1)\n",
    "plt.savefig('dataset2_precisions.png')\n",
    "plt.clf()\n",
    "\n",
    "plt.bar(x, [rec[1] for rec in metrics])\n",
    "plt.title('Recalls by Classifiers')\n",
    "plt.ylim(0.0, 1.1)\n",
    "plt.savefig('dataset2_recalls.png')\n",
    "plt.clf()\n",
    "\n",
    "plt.bar(x, [f[2] for f in metrics])\n",
    "plt.title('F1 Scores by Classifiers')\n",
    "plt.ylim(0.0, 1.1)\n",
    "plt.savefig('dataset2_F1.png')\n",
    "plt.clf()"
   ]
  },
  {
   "cell_type": "code",
   "execution_count": null,
   "metadata": {},
   "outputs": [],
   "source": []
  }
 ],
 "metadata": {
  "kernelspec": {
   "display_name": "Python 3",
   "language": "python",
   "name": "python3"
  },
  "language_info": {
   "codemirror_mode": {
    "name": "ipython",
    "version": 3
   },
   "file_extension": ".py",
   "mimetype": "text/x-python",
   "name": "python",
   "nbconvert_exporter": "python",
   "pygments_lexer": "ipython3",
   "version": "3.6.0"
  }
 },
 "nbformat": 4,
 "nbformat_minor": 2
}
