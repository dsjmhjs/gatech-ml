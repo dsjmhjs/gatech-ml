{
 "cells": [
  {
   "cell_type": "code",
   "execution_count": 1,
   "metadata": {},
   "outputs": [
    {
     "name": "stderr",
     "output_type": "stream",
     "text": [
      "/Users/tomhuang/.local/share/virtualenvs/assignment1-2RDWss_u/lib/python3.6/site-packages/sklearn/cross_validation.py:41: DeprecationWarning: This module was deprecated in version 0.18 in favor of the model_selection module into which all the refactored classes and functions are moved. Also note that the interface of the new CV iterators are different from that of this module. This module will be removed in 0.20.\n",
      "  \"This module will be removed in 0.20.\", DeprecationWarning)\n",
      "/Users/tomhuang/.local/share/virtualenvs/assignment1-2RDWss_u/lib/python3.6/site-packages/sklearn/ensemble/weight_boosting.py:29: DeprecationWarning: numpy.core.umath_tests is an internal NumPy module and should not be imported. It will be removed in a future NumPy release.\n",
      "  from numpy.core.umath_tests import inner1d\n"
     ]
    }
   ],
   "source": [
    "%matplotlib inline\n",
    "import matplotlib.pyplot as plt\n",
    "from sklearn_evaluation import plot\n",
    "import loadData\n",
    "import pandas as pd\n",
    "import numpy as np\n",
    "from sklearn import tree\n",
    "import graphviz\n",
    "from sklearn.preprocessing import LabelEncoder\n",
    "from sklearn.preprocessing import OneHotEncoder\n",
    "from sklearn.metrics import accuracy_score\n",
    "from sklearn.neural_network import MLPClassifier\n",
    "from sklearn.tree._tree import TREE_LEAF\n",
    "from sklearn.model_selection import GridSearchCV\n",
    "from sklearn.ensemble import GradientBoostingClassifier\n",
    "from sklearn.neighbors import KNeighborsClassifier\n",
    "from sklearn import svm\n",
    "from sklearn.metrics import classification_report"
   ]
  },
  {
   "cell_type": "code",
   "execution_count": 2,
   "metadata": {},
   "outputs": [
    {
     "name": "stdout",
     "output_type": "stream",
     "text": [
      "Index(['native-country_Holand-Netherlands'], dtype='object')\n"
     ]
    }
   ],
   "source": [
    "# load data\n",
    "adult_training_set, adult_testing_set = loadData.loadDataWithTestSet('adult.data', 'adult.test')\n",
    "# preprocess data\n",
    "# training set\n",
    "adult_training_set_labels = adult_training_set.iloc[:,-1]\n",
    "adult_training_set = adult_training_set.iloc[:,0:-1]\n",
    "adult_training_set_labels[adult_training_set_labels.str.contains('>50K',na=False)] = 1\n",
    "adult_training_set_labels[adult_training_set_labels.str.contains('<=50K',na=False)] = 0\n",
    "adult_training_set_labels = adult_training_set_labels.astype('int')\n",
    "# testing set\n",
    "adult_testing_set_labels = adult_testing_set.iloc[:,-1]\n",
    "adult_testing_set = adult_testing_set.iloc[:,0:-1]\n",
    "adult_testing_set_labels[adult_testing_set_labels.str.contains('>50K',na=False)] = 1\n",
    "adult_testing_set_labels[adult_testing_set_labels.str.contains('<=50K',na=False)] = 0\n",
    "adult_testing_set_labels = adult_testing_set_labels.astype('int')\n",
    "\n",
    "processed_adult_training_set = pd.get_dummies(adult_training_set, columns=['workclass','education','marital-status','occupation','relationship',\n",
    "                                           'race','sex','native-country'])\n",
    "processed_adult_testing_set = pd.get_dummies(adult_testing_set, columns=['workclass','education','marital-status','occupation','relationship',\n",
    "                                           'race','sex','native-country'])\n",
    "print(processed_adult_training_set.columns[~processed_adult_training_set.columns.isin(processed_adult_testing_set.columns)])\n",
    "missing_column = np.zeros(16281)\n",
    "missing_column = pd.DataFrame(missing_column, columns=['native-country_Holand-Netherlands'])\n",
    "processed_adult_testing_set = pd.concat([processed_adult_testing_set,missing_column], axis=1)"
   ]
  },
  {
   "cell_type": "code",
   "execution_count": null,
   "metadata": {},
   "outputs": [],
   "source": [
    "plt.bar(['>50K', '<=50K'],[len(adult_training_set_labels[adult_training_set_labels==1]), \n",
    "         len(adult_training_set_labels[adult_training_set_labels==0])])\n",
    "plt.title('Training Set Label Distribution')\n",
    "plt.savefig('training_set_label_dist.png')\n",
    "plt.show()\n",
    "plt.bar(['>50K', '<=50K'],[len(adult_testing_set_labels[adult_testing_set_labels==1]), \n",
    "         len(adult_testing_set_labels[adult_testing_set_labels==0])])\n",
    "plt.title('Testing Set Label Distribution')\n",
    "plt.savefig('testing_set_label_dist.png')\n",
    "plt.show()"
   ]
  },
  {
   "cell_type": "code",
   "execution_count": 4,
   "metadata": {},
   "outputs": [
    {
     "name": "stdout",
     "output_type": "stream",
     "text": [
      "[0.9999692884125181, 0.9104757224900956, 0.8926937133380425, 0.8848315469426614, 0.880900463744971, 0.877982862934185, 0.874512453548724, 0.8729154509996622, 0.8719019686127576, 0.8692914836767912, 0.8689536562144897, 0.8681244433524768, 0.8671109609655723, 0.8667731335032708, 0.8656368047664383, 0.8652375541291729, 0.8649304382543533, 0.8649304382543533, 0.8635177052301833, 0.8633948588802555, 0.8633948588802555, 0.8633948588802555, 0.8627499155431344, 0.8627499155431344, 0.8624427996683148, 0.8620742606185313, 0.8613986056939283, 0.8613986056939283, 0.8613986056939283, 0.8613986056939283, 0.8600780074322042, 0.8600780074322042, 0.8600780074322042, 0.8600780074322042, 0.8596480452074567, 0.8596480452074567, 0.8596480452074567, 0.8596480452074567, 0.8591259482202636, 0.85875740917048, 0.8584810048831424, 0.8584810048831424, 0.8584810048831424, 0.8584810048831424, 0.8584810048831424, 0.8584810048831424, 0.8584810048831424, 0.8584810048831424, 0.8584810048831424, 0.8584810048831424]\n",
      "[0.8011792887414778, 0.8312142988759904, 0.8331183588231681, 0.8466924636078865, 0.85148332412014, 0.8510533750998096, 0.8526503286038941, 0.8540630182421227, 0.8541244395307414, 0.8536330692217923, 0.8535716479331736, 0.854861494994165, 0.8544929672624532, 0.8585467723112831, 0.8590995639088508, 0.858731036177139, 0.8585467723112831, 0.8585467723112831, 0.8592838277747067, 0.8592838277747067, 0.8592838277747067, 0.8592838277747067, 0.8579325594250967, 0.8579325594250967, 0.8579939807137154, 0.8586696148885203, 0.8584853510226644, 0.8584853510226644, 0.8584853510226644, 0.8584853510226644, 0.8581782445795713, 0.8581782445795713, 0.8581782445795713, 0.8581782445795713, 0.8584853510226644, 0.8584853510226644, 0.8584853510226644, 0.8584853510226644, 0.8584239297340458, 0.8577482955592408, 0.8576254529820035, 0.8576254529820035, 0.8576254529820035, 0.8576254529820035, 0.8576254529820035, 0.8576254529820035, 0.8576254529820035, 0.8576254529820035, 0.8576254529820035, 0.8576254529820035]\n"
     ]
    }
   ],
   "source": [
    "# decision tree\n",
    "dtc = tree.DecisionTreeClassifier()\n",
    "dtc = dtc.fit(processed_adult_training_set, adult_training_set_labels)\n",
    "\n",
    "def prune_index(inner_tree, index, threshold):\n",
    "    if inner_tree.value[index].min() < threshold:\n",
    "        # turn node into a leaf by \"unlinking\" its children\n",
    "        inner_tree.children_left[index] = TREE_LEAF\n",
    "        inner_tree.children_right[index] = TREE_LEAF\n",
    "    # if there are shildren, visit them as well\n",
    "    if inner_tree.children_left[index] != TREE_LEAF:\n",
    "        prune_index(inner_tree, inner_tree.children_left[index], threshold)\n",
    "        prune_index(inner_tree, inner_tree.children_right[index], threshold)\n",
    "\n",
    "training_set_acc_DT = []\n",
    "testing_set_acc_DT = []\n",
    "thresholds = range(0, 500, 10)\n",
    "for x in thresholds:\n",
    "    prune_index(dtc.tree_, 0, x)\n",
    "    predicted_training_set_labels = dtc.predict(processed_adult_training_set)\n",
    "    predicted_training_set_labels = pd.DataFrame(predicted_training_set_labels) \n",
    "    training_set_acc_DT.append(accuracy_score(adult_training_set_labels, predicted_training_set_labels))\n",
    "    \n",
    "    predicted_testing_set_labels = dtc.predict(processed_adult_testing_set)\n",
    "    predicted_testing_set_labels = pd.DataFrame(predicted_testing_set_labels)\n",
    "    testing_set_acc_DT.append(accuracy_score(adult_testing_set_labels, predicted_testing_set_labels))\n",
    "print(training_set_acc_DT)\n",
    "print(testing_set_acc_DT)\n"
   ]
  },
  {
   "cell_type": "code",
   "execution_count": 5,
   "metadata": {},
   "outputs": [
    {
     "data": {
      "image/png": "[encoded data removed]",
      "text/plain": [
       "<Figure size 432x288 with 1 Axes>"
      ]
     },
     "metadata": {
      "needs_background": "light"
     },
     "output_type": "display_data"
    }
   ],
   "source": [
    "fig = plt.figure()\n",
    "ax = fig.add_subplot(111)\n",
    "ax.plot(thresholds, training_set_acc_DT, color='lightblue', linewidth=3, label='Training Set Accuracy')\n",
    "ax.plot(thresholds, testing_set_acc_DT, color='red', linewidth=3, label='Testing Set Accuracy')\n",
    "plt.legend(bbox_to_anchor=(1.05, 1), loc=2, borderaxespad=0.)\n",
    "ax.set_xlim(-10, 510)\n",
    "ax.set(title='Decision Tree with Pruning',\n",
    " ylabel='% Accuracy', xlabel='Pruning Thresholds')\n",
    "plt.savefig('DT1.png')\n",
    "plt.show()"
   ]
  },
  {
   "cell_type": "code",
   "execution_count": 6,
   "metadata": {},
   "outputs": [
    {
     "name": "stdout",
     "output_type": "stream",
     "text": [
      "             precision    recall  f1-score   support\n",
      "\n",
      "      <=50K       0.88      0.94      0.91     12435\n",
      "       >50K       0.75      0.60      0.67      3846\n",
      "\n",
      "avg / total       0.85      0.86      0.85     16281\n",
      "\n"
     ]
    }
   ],
   "source": [
    "prune_index(dtc.tree_, 0, 350)\n",
    "predicted_testing_set_labels = dtc.predict(processed_adult_testing_set)\n",
    "target_names=['<=50K', '>50K']\n",
    "print(classification_report(adult_testing_set_labels, predicted_testing_set_labels, target_names=target_names))"
   ]
  },
  {
   "cell_type": "code",
   "execution_count": 7,
   "metadata": {},
   "outputs": [],
   "source": [
    "# graph decision tree as png\n",
    "dot_data = tree.export_graphviz(dtc, out_file='tree1.dot', feature_names=processed_adult_training_set.columns, \n",
    "                                filled=True, rounded=True)  \n",
    "graph = graphviz.Source(dot_data)\n",
    "from subprocess import check_call\n",
    "#check_call(['dot','-Tpng','tree1.dot','-o','tree1.png'])"
   ]
  },
  {
   "cell_type": "code",
   "execution_count": 8,
   "metadata": {},
   "outputs": [
    {
     "name": "stdout",
     "output_type": "stream",
     "text": [
      "0.7591904425539756\n",
      "0.7637737239727289\n"
     ]
    }
   ],
   "source": [
    "# neural networks\n",
    "nn = MLPClassifier(activation='logistic', solver='sgd')\n",
    "nn.fit(processed_adult_training_set, adult_training_set_labels)\n",
    "\n",
    "predicted_training_set_labels = nn.predict(processed_adult_training_set)\n",
    "predicted_training_set_labels = pd.DataFrame(predicted_training_set_labels) \n",
    "training_set_acc=accuracy_score(adult_training_set_labels, predicted_training_set_labels)\n",
    "\n",
    "predicted_testing_set_labels = nn.predict(processed_adult_testing_set)\n",
    "predicted_testing_set_labels = pd.DataFrame(predicted_testing_set_labels)\n",
    "testing_set_acc=accuracy_score(adult_testing_set_labels, predicted_testing_set_labels)\n",
    "\n",
    "print(training_set_acc)\n",
    "print(testing_set_acc)"
   ]
  },
  {
   "cell_type": "code",
   "execution_count": 9,
   "metadata": {},
   "outputs": [
    {
     "name": "stdout",
     "output_type": "stream",
     "text": [
      "Best: 0.763582 using {'alpha': 0.0005, 'learning_rate_init': 0.01, 'momentum': 0.9}\n",
      "0.763582 (0.000792) with: {'alpha': 0.0005, 'learning_rate_init': 0.01, 'momentum': 0.9}\n",
      "0.762661 (0.003049) with: {'alpha': 0.0002, 'learning_rate_init': 0.01, 'momentum': 0.85}\n",
      "0.762384 (0.002552) with: {'alpha': 0.001, 'learning_rate_init': 0.005, 'momentum': 0.75}\n",
      "0.762354 (0.001995) with: {'alpha': 0.0002, 'learning_rate_init': 0.005, 'momentum': 0.9}\n",
      "0.762323 (0.000957) with: {'alpha': 0.01, 'learning_rate_init': 0.01, 'momentum': 0.9}\n",
      "0.762262 (0.002549) with: {'alpha': 0.0007, 'learning_rate_init': 0.007, 'momentum': 0.75}\n",
      "0.762200 (0.001961) with: {'alpha': 0.0002, 'learning_rate_init': 0.01, 'momentum': 0.9}\n",
      "0.762169 (0.001124) with: {'alpha': 0.005, 'learning_rate_init': 0.01, 'momentum': 0.9}\n",
      "0.762108 (0.001586) with: {'alpha': 0.001, 'learning_rate_init': 0.01, 'momentum': 0.9}\n",
      "0.761862 (0.002223) with: {'alpha': 0.002, 'learning_rate_init': 0.01, 'momentum': 0.9}\n",
      "0.761770 (0.001612) with: {'alpha': 0.0007, 'learning_rate_init': 0.007, 'momentum': 0.8}\n",
      "0.761617 (0.000780) with: {'alpha': 0.005, 'learning_rate_init': 0.01, 'momentum': 0.8}\n",
      "0.761555 (0.002727) with: {'alpha': 0.0002, 'learning_rate_init': 0.01, 'momentum': 0.75}\n",
      "0.761432 (0.001652) with: {'alpha': 0.0001, 'learning_rate_init': 0.005, 'momentum': 0.8}\n",
      "0.761402 (0.001146) with: {'alpha': 0.001, 'learning_rate_init': 0.01, 'momentum': 0.8}\n",
      "0.761402 (0.002841) with: {'alpha': 0.002, 'learning_rate_init': 0.007, 'momentum': 0.85}\n",
      "0.761371 (0.002087) with: {'alpha': 0.0007, 'learning_rate_init': 0.01, 'momentum': 0.9}\n",
      "0.761340 (0.003073) with: {'alpha': 0.0001, 'learning_rate_init': 0.005, 'momentum': 0.85}\n",
      "0.761310 (0.002182) with: {'alpha': 0.005, 'learning_rate_init': 0.01, 'momentum': 0.85}\n",
      "0.761248 (0.001500) with: {'alpha': 0.0001, 'learning_rate_init': 0.007, 'momentum': 0.8}\n",
      "0.761156 (0.001408) with: {'alpha': 0.0007, 'learning_rate_init': 0.01, 'momentum': 0.75}\n",
      "0.761125 (0.002248) with: {'alpha': 0.0001, 'learning_rate_init': 0.01, 'momentum': 0.75}\n",
      "0.761125 (0.001829) with: {'alpha': 0.01, 'learning_rate_init': 0.007, 'momentum': 0.8}\n",
      "0.761095 (0.001751) with: {'alpha': 0.0005, 'learning_rate_init': 0.007, 'momentum': 0.8}\n",
      "0.761095 (0.002597) with: {'alpha': 0.001, 'learning_rate_init': 0.005, 'momentum': 0.85}\n",
      "0.760972 (0.000964) with: {'alpha': 0.002, 'learning_rate_init': 0.01, 'momentum': 0.85}\n",
      "0.760972 (0.001681) with: {'alpha': 0.005, 'learning_rate_init': 0.005, 'momentum': 0.9}\n",
      "0.760972 (0.001308) with: {'alpha': 0.01, 'learning_rate_init': 0.01, 'momentum': 0.8}\n",
      "0.760880 (0.002422) with: {'alpha': 0.0002, 'learning_rate_init': 0.007, 'momentum': 0.85}\n",
      "0.760880 (0.001175) with: {'alpha': 0.0005, 'learning_rate_init': 0.007, 'momentum': 0.9}\n",
      "0.760849 (0.000542) with: {'alpha': 0.01, 'learning_rate_init': 0.007, 'momentum': 0.9}\n",
      "0.760818 (0.002156) with: {'alpha': 0.0005, 'learning_rate_init': 0.005, 'momentum': 0.9}\n",
      "0.760787 (0.001285) with: {'alpha': 0.0001, 'learning_rate_init': 0.01, 'momentum': 0.85}\n",
      "0.760787 (0.001969) with: {'alpha': 0.0007, 'learning_rate_init': 0.005, 'momentum': 0.85}\n",
      "0.760787 (0.002032) with: {'alpha': 0.002, 'learning_rate_init': 0.007, 'momentum': 0.8}\n",
      "0.760726 (0.001255) with: {'alpha': 0.002, 'learning_rate_init': 0.005, 'momentum': 0.9}\n",
      "0.760665 (0.002118) with: {'alpha': 0.001, 'learning_rate_init': 0.002, 'momentum': 0.9}\n",
      "0.760665 (0.001816) with: {'alpha': 0.001, 'learning_rate_init': 0.005, 'momentum': 0.8}\n",
      "0.760572 (0.001291) with: {'alpha': 0.0001, 'learning_rate_init': 0.005, 'momentum': 0.75}\n",
      "0.760542 (0.001879) with: {'alpha': 0.0005, 'learning_rate_init': 0.007, 'momentum': 0.85}\n",
      "0.760511 (0.001901) with: {'alpha': 0.0001, 'learning_rate_init': 0.007, 'momentum': 0.75}\n",
      "0.760511 (0.000984) with: {'alpha': 0.0007, 'learning_rate_init': 0.005, 'momentum': 0.9}\n",
      "0.760511 (0.001354) with: {'alpha': 0.0007, 'learning_rate_init': 0.01, 'momentum': 0.85}\n",
      "0.760511 (0.001901) with: {'alpha': 0.0007, 'learning_rate_init': 0.01, 'momentum': 0.7}\n",
      "0.760480 (0.001614) with: {'alpha': 0.0007, 'learning_rate_init': 0.01, 'momentum': 0.8}\n",
      "0.760480 (0.001484) with: {'alpha': 0.001, 'learning_rate_init': 0.007, 'momentum': 0.9}\n",
      "0.760480 (0.001004) with: {'alpha': 0.002, 'learning_rate_init': 0.01, 'momentum': 0.7}\n",
      "0.760450 (0.001397) with: {'alpha': 0.005, 'learning_rate_init': 0.007, 'momentum': 0.75}\n",
      "0.760419 (0.001656) with: {'alpha': 0.001, 'learning_rate_init': 0.01, 'momentum': 0.85}\n",
      "0.760419 (0.001298) with: {'alpha': 0.002, 'learning_rate_init': 0.007, 'momentum': 0.9}\n",
      "0.760327 (0.000511) with: {'alpha': 0.0005, 'learning_rate_init': 0.005, 'momentum': 0.8}\n",
      "0.760327 (0.000940) with: {'alpha': 0.002, 'learning_rate_init': 0.005, 'momentum': 0.85}\n",
      "0.760235 (0.001510) with: {'alpha': 0.002, 'learning_rate_init': 0.007, 'momentum': 0.75}\n",
      "0.760235 (0.001319) with: {'alpha': 0.01, 'learning_rate_init': 0.01, 'momentum': 0.85}\n",
      "0.760204 (0.000773) with: {'alpha': 0.001, 'learning_rate_init': 0.005, 'momentum': 0.9}\n",
      "0.760173 (0.001181) with: {'alpha': 0.0001, 'learning_rate_init': 0.007, 'momentum': 0.9}\n",
      "0.760173 (0.000281) with: {'alpha': 0.0005, 'learning_rate_init': 0.01, 'momentum': 0.85}\n",
      "0.760173 (0.001233) with: {'alpha': 0.0005, 'learning_rate_init': 0.01, 'momentum': 0.75}\n",
      "0.760173 (0.001295) with: {'alpha': 0.002, 'learning_rate_init': 0.01, 'momentum': 0.8}\n",
      "0.760173 (0.000235) with: {'alpha': 0.01, 'learning_rate_init': 0.007, 'momentum': 0.85}\n",
      "0.760143 (0.001379) with: {'alpha': 0.0005, 'learning_rate_init': 0.01, 'momentum': 0.7}\n",
      "0.760112 (0.000869) with: {'alpha': 0.0001, 'learning_rate_init': 0.01, 'momentum': 0.9}\n",
      "0.760112 (0.000688) with: {'alpha': 0.0002, 'learning_rate_init': 0.01, 'momentum': 0.8}\n",
      "0.760081 (0.001293) with: {'alpha': 0.0005, 'learning_rate_init': 0.007, 'momentum': 0.7}\n",
      "0.760081 (0.001243) with: {'alpha': 0.0005, 'learning_rate_init': 0.01, 'momentum': 0.8}\n",
      "0.760081 (0.001293) with: {'alpha': 0.002, 'learning_rate_init': 0.007, 'momentum': 0.7}\n",
      "0.760050 (0.001134) with: {'alpha': 0.01, 'learning_rate_init': 0.01, 'momentum': 0.75}\n",
      "0.759958 (0.000815) with: {'alpha': 0.0002, 'learning_rate_init': 0.007, 'momentum': 0.9}\n",
      "0.759958 (0.001070) with: {'alpha': 0.001, 'learning_rate_init': 0.007, 'momentum': 0.8}\n",
      "0.759928 (0.000775) with: {'alpha': 0.0007, 'learning_rate_init': 0.007, 'momentum': 0.85}\n",
      "0.759897 (0.000644) with: {'alpha': 0.005, 'learning_rate_init': 0.005, 'momentum': 0.85}\n",
      "0.759866 (0.000939) with: {'alpha': 0.0002, 'learning_rate_init': 0.007, 'momentum': 0.8}\n",
      "0.759866 (0.000639) with: {'alpha': 0.0007, 'learning_rate_init': 0.005, 'momentum': 0.8}\n",
      "0.759866 (0.000549) with: {'alpha': 0.001, 'learning_rate_init': 0.007, 'momentum': 0.85}\n",
      "0.759835 (0.000896) with: {'alpha': 0.0001, 'learning_rate_init': 0.01, 'momentum': 0.8}\n",
      "0.759835 (0.000896) with: {'alpha': 0.0002, 'learning_rate_init': 0.007, 'momentum': 0.7}\n",
      "0.759805 (0.000662) with: {'alpha': 0.0002, 'learning_rate_init': 0.01, 'momentum': 0.7}\n",
      "0.759774 (0.000672) with: {'alpha': 0.0007, 'learning_rate_init': 0.007, 'momentum': 0.9}\n",
      "0.759774 (0.000455) with: {'alpha': 0.01, 'learning_rate_init': 0.007, 'momentum': 0.75}\n",
      "0.759743 (0.000425) with: {'alpha': 0.01, 'learning_rate_init': 0.005, 'momentum': 0.8}\n",
      "0.759682 (0.000728) with: {'alpha': 0.001, 'learning_rate_init': 0.005, 'momentum': 0.7}\n",
      "0.759651 (0.000394) with: {'alpha': 0.001, 'learning_rate_init': 0.01, 'momentum': 0.75}\n",
      "0.759620 (0.000641) with: {'alpha': 0.0007, 'learning_rate_init': 0.002, 'momentum': 0.85}\n",
      "0.759620 (0.000324) with: {'alpha': 0.005, 'learning_rate_init': 0.007, 'momentum': 0.85}\n",
      "0.759620 (0.000531) with: {'alpha': 0.005, 'learning_rate_init': 0.01, 'momentum': 0.75}\n",
      "0.759590 (0.000235) with: {'alpha': 0.0001, 'learning_rate_init': 0.007, 'momentum': 0.85}\n",
      "0.759590 (0.000076) with: {'alpha': 0.0005, 'learning_rate_init': 0.005, 'momentum': 0.75}\n",
      "0.759590 (0.000549) with: {'alpha': 0.002, 'learning_rate_init': 0.005, 'momentum': 0.75}\n",
      "0.759590 (0.000549) with: {'alpha': 0.005, 'learning_rate_init': 0.001, 'momentum': 0.9}\n",
      "0.759559 (0.000506) with: {'alpha': 0.0002, 'learning_rate_init': 0.005, 'momentum': 0.85}\n",
      "0.759528 (0.000279) with: {'alpha': 0.005, 'learning_rate_init': 0.007, 'momentum': 0.9}\n",
      "0.759528 (0.000511) with: {'alpha': 0.005, 'learning_rate_init': 0.01, 'momentum': 0.7}\n",
      "0.759467 (0.000424) with: {'alpha': 0.0001, 'learning_rate_init': 0.005, 'momentum': 0.9}\n",
      "0.759467 (0.000375) with: {'alpha': 0.002, 'learning_rate_init': 0.005, 'momentum': 0.8}\n",
      "0.759467 (0.000375) with: {'alpha': 0.005, 'learning_rate_init': 0.002, 'momentum': 0.9}\n",
      "0.759436 (0.000196) with: {'alpha': 0.0002, 'learning_rate_init': 0.005, 'momentum': 0.7}\n",
      "0.759405 (0.000337) with: {'alpha': 0.0005, 'learning_rate_init': 0.005, 'momentum': 0.85}\n",
      "0.759313 (0.000160) with: {'alpha': 0.0001, 'learning_rate_init': 0.005, 'momentum': 0.7}\n",
      "0.759313 (0.000160) with: {'alpha': 0.0002, 'learning_rate_init': 0.002, 'momentum': 0.85}\n",
      "0.759313 (0.000160) with: {'alpha': 0.0002, 'learning_rate_init': 0.005, 'momentum': 0.75}\n",
      "0.759313 (0.000160) with: {'alpha': 0.0005, 'learning_rate_init': 0.002, 'momentum': 0.9}\n",
      "0.759313 (0.000107) with: {'alpha': 0.002, 'learning_rate_init': 0.002, 'momentum': 0.9}\n",
      "0.759313 (0.000160) with: {'alpha': 0.005, 'learning_rate_init': 0.007, 'momentum': 0.7}\n",
      "0.759283 (0.000117) with: {'alpha': 0.0002, 'learning_rate_init': 0.001, 'momentum': 0.9}\n",
      "0.759283 (0.000117) with: {'alpha': 0.0007, 'learning_rate_init': 0.002, 'momentum': 0.9}\n",
      "0.759283 (0.000117) with: {'alpha': 0.0007, 'learning_rate_init': 0.007, 'momentum': 0.7}\n",
      "0.759252 (0.000076) with: {'alpha': 0.0001, 'learning_rate_init': 0.002, 'momentum': 0.85}\n",
      "0.759252 (0.000076) with: {'alpha': 0.0002, 'learning_rate_init': 0.002, 'momentum': 0.75}\n",
      "0.759252 (0.000076) with: {'alpha': 0.0005, 'learning_rate_init': 0.001, 'momentum': 0.75}\n",
      "0.759252 (0.000120) with: {'alpha': 0.001, 'learning_rate_init': 0.002, 'momentum': 0.75}\n",
      "0.759252 (0.000076) with: {'alpha': 0.002, 'learning_rate_init': 0.002, 'momentum': 0.85}\n",
      "0.759252 (0.000120) with: {'alpha': 0.01, 'learning_rate_init': 0.005, 'momentum': 0.85}\n",
      "0.759252 (0.000076) with: {'alpha': 0.01, 'learning_rate_init': 0.005, 'momentum': 0.75}\n",
      "0.759221 (0.000039) with: {'alpha': 0.0002, 'learning_rate_init': 0.001, 'momentum': 0.8}\n",
      "0.759221 (0.000039) with: {'alpha': 0.0002, 'learning_rate_init': 0.002, 'momentum': 0.9}\n",
      "0.759221 (0.000039) with: {'alpha': 0.0007, 'learning_rate_init': 0.001, 'momentum': 0.9}\n",
      "0.759221 (0.000076) with: {'alpha': 0.001, 'learning_rate_init': 0.002, 'momentum': 0.8}\n",
      "0.759221 (0.000039) with: {'alpha': 0.001, 'learning_rate_init': 0.007, 'momentum': 0.75}\n",
      "0.759221 (0.000039) with: {'alpha': 0.01, 'learning_rate_init': 0.01, 'momentum': 0.7}\n",
      "0.759190 (0.000033) with: {'alpha': 0.0001, 'learning_rate_init': 0.001, 'momentum': 0.9}\n",
      "0.759190 (0.000033) with: {'alpha': 0.0001, 'learning_rate_init': 0.001, 'momentum': 0.85}\n",
      "0.759190 (0.000033) with: {'alpha': 0.0001, 'learning_rate_init': 0.001, 'momentum': 0.8}\n",
      "0.759190 (0.000033) with: {'alpha': 0.0001, 'learning_rate_init': 0.001, 'momentum': 0.75}\n",
      "0.759190 (0.000033) with: {'alpha': 0.0001, 'learning_rate_init': 0.001, 'momentum': 0.7}\n",
      "0.759190 (0.000033) with: {'alpha': 0.0001, 'learning_rate_init': 0.002, 'momentum': 0.9}\n",
      "0.759190 (0.000033) with: {'alpha': 0.0001, 'learning_rate_init': 0.002, 'momentum': 0.8}\n",
      "0.759190 (0.000033) with: {'alpha': 0.0001, 'learning_rate_init': 0.002, 'momentum': 0.75}\n",
      "0.759190 (0.000033) with: {'alpha': 0.0001, 'learning_rate_init': 0.002, 'momentum': 0.7}\n",
      "0.759190 (0.000033) with: {'alpha': 0.0001, 'learning_rate_init': 0.007, 'momentum': 0.7}\n",
      "0.759190 (0.000033) with: {'alpha': 0.0001, 'learning_rate_init': 0.01, 'momentum': 0.7}\n",
      "0.759190 (0.000033) with: {'alpha': 0.0002, 'learning_rate_init': 0.001, 'momentum': 0.85}\n",
      "0.759190 (0.000033) with: {'alpha': 0.0002, 'learning_rate_init': 0.001, 'momentum': 0.75}\n",
      "0.759190 (0.000033) with: {'alpha': 0.0002, 'learning_rate_init': 0.001, 'momentum': 0.7}\n",
      "0.759190 (0.000033) with: {'alpha': 0.0002, 'learning_rate_init': 0.002, 'momentum': 0.8}\n",
      "0.759190 (0.000033) with: {'alpha': 0.0002, 'learning_rate_init': 0.002, 'momentum': 0.7}\n",
      "0.759190 (0.000033) with: {'alpha': 0.0002, 'learning_rate_init': 0.005, 'momentum': 0.8}\n",
      "0.759190 (0.000033) with: {'alpha': 0.0002, 'learning_rate_init': 0.007, 'momentum': 0.75}\n",
      "0.759190 (0.000033) with: {'alpha': 0.0005, 'learning_rate_init': 0.001, 'momentum': 0.9}\n",
      "0.759190 (0.000033) with: {'alpha': 0.0005, 'learning_rate_init': 0.001, 'momentum': 0.85}\n",
      "0.759190 (0.000033) with: {'alpha': 0.0005, 'learning_rate_init': 0.001, 'momentum': 0.8}\n",
      "0.759190 (0.000033) with: {'alpha': 0.0005, 'learning_rate_init': 0.001, 'momentum': 0.7}\n",
      "0.759190 (0.000033) with: {'alpha': 0.0005, 'learning_rate_init': 0.002, 'momentum': 0.85}\n",
      "0.759190 (0.000033) with: {'alpha': 0.0005, 'learning_rate_init': 0.002, 'momentum': 0.8}\n",
      "0.759190 (0.000033) with: {'alpha': 0.0005, 'learning_rate_init': 0.002, 'momentum': 0.75}\n",
      "0.759190 (0.000033) with: {'alpha': 0.0005, 'learning_rate_init': 0.002, 'momentum': 0.7}\n",
      "0.759190 (0.000033) with: {'alpha': 0.0005, 'learning_rate_init': 0.005, 'momentum': 0.7}\n",
      "0.759190 (0.000033) with: {'alpha': 0.0005, 'learning_rate_init': 0.007, 'momentum': 0.75}\n",
      "0.759190 (0.000033) with: {'alpha': 0.0007, 'learning_rate_init': 0.001, 'momentum': 0.85}\n",
      "0.759190 (0.000033) with: {'alpha': 0.0007, 'learning_rate_init': 0.001, 'momentum': 0.8}\n",
      "0.759190 (0.000033) with: {'alpha': 0.0007, 'learning_rate_init': 0.001, 'momentum': 0.75}\n",
      "0.759190 (0.000033) with: {'alpha': 0.0007, 'learning_rate_init': 0.001, 'momentum': 0.7}\n",
      "0.759190 (0.000033) with: {'alpha': 0.0007, 'learning_rate_init': 0.002, 'momentum': 0.8}\n",
      "0.759190 (0.000033) with: {'alpha': 0.0007, 'learning_rate_init': 0.002, 'momentum': 0.75}\n",
      "0.759190 (0.000033) with: {'alpha': 0.0007, 'learning_rate_init': 0.002, 'momentum': 0.7}\n",
      "0.759190 (0.000033) with: {'alpha': 0.0007, 'learning_rate_init': 0.005, 'momentum': 0.75}\n",
      "0.759190 (0.000033) with: {'alpha': 0.0007, 'learning_rate_init': 0.005, 'momentum': 0.7}\n",
      "0.759190 (0.000033) with: {'alpha': 0.001, 'learning_rate_init': 0.001, 'momentum': 0.9}\n",
      "0.759190 (0.000033) with: {'alpha': 0.001, 'learning_rate_init': 0.001, 'momentum': 0.85}\n",
      "0.759190 (0.000033) with: {'alpha': 0.001, 'learning_rate_init': 0.001, 'momentum': 0.8}\n",
      "0.759190 (0.000033) with: {'alpha': 0.001, 'learning_rate_init': 0.001, 'momentum': 0.75}\n",
      "0.759190 (0.000033) with: {'alpha': 0.001, 'learning_rate_init': 0.001, 'momentum': 0.7}\n",
      "0.759190 (0.000033) with: {'alpha': 0.001, 'learning_rate_init': 0.002, 'momentum': 0.85}\n",
      "0.759190 (0.000033) with: {'alpha': 0.001, 'learning_rate_init': 0.002, 'momentum': 0.7}\n",
      "0.759190 (0.000033) with: {'alpha': 0.001, 'learning_rate_init': 0.007, 'momentum': 0.7}\n",
      "0.759190 (0.000033) with: {'alpha': 0.001, 'learning_rate_init': 0.01, 'momentum': 0.7}\n",
      "0.759190 (0.000033) with: {'alpha': 0.002, 'learning_rate_init': 0.001, 'momentum': 0.9}\n",
      "0.759190 (0.000033) with: {'alpha': 0.002, 'learning_rate_init': 0.001, 'momentum': 0.85}\n",
      "0.759190 (0.000033) with: {'alpha': 0.002, 'learning_rate_init': 0.001, 'momentum': 0.8}\n",
      "0.759190 (0.000033) with: {'alpha': 0.002, 'learning_rate_init': 0.001, 'momentum': 0.75}\n",
      "0.759190 (0.000033) with: {'alpha': 0.002, 'learning_rate_init': 0.001, 'momentum': 0.7}\n",
      "0.759190 (0.000033) with: {'alpha': 0.002, 'learning_rate_init': 0.002, 'momentum': 0.8}\n",
      "0.759190 (0.000033) with: {'alpha': 0.002, 'learning_rate_init': 0.002, 'momentum': 0.75}\n",
      "0.759190 (0.000033) with: {'alpha': 0.002, 'learning_rate_init': 0.002, 'momentum': 0.7}\n",
      "0.759190 (0.000033) with: {'alpha': 0.002, 'learning_rate_init': 0.005, 'momentum': 0.7}\n",
      "0.759190 (0.000033) with: {'alpha': 0.002, 'learning_rate_init': 0.01, 'momentum': 0.75}\n",
      "0.759190 (0.000033) with: {'alpha': 0.005, 'learning_rate_init': 0.001, 'momentum': 0.85}\n",
      "0.759190 (0.000033) with: {'alpha': 0.005, 'learning_rate_init': 0.001, 'momentum': 0.8}\n",
      "0.759190 (0.000033) with: {'alpha': 0.005, 'learning_rate_init': 0.001, 'momentum': 0.75}\n",
      "0.759190 (0.000033) with: {'alpha': 0.005, 'learning_rate_init': 0.001, 'momentum': 0.7}\n",
      "0.759190 (0.000033) with: {'alpha': 0.005, 'learning_rate_init': 0.002, 'momentum': 0.85}\n",
      "0.759190 (0.000033) with: {'alpha': 0.005, 'learning_rate_init': 0.002, 'momentum': 0.8}\n",
      "0.759190 (0.000033) with: {'alpha': 0.005, 'learning_rate_init': 0.002, 'momentum': 0.75}\n",
      "0.759190 (0.000033) with: {'alpha': 0.005, 'learning_rate_init': 0.002, 'momentum': 0.7}\n",
      "0.759190 (0.000033) with: {'alpha': 0.005, 'learning_rate_init': 0.005, 'momentum': 0.8}\n",
      "0.759190 (0.000033) with: {'alpha': 0.005, 'learning_rate_init': 0.005, 'momentum': 0.75}\n",
      "0.759190 (0.000033) with: {'alpha': 0.005, 'learning_rate_init': 0.005, 'momentum': 0.7}\n",
      "0.759190 (0.000033) with: {'alpha': 0.005, 'learning_rate_init': 0.007, 'momentum': 0.8}\n",
      "0.759190 (0.000033) with: {'alpha': 0.01, 'learning_rate_init': 0.001, 'momentum': 0.9}\n",
      "0.759190 (0.000033) with: {'alpha': 0.01, 'learning_rate_init': 0.001, 'momentum': 0.85}\n",
      "0.759190 (0.000033) with: {'alpha': 0.01, 'learning_rate_init': 0.001, 'momentum': 0.8}\n",
      "0.759190 (0.000033) with: {'alpha': 0.01, 'learning_rate_init': 0.001, 'momentum': 0.75}\n",
      "0.759190 (0.000033) with: {'alpha': 0.01, 'learning_rate_init': 0.001, 'momentum': 0.7}\n",
      "0.759190 (0.000033) with: {'alpha': 0.01, 'learning_rate_init': 0.002, 'momentum': 0.9}\n",
      "0.759190 (0.000033) with: {'alpha': 0.01, 'learning_rate_init': 0.002, 'momentum': 0.85}\n",
      "0.759190 (0.000033) with: {'alpha': 0.01, 'learning_rate_init': 0.002, 'momentum': 0.8}\n",
      "0.759190 (0.000033) with: {'alpha': 0.01, 'learning_rate_init': 0.002, 'momentum': 0.75}\n",
      "0.759190 (0.000033) with: {'alpha': 0.01, 'learning_rate_init': 0.002, 'momentum': 0.7}\n",
      "0.759190 (0.000033) with: {'alpha': 0.01, 'learning_rate_init': 0.005, 'momentum': 0.9}\n",
      "0.759190 (0.000033) with: {'alpha': 0.01, 'learning_rate_init': 0.005, 'momentum': 0.7}\n",
      "0.759190 (0.000033) with: {'alpha': 0.01, 'learning_rate_init': 0.007, 'momentum': 0.7}\n",
      "0.759651116366205\n",
      "0.7648178858792457\n"
     ]
    }
   ],
   "source": [
    "alphas = [0.0001, 0.0002, 0.0005, 0.0007, 0.001, 0.002, 0.005, 0.01]\n",
    "learning_rates = [0.001, 0.002, 0.005, 0.007, 0.01]\n",
    "momentums = [0.9, 0.85, 0.8, 0.75, 0.7]\n",
    "param_grid = dict(alpha=alphas, learning_rate_init = learning_rates, momentum = momentums)\n",
    "grid_nn = GridSearchCV(estimator=nn, param_grid=param_grid)\n",
    "grid_result_nn = grid_nn.fit(processed_adult_training_set, adult_training_set_labels)\n",
    "\n",
    "\n",
    "print(\"Best: %f using %s\" % (grid_result_nn.best_score_, grid_result_nn.best_params_))\n",
    "means = grid_result_nn.cv_results_['mean_test_score']\n",
    "stds = grid_result_nn.cv_results_['std_test_score']\n",
    "params = grid_result_nn.cv_results_['params']\n",
    "results = zip(means, stds, params)\n",
    "for mean, stdev, param in sorted(results, key=lambda x: x[0], reverse=True):\n",
    "    print(\"%f (%f) with: %r\" % (mean, stdev, param))\n",
    "    \n",
    "\n",
    "predicted_training_set_labels = grid_nn.predict(processed_adult_training_set)\n",
    "predicted_training_set_labels = pd.DataFrame(predicted_training_set_labels) \n",
    "training_set_acc_nn=accuracy_score(adult_training_set_labels, predicted_training_set_labels)\n",
    "\n",
    "predicted_testing_set_labels = grid_nn.predict(processed_adult_testing_set)\n",
    "predicted_testing_set_labels = pd.DataFrame(predicted_testing_set_labels)\n",
    "testing_set_acc_nn=accuracy_score(adult_testing_set_labels, predicted_testing_set_labels)\n",
    "\n",
    "print(training_set_acc_nn)\n",
    "print(testing_set_acc_nn)"
   ]
  },
  {
   "cell_type": "code",
   "execution_count": 10,
   "metadata": {},
   "outputs": [
    {
     "name": "stdout",
     "output_type": "stream",
     "text": [
      "             precision    recall  f1-score   support\n",
      "\n",
      "      <=50K       0.76      1.00      0.87     12435\n",
      "       >50K       1.00      0.00      0.01      3846\n",
      "\n",
      "avg / total       0.82      0.76      0.66     16281\n",
      "\n"
     ]
    }
   ],
   "source": [
    "print(classification_report(adult_testing_set_labels, predicted_testing_set_labels, target_names=target_names))"
   ]
  },
  {
   "cell_type": "code",
   "execution_count": 29,
   "metadata": {},
   "outputs": [
    {
     "name": "stderr",
     "output_type": "stream",
     "text": [
      "/Users/tomhuang/.local/share/virtualenvs/assignment1-2RDWss_u/lib/python3.6/site-packages/sklearn/model_selection/_search.py:762: DeprecationWarning: The grid_scores_ attribute was deprecated in version 0.18 in favor of the more elaborate cv_results_ attribute. The grid_scores_ attribute will not be available from 0.20\n",
      "  DeprecationWarning)\n",
      "/Users/tomhuang/.local/share/virtualenvs/assignment1-2RDWss_u/lib/python3.6/site-packages/sklearn/model_selection/_search.py:762: DeprecationWarning: The grid_scores_ attribute was deprecated in version 0.18 in favor of the more elaborate cv_results_ attribute. The grid_scores_ attribute will not be available from 0.20\n",
      "  DeprecationWarning)\n"
     ]
    },
    {
     "data": {
      "text/plain": [
       "<Figure size 1332x756 with 0 Axes>"
      ]
     },
     "metadata": {},
     "output_type": "display_data"
    }
   ],
   "source": [
    "ax = plot.grid_search(grid_nn.grid_scores_, change=('alpha', 'learning_rate_init'),\n",
    "              subset={'momentum': 0.7})\n",
    "fig = ax.get_figure()\n",
    "fig.set_size_inches(18.5, 10.5)\n",
    "fig.savefig('NN1.png')\n",
    "fig.clf()\n",
    "ax = plot.grid_search(grid_nn.grid_scores_, change=('alpha', 'momentum'),\n",
    "              subset={'learning_rate_init': 0.01})\n",
    "fig = ax.get_figure()\n",
    "fig.set_size_inches(18.5, 10.5)\n",
    "fig.savefig('NN2.png')\n",
    "fig.clf()"
   ]
  },
  {
   "cell_type": "code",
   "execution_count": 12,
   "metadata": {
    "scrolled": true
   },
   "outputs": [
    {
     "name": "stdout",
     "output_type": "stream",
     "text": [
      "0.8690457909769356\n",
      "0.8693569191081629\n"
     ]
    }
   ],
   "source": [
    "# boosting\n",
    "gbc = GradientBoostingClassifier()\n",
    "gbc.fit(processed_adult_training_set, adult_training_set_labels)\n",
    "\n",
    "predicted_training_set_labels = gbc.predict(processed_adult_training_set)\n",
    "predicted_training_set_labels = pd.DataFrame(predicted_training_set_labels) \n",
    "training_set_acc=accuracy_score(adult_training_set_labels, predicted_training_set_labels)\n",
    "\n",
    "predicted_testing_set_labels = gbc.predict(processed_adult_testing_set)\n",
    "predicted_testing_set_labels = pd.DataFrame(predicted_testing_set_labels)\n",
    "testing_set_acc=accuracy_score(adult_testing_set_labels, predicted_testing_set_labels)\n",
    "\n",
    "print(training_set_acc)\n",
    "print(testing_set_acc)"
   ]
  },
  {
   "cell_type": "code",
   "execution_count": 13,
   "metadata": {},
   "outputs": [
    {
     "name": "stdout",
     "output_type": "stream",
     "text": [
      "Best: 0.872178 using {'learning_rate': 0.1, 'n_estimators': 500}\n",
      "0.872178 (0.002720) with: {'learning_rate': 0.1, 'n_estimators': 500}\n",
      "0.871595 (0.003686) with: {'learning_rate': 0.1, 'n_estimators': 300}\n",
      "0.871595 (0.002861) with: {'learning_rate': 0.1, 'n_estimators': 700}\n",
      "0.870581 (0.003080) with: {'learning_rate': 0.1, 'n_estimators': 900}\n",
      "0.869936 (0.003328) with: {'learning_rate': 0.3, 'n_estimators': 100}\n",
      "0.869199 (0.002102) with: {'learning_rate': 0.3, 'n_estimators': 300}\n",
      "0.869199 (0.002478) with: {'learning_rate': 0.5, 'n_estimators': 100}\n",
      "0.867295 (0.004145) with: {'learning_rate': 0.7, 'n_estimators': 100}\n",
      "0.865668 (0.003197) with: {'learning_rate': 0.1, 'n_estimators': 100}\n",
      "0.864685 (0.002146) with: {'learning_rate': 0.3, 'n_estimators': 500}\n",
      "0.864408 (0.004288) with: {'learning_rate': 1.0, 'n_estimators': 100}\n",
      "0.863456 (0.001103) with: {'learning_rate': 0.5, 'n_estimators': 300}\n",
      "0.863272 (0.002606) with: {'learning_rate': 0.3, 'n_estimators': 700}\n",
      "0.862197 (0.002129) with: {'learning_rate': 0.3, 'n_estimators': 900}\n",
      "0.860508 (0.000220) with: {'learning_rate': 0.5, 'n_estimators': 500}\n",
      "0.858757 (0.003931) with: {'learning_rate': 1.0, 'n_estimators': 300}\n",
      "0.858727 (0.000785) with: {'learning_rate': 0.5, 'n_estimators': 700}\n",
      "0.858604 (0.003913) with: {'learning_rate': 0.7, 'n_estimators': 300}\n",
      "0.855993 (0.000783) with: {'learning_rate': 0.5, 'n_estimators': 900}\n",
      "0.855256 (0.005041) with: {'learning_rate': 1.0, 'n_estimators': 500}\n",
      "0.855072 (0.005192) with: {'learning_rate': 1.0, 'n_estimators': 700}\n",
      "0.855041 (0.005531) with: {'learning_rate': 1.0, 'n_estimators': 900}\n",
      "0.854488 (0.004213) with: {'learning_rate': 0.7, 'n_estimators': 500}\n",
      "0.853291 (0.004695) with: {'learning_rate': 0.7, 'n_estimators': 700}\n",
      "0.851663 (0.003800) with: {'learning_rate': 0.7, 'n_estimators': 900}\n",
      "0.8866742421915789\n",
      "0.8603894109698421\n"
     ]
    }
   ],
   "source": [
    "nEstimators = [100, 300, 500, 700, 900]\n",
    "learning_rates = [0.1, 0.3, 0.5, 0.7, 1.0]\n",
    "param_grid = dict(learning_rate = learning_rates, n_estimators = nEstimators)\n",
    "grid_b = GridSearchCV(estimator=gbc, param_grid=param_grid)\n",
    "grid_result_b = grid_b.fit(processed_adult_training_set, adult_training_set_labels)\n",
    "\n",
    "\n",
    "print(\"Best: %f using %s\" % (grid_result_b.best_score_, grid_result_b.best_params_))\n",
    "means = grid_result_b.cv_results_['mean_test_score']\n",
    "stds = grid_result_b.cv_results_['std_test_score']\n",
    "params = grid_result_b.cv_results_['params']\n",
    "results = zip(means, stds, params)\n",
    "for mean, stdev, param in sorted(results, key=lambda x: x[0], reverse=True):\n",
    "    print(\"%f (%f) with: %r\" % (mean, stdev, param))\n",
    "    \n",
    "\n",
    "predicted_training_set_labels = grid_b.predict(processed_adult_training_set)\n",
    "predicted_training_set_labels = pd.DataFrame(predicted_training_set_labels) \n",
    "training_set_acc=accuracy_score(adult_training_set_labels, predicted_training_set_labels)\n",
    "\n",
    "predicted_testing_set_labels = grid_b.predict(processed_adult_testing_set)\n",
    "predicted_testing_set_labels = pd.DataFrame(predicted_testing_set_labels)\n",
    "testing_set_acc=accuracy_score(adult_testing_set_labels, predicted_testing_set_labels)\n",
    "\n",
    "print(training_set_acc)\n",
    "print(testing_set_acc)"
   ]
  },
  {
   "cell_type": "code",
   "execution_count": 14,
   "metadata": {},
   "outputs": [
    {
     "name": "stdout",
     "output_type": "stream",
     "text": [
      "             precision    recall  f1-score   support\n",
      "\n",
      "      <=50K       0.87      0.95      0.91     12435\n",
      "       >50K       0.79      0.56      0.65      3846\n",
      "\n",
      "avg / total       0.85      0.86      0.85     16281\n",
      "\n"
     ]
    }
   ],
   "source": [
    "print(classification_report(adult_testing_set_labels, predicted_testing_set_labels, target_names=target_names))"
   ]
  },
  {
   "cell_type": "code",
   "execution_count": 15,
   "metadata": {},
   "outputs": [
    {
     "name": "stderr",
     "output_type": "stream",
     "text": [
      "/Users/tomhuang/.local/share/virtualenvs/assignment1-2RDWss_u/lib/python3.6/site-packages/sklearn/model_selection/_search.py:762: DeprecationWarning: The grid_scores_ attribute was deprecated in version 0.18 in favor of the more elaborate cv_results_ attribute. The grid_scores_ attribute will not be available from 0.20\n",
      "  DeprecationWarning)\n"
     ]
    },
    {
     "data": {
      "text/plain": [
       "<Figure size 1332x756 with 0 Axes>"
      ]
     },
     "metadata": {},
     "output_type": "display_data"
    }
   ],
   "source": [
    "ax = plot.grid_search(grid_b.grid_scores_, change=('learning_rate', 'n_estimators'))\n",
    "fig = ax.get_figure()\n",
    "fig.set_size_inches(18.5, 10.5)\n",
    "fig.savefig('boosting1.png')\n",
    "fig.clf()"
   ]
  },
  {
   "cell_type": "code",
   "execution_count": 16,
   "metadata": {},
   "outputs": [
    {
     "name": "stdout",
     "output_type": "stream",
     "text": [
      "Best: 0.872209 using {'learning_rate': 0.1, 'n_estimators': 500}\n",
      "0.872209 (0.002673) with: {'learning_rate': 0.1, 'n_estimators': 500}\n",
      "0.872056 (0.002949) with: {'learning_rate': 0.1, 'n_estimators': 400}\n",
      "0.872056 (0.002593) with: {'learning_rate': 0.1, 'n_estimators': 600}\n",
      "0.871564 (0.002902) with: {'learning_rate': 0.1, 'n_estimators': 700}\n",
      "0.871533 (0.003722) with: {'learning_rate': 0.1, 'n_estimators': 300}\n",
      "0.870858 (0.003107) with: {'learning_rate': 0.1, 'n_estimators': 800}\n",
      "0.870612 (0.003117) with: {'learning_rate': 0.1, 'n_estimators': 900}\n",
      "0.869814 (0.002364) with: {'learning_rate': 0.1, 'n_estimators': 1000}\n",
      "0.868862 (0.003456) with: {'learning_rate': 0.1, 'n_estimators': 200}\n",
      "0.865729 (0.003204) with: {'learning_rate': 0.1, 'n_estimators': 100}\n",
      "0.8866742421915789\n",
      "0.8604508322584608\n"
     ]
    }
   ],
   "source": [
    "nEstimators = [100, 200, 300, 400, 500, 600, 700, 800, 900, 1000]\n",
    "learning_rate=[0.1]\n",
    "param_grid = dict(n_estimators = nEstimators, learning_rate=learning_rate)\n",
    "grid_b2 = GridSearchCV(estimator=gbc, param_grid=param_grid)\n",
    "grid_result_b2 = grid_b2.fit(processed_adult_training_set, adult_training_set_labels)\n",
    "\n",
    "\n",
    "print(\"Best: %f using %s\" % (grid_result_b2.best_score_, grid_result_b2.best_params_))\n",
    "means = grid_result_b2.cv_results_['mean_test_score']\n",
    "stds = grid_result_b2.cv_results_['std_test_score']\n",
    "params = grid_result_b2.cv_results_['params']\n",
    "results = zip(means, stds, params)\n",
    "for mean, stdev, param in sorted(results, key=lambda x: x[0], reverse=True):\n",
    "    print(\"%f (%f) with: %r\" % (mean, stdev, param))\n",
    "    \n",
    "\n",
    "predicted_training_set_labels = grid_b2.predict(processed_adult_training_set)\n",
    "predicted_training_set_labels = pd.DataFrame(predicted_training_set_labels) \n",
    "training_set_acc=accuracy_score(adult_training_set_labels, predicted_training_set_labels)\n",
    "\n",
    "predicted_testing_set_labels = grid_b2.predict(processed_adult_testing_set)\n",
    "predicted_testing_set_labels = pd.DataFrame(predicted_testing_set_labels)\n",
    "testing_set_acc=accuracy_score(adult_testing_set_labels, predicted_testing_set_labels)\n",
    "\n",
    "print(training_set_acc)\n",
    "print(testing_set_acc)"
   ]
  },
  {
   "cell_type": "code",
   "execution_count": 17,
   "metadata": {},
   "outputs": [
    {
     "name": "stdout",
     "output_type": "stream",
     "text": [
      "[mean: 0.86573, std: 0.00320, params: {'learning_rate': 0.1, 'n_estimators': 100}, mean: 0.86886, std: 0.00346, params: {'learning_rate': 0.1, 'n_estimators': 200}, mean: 0.87153, std: 0.00372, params: {'learning_rate': 0.1, 'n_estimators': 300}, mean: 0.87206, std: 0.00295, params: {'learning_rate': 0.1, 'n_estimators': 400}, mean: 0.87221, std: 0.00267, params: {'learning_rate': 0.1, 'n_estimators': 500}, mean: 0.87206, std: 0.00259, params: {'learning_rate': 0.1, 'n_estimators': 600}, mean: 0.87156, std: 0.00290, params: {'learning_rate': 0.1, 'n_estimators': 700}, mean: 0.87086, std: 0.00311, params: {'learning_rate': 0.1, 'n_estimators': 800}, mean: 0.87061, std: 0.00312, params: {'learning_rate': 0.1, 'n_estimators': 900}, mean: 0.86981, std: 0.00236, params: {'learning_rate': 0.1, 'n_estimators': 1000}]\n"
     ]
    },
    {
     "name": "stderr",
     "output_type": "stream",
     "text": [
      "/Users/tomhuang/.local/share/virtualenvs/assignment1-2RDWss_u/lib/python3.6/site-packages/sklearn/model_selection/_search.py:762: DeprecationWarning: The grid_scores_ attribute was deprecated in version 0.18 in favor of the more elaborate cv_results_ attribute. The grid_scores_ attribute will not be available from 0.20\n",
      "  DeprecationWarning)\n",
      "/Users/tomhuang/.local/share/virtualenvs/assignment1-2RDWss_u/lib/python3.6/site-packages/sklearn/model_selection/_search.py:762: DeprecationWarning: The grid_scores_ attribute was deprecated in version 0.18 in favor of the more elaborate cv_results_ attribute. The grid_scores_ attribute will not be available from 0.20\n",
      "  DeprecationWarning)\n"
     ]
    },
    {
     "data": {
      "text/plain": [
       "<Figure size 1332x756 with 0 Axes>"
      ]
     },
     "metadata": {},
     "output_type": "display_data"
    }
   ],
   "source": [
    "print(grid_b2.grid_scores_)\n",
    "ax = plot.grid_search(grid_b2.grid_scores_, change='n_estimators')\n",
    "fig = ax.get_figure()\n",
    "fig.savefig('boosting2.png')\n",
    "fig.set_size_inches(18.5, 10.5)\n",
    "fig.clf()"
   ]
  },
  {
   "cell_type": "code",
   "execution_count": 18,
   "metadata": {},
   "outputs": [
    {
     "name": "stdout",
     "output_type": "stream",
     "text": [
      "Best: 0.871933 using {'learning_rate': 0.1, 'max_depth': 6}\n",
      "0.871933 (0.003343) with: {'learning_rate': 0.1, 'max_depth': 6}\n",
      "0.871073 (0.003505) with: {'learning_rate': 0.1, 'max_depth': 5}\n",
      "0.871011 (0.002729) with: {'learning_rate': 0.1, 'max_depth': 7}\n",
      "0.868769 (0.003087) with: {'learning_rate': 0.1, 'max_depth': 4}\n",
      "0.865698 (0.003238) with: {'learning_rate': 0.1, 'max_depth': 3}\n",
      "0.8916802309511379\n",
      "0.8744548860635096\n"
     ]
    }
   ],
   "source": [
    "maxDepths = [3, 4, 5, 6, 7]\n",
    "learning_rate=[0.1]\n",
    "param_grid = dict(max_depth = maxDepths, learning_rate=learning_rate)\n",
    "grid_b3 = GridSearchCV(estimator=gbc, param_grid=param_grid)\n",
    "grid_result_b3 = grid_b3.fit(processed_adult_training_set, adult_training_set_labels)\n",
    "\n",
    "\n",
    "print(\"Best: %f using %s\" % (grid_result_b3.best_score_, grid_result_b3.best_params_))\n",
    "means = grid_result_b3.cv_results_['mean_test_score']\n",
    "stds = grid_result_b3.cv_results_['std_test_score']\n",
    "params = grid_result_b3.cv_results_['params']\n",
    "results = zip(means, stds, params)\n",
    "for mean, stdev, param in sorted(results, key=lambda x: x[0], reverse=True):\n",
    "    print(\"%f (%f) with: %r\" % (mean, stdev, param))\n",
    "    \n",
    "\n",
    "predicted_training_set_labels = grid_b3.predict(processed_adult_training_set)\n",
    "predicted_training_set_labels = pd.DataFrame(predicted_training_set_labels) \n",
    "training_set_acc=accuracy_score(adult_training_set_labels, predicted_training_set_labels)\n",
    "\n",
    "predicted_testing_set_labels = grid_b3.predict(processed_adult_testing_set)\n",
    "predicted_testing_set_labels = pd.DataFrame(predicted_testing_set_labels)\n",
    "testing_set_acc=accuracy_score(adult_testing_set_labels, predicted_testing_set_labels)\n",
    "\n",
    "print(training_set_acc)\n",
    "print(testing_set_acc)"
   ]
  },
  {
   "cell_type": "code",
   "execution_count": 19,
   "metadata": {},
   "outputs": [
    {
     "name": "stderr",
     "output_type": "stream",
     "text": [
      "/Users/tomhuang/.local/share/virtualenvs/assignment1-2RDWss_u/lib/python3.6/site-packages/sklearn/model_selection/_search.py:762: DeprecationWarning: The grid_scores_ attribute was deprecated in version 0.18 in favor of the more elaborate cv_results_ attribute. The grid_scores_ attribute will not be available from 0.20\n",
      "  DeprecationWarning)\n"
     ]
    },
    {
     "data": {
      "text/plain": [
       "<Figure size 1332x756 with 0 Axes>"
      ]
     },
     "metadata": {},
     "output_type": "display_data"
    }
   ],
   "source": [
    "ax = plot.grid_search(grid_b3.grid_scores_, change=('max_depth'))\n",
    "fig = ax.get_figure()\n",
    "fig.set_size_inches(18.5, 10.5)\n",
    "fig.savefig('boosting3.png')\n",
    "fig.clf()"
   ]
  },
  {
   "cell_type": "code",
   "execution_count": 20,
   "metadata": {},
   "outputs": [
    {
     "name": "stdout",
     "output_type": "stream",
     "text": [
      "0.8357851417339762\n",
      "0.7769793010257355\n"
     ]
    }
   ],
   "source": [
    "# KNN\n",
    "knn = KNeighborsClassifier()\n",
    "knn.fit(processed_adult_training_set, adult_training_set_labels)\n",
    "\n",
    "predicted_training_set_labels = knn.predict(processed_adult_training_set)\n",
    "predicted_training_set_labels = pd.DataFrame(predicted_training_set_labels) \n",
    "training_set_acc=accuracy_score(adult_training_set_labels, predicted_training_set_labels)\n",
    "\n",
    "predicted_testing_set_labels = knn.predict(processed_adult_testing_set)\n",
    "predicted_testing_set_labels = pd.DataFrame(predicted_testing_set_labels)\n",
    "testing_set_acc=accuracy_score(adult_testing_set_labels, predicted_testing_set_labels)\n",
    "\n",
    "print(training_set_acc)\n",
    "print(testing_set_acc)"
   ]
  },
  {
   "cell_type": "code",
   "execution_count": 21,
   "metadata": {},
   "outputs": [
    {
     "name": "stdout",
     "output_type": "stream",
     "text": [
      "Best: 0.797457 using {'n_neighbors': 10, 'p': 1, 'weights': 'uniform'}\n",
      "0.797457 (0.000361) with: {'n_neighbors': 10, 'p': 1, 'weights': 'uniform'}\n",
      "0.796781 (0.001817) with: {'n_neighbors': 8, 'p': 1, 'weights': 'uniform'}\n",
      "0.795430 (0.000450) with: {'n_neighbors': 6, 'p': 1, 'weights': 'uniform'}\n",
      "0.795399 (0.000319) with: {'n_neighbors': 10, 'p': 2, 'weights': 'uniform'}\n",
      "0.794877 (0.000108) with: {'n_neighbors': 10, 'p': 3, 'weights': 'uniform'}\n",
      "0.794785 (0.000407) with: {'n_neighbors': 10, 'p': 4, 'weights': 'uniform'}\n",
      "0.794232 (0.000829) with: {'n_neighbors': 8, 'p': 2, 'weights': 'uniform'}\n",
      "0.793342 (0.000792) with: {'n_neighbors': 8, 'p': 3, 'weights': 'uniform'}\n",
      "0.792881 (0.000492) with: {'n_neighbors': 8, 'p': 4, 'weights': 'uniform'}\n",
      "0.792543 (0.001005) with: {'n_neighbors': 10, 'p': 1, 'weights': 'distance'}\n",
      "0.792359 (0.001401) with: {'n_neighbors': 9, 'p': 1, 'weights': 'uniform'}\n",
      "0.791591 (0.000193) with: {'n_neighbors': 9, 'p': 1, 'weights': 'distance'}\n",
      "0.791560 (0.000961) with: {'n_neighbors': 6, 'p': 2, 'weights': 'uniform'}\n",
      "0.790455 (0.000976) with: {'n_neighbors': 6, 'p': 3, 'weights': 'uniform'}\n",
      "0.789994 (0.001065) with: {'n_neighbors': 6, 'p': 4, 'weights': 'uniform'}\n",
      "0.789626 (0.000704) with: {'n_neighbors': 9, 'p': 2, 'weights': 'uniform'}\n",
      "0.789257 (0.001024) with: {'n_neighbors': 9, 'p': 3, 'weights': 'uniform'}\n",
      "0.788674 (0.001150) with: {'n_neighbors': 9, 'p': 4, 'weights': 'uniform'}\n",
      "0.787292 (0.000388) with: {'n_neighbors': 7, 'p': 1, 'weights': 'uniform'}\n",
      "0.787230 (0.000492) with: {'n_neighbors': 8, 'p': 1, 'weights': 'distance'}\n",
      "0.784220 (0.000274) with: {'n_neighbors': 7, 'p': 1, 'weights': 'distance'}\n",
      "0.783913 (0.001600) with: {'n_neighbors': 7, 'p': 2, 'weights': 'uniform'}\n",
      "0.783790 (0.000790) with: {'n_neighbors': 7, 'p': 3, 'weights': 'uniform'}\n",
      "0.783698 (0.001036) with: {'n_neighbors': 10, 'p': 2, 'weights': 'distance'}\n",
      "0.782623 (0.001325) with: {'n_neighbors': 7, 'p': 4, 'weights': 'uniform'}\n",
      "0.782255 (0.001446) with: {'n_neighbors': 9, 'p': 2, 'weights': 'distance'}\n",
      "0.781241 (0.001120) with: {'n_neighbors': 10, 'p': 3, 'weights': 'distance'}\n",
      "0.780781 (0.001477) with: {'n_neighbors': 9, 'p': 3, 'weights': 'distance'}\n",
      "0.780689 (0.001316) with: {'n_neighbors': 10, 'p': 4, 'weights': 'distance'}\n",
      "0.780105 (0.000473) with: {'n_neighbors': 6, 'p': 1, 'weights': 'distance'}\n",
      "0.779951 (0.001650) with: {'n_neighbors': 9, 'p': 4, 'weights': 'distance'}\n",
      "0.779307 (0.001875) with: {'n_neighbors': 5, 'p': 1, 'weights': 'uniform'}\n",
      "0.778815 (0.000631) with: {'n_neighbors': 8, 'p': 2, 'weights': 'distance'}\n",
      "0.777433 (0.000846) with: {'n_neighbors': 8, 'p': 3, 'weights': 'distance'}\n",
      "0.777065 (0.000648) with: {'n_neighbors': 7, 'p': 2, 'weights': 'distance'}\n",
      "0.776420 (0.000795) with: {'n_neighbors': 8, 'p': 4, 'weights': 'distance'}\n",
      "0.775836 (0.001222) with: {'n_neighbors': 7, 'p': 3, 'weights': 'distance'}\n",
      "0.775529 (0.001995) with: {'n_neighbors': 5, 'p': 2, 'weights': 'uniform'}\n",
      "0.774853 (0.001339) with: {'n_neighbors': 7, 'p': 4, 'weights': 'distance'}\n",
      "0.774546 (0.001758) with: {'n_neighbors': 5, 'p': 3, 'weights': 'uniform'}\n",
      "0.774454 (0.001889) with: {'n_neighbors': 5, 'p': 1, 'weights': 'distance'}\n",
      "0.774301 (0.001732) with: {'n_neighbors': 5, 'p': 4, 'weights': 'uniform'}\n",
      "0.772212 (0.001130) with: {'n_neighbors': 6, 'p': 2, 'weights': 'distance'}\n",
      "0.770124 (0.000858) with: {'n_neighbors': 6, 'p': 3, 'weights': 'distance'}\n",
      "0.769417 (0.001028) with: {'n_neighbors': 6, 'p': 4, 'weights': 'distance'}\n",
      "0.767421 (0.001576) with: {'n_neighbors': 5, 'p': 2, 'weights': 'distance'}\n",
      "0.766285 (0.001497) with: {'n_neighbors': 5, 'p': 3, 'weights': 'distance'}\n",
      "0.765425 (0.001685) with: {'n_neighbors': 5, 'p': 4, 'weights': 'distance'}\n",
      "0.8159454562206321\n",
      "0.8006264971439101\n"
     ]
    }
   ],
   "source": [
    "n_neighbors = [5, 6, 7, 8, 9, 10]\n",
    "weights = [\"uniform\", \"distance\"]\n",
    "p = [1, 2, 3, 4]\n",
    "param_grid = dict(n_neighbors = n_neighbors, weights = weights, p = p)\n",
    "grid_knn = GridSearchCV(estimator=knn, param_grid=param_grid)\n",
    "grid_result_knn = grid_knn.fit(processed_adult_training_set, adult_training_set_labels)\n",
    "\n",
    "\n",
    "print(\"Best: %f using %s\" % (grid_result_knn.best_score_, grid_result_knn.best_params_))\n",
    "means = grid_result_knn.cv_results_['mean_test_score']\n",
    "stds = grid_result_knn.cv_results_['std_test_score']\n",
    "params = grid_result_knn.cv_results_['params']\n",
    "results = zip(means, stds, params)\n",
    "for mean, stdev, param in sorted(results, key=lambda x: x[0], reverse=True):\n",
    "    print(\"%f (%f) with: %r\" % (mean, stdev, param))\n",
    "    \n",
    "\n",
    "predicted_training_set_labels = grid_knn.predict(processed_adult_training_set)\n",
    "predicted_training_set_labels = pd.DataFrame(predicted_training_set_labels) \n",
    "training_set_acc=accuracy_score(adult_training_set_labels, predicted_training_set_labels)\n",
    "\n",
    "predicted_testing_set_labels = grid_knn.predict(processed_adult_testing_set)\n",
    "predicted_testing_set_labels = pd.DataFrame(predicted_testing_set_labels)\n",
    "testing_set_acc=accuracy_score(adult_testing_set_labels, predicted_testing_set_labels)\n",
    "\n",
    "print(training_set_acc)\n",
    "print(testing_set_acc)"
   ]
  },
  {
   "cell_type": "code",
   "execution_count": 22,
   "metadata": {},
   "outputs": [
    {
     "name": "stdout",
     "output_type": "stream",
     "text": [
      "             precision    recall  f1-score   support\n",
      "\n",
      "      <=50K       0.81      0.97      0.88     12435\n",
      "       >50K       0.74      0.24      0.36      3846\n",
      "\n",
      "avg / total       0.79      0.80      0.76     16281\n",
      "\n"
     ]
    }
   ],
   "source": [
    "print(classification_report(adult_testing_set_labels, predicted_testing_set_labels, target_names=target_names))"
   ]
  },
  {
   "cell_type": "code",
   "execution_count": 23,
   "metadata": {},
   "outputs": [
    {
     "name": "stderr",
     "output_type": "stream",
     "text": [
      "/Users/tomhuang/.local/share/virtualenvs/assignment1-2RDWss_u/lib/python3.6/site-packages/sklearn/model_selection/_search.py:762: DeprecationWarning: The grid_scores_ attribute was deprecated in version 0.18 in favor of the more elaborate cv_results_ attribute. The grid_scores_ attribute will not be available from 0.20\n",
      "  DeprecationWarning)\n",
      "/Users/tomhuang/.local/share/virtualenvs/assignment1-2RDWss_u/lib/python3.6/site-packages/sklearn/model_selection/_search.py:762: DeprecationWarning: The grid_scores_ attribute was deprecated in version 0.18 in favor of the more elaborate cv_results_ attribute. The grid_scores_ attribute will not be available from 0.20\n",
      "  DeprecationWarning)\n"
     ]
    },
    {
     "data": {
      "text/plain": [
       "<Figure size 1332x756 with 0 Axes>"
      ]
     },
     "metadata": {},
     "output_type": "display_data"
    }
   ],
   "source": [
    "ax = plot.grid_search(grid_knn.grid_scores_, change=('n_neighbors', 'p'), subset={'weights': 'uniform'})\n",
    "fig = ax.get_figure()\n",
    "fig.set_size_inches(18.5, 10.5)\n",
    "fig.savefig('knn1.png')\n",
    "fig.clf()\n",
    "ax = plot.grid_search(grid_knn.grid_scores_, change=('n_neighbors', 'p'), subset={'weights': 'distance'})\n",
    "fig = ax.get_figure()\n",
    "fig.set_size_inches(18.5, 10.5)\n",
    "fig.savefig('knn2.png')\n",
    "fig.clf()"
   ]
  },
  {
   "cell_type": "code",
   "execution_count": 24,
   "metadata": {},
   "outputs": [
    {
     "name": "stdout",
     "output_type": "stream",
     "text": [
      "Best: 0.797948 using {'n_neighbors': 25, 'weights': 'uniform'}\n",
      "0.797948 (0.000860) with: {'n_neighbors': 25, 'weights': 'uniform'}\n",
      "0.797211 (0.001160) with: {'n_neighbors': 20, 'weights': 'uniform'}\n",
      "0.797150 (0.001191) with: {'n_neighbors': 30, 'weights': 'uniform'}\n",
      "0.796843 (0.001150) with: {'n_neighbors': 15, 'weights': 'uniform'}\n",
      "0.796444 (0.001430) with: {'n_neighbors': 35, 'weights': 'uniform'}\n",
      "0.795399 (0.000319) with: {'n_neighbors': 10, 'weights': 'uniform'}\n",
      "0.795399 (0.000758) with: {'n_neighbors': 40, 'weights': 'uniform'}\n",
      "0.794816 (0.000942) with: {'n_neighbors': 45, 'weights': 'uniform'}\n",
      "0.793864 (0.000865) with: {'n_neighbors': 50, 'weights': 'uniform'}\n",
      "0.775529 (0.001995) with: {'n_neighbors': 5, 'weights': 'uniform'}\n",
      "0.8036608212278493\n",
      "0.8027148209569437\n"
     ]
    }
   ],
   "source": [
    "n_neighbors = [5, 10, 15, 20, 25, 30, 35, 40, 45, 50]\n",
    "weights = [\"uniform\"]\n",
    "param_grid = dict(n_neighbors = n_neighbors, weights = weights)\n",
    "grid_knn = GridSearchCV(estimator=knn, param_grid=param_grid)\n",
    "grid_result_knn = grid_knn.fit(processed_adult_training_set, adult_training_set_labels)\n",
    "\n",
    "\n",
    "print(\"Best: %f using %s\" % (grid_result_knn.best_score_, grid_result_knn.best_params_))\n",
    "means = grid_result_knn.cv_results_['mean_test_score']\n",
    "stds = grid_result_knn.cv_results_['std_test_score']\n",
    "params = grid_result_knn.cv_results_['params']\n",
    "results = zip(means, stds, params)\n",
    "for mean, stdev, param in sorted(results, key=lambda x: x[0], reverse=True):\n",
    "    print(\"%f (%f) with: %r\" % (mean, stdev, param))\n",
    "    \n",
    "\n",
    "predicted_training_set_labels = grid_knn.predict(processed_adult_training_set)\n",
    "predicted_training_set_labels = pd.DataFrame(predicted_training_set_labels) \n",
    "training_set_acc=accuracy_score(adult_training_set_labels, predicted_training_set_labels)\n",
    "\n",
    "predicted_testing_set_labels = grid_knn.predict(processed_adult_testing_set)\n",
    "predicted_testing_set_labels = pd.DataFrame(predicted_testing_set_labels)\n",
    "testing_set_acc=accuracy_score(adult_testing_set_labels, predicted_testing_set_labels)\n",
    "\n",
    "print(training_set_acc)\n",
    "print(testing_set_acc)"
   ]
  },
  {
   "cell_type": "code",
   "execution_count": 25,
   "metadata": {},
   "outputs": [
    {
     "name": "stdout",
     "output_type": "stream",
     "text": [
      "             precision    recall  f1-score   support\n",
      "\n",
      "      <=50K       0.80      0.99      0.88     12435\n",
      "       >50K       0.83      0.21      0.33      3846\n",
      "\n",
      "avg / total       0.81      0.80      0.75     16281\n",
      "\n"
     ]
    }
   ],
   "source": [
    "print(classification_report(adult_testing_set_labels, predicted_testing_set_labels, target_names=target_names))"
   ]
  },
  {
   "cell_type": "code",
   "execution_count": 26,
   "metadata": {},
   "outputs": [
    {
     "name": "stderr",
     "output_type": "stream",
     "text": [
      "/Users/tomhuang/.local/share/virtualenvs/assignment1-2RDWss_u/lib/python3.6/site-packages/sklearn/model_selection/_search.py:762: DeprecationWarning: The grid_scores_ attribute was deprecated in version 0.18 in favor of the more elaborate cv_results_ attribute. The grid_scores_ attribute will not be available from 0.20\n",
      "  DeprecationWarning)\n"
     ]
    },
    {
     "data": {
      "text/plain": [
       "<Figure size 1332x756 with 0 Axes>"
      ]
     },
     "metadata": {},
     "output_type": "display_data"
    }
   ],
   "source": [
    "ax = plot.grid_search(grid_knn.grid_scores_, change=('n_neighbors'))\n",
    "fig = ax.get_figure()\n",
    "fig.set_size_inches(18.5, 10.5)\n",
    "fig.savefig('knn3.png')\n",
    "fig.clf()"
   ]
  },
  {
   "cell_type": "code",
   "execution_count": 27,
   "metadata": {},
   "outputs": [
    {
     "name": "stdout",
     "output_type": "stream",
     "text": [
      "0.9603206289733116\n",
      "0.7604569743873226\n"
     ]
    }
   ],
   "source": [
    "# SVM\n",
    "svm_c = svm.SVC()\n",
    "svm_c.fit(processed_adult_training_set, adult_training_set_labels)\n",
    "\n",
    "predicted_training_set_labels = svm_c.predict(processed_adult_training_set)\n",
    "predicted_training_set_labels = pd.DataFrame(predicted_training_set_labels) \n",
    "training_set_acc=accuracy_score(adult_training_set_labels, predicted_training_set_labels)\n",
    "\n",
    "predicted_testing_set_labels = svm_c.predict(processed_adult_testing_set)\n",
    "predicted_testing_set_labels = pd.DataFrame(predicted_testing_set_labels)\n",
    "testing_set_acc=accuracy_score(adult_testing_set_labels, predicted_testing_set_labels)\n",
    "\n",
    "print(training_set_acc)\n",
    "print(testing_set_acc)"
   ]
  },
  {
   "cell_type": "code",
   "execution_count": 28,
   "metadata": {},
   "outputs": [
    {
     "ename": "KeyboardInterrupt",
     "evalue": "",
     "output_type": "error",
     "traceback": [
      "\u001b[0;31m---------------------------------------------------------------------------\u001b[0m",
      "\u001b[0;31mKeyboardInterrupt\u001b[0m                         Traceback (most recent call last)",
      "\u001b[0;32m<ipython-input-28-2e2f7e51ec33>\u001b[0m in \u001b[0;36m<module>\u001b[0;34m()\u001b[0m\n\u001b[1;32m      3\u001b[0m \u001b[0mparam_grid\u001b[0m \u001b[0;34m=\u001b[0m \u001b[0mdict\u001b[0m\u001b[0;34m(\u001b[0m\u001b[0mC\u001b[0m \u001b[0;34m=\u001b[0m \u001b[0mC_range\u001b[0m\u001b[0;34m,\u001b[0m \u001b[0mgamma\u001b[0m \u001b[0;34m=\u001b[0m \u001b[0mgamma_range\u001b[0m\u001b[0;34m)\u001b[0m\u001b[0;34m\u001b[0m\u001b[0m\n\u001b[1;32m      4\u001b[0m \u001b[0mgrid_svc\u001b[0m \u001b[0;34m=\u001b[0m \u001b[0mGridSearchCV\u001b[0m\u001b[0;34m(\u001b[0m\u001b[0mestimator\u001b[0m\u001b[0;34m=\u001b[0m\u001b[0msvm_c\u001b[0m\u001b[0;34m,\u001b[0m \u001b[0mparam_grid\u001b[0m\u001b[0;34m=\u001b[0m\u001b[0mparam_grid\u001b[0m\u001b[0;34m)\u001b[0m\u001b[0;34m\u001b[0m\u001b[0m\n\u001b[0;32m----> 5\u001b[0;31m \u001b[0mgrid_result_svc\u001b[0m \u001b[0;34m=\u001b[0m \u001b[0mgrid_svc\u001b[0m\u001b[0;34m.\u001b[0m\u001b[0mfit\u001b[0m\u001b[0;34m(\u001b[0m\u001b[0mprocessed_adult_training_set\u001b[0m\u001b[0;34m,\u001b[0m \u001b[0madult_training_set_labels\u001b[0m\u001b[0;34m)\u001b[0m\u001b[0;34m\u001b[0m\u001b[0m\n\u001b[0m\u001b[1;32m      6\u001b[0m \u001b[0;34m\u001b[0m\u001b[0m\n\u001b[1;32m      7\u001b[0m \u001b[0;34m\u001b[0m\u001b[0m\n",
      "\u001b[0;32m~/.local/share/virtualenvs/assignment1-2RDWss_u/lib/python3.6/site-packages/sklearn/model_selection/_search.py\u001b[0m in \u001b[0;36mfit\u001b[0;34m(self, X, y, groups, **fit_params)\u001b[0m\n\u001b[1;32m    638\u001b[0m                                   error_score=self.error_score)\n\u001b[1;32m    639\u001b[0m           for parameters, (train, test) in product(candidate_params,\n\u001b[0;32m--> 640\u001b[0;31m                                                    cv.split(X, y, groups)))\n\u001b[0m\u001b[1;32m    641\u001b[0m \u001b[0;34m\u001b[0m\u001b[0m\n\u001b[1;32m    642\u001b[0m         \u001b[0;31m# if one choose to see train score, \"out\" will contain train score info\u001b[0m\u001b[0;34m\u001b[0m\u001b[0;34m\u001b[0m\u001b[0m\n",
      "\u001b[0;32m~/.local/share/virtualenvs/assignment1-2RDWss_u/lib/python3.6/site-packages/sklearn/externals/joblib/parallel.py\u001b[0m in \u001b[0;36m__call__\u001b[0;34m(self, iterable)\u001b[0m\n\u001b[1;32m    777\u001b[0m             \u001b[0;31m# was dispatched. In particular this covers the edge\u001b[0m\u001b[0;34m\u001b[0m\u001b[0;34m\u001b[0m\u001b[0m\n\u001b[1;32m    778\u001b[0m             \u001b[0;31m# case of Parallel used with an exhausted iterator.\u001b[0m\u001b[0;34m\u001b[0m\u001b[0;34m\u001b[0m\u001b[0m\n\u001b[0;32m--> 779\u001b[0;31m             \u001b[0;32mwhile\u001b[0m \u001b[0mself\u001b[0m\u001b[0;34m.\u001b[0m\u001b[0mdispatch_one_batch\u001b[0m\u001b[0;34m(\u001b[0m\u001b[0miterator\u001b[0m\u001b[0;34m)\u001b[0m\u001b[0;34m:\u001b[0m\u001b[0;34m\u001b[0m\u001b[0m\n\u001b[0m\u001b[1;32m    780\u001b[0m                 \u001b[0mself\u001b[0m\u001b[0;34m.\u001b[0m\u001b[0m_iterating\u001b[0m \u001b[0;34m=\u001b[0m \u001b[0;32mTrue\u001b[0m\u001b[0;34m\u001b[0m\u001b[0m\n\u001b[1;32m    781\u001b[0m             \u001b[0;32melse\u001b[0m\u001b[0;34m:\u001b[0m\u001b[0;34m\u001b[0m\u001b[0m\n",
      "\u001b[0;32m~/.local/share/virtualenvs/assignment1-2RDWss_u/lib/python3.6/site-packages/sklearn/externals/joblib/parallel.py\u001b[0m in \u001b[0;36mdispatch_one_batch\u001b[0;34m(self, iterator)\u001b[0m\n\u001b[1;32m    623\u001b[0m                 \u001b[0;32mreturn\u001b[0m \u001b[0;32mFalse\u001b[0m\u001b[0;34m\u001b[0m\u001b[0m\n\u001b[1;32m    624\u001b[0m             \u001b[0;32melse\u001b[0m\u001b[0;34m:\u001b[0m\u001b[0;34m\u001b[0m\u001b[0m\n\u001b[0;32m--> 625\u001b[0;31m                 \u001b[0mself\u001b[0m\u001b[0;34m.\u001b[0m\u001b[0m_dispatch\u001b[0m\u001b[0;34m(\u001b[0m\u001b[0mtasks\u001b[0m\u001b[0;34m)\u001b[0m\u001b[0;34m\u001b[0m\u001b[0m\n\u001b[0m\u001b[1;32m    626\u001b[0m                 \u001b[0;32mreturn\u001b[0m \u001b[0;32mTrue\u001b[0m\u001b[0;34m\u001b[0m\u001b[0m\n\u001b[1;32m    627\u001b[0m \u001b[0;34m\u001b[0m\u001b[0m\n",
      "\u001b[0;32m~/.local/share/virtualenvs/assignment1-2RDWss_u/lib/python3.6/site-packages/sklearn/externals/joblib/parallel.py\u001b[0m in \u001b[0;36m_dispatch\u001b[0;34m(self, batch)\u001b[0m\n\u001b[1;32m    586\u001b[0m         \u001b[0mdispatch_timestamp\u001b[0m \u001b[0;34m=\u001b[0m \u001b[0mtime\u001b[0m\u001b[0;34m.\u001b[0m\u001b[0mtime\u001b[0m\u001b[0;34m(\u001b[0m\u001b[0;34m)\u001b[0m\u001b[0;34m\u001b[0m\u001b[0m\n\u001b[1;32m    587\u001b[0m         \u001b[0mcb\u001b[0m \u001b[0;34m=\u001b[0m \u001b[0mBatchCompletionCallBack\u001b[0m\u001b[0;34m(\u001b[0m\u001b[0mdispatch_timestamp\u001b[0m\u001b[0;34m,\u001b[0m \u001b[0mlen\u001b[0m\u001b[0;34m(\u001b[0m\u001b[0mbatch\u001b[0m\u001b[0;34m)\u001b[0m\u001b[0;34m,\u001b[0m \u001b[0mself\u001b[0m\u001b[0;34m)\u001b[0m\u001b[0;34m\u001b[0m\u001b[0m\n\u001b[0;32m--> 588\u001b[0;31m         \u001b[0mjob\u001b[0m \u001b[0;34m=\u001b[0m \u001b[0mself\u001b[0m\u001b[0;34m.\u001b[0m\u001b[0m_backend\u001b[0m\u001b[0;34m.\u001b[0m\u001b[0mapply_async\u001b[0m\u001b[0;34m(\u001b[0m\u001b[0mbatch\u001b[0m\u001b[0;34m,\u001b[0m \u001b[0mcallback\u001b[0m\u001b[0;34m=\u001b[0m\u001b[0mcb\u001b[0m\u001b[0;34m)\u001b[0m\u001b[0;34m\u001b[0m\u001b[0m\n\u001b[0m\u001b[1;32m    589\u001b[0m         \u001b[0mself\u001b[0m\u001b[0;34m.\u001b[0m\u001b[0m_jobs\u001b[0m\u001b[0;34m.\u001b[0m\u001b[0mappend\u001b[0m\u001b[0;34m(\u001b[0m\u001b[0mjob\u001b[0m\u001b[0;34m)\u001b[0m\u001b[0;34m\u001b[0m\u001b[0m\n\u001b[1;32m    590\u001b[0m \u001b[0;34m\u001b[0m\u001b[0m\n",
      "\u001b[0;32m~/.local/share/virtualenvs/assignment1-2RDWss_u/lib/python3.6/site-packages/sklearn/externals/joblib/_parallel_backends.py\u001b[0m in \u001b[0;36mapply_async\u001b[0;34m(self, func, callback)\u001b[0m\n\u001b[1;32m    109\u001b[0m     \u001b[0;32mdef\u001b[0m \u001b[0mapply_async\u001b[0m\u001b[0;34m(\u001b[0m\u001b[0mself\u001b[0m\u001b[0;34m,\u001b[0m \u001b[0mfunc\u001b[0m\u001b[0;34m,\u001b[0m \u001b[0mcallback\u001b[0m\u001b[0;34m=\u001b[0m\u001b[0;32mNone\u001b[0m\u001b[0;34m)\u001b[0m\u001b[0;34m:\u001b[0m\u001b[0;34m\u001b[0m\u001b[0m\n\u001b[1;32m    110\u001b[0m         \u001b[0;34m\"\"\"Schedule a func to be run\"\"\"\u001b[0m\u001b[0;34m\u001b[0m\u001b[0m\n\u001b[0;32m--> 111\u001b[0;31m         \u001b[0mresult\u001b[0m \u001b[0;34m=\u001b[0m \u001b[0mImmediateResult\u001b[0m\u001b[0;34m(\u001b[0m\u001b[0mfunc\u001b[0m\u001b[0;34m)\u001b[0m\u001b[0;34m\u001b[0m\u001b[0m\n\u001b[0m\u001b[1;32m    112\u001b[0m         \u001b[0;32mif\u001b[0m \u001b[0mcallback\u001b[0m\u001b[0;34m:\u001b[0m\u001b[0;34m\u001b[0m\u001b[0m\n\u001b[1;32m    113\u001b[0m             \u001b[0mcallback\u001b[0m\u001b[0;34m(\u001b[0m\u001b[0mresult\u001b[0m\u001b[0;34m)\u001b[0m\u001b[0;34m\u001b[0m\u001b[0m\n",
      "\u001b[0;32m~/.local/share/virtualenvs/assignment1-2RDWss_u/lib/python3.6/site-packages/sklearn/externals/joblib/_parallel_backends.py\u001b[0m in \u001b[0;36m__init__\u001b[0;34m(self, batch)\u001b[0m\n\u001b[1;32m    330\u001b[0m         \u001b[0;31m# Don't delay the application, to avoid keeping the input\u001b[0m\u001b[0;34m\u001b[0m\u001b[0;34m\u001b[0m\u001b[0m\n\u001b[1;32m    331\u001b[0m         \u001b[0;31m# arguments in memory\u001b[0m\u001b[0;34m\u001b[0m\u001b[0;34m\u001b[0m\u001b[0m\n\u001b[0;32m--> 332\u001b[0;31m         \u001b[0mself\u001b[0m\u001b[0;34m.\u001b[0m\u001b[0mresults\u001b[0m \u001b[0;34m=\u001b[0m \u001b[0mbatch\u001b[0m\u001b[0;34m(\u001b[0m\u001b[0;34m)\u001b[0m\u001b[0;34m\u001b[0m\u001b[0m\n\u001b[0m\u001b[1;32m    333\u001b[0m \u001b[0;34m\u001b[0m\u001b[0m\n\u001b[1;32m    334\u001b[0m     \u001b[0;32mdef\u001b[0m \u001b[0mget\u001b[0m\u001b[0;34m(\u001b[0m\u001b[0mself\u001b[0m\u001b[0;34m)\u001b[0m\u001b[0;34m:\u001b[0m\u001b[0;34m\u001b[0m\u001b[0m\n",
      "\u001b[0;32m~/.local/share/virtualenvs/assignment1-2RDWss_u/lib/python3.6/site-packages/sklearn/externals/joblib/parallel.py\u001b[0m in \u001b[0;36m__call__\u001b[0;34m(self)\u001b[0m\n\u001b[1;32m    129\u001b[0m \u001b[0;34m\u001b[0m\u001b[0m\n\u001b[1;32m    130\u001b[0m     \u001b[0;32mdef\u001b[0m \u001b[0m__call__\u001b[0m\u001b[0;34m(\u001b[0m\u001b[0mself\u001b[0m\u001b[0;34m)\u001b[0m\u001b[0;34m:\u001b[0m\u001b[0;34m\u001b[0m\u001b[0m\n\u001b[0;32m--> 131\u001b[0;31m         \u001b[0;32mreturn\u001b[0m \u001b[0;34m[\u001b[0m\u001b[0mfunc\u001b[0m\u001b[0;34m(\u001b[0m\u001b[0;34m*\u001b[0m\u001b[0margs\u001b[0m\u001b[0;34m,\u001b[0m \u001b[0;34m**\u001b[0m\u001b[0mkwargs\u001b[0m\u001b[0;34m)\u001b[0m \u001b[0;32mfor\u001b[0m \u001b[0mfunc\u001b[0m\u001b[0;34m,\u001b[0m \u001b[0margs\u001b[0m\u001b[0;34m,\u001b[0m \u001b[0mkwargs\u001b[0m \u001b[0;32min\u001b[0m \u001b[0mself\u001b[0m\u001b[0;34m.\u001b[0m\u001b[0mitems\u001b[0m\u001b[0;34m]\u001b[0m\u001b[0;34m\u001b[0m\u001b[0m\n\u001b[0m\u001b[1;32m    132\u001b[0m \u001b[0;34m\u001b[0m\u001b[0m\n\u001b[1;32m    133\u001b[0m     \u001b[0;32mdef\u001b[0m \u001b[0m__len__\u001b[0m\u001b[0;34m(\u001b[0m\u001b[0mself\u001b[0m\u001b[0;34m)\u001b[0m\u001b[0;34m:\u001b[0m\u001b[0;34m\u001b[0m\u001b[0m\n",
      "\u001b[0;32m~/.local/share/virtualenvs/assignment1-2RDWss_u/lib/python3.6/site-packages/sklearn/externals/joblib/parallel.py\u001b[0m in \u001b[0;36m<listcomp>\u001b[0;34m(.0)\u001b[0m\n\u001b[1;32m    129\u001b[0m \u001b[0;34m\u001b[0m\u001b[0m\n\u001b[1;32m    130\u001b[0m     \u001b[0;32mdef\u001b[0m \u001b[0m__call__\u001b[0m\u001b[0;34m(\u001b[0m\u001b[0mself\u001b[0m\u001b[0;34m)\u001b[0m\u001b[0;34m:\u001b[0m\u001b[0;34m\u001b[0m\u001b[0m\n\u001b[0;32m--> 131\u001b[0;31m         \u001b[0;32mreturn\u001b[0m \u001b[0;34m[\u001b[0m\u001b[0mfunc\u001b[0m\u001b[0;34m(\u001b[0m\u001b[0;34m*\u001b[0m\u001b[0margs\u001b[0m\u001b[0;34m,\u001b[0m \u001b[0;34m**\u001b[0m\u001b[0mkwargs\u001b[0m\u001b[0;34m)\u001b[0m \u001b[0;32mfor\u001b[0m \u001b[0mfunc\u001b[0m\u001b[0;34m,\u001b[0m \u001b[0margs\u001b[0m\u001b[0;34m,\u001b[0m \u001b[0mkwargs\u001b[0m \u001b[0;32min\u001b[0m \u001b[0mself\u001b[0m\u001b[0;34m.\u001b[0m\u001b[0mitems\u001b[0m\u001b[0;34m]\u001b[0m\u001b[0;34m\u001b[0m\u001b[0m\n\u001b[0m\u001b[1;32m    132\u001b[0m \u001b[0;34m\u001b[0m\u001b[0m\n\u001b[1;32m    133\u001b[0m     \u001b[0;32mdef\u001b[0m \u001b[0m__len__\u001b[0m\u001b[0;34m(\u001b[0m\u001b[0mself\u001b[0m\u001b[0;34m)\u001b[0m\u001b[0;34m:\u001b[0m\u001b[0;34m\u001b[0m\u001b[0m\n",
      "\u001b[0;32m~/.local/share/virtualenvs/assignment1-2RDWss_u/lib/python3.6/site-packages/sklearn/model_selection/_validation.py\u001b[0m in \u001b[0;36m_fit_and_score\u001b[0;34m(estimator, X, y, scorer, train, test, verbose, parameters, fit_params, return_train_score, return_parameters, return_n_test_samples, return_times, error_score)\u001b[0m\n\u001b[1;32m    456\u001b[0m             \u001b[0mestimator\u001b[0m\u001b[0;34m.\u001b[0m\u001b[0mfit\u001b[0m\u001b[0;34m(\u001b[0m\u001b[0mX_train\u001b[0m\u001b[0;34m,\u001b[0m \u001b[0;34m**\u001b[0m\u001b[0mfit_params\u001b[0m\u001b[0;34m)\u001b[0m\u001b[0;34m\u001b[0m\u001b[0m\n\u001b[1;32m    457\u001b[0m         \u001b[0;32melse\u001b[0m\u001b[0;34m:\u001b[0m\u001b[0;34m\u001b[0m\u001b[0m\n\u001b[0;32m--> 458\u001b[0;31m             \u001b[0mestimator\u001b[0m\u001b[0;34m.\u001b[0m\u001b[0mfit\u001b[0m\u001b[0;34m(\u001b[0m\u001b[0mX_train\u001b[0m\u001b[0;34m,\u001b[0m \u001b[0my_train\u001b[0m\u001b[0;34m,\u001b[0m \u001b[0;34m**\u001b[0m\u001b[0mfit_params\u001b[0m\u001b[0;34m)\u001b[0m\u001b[0;34m\u001b[0m\u001b[0m\n\u001b[0m\u001b[1;32m    459\u001b[0m \u001b[0;34m\u001b[0m\u001b[0m\n\u001b[1;32m    460\u001b[0m     \u001b[0;32mexcept\u001b[0m \u001b[0mException\u001b[0m \u001b[0;32mas\u001b[0m \u001b[0me\u001b[0m\u001b[0;34m:\u001b[0m\u001b[0;34m\u001b[0m\u001b[0m\n",
      "\u001b[0;32m~/.local/share/virtualenvs/assignment1-2RDWss_u/lib/python3.6/site-packages/sklearn/svm/base.py\u001b[0m in \u001b[0;36mfit\u001b[0;34m(self, X, y, sample_weight)\u001b[0m\n\u001b[1;32m    185\u001b[0m \u001b[0;34m\u001b[0m\u001b[0m\n\u001b[1;32m    186\u001b[0m         \u001b[0mseed\u001b[0m \u001b[0;34m=\u001b[0m \u001b[0mrnd\u001b[0m\u001b[0;34m.\u001b[0m\u001b[0mrandint\u001b[0m\u001b[0;34m(\u001b[0m\u001b[0mnp\u001b[0m\u001b[0;34m.\u001b[0m\u001b[0miinfo\u001b[0m\u001b[0;34m(\u001b[0m\u001b[0;34m'i'\u001b[0m\u001b[0;34m)\u001b[0m\u001b[0;34m.\u001b[0m\u001b[0mmax\u001b[0m\u001b[0;34m)\u001b[0m\u001b[0;34m\u001b[0m\u001b[0m\n\u001b[0;32m--> 187\u001b[0;31m         \u001b[0mfit\u001b[0m\u001b[0;34m(\u001b[0m\u001b[0mX\u001b[0m\u001b[0;34m,\u001b[0m \u001b[0my\u001b[0m\u001b[0;34m,\u001b[0m \u001b[0msample_weight\u001b[0m\u001b[0;34m,\u001b[0m \u001b[0msolver_type\u001b[0m\u001b[0;34m,\u001b[0m \u001b[0mkernel\u001b[0m\u001b[0;34m,\u001b[0m \u001b[0mrandom_seed\u001b[0m\u001b[0;34m=\u001b[0m\u001b[0mseed\u001b[0m\u001b[0;34m)\u001b[0m\u001b[0;34m\u001b[0m\u001b[0m\n\u001b[0m\u001b[1;32m    188\u001b[0m         \u001b[0;31m# see comment on the other call to np.iinfo in this file\u001b[0m\u001b[0;34m\u001b[0m\u001b[0;34m\u001b[0m\u001b[0m\n\u001b[1;32m    189\u001b[0m \u001b[0;34m\u001b[0m\u001b[0m\n",
      "\u001b[0;32m~/.local/share/virtualenvs/assignment1-2RDWss_u/lib/python3.6/site-packages/sklearn/svm/base.py\u001b[0m in \u001b[0;36m_dense_fit\u001b[0;34m(self, X, y, sample_weight, solver_type, kernel, random_seed)\u001b[0m\n\u001b[1;32m    252\u001b[0m                 \u001b[0mcache_size\u001b[0m\u001b[0;34m=\u001b[0m\u001b[0mself\u001b[0m\u001b[0;34m.\u001b[0m\u001b[0mcache_size\u001b[0m\u001b[0;34m,\u001b[0m \u001b[0mcoef0\u001b[0m\u001b[0;34m=\u001b[0m\u001b[0mself\u001b[0m\u001b[0;34m.\u001b[0m\u001b[0mcoef0\u001b[0m\u001b[0;34m,\u001b[0m\u001b[0;34m\u001b[0m\u001b[0m\n\u001b[1;32m    253\u001b[0m                 \u001b[0mgamma\u001b[0m\u001b[0;34m=\u001b[0m\u001b[0mself\u001b[0m\u001b[0;34m.\u001b[0m\u001b[0m_gamma\u001b[0m\u001b[0;34m,\u001b[0m \u001b[0mepsilon\u001b[0m\u001b[0;34m=\u001b[0m\u001b[0mself\u001b[0m\u001b[0;34m.\u001b[0m\u001b[0mepsilon\u001b[0m\u001b[0;34m,\u001b[0m\u001b[0;34m\u001b[0m\u001b[0m\n\u001b[0;32m--> 254\u001b[0;31m                 max_iter=self.max_iter, random_seed=random_seed)\n\u001b[0m\u001b[1;32m    255\u001b[0m \u001b[0;34m\u001b[0m\u001b[0m\n\u001b[1;32m    256\u001b[0m         \u001b[0mself\u001b[0m\u001b[0;34m.\u001b[0m\u001b[0m_warn_from_fit_status\u001b[0m\u001b[0;34m(\u001b[0m\u001b[0;34m)\u001b[0m\u001b[0;34m\u001b[0m\u001b[0m\n",
      "\u001b[0;31mKeyboardInterrupt\u001b[0m: "
     ]
    }
   ],
   "source": [
    "C_range = 10. ** np.arange(-3, 8)\n",
    "gamma_range = 10. ** np.arange(-5, 4)\n",
    "param_grid = dict(C = C_range, gamma = gamma_range)\n",
    "grid_svc = GridSearchCV(estimator=svm_c, param_grid=param_grid)\n",
    "grid_result_svc = grid_svc.fit(processed_adult_training_set, adult_training_set_labels)\n",
    "\n",
    "\n",
    "print(\"Best: %f using %s\" % (grid_result_svc.best_score_, grid_result_svc.best_params_))\n",
    "means = grid_result_svc.cv_results_['mean_test_score']\n",
    "stds = grid_result_svc.cv_results_['std_test_score']\n",
    "params = grid_result_svc.cv_results_['params']\n",
    "results = zip(means, stds, params)\n",
    "for mean, stdev, param in sorted(results, key=lambda x: x[0], reverse=True):\n",
    "    print(\"%f (%f) with: %r\" % (mean, stdev, param))\n",
    "    \n",
    "\n",
    "predicted_training_set_labels = grid_svc.predict(processed_adult_training_set)\n",
    "predicted_training_set_labels = pd.DataFrame(predicted_training_set_labels) \n",
    "training_set_acc=accuracy_score(adult_training_set_labels, predicted_training_set_labels)\n",
    "\n",
    "predicted_testing_set_labels = grid_svc.predict(processed_adult_testing_set)\n",
    "predicted_testing_set_labels = pd.DataFrame(predicted_testing_set_labels)\n",
    "testing_set_acc=accuracy_score(adult_testing_set_labels, predicted_testing_set_labels)\n",
    "\n",
    "print(training_set_acc)\n",
    "print(testing_set_acc)"
   ]
  },
  {
   "cell_type": "code",
   "execution_count": null,
   "metadata": {},
   "outputs": [],
   "source": [
    "print(classification_report(adult_testing_set_labels, predicted_testing_set_labels, target_names=target_names))"
   ]
  },
  {
   "cell_type": "code",
   "execution_count": null,
   "metadata": {},
   "outputs": [],
   "source": [
    "ax = plot.grid_search(grid_svc.grid_scores_, change=('C', 'gamma'))\n",
    "fig = ax.get_figure()\n",
    "fig.set_size_inches(18.5, 10.5)\n",
    "fig.savefig('svm1.png')\n",
    "fig.clf()"
   ]
  },
  {
   "cell_type": "code",
   "execution_count": null,
   "metadata": {},
   "outputs": [],
   "source": []
  }
 ],
 "metadata": {
  "kernelspec": {
   "display_name": "Python 3",
   "language": "python",
   "name": "python3"
  },
  "language_info": {
   "codemirror_mode": {
    "name": "ipython",
    "version": 3
   },
   "file_extension": ".py",
   "mimetype": "text/x-python",
   "name": "python",
   "nbconvert_exporter": "python",
   "pygments_lexer": "ipython3",
   "version": "3.6.0"
  }
 },
 "nbformat": 4,
 "nbformat_minor": 2
}
