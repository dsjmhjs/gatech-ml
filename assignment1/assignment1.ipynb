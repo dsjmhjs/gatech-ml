{
 "cells": [
  {
   "cell_type": "code",
   "execution_count": 39,
   "metadata": {},
   "outputs": [],
   "source": [
    "%matplotlib inline\n",
    "import matplotlib.pyplot as plt\n",
    "from sklearn_evaluation import plot\n",
    "import loadData\n",
    "import pandas as pd\n",
    "import numpy as np\n",
    "from sklearn import tree\n",
    "import graphviz\n",
    "from sklearn.preprocessing import LabelEncoder\n",
    "from sklearn.preprocessing import OneHotEncoder\n",
    "from sklearn.metrics import accuracy_score\n",
    "from sklearn.neural_network import MLPClassifier\n",
    "from sklearn.tree._tree import TREE_LEAF\n",
    "from sklearn.model_selection import GridSearchCV\n",
    "from sklearn.ensemble import GradientBoostingClassifier\n",
    "from sklearn.neighbors import KNeighborsClassifier\n",
    "from sklearn import svm\n",
    "from sklearn.metrics import classification_report\n",
    "from sklearn.metrics import precision_recall_fscore_support\n",
    "from sklearn.learning_curve import learning_curve\n",
    "from sklearn import cross_validation\n",
    "import timeit"
   ]
  },
  {
   "cell_type": "code",
   "execution_count": 2,
   "metadata": {},
   "outputs": [
    {
     "data": {
      "text/html": [
       "<div>\n",
       "<style scoped>\n",
       "    .dataframe tbody tr th:only-of-type {\n",
       "        vertical-align: middle;\n",
       "    }\n",
       "\n",
       "    .dataframe tbody tr th {\n",
       "        vertical-align: top;\n",
       "    }\n",
       "\n",
       "    .dataframe thead th {\n",
       "        text-align: right;\n",
       "    }\n",
       "</style>\n",
       "<table border=\"1\" class=\"dataframe\">\n",
       "  <thead>\n",
       "    <tr style=\"text-align: right;\">\n",
       "      <th></th>\n",
       "      <th>age</th>\n",
       "      <th>workclass</th>\n",
       "      <th>fnlwgt</th>\n",
       "      <th>education</th>\n",
       "      <th>education-num</th>\n",
       "      <th>marital-status</th>\n",
       "      <th>occupation</th>\n",
       "      <th>relationship</th>\n",
       "      <th>race</th>\n",
       "      <th>sex</th>\n",
       "      <th>capital-gain</th>\n",
       "      <th>capital-loss</th>\n",
       "      <th>hours-per-week</th>\n",
       "      <th>native-country</th>\n",
       "      <th>incomeCategory</th>\n",
       "    </tr>\n",
       "  </thead>\n",
       "  <tbody>\n",
       "    <tr>\n",
       "      <th>0</th>\n",
       "      <td>39</td>\n",
       "      <td>State-gov</td>\n",
       "      <td>77516</td>\n",
       "      <td>Bachelors</td>\n",
       "      <td>13</td>\n",
       "      <td>Never-married</td>\n",
       "      <td>Adm-clerical</td>\n",
       "      <td>Not-in-family</td>\n",
       "      <td>White</td>\n",
       "      <td>Male</td>\n",
       "      <td>2174</td>\n",
       "      <td>0</td>\n",
       "      <td>40</td>\n",
       "      <td>United-States</td>\n",
       "      <td>&lt;=50K</td>\n",
       "    </tr>\n",
       "    <tr>\n",
       "      <th>1</th>\n",
       "      <td>50</td>\n",
       "      <td>Self-emp-not-inc</td>\n",
       "      <td>83311</td>\n",
       "      <td>Bachelors</td>\n",
       "      <td>13</td>\n",
       "      <td>Married-civ-spouse</td>\n",
       "      <td>Exec-managerial</td>\n",
       "      <td>Husband</td>\n",
       "      <td>White</td>\n",
       "      <td>Male</td>\n",
       "      <td>0</td>\n",
       "      <td>0</td>\n",
       "      <td>13</td>\n",
       "      <td>United-States</td>\n",
       "      <td>&lt;=50K</td>\n",
       "    </tr>\n",
       "    <tr>\n",
       "      <th>2</th>\n",
       "      <td>38</td>\n",
       "      <td>Private</td>\n",
       "      <td>215646</td>\n",
       "      <td>HS-grad</td>\n",
       "      <td>9</td>\n",
       "      <td>Divorced</td>\n",
       "      <td>Handlers-cleaners</td>\n",
       "      <td>Not-in-family</td>\n",
       "      <td>White</td>\n",
       "      <td>Male</td>\n",
       "      <td>0</td>\n",
       "      <td>0</td>\n",
       "      <td>40</td>\n",
       "      <td>United-States</td>\n",
       "      <td>&lt;=50K</td>\n",
       "    </tr>\n",
       "    <tr>\n",
       "      <th>3</th>\n",
       "      <td>53</td>\n",
       "      <td>Private</td>\n",
       "      <td>234721</td>\n",
       "      <td>11th</td>\n",
       "      <td>7</td>\n",
       "      <td>Married-civ-spouse</td>\n",
       "      <td>Handlers-cleaners</td>\n",
       "      <td>Husband</td>\n",
       "      <td>Black</td>\n",
       "      <td>Male</td>\n",
       "      <td>0</td>\n",
       "      <td>0</td>\n",
       "      <td>40</td>\n",
       "      <td>United-States</td>\n",
       "      <td>&lt;=50K</td>\n",
       "    </tr>\n",
       "    <tr>\n",
       "      <th>4</th>\n",
       "      <td>28</td>\n",
       "      <td>Private</td>\n",
       "      <td>338409</td>\n",
       "      <td>Bachelors</td>\n",
       "      <td>13</td>\n",
       "      <td>Married-civ-spouse</td>\n",
       "      <td>Prof-specialty</td>\n",
       "      <td>Wife</td>\n",
       "      <td>Black</td>\n",
       "      <td>Female</td>\n",
       "      <td>0</td>\n",
       "      <td>0</td>\n",
       "      <td>40</td>\n",
       "      <td>Cuba</td>\n",
       "      <td>&lt;=50K</td>\n",
       "    </tr>\n",
       "  </tbody>\n",
       "</table>\n",
       "</div>"
      ],
      "text/plain": [
       "   age         workclass  fnlwgt  education  education-num  \\\n",
       "0   39         State-gov   77516  Bachelors             13   \n",
       "1   50  Self-emp-not-inc   83311  Bachelors             13   \n",
       "2   38           Private  215646    HS-grad              9   \n",
       "3   53           Private  234721       11th              7   \n",
       "4   28           Private  338409  Bachelors             13   \n",
       "\n",
       "       marital-status         occupation   relationship   race     sex  \\\n",
       "0       Never-married       Adm-clerical  Not-in-family  White    Male   \n",
       "1  Married-civ-spouse    Exec-managerial        Husband  White    Male   \n",
       "2            Divorced  Handlers-cleaners  Not-in-family  White    Male   \n",
       "3  Married-civ-spouse  Handlers-cleaners        Husband  Black    Male   \n",
       "4  Married-civ-spouse     Prof-specialty           Wife  Black  Female   \n",
       "\n",
       "   capital-gain  capital-loss  hours-per-week native-country incomeCategory  \n",
       "0          2174             0              40  United-States          <=50K  \n",
       "1             0             0              13  United-States          <=50K  \n",
       "2             0             0              40  United-States          <=50K  \n",
       "3             0             0              40  United-States          <=50K  \n",
       "4             0             0              40           Cuba          <=50K  "
      ]
     },
     "execution_count": 2,
     "metadata": {},
     "output_type": "execute_result"
    }
   ],
   "source": [
    "adult_training_set, adult_testing_set = loadData.loadDataWithTestSet('adult.data', 'adult.test')\n",
    "adult_training_set.head()"
   ]
  },
  {
   "cell_type": "code",
   "execution_count": 3,
   "metadata": {},
   "outputs": [
    {
     "name": "stdout",
     "output_type": "stream",
     "text": [
      "Index(['native-country_Holand-Netherlands'], dtype='object')\n"
     ]
    },
    {
     "data": {
      "text/html": [
       "<div>\n",
       "<style scoped>\n",
       "    .dataframe tbody tr th:only-of-type {\n",
       "        vertical-align: middle;\n",
       "    }\n",
       "\n",
       "    .dataframe tbody tr th {\n",
       "        vertical-align: top;\n",
       "    }\n",
       "\n",
       "    .dataframe thead th {\n",
       "        text-align: right;\n",
       "    }\n",
       "</style>\n",
       "<table border=\"1\" class=\"dataframe\">\n",
       "  <thead>\n",
       "    <tr style=\"text-align: right;\">\n",
       "      <th></th>\n",
       "      <th>age</th>\n",
       "      <th>fnlwgt</th>\n",
       "      <th>education-num</th>\n",
       "      <th>capital-gain</th>\n",
       "      <th>capital-loss</th>\n",
       "      <th>hours-per-week</th>\n",
       "      <th>workclass_?</th>\n",
       "      <th>workclass_Federal-gov</th>\n",
       "      <th>workclass_Local-gov</th>\n",
       "      <th>workclass_Never-worked</th>\n",
       "      <th>...</th>\n",
       "      <th>native-country_Puerto-Rico</th>\n",
       "      <th>native-country_Scotland</th>\n",
       "      <th>native-country_South</th>\n",
       "      <th>native-country_Taiwan</th>\n",
       "      <th>native-country_Thailand</th>\n",
       "      <th>native-country_Trinadad&amp;Tobago</th>\n",
       "      <th>native-country_United-States</th>\n",
       "      <th>native-country_Vietnam</th>\n",
       "      <th>native-country_Yugoslavia</th>\n",
       "      <th>native-country_Holand-Netherlands</th>\n",
       "    </tr>\n",
       "  </thead>\n",
       "  <tbody>\n",
       "    <tr>\n",
       "      <th>0</th>\n",
       "      <td>25</td>\n",
       "      <td>226802</td>\n",
       "      <td>7</td>\n",
       "      <td>0</td>\n",
       "      <td>0</td>\n",
       "      <td>40</td>\n",
       "      <td>0</td>\n",
       "      <td>0</td>\n",
       "      <td>0</td>\n",
       "      <td>0</td>\n",
       "      <td>...</td>\n",
       "      <td>0</td>\n",
       "      <td>0</td>\n",
       "      <td>0</td>\n",
       "      <td>0</td>\n",
       "      <td>0</td>\n",
       "      <td>0</td>\n",
       "      <td>1</td>\n",
       "      <td>0</td>\n",
       "      <td>0</td>\n",
       "      <td>0.0</td>\n",
       "    </tr>\n",
       "    <tr>\n",
       "      <th>1</th>\n",
       "      <td>38</td>\n",
       "      <td>89814</td>\n",
       "      <td>9</td>\n",
       "      <td>0</td>\n",
       "      <td>0</td>\n",
       "      <td>50</td>\n",
       "      <td>0</td>\n",
       "      <td>0</td>\n",
       "      <td>0</td>\n",
       "      <td>0</td>\n",
       "      <td>...</td>\n",
       "      <td>0</td>\n",
       "      <td>0</td>\n",
       "      <td>0</td>\n",
       "      <td>0</td>\n",
       "      <td>0</td>\n",
       "      <td>0</td>\n",
       "      <td>1</td>\n",
       "      <td>0</td>\n",
       "      <td>0</td>\n",
       "      <td>0.0</td>\n",
       "    </tr>\n",
       "    <tr>\n",
       "      <th>2</th>\n",
       "      <td>28</td>\n",
       "      <td>336951</td>\n",
       "      <td>12</td>\n",
       "      <td>0</td>\n",
       "      <td>0</td>\n",
       "      <td>40</td>\n",
       "      <td>0</td>\n",
       "      <td>0</td>\n",
       "      <td>1</td>\n",
       "      <td>0</td>\n",
       "      <td>...</td>\n",
       "      <td>0</td>\n",
       "      <td>0</td>\n",
       "      <td>0</td>\n",
       "      <td>0</td>\n",
       "      <td>0</td>\n",
       "      <td>0</td>\n",
       "      <td>1</td>\n",
       "      <td>0</td>\n",
       "      <td>0</td>\n",
       "      <td>0.0</td>\n",
       "    </tr>\n",
       "    <tr>\n",
       "      <th>3</th>\n",
       "      <td>44</td>\n",
       "      <td>160323</td>\n",
       "      <td>10</td>\n",
       "      <td>7688</td>\n",
       "      <td>0</td>\n",
       "      <td>40</td>\n",
       "      <td>0</td>\n",
       "      <td>0</td>\n",
       "      <td>0</td>\n",
       "      <td>0</td>\n",
       "      <td>...</td>\n",
       "      <td>0</td>\n",
       "      <td>0</td>\n",
       "      <td>0</td>\n",
       "      <td>0</td>\n",
       "      <td>0</td>\n",
       "      <td>0</td>\n",
       "      <td>1</td>\n",
       "      <td>0</td>\n",
       "      <td>0</td>\n",
       "      <td>0.0</td>\n",
       "    </tr>\n",
       "    <tr>\n",
       "      <th>4</th>\n",
       "      <td>18</td>\n",
       "      <td>103497</td>\n",
       "      <td>10</td>\n",
       "      <td>0</td>\n",
       "      <td>0</td>\n",
       "      <td>30</td>\n",
       "      <td>1</td>\n",
       "      <td>0</td>\n",
       "      <td>0</td>\n",
       "      <td>0</td>\n",
       "      <td>...</td>\n",
       "      <td>0</td>\n",
       "      <td>0</td>\n",
       "      <td>0</td>\n",
       "      <td>0</td>\n",
       "      <td>0</td>\n",
       "      <td>0</td>\n",
       "      <td>1</td>\n",
       "      <td>0</td>\n",
       "      <td>0</td>\n",
       "      <td>0.0</td>\n",
       "    </tr>\n",
       "  </tbody>\n",
       "</table>\n",
       "<p>5 rows × 108 columns</p>\n",
       "</div>"
      ],
      "text/plain": [
       "   age  fnlwgt  education-num  capital-gain  capital-loss  hours-per-week  \\\n",
       "0   25  226802              7             0             0              40   \n",
       "1   38   89814              9             0             0              50   \n",
       "2   28  336951             12             0             0              40   \n",
       "3   44  160323             10          7688             0              40   \n",
       "4   18  103497             10             0             0              30   \n",
       "\n",
       "   workclass_?  workclass_Federal-gov  workclass_Local-gov  \\\n",
       "0            0                      0                    0   \n",
       "1            0                      0                    0   \n",
       "2            0                      0                    1   \n",
       "3            0                      0                    0   \n",
       "4            1                      0                    0   \n",
       "\n",
       "   workclass_Never-worked                ...                  \\\n",
       "0                       0                ...                   \n",
       "1                       0                ...                   \n",
       "2                       0                ...                   \n",
       "3                       0                ...                   \n",
       "4                       0                ...                   \n",
       "\n",
       "   native-country_Puerto-Rico  native-country_Scotland  native-country_South  \\\n",
       "0                           0                        0                     0   \n",
       "1                           0                        0                     0   \n",
       "2                           0                        0                     0   \n",
       "3                           0                        0                     0   \n",
       "4                           0                        0                     0   \n",
       "\n",
       "   native-country_Taiwan  native-country_Thailand  \\\n",
       "0                      0                        0   \n",
       "1                      0                        0   \n",
       "2                      0                        0   \n",
       "3                      0                        0   \n",
       "4                      0                        0   \n",
       "\n",
       "   native-country_Trinadad&Tobago  native-country_United-States  \\\n",
       "0                               0                             1   \n",
       "1                               0                             1   \n",
       "2                               0                             1   \n",
       "3                               0                             1   \n",
       "4                               0                             1   \n",
       "\n",
       "   native-country_Vietnam  native-country_Yugoslavia  \\\n",
       "0                       0                          0   \n",
       "1                       0                          0   \n",
       "2                       0                          0   \n",
       "3                       0                          0   \n",
       "4                       0                          0   \n",
       "\n",
       "   native-country_Holand-Netherlands  \n",
       "0                                0.0  \n",
       "1                                0.0  \n",
       "2                                0.0  \n",
       "3                                0.0  \n",
       "4                                0.0  \n",
       "\n",
       "[5 rows x 108 columns]"
      ]
     },
     "execution_count": 3,
     "metadata": {},
     "output_type": "execute_result"
    }
   ],
   "source": [
    "# load data\n",
    "adult_training_set, adult_testing_set = loadData.loadDataWithTestSet('adult.data', 'adult.test')\n",
    "adult_training_set.head(2)\n",
    "# preprocess data\n",
    "# training set\n",
    "adult_training_set_labels = adult_training_set.iloc[:,-1]\n",
    "adult_training_set = adult_training_set.iloc[:,0:-1]\n",
    "adult_training_set_labels[adult_training_set_labels.str.contains('>50K',na=False)] = 1\n",
    "adult_training_set_labels[adult_training_set_labels.str.contains('<=50K',na=False)] = 0\n",
    "adult_training_set_labels = adult_training_set_labels.astype('int')\n",
    "# testing set\n",
    "adult_testing_set_labels = adult_testing_set.iloc[:,-1]\n",
    "adult_testing_set = adult_testing_set.iloc[:,0:-1]\n",
    "adult_testing_set_labels[adult_testing_set_labels.str.contains('>50K',na=False)] = 1\n",
    "adult_testing_set_labels[adult_testing_set_labels.str.contains('<=50K',na=False)] = 0\n",
    "adult_testing_set_labels = adult_testing_set_labels.astype('int')\n",
    "\n",
    "processed_adult_training_set = pd.get_dummies(adult_training_set, columns=['workclass','education','marital-status','occupation','relationship',\n",
    "                                           'race','sex','native-country'])\n",
    "processed_adult_testing_set = pd.get_dummies(adult_testing_set, columns=['workclass','education','marital-status','occupation','relationship',\n",
    "                                           'race','sex','native-country'])\n",
    "print(processed_adult_training_set.columns[~processed_adult_training_set.columns.isin(processed_adult_testing_set.columns)])\n",
    "missing_column = np.zeros(16281)\n",
    "missing_column = pd.DataFrame(missing_column, columns=['native-country_Holand-Netherlands'])\n",
    "processed_adult_testing_set = pd.concat([processed_adult_testing_set,missing_column], axis=1)\n",
    "\n",
    "metrics=[]\n",
    "\n",
    "processed_adult_testing_set.head()"
   ]
  },
  {
   "cell_type": "code",
   "execution_count": 4,
   "metadata": {},
   "outputs": [
    {
     "data": {
      "image/png": "[encoded data removed]",
      "text/plain": [
       "<Figure size 432x288 with 1 Axes>"
      ]
     },
     "metadata": {
      "needs_background": "light"
     },
     "output_type": "display_data"
    },
    {
     "data": {
      "image/png": "[encoded data removed]",
      "text/plain": [
       "<Figure size 432x288 with 1 Axes>"
      ]
     },
     "metadata": {
      "needs_background": "light"
     },
     "output_type": "display_data"
    }
   ],
   "source": [
    "plt.bar(['>50K', '<=50K'],[len(adult_training_set_labels[adult_training_set_labels==1]), \n",
    "         len(adult_training_set_labels[adult_training_set_labels==0])])\n",
    "plt.title('Training Set Label Distribution')\n",
    "plt.savefig('training_set_label_dist.png')\n",
    "plt.show()\n",
    "plt.bar(['>50K', '<=50K'],[len(adult_testing_set_labels[adult_testing_set_labels==1]), \n",
    "         len(adult_testing_set_labels[adult_testing_set_labels==0])])\n",
    "plt.title('Testing Set Label Distribution')\n",
    "plt.savefig('testing_set_label_dist.png')\n",
    "plt.show()"
   ]
  },
  {
   "cell_type": "code",
   "execution_count": 5,
   "metadata": {},
   "outputs": [
    {
     "name": "stdout",
     "output_type": "stream",
     "text": [
      "9357\n",
      "[0.9999692884125181, 0.9103221645526858, 0.8926937133380425, 0.8848622585301434, 0.8809618869199349, 0.8781364208715948, 0.8746045883111698, 0.8728847394121803, 0.8718712570252757, 0.8692607720893093, 0.8689229446270078, 0.8681244433524768, 0.8671109609655723, 0.8667731335032708, 0.8656368047664383, 0.8652375541291729, 0.8649304382543533, 0.8649304382543533, 0.8635177052301833, 0.8633948588802555, 0.8633948588802555, 0.8633948588802555, 0.8627499155431344, 0.8627499155431344, 0.8624427996683148, 0.8620742606185313, 0.8613986056939283, 0.8613986056939283, 0.8613986056939283, 0.8613986056939283, 0.8600780074322042, 0.8600780074322042, 0.8600780074322042, 0.8600780074322042, 0.8596480452074567, 0.8596480452074567, 0.8596480452074567, 0.8596480452074567, 0.8591259482202636, 0.85875740917048, 0.8584810048831424, 0.8584810048831424, 0.8584810048831424, 0.8584810048831424, 0.8584810048831424, 0.8584810048831424, 0.8584810048831424, 0.8584810048831424, 0.8584810048831424, 0.8584810048831424]\n",
      "[0.8012407100300964, 0.8306000859898041, 0.8320741969166513, 0.846446778453412, 0.8511762176770469, 0.8510533750998096, 0.8525274860266568, 0.8540630182421227, 0.8541244395307414, 0.8536330692217923, 0.8536944905104109, 0.8550457588600209, 0.8544929672624532, 0.8585467723112831, 0.8590995639088508, 0.858731036177139, 0.8585467723112831, 0.8585467723112831, 0.8592838277747067, 0.8592838277747067, 0.8592838277747067, 0.8592838277747067, 0.8579325594250967, 0.8579325594250967, 0.8579939807137154, 0.8586696148885203, 0.8584853510226644, 0.8584853510226644, 0.8584853510226644, 0.8584853510226644, 0.8581782445795713, 0.8581782445795713, 0.8581782445795713, 0.8581782445795713, 0.8584853510226644, 0.8584853510226644, 0.8584853510226644, 0.8584853510226644, 0.8584239297340458, 0.8577482955592408, 0.8576254529820035, 0.8576254529820035, 0.8576254529820035, 0.8576254529820035, 0.8576254529820035, 0.8576254529820035, 0.8576254529820035, 0.8576254529820035, 0.8576254529820035, 0.8576254529820035]\n"
     ]
    }
   ],
   "source": [
    "# decision tree\n",
    "dtc = tree.DecisionTreeClassifier()\n",
    "dtc = dtc.fit(processed_adult_training_set, adult_training_set_labels)\n",
    "print(dtc.tree_.node_count)\n",
    "def prune_index(inner_tree, index, threshold):\n",
    "    if inner_tree.value[index].min() < threshold:\n",
    "        # turn node into a leaf by \"unlinking\" its children\n",
    "        inner_tree.children_left[index] = TREE_LEAF\n",
    "        inner_tree.children_right[index] = TREE_LEAF\n",
    "    # if there are shildren, visit them as well\n",
    "    if inner_tree.children_left[index] != TREE_LEAF:\n",
    "        prune_index(inner_tree, inner_tree.children_left[index], threshold)\n",
    "        prune_index(inner_tree, inner_tree.children_right[index], threshold)\n",
    "\n",
    "training_set_acc_DT = []\n",
    "testing_set_acc_DT = []\n",
    "thresholds = range(0, 500, 10)\n",
    "for x in thresholds:\n",
    "    prune_index(dtc.tree_, 0, x)\n",
    "    predicted_training_set_labels = dtc.predict(processed_adult_training_set)\n",
    "    predicted_training_set_labels = pd.DataFrame(predicted_training_set_labels) \n",
    "    training_set_acc_DT.append(accuracy_score(adult_training_set_labels, predicted_training_set_labels))\n",
    "    \n",
    "    predicted_testing_set_labels = dtc.predict(processed_adult_testing_set)\n",
    "    predicted_testing_set_labels = pd.DataFrame(predicted_testing_set_labels)\n",
    "    testing_set_acc_DT.append(accuracy_score(adult_testing_set_labels, predicted_testing_set_labels))\n",
    "print(training_set_acc_DT)\n",
    "print(testing_set_acc_DT)\n"
   ]
  },
  {
   "cell_type": "code",
   "execution_count": 6,
   "metadata": {},
   "outputs": [
    {
     "data": {
      "image/png": "[encoded data removed]",
      "text/plain": [
       "<Figure size 432x288 with 1 Axes>"
      ]
     },
     "metadata": {
      "needs_background": "light"
     },
     "output_type": "display_data"
    }
   ],
   "source": [
    "fig = plt.figure()\n",
    "ax = fig.add_subplot(111)\n",
    "ax.plot(thresholds, training_set_acc_DT, color='lightblue', linewidth=3, label='Training Set Accuracy')\n",
    "ax.plot(thresholds, testing_set_acc_DT, color='red', linewidth=3, label='Testing Set Accuracy')\n",
    "plt.legend(bbox_to_anchor=(1.05, 1), loc=2, borderaxespad=0.)\n",
    "ax.set_xlim(-10, 510)\n",
    "ax.set(title='Decision Tree with Pruning',\n",
    " ylabel='% Accuracy', xlabel='Pruning Thresholds')\n",
    "plt.savefig('DT1.png')\n",
    "plt.show()"
   ]
  },
  {
   "cell_type": "code",
   "execution_count": 7,
   "metadata": {},
   "outputs": [
    {
     "name": "stdout",
     "output_type": "stream",
     "text": [
      "             precision    recall  f1-score   support\n",
      "\n",
      "      <=50K       0.88      0.94      0.91     12435\n",
      "       >50K       0.75      0.60      0.67      3846\n",
      "\n",
      "avg / total       0.85      0.86      0.85     16281\n",
      "\n"
     ]
    }
   ],
   "source": [
    "prune_index(dtc.tree_, 0, 350)\n",
    "predicted_testing_set_labels = dtc.predict(processed_adult_testing_set)\n",
    "target_names=['<=50K', '>50K']\n",
    "print(classification_report(adult_testing_set_labels, predicted_testing_set_labels, target_names=target_names))\n",
    "metrics.append(precision_recall_fscore_support(adult_testing_set_labels, predicted_testing_set_labels, average='weighted'))"
   ]
  },
  {
   "cell_type": "code",
   "execution_count": 8,
   "metadata": {},
   "outputs": [
    {
     "data": {
      "text/plain": [
       "<Figure size 432x288 with 0 Axes>"
      ]
     },
     "metadata": {},
     "output_type": "display_data"
    }
   ],
   "source": [
    "cv = cross_validation.ShuffleSplit(processed_adult_training_set.shape[0], n_iter=10,\n",
    "                                   test_size=0.2, random_state=0)\n",
    "cv = 5\n",
    "estimator = tree.DecisionTreeClassifier()\n",
    "train_sizes = np.linspace(.1, 1.0, 5)\n",
    "train_sizes, train_scores, test_scores = learning_curve(\n",
    "        estimator, processed_adult_training_set, adult_training_set_labels, cv=cv, n_jobs=1, train_sizes=train_sizes)\n",
    "\n",
    "plot.learning_curve(train_scores, test_scores, train_sizes)\n",
    "plt.savefig('dtcLearningCurve.png')\n",
    "plt.clf()\n",
    "plt.show()"
   ]
  },
  {
   "cell_type": "code",
   "execution_count": 9,
   "metadata": {},
   "outputs": [
    {
     "data": {
      "text/plain": [
       "0"
      ]
     },
     "execution_count": 9,
     "metadata": {},
     "output_type": "execute_result"
    }
   ],
   "source": [
    "# graph decision tree as png\n",
    "dot_data = tree.export_graphviz(dtc, out_file='tree1.dot', feature_names=processed_adult_training_set.columns, \n",
    "                                filled=True, rounded=True)  \n",
    "graph = graphviz.Source(dot_data)\n",
    "from subprocess import check_call\n",
    "check_call(['dot','-Tpng','tree1.dot','-o','tree1.png'])"
   ]
  },
  {
   "cell_type": "code",
   "execution_count": 46,
   "metadata": {},
   "outputs": [
    {
     "name": "stdout",
     "output_type": "stream",
     "text": [
      "396.9204018264918 milleseconds\n",
      "12.060639269407147 milleseconds\n"
     ]
    }
   ],
   "source": [
    "training_times=[]\n",
    "testing_times=[]\n",
    "start_time = timeit.default_timer()\n",
    "estimator = tree.DecisionTreeClassifier()\n",
    "estimator.fit(processed_adult_training_set,adult_training_set_labels)\n",
    "end_time = timeit.default_timer()\n",
    "elapsed = end_time - start_time\n",
    "training_times.append(elapsed*1000)\n",
    "print(elapsed*1000, 'milleseconds')\n",
    "start_time = timeit.default_timer()\n",
    "estimator.predict(processed_adult_testing_set)\n",
    "end_time = timeit.default_timer()\n",
    "elapsed = end_time - start_time\n",
    "print(elapsed*1000, 'milleseconds')\n",
    "testing_times.append(elapsed*1000)"
   ]
  },
  {
   "cell_type": "code",
   "execution_count": 10,
   "metadata": {},
   "outputs": [
    {
     "name": "stdout",
     "output_type": "stream",
     "text": [
      "0.7591904425539756\n",
      "0.7637737239727289\n"
     ]
    }
   ],
   "source": [
    "# neural networks\n",
    "nn = MLPClassifier(activation='logistic', solver='sgd')\n",
    "nn.fit(processed_adult_training_set, adult_training_set_labels)\n",
    "\n",
    "predicted_training_set_labels = nn.predict(processed_adult_training_set)\n",
    "predicted_training_set_labels = pd.DataFrame(predicted_training_set_labels) \n",
    "training_set_acc=accuracy_score(adult_training_set_labels, predicted_training_set_labels)\n",
    "\n",
    "predicted_testing_set_labels = nn.predict(processed_adult_testing_set)\n",
    "predicted_testing_set_labels = pd.DataFrame(predicted_testing_set_labels)\n",
    "testing_set_acc=accuracy_score(adult_testing_set_labels, predicted_testing_set_labels)\n",
    "\n",
    "print(training_set_acc)\n",
    "print(testing_set_acc)"
   ]
  },
  {
   "cell_type": "code",
   "execution_count": 11,
   "metadata": {},
   "outputs": [
    {
     "name": "stdout",
     "output_type": "stream",
     "text": [
      "Best: 0.762753 using {'alpha': 0.0007, 'learning_rate_init': 0.007, 'momentum': 0.7}\n",
      "0.762753 (0.000460) with: {'alpha': 0.0007, 'learning_rate_init': 0.007, 'momentum': 0.7}\n",
      "0.762538 (0.002066) with: {'alpha': 0.0005, 'learning_rate_init': 0.01, 'momentum': 0.8}\n",
      "0.762231 (0.002344) with: {'alpha': 0.001, 'learning_rate_init': 0.01, 'momentum': 0.75}\n",
      "0.762169 (0.003331) with: {'alpha': 0.0007, 'learning_rate_init': 0.01, 'momentum': 0.85}\n",
      "0.761555 (0.001018) with: {'alpha': 0.0007, 'learning_rate_init': 0.005, 'momentum': 0.9}\n",
      "0.761494 (0.001759) with: {'alpha': 0.01, 'learning_rate_init': 0.01, 'momentum': 0.8}\n",
      "0.761371 (0.001576) with: {'alpha': 0.001, 'learning_rate_init': 0.005, 'momentum': 0.9}\n",
      "0.761310 (0.001570) with: {'alpha': 0.005, 'learning_rate_init': 0.007, 'momentum': 0.75}\n",
      "0.761279 (0.002922) with: {'alpha': 0.0005, 'learning_rate_init': 0.007, 'momentum': 0.8}\n",
      "0.761279 (0.002465) with: {'alpha': 0.01, 'learning_rate_init': 0.007, 'momentum': 0.85}\n",
      "0.761187 (0.001458) with: {'alpha': 0.0001, 'learning_rate_init': 0.005, 'momentum': 0.9}\n",
      "0.761187 (0.002237) with: {'alpha': 0.0002, 'learning_rate_init': 0.01, 'momentum': 0.9}\n",
      "0.761156 (0.001772) with: {'alpha': 0.0007, 'learning_rate_init': 0.01, 'momentum': 0.9}\n",
      "0.761095 (0.001837) with: {'alpha': 0.001, 'learning_rate_init': 0.007, 'momentum': 0.85}\n",
      "0.761033 (0.001060) with: {'alpha': 0.01, 'learning_rate_init': 0.01, 'momentum': 0.75}\n",
      "0.761002 (0.001298) with: {'alpha': 0.0001, 'learning_rate_init': 0.007, 'momentum': 0.85}\n",
      "0.761002 (0.001485) with: {'alpha': 0.0001, 'learning_rate_init': 0.007, 'momentum': 0.8}\n",
      "0.760972 (0.001019) with: {'alpha': 0.0001, 'learning_rate_init': 0.01, 'momentum': 0.75}\n",
      "0.760972 (0.001882) with: {'alpha': 0.002, 'learning_rate_init': 0.007, 'momentum': 0.8}\n",
      "0.760941 (0.001134) with: {'alpha': 0.005, 'learning_rate_init': 0.007, 'momentum': 0.85}\n",
      "0.760910 (0.002143) with: {'alpha': 0.0001, 'learning_rate_init': 0.01, 'momentum': 0.9}\n",
      "0.760910 (0.001957) with: {'alpha': 0.01, 'learning_rate_init': 0.01, 'momentum': 0.9}\n",
      "0.760880 (0.002105) with: {'alpha': 0.005, 'learning_rate_init': 0.007, 'momentum': 0.9}\n",
      "0.760818 (0.001176) with: {'alpha': 0.0005, 'learning_rate_init': 0.005, 'momentum': 0.9}\n",
      "0.760757 (0.001640) with: {'alpha': 0.0001, 'learning_rate_init': 0.01, 'momentum': 0.85}\n",
      "0.760726 (0.001103) with: {'alpha': 0.0007, 'learning_rate_init': 0.01, 'momentum': 0.8}\n",
      "0.760726 (0.001545) with: {'alpha': 0.01, 'learning_rate_init': 0.007, 'momentum': 0.9}\n",
      "0.760695 (0.002096) with: {'alpha': 0.0001, 'learning_rate_init': 0.01, 'momentum': 0.8}\n",
      "0.760695 (0.001640) with: {'alpha': 0.0005, 'learning_rate_init': 0.01, 'momentum': 0.9}\n",
      "0.760695 (0.001667) with: {'alpha': 0.005, 'learning_rate_init': 0.007, 'momentum': 0.8}\n",
      "0.760665 (0.002118) with: {'alpha': 0.0005, 'learning_rate_init': 0.01, 'momentum': 0.75}\n",
      "0.760634 (0.001895) with: {'alpha': 0.0007, 'learning_rate_init': 0.007, 'momentum': 0.85}\n",
      "0.760542 (0.001423) with: {'alpha': 0.0007, 'learning_rate_init': 0.007, 'momentum': 0.9}\n",
      "0.760542 (0.001084) with: {'alpha': 0.002, 'learning_rate_init': 0.005, 'momentum': 0.8}\n",
      "0.760480 (0.001614) with: {'alpha': 0.01, 'learning_rate_init': 0.01, 'momentum': 0.85}\n",
      "0.760419 (0.001097) with: {'alpha': 0.0002, 'learning_rate_init': 0.007, 'momentum': 0.9}\n",
      "0.760419 (0.000577) with: {'alpha': 0.001, 'learning_rate_init': 0.007, 'momentum': 0.9}\n",
      "0.760419 (0.001770) with: {'alpha': 0.01, 'learning_rate_init': 0.007, 'momentum': 0.7}\n",
      "0.760388 (0.001474) with: {'alpha': 0.002, 'learning_rate_init': 0.01, 'momentum': 0.85}\n",
      "0.760357 (0.001148) with: {'alpha': 0.005, 'learning_rate_init': 0.01, 'momentum': 0.85}\n",
      "0.760327 (0.000940) with: {'alpha': 0.0002, 'learning_rate_init': 0.01, 'momentum': 0.8}\n",
      "0.760327 (0.000674) with: {'alpha': 0.005, 'learning_rate_init': 0.01, 'momentum': 0.9}\n",
      "0.760296 (0.001344) with: {'alpha': 0.002, 'learning_rate_init': 0.01, 'momentum': 0.7}\n",
      "0.760265 (0.000353) with: {'alpha': 0.0002, 'learning_rate_init': 0.01, 'momentum': 0.85}\n",
      "0.760265 (0.000802) with: {'alpha': 0.0002, 'learning_rate_init': 0.01, 'momentum': 0.75}\n",
      "0.760204 (0.001163) with: {'alpha': 0.01, 'learning_rate_init': 0.007, 'momentum': 0.75}\n",
      "0.760173 (0.001181) with: {'alpha': 0.002, 'learning_rate_init': 0.01, 'momentum': 0.75}\n",
      "0.760143 (0.000238) with: {'alpha': 0.002, 'learning_rate_init': 0.01, 'momentum': 0.9}\n",
      "0.760081 (0.001228) with: {'alpha': 0.0001, 'learning_rate_init': 0.005, 'momentum': 0.75}\n",
      "0.760081 (0.001243) with: {'alpha': 0.002, 'learning_rate_init': 0.007, 'momentum': 0.85}\n",
      "0.760081 (0.001293) with: {'alpha': 0.005, 'learning_rate_init': 0.005, 'momentum': 0.75}\n",
      "0.760050 (0.000862) with: {'alpha': 0.001, 'learning_rate_init': 0.01, 'momentum': 0.85}\n",
      "0.760020 (0.001017) with: {'alpha': 0.005, 'learning_rate_init': 0.005, 'momentum': 0.8}\n",
      "0.759989 (0.000804) with: {'alpha': 0.0007, 'learning_rate_init': 0.01, 'momentum': 0.7}\n",
      "0.759989 (0.001162) with: {'alpha': 0.01, 'learning_rate_init': 0.005, 'momentum': 0.75}\n",
      "0.759958 (0.001070) with: {'alpha': 0.001, 'learning_rate_init': 0.01, 'momentum': 0.8}\n",
      "0.759928 (0.000570) with: {'alpha': 0.0001, 'learning_rate_init': 0.007, 'momentum': 0.9}\n",
      "0.759928 (0.001075) with: {'alpha': 0.0005, 'learning_rate_init': 0.007, 'momentum': 0.85}\n",
      "0.759835 (0.000592) with: {'alpha': 0.0005, 'learning_rate_init': 0.002, 'momentum': 0.9}\n",
      "0.759835 (0.000542) with: {'alpha': 0.001, 'learning_rate_init': 0.007, 'momentum': 0.75}\n",
      "0.759835 (0.000303) with: {'alpha': 0.005, 'learning_rate_init': 0.005, 'momentum': 0.9}\n",
      "0.759835 (0.000647) with: {'alpha': 0.005, 'learning_rate_init': 0.01, 'momentum': 0.8}\n",
      "0.759835 (0.000896) with: {'alpha': 0.01, 'learning_rate_init': 0.01, 'momentum': 0.7}\n",
      "0.759805 (0.000902) with: {'alpha': 0.0005, 'learning_rate_init': 0.002, 'momentum': 0.85}\n",
      "0.759805 (0.000837) with: {'alpha': 0.0005, 'learning_rate_init': 0.01, 'momentum': 0.85}\n",
      "0.759774 (0.000509) with: {'alpha': 0.0007, 'learning_rate_init': 0.007, 'momentum': 0.75}\n",
      "0.759743 (0.000815) with: {'alpha': 0.0002, 'learning_rate_init': 0.005, 'momentum': 0.85}\n",
      "0.759713 (0.000533) with: {'alpha': 0.0002, 'learning_rate_init': 0.007, 'momentum': 0.8}\n",
      "0.759713 (0.000722) with: {'alpha': 0.002, 'learning_rate_init': 0.005, 'momentum': 0.9}\n",
      "0.759682 (0.000435) with: {'alpha': 0.0002, 'learning_rate_init': 0.005, 'momentum': 0.8}\n",
      "0.759682 (0.000414) with: {'alpha': 0.001, 'learning_rate_init': 0.01, 'momentum': 0.9}\n",
      "0.759651 (0.000636) with: {'alpha': 0.0005, 'learning_rate_init': 0.005, 'momentum': 0.8}\n",
      "0.759651 (0.000507) with: {'alpha': 0.005, 'learning_rate_init': 0.01, 'momentum': 0.7}\n",
      "0.759620 (0.000388) with: {'alpha': 0.0005, 'learning_rate_init': 0.007, 'momentum': 0.9}\n",
      "0.759620 (0.000264) with: {'alpha': 0.002, 'learning_rate_init': 0.005, 'momentum': 0.85}\n",
      "0.759590 (0.000549) with: {'alpha': 0.0007, 'learning_rate_init': 0.005, 'momentum': 0.8}\n",
      "0.759559 (0.000279) with: {'alpha': 0.0001, 'learning_rate_init': 0.002, 'momentum': 0.9}\n",
      "0.759528 (0.000462) with: {'alpha': 0.0001, 'learning_rate_init': 0.007, 'momentum': 0.75}\n",
      "0.759528 (0.000511) with: {'alpha': 0.0001, 'learning_rate_init': 0.01, 'momentum': 0.7}\n",
      "0.759528 (0.000196) with: {'alpha': 0.0007, 'learning_rate_init': 0.005, 'momentum': 0.85}\n",
      "0.759528 (0.000511) with: {'alpha': 0.001, 'learning_rate_init': 0.002, 'momentum': 0.9}\n",
      "0.759528 (0.000462) with: {'alpha': 0.002, 'learning_rate_init': 0.005, 'momentum': 0.75}\n",
      "0.759498 (0.000256) with: {'alpha': 0.001, 'learning_rate_init': 0.005, 'momentum': 0.85}\n",
      "0.759498 (0.000199) with: {'alpha': 0.001, 'learning_rate_init': 0.005, 'momentum': 0.75}\n",
      "0.759436 (0.000332) with: {'alpha': 0.0001, 'learning_rate_init': 0.007, 'momentum': 0.7}\n",
      "0.759436 (0.000010) with: {'alpha': 0.0005, 'learning_rate_init': 0.007, 'momentum': 0.7}\n",
      "0.759436 (0.000332) with: {'alpha': 0.0007, 'learning_rate_init': 0.005, 'momentum': 0.7}\n",
      "0.759436 (0.000332) with: {'alpha': 0.001, 'learning_rate_init': 0.007, 'momentum': 0.7}\n",
      "0.759436 (0.000332) with: {'alpha': 0.001, 'learning_rate_init': 0.01, 'momentum': 0.7}\n",
      "0.759436 (0.000084) with: {'alpha': 0.01, 'learning_rate_init': 0.005, 'momentum': 0.9}\n",
      "0.759405 (0.000125) with: {'alpha': 0.0001, 'learning_rate_init': 0.005, 'momentum': 0.85}\n",
      "0.759405 (0.000289) with: {'alpha': 0.0001, 'learning_rate_init': 0.005, 'momentum': 0.7}\n",
      "0.759405 (0.000169) with: {'alpha': 0.0002, 'learning_rate_init': 0.005, 'momentum': 0.9}\n",
      "0.759405 (0.000337) with: {'alpha': 0.001, 'learning_rate_init': 0.007, 'momentum': 0.8}\n",
      "0.759405 (0.000113) with: {'alpha': 0.01, 'learning_rate_init': 0.007, 'momentum': 0.8}\n",
      "0.759375 (0.000097) with: {'alpha': 0.0002, 'learning_rate_init': 0.001, 'momentum': 0.8}\n",
      "0.759375 (0.000246) with: {'alpha': 0.0002, 'learning_rate_init': 0.002, 'momentum': 0.7}\n",
      "0.759375 (0.000294) with: {'alpha': 0.0002, 'learning_rate_init': 0.007, 'momentum': 0.75}\n",
      "0.759375 (0.000154) with: {'alpha': 0.0007, 'learning_rate_init': 0.01, 'momentum': 0.75}\n",
      "0.759375 (0.000232) with: {'alpha': 0.002, 'learning_rate_init': 0.01, 'momentum': 0.8}\n",
      "0.759375 (0.000294) with: {'alpha': 0.005, 'learning_rate_init': 0.007, 'momentum': 0.7}\n",
      "0.759344 (0.000250) with: {'alpha': 0.0002, 'learning_rate_init': 0.007, 'momentum': 0.85}\n",
      "0.759344 (0.000203) with: {'alpha': 0.0007, 'learning_rate_init': 0.005, 'momentum': 0.75}\n",
      "0.759344 (0.000250) with: {'alpha': 0.001, 'learning_rate_init': 0.001, 'momentum': 0.9}\n",
      "0.759344 (0.000066) with: {'alpha': 0.005, 'learning_rate_init': 0.002, 'momentum': 0.9}\n",
      "0.759313 (0.000160) with: {'alpha': 0.0001, 'learning_rate_init': 0.001, 'momentum': 0.9}\n",
      "0.759313 (0.000160) with: {'alpha': 0.0002, 'learning_rate_init': 0.002, 'momentum': 0.85}\n",
      "0.759313 (0.000160) with: {'alpha': 0.0007, 'learning_rate_init': 0.002, 'momentum': 0.85}\n",
      "0.759313 (0.000160) with: {'alpha': 0.002, 'learning_rate_init': 0.007, 'momentum': 0.9}\n",
      "0.759313 (0.000207) with: {'alpha': 0.005, 'learning_rate_init': 0.002, 'momentum': 0.8}\n",
      "0.759313 (0.000207) with: {'alpha': 0.005, 'learning_rate_init': 0.002, 'momentum': 0.7}\n",
      "0.759283 (0.000117) with: {'alpha': 0.0001, 'learning_rate_init': 0.005, 'momentum': 0.8}\n",
      "0.759283 (0.000117) with: {'alpha': 0.0005, 'learning_rate_init': 0.001, 'momentum': 0.9}\n",
      "0.759283 (0.000117) with: {'alpha': 0.0005, 'learning_rate_init': 0.005, 'momentum': 0.75}\n",
      "0.759283 (0.000117) with: {'alpha': 0.0007, 'learning_rate_init': 0.007, 'momentum': 0.8}\n",
      "0.759283 (0.000117) with: {'alpha': 0.001, 'learning_rate_init': 0.005, 'momentum': 0.7}\n",
      "0.759283 (0.000117) with: {'alpha': 0.002, 'learning_rate_init': 0.007, 'momentum': 0.75}\n",
      "0.759283 (0.000117) with: {'alpha': 0.01, 'learning_rate_init': 0.005, 'momentum': 0.8}\n",
      "0.759252 (0.000076) with: {'alpha': 0.0001, 'learning_rate_init': 0.001, 'momentum': 0.85}\n",
      "0.759252 (0.000076) with: {'alpha': 0.0005, 'learning_rate_init': 0.007, 'momentum': 0.75}\n",
      "0.759252 (0.000120) with: {'alpha': 0.001, 'learning_rate_init': 0.002, 'momentum': 0.85}\n",
      "0.759252 (0.000120) with: {'alpha': 0.01, 'learning_rate_init': 0.005, 'momentum': 0.85}\n",
      "0.759252 (0.000076) with: {'alpha': 0.01, 'learning_rate_init': 0.005, 'momentum': 0.7}\n",
      "0.759221 (0.000039) with: {'alpha': 0.0005, 'learning_rate_init': 0.002, 'momentum': 0.75}\n",
      "0.759221 (0.000039) with: {'alpha': 0.0005, 'learning_rate_init': 0.01, 'momentum': 0.7}\n",
      "0.759221 (0.000076) with: {'alpha': 0.0007, 'learning_rate_init': 0.002, 'momentum': 0.8}\n",
      "0.759221 (0.000039) with: {'alpha': 0.005, 'learning_rate_init': 0.005, 'momentum': 0.85}\n",
      "0.759221 (0.000039) with: {'alpha': 0.005, 'learning_rate_init': 0.01, 'momentum': 0.75}\n",
      "0.759190 (0.000033) with: {'alpha': 0.0001, 'learning_rate_init': 0.001, 'momentum': 0.8}\n",
      "0.759190 (0.000033) with: {'alpha': 0.0001, 'learning_rate_init': 0.001, 'momentum': 0.75}\n",
      "0.759190 (0.000033) with: {'alpha': 0.0001, 'learning_rate_init': 0.001, 'momentum': 0.7}\n",
      "0.759190 (0.000033) with: {'alpha': 0.0001, 'learning_rate_init': 0.002, 'momentum': 0.85}\n",
      "0.759190 (0.000033) with: {'alpha': 0.0001, 'learning_rate_init': 0.002, 'momentum': 0.8}\n",
      "0.759190 (0.000033) with: {'alpha': 0.0001, 'learning_rate_init': 0.002, 'momentum': 0.75}\n",
      "0.759190 (0.000033) with: {'alpha': 0.0001, 'learning_rate_init': 0.002, 'momentum': 0.7}\n",
      "0.759190 (0.000033) with: {'alpha': 0.0002, 'learning_rate_init': 0.001, 'momentum': 0.9}\n",
      "0.759190 (0.000033) with: {'alpha': 0.0002, 'learning_rate_init': 0.001, 'momentum': 0.85}\n",
      "0.759190 (0.000033) with: {'alpha': 0.0002, 'learning_rate_init': 0.001, 'momentum': 0.75}\n",
      "0.759190 (0.000033) with: {'alpha': 0.0002, 'learning_rate_init': 0.001, 'momentum': 0.7}\n",
      "0.759190 (0.000033) with: {'alpha': 0.0002, 'learning_rate_init': 0.002, 'momentum': 0.9}\n",
      "0.759190 (0.000033) with: {'alpha': 0.0002, 'learning_rate_init': 0.002, 'momentum': 0.8}\n",
      "0.759190 (0.000033) with: {'alpha': 0.0002, 'learning_rate_init': 0.002, 'momentum': 0.75}\n",
      "0.759190 (0.000033) with: {'alpha': 0.0002, 'learning_rate_init': 0.005, 'momentum': 0.75}\n",
      "0.759190 (0.000033) with: {'alpha': 0.0002, 'learning_rate_init': 0.005, 'momentum': 0.7}\n",
      "0.759190 (0.000033) with: {'alpha': 0.0002, 'learning_rate_init': 0.007, 'momentum': 0.7}\n",
      "0.759190 (0.000033) with: {'alpha': 0.0002, 'learning_rate_init': 0.01, 'momentum': 0.7}\n",
      "0.759190 (0.000033) with: {'alpha': 0.0005, 'learning_rate_init': 0.001, 'momentum': 0.85}\n",
      "0.759190 (0.000033) with: {'alpha': 0.0005, 'learning_rate_init': 0.001, 'momentum': 0.8}\n",
      "0.759190 (0.000033) with: {'alpha': 0.0005, 'learning_rate_init': 0.001, 'momentum': 0.75}\n",
      "0.759190 (0.000033) with: {'alpha': 0.0005, 'learning_rate_init': 0.001, 'momentum': 0.7}\n",
      "0.759190 (0.000033) with: {'alpha': 0.0005, 'learning_rate_init': 0.002, 'momentum': 0.8}\n",
      "0.759190 (0.000033) with: {'alpha': 0.0005, 'learning_rate_init': 0.002, 'momentum': 0.7}\n",
      "0.759190 (0.000033) with: {'alpha': 0.0005, 'learning_rate_init': 0.005, 'momentum': 0.85}\n",
      "0.759190 (0.000033) with: {'alpha': 0.0005, 'learning_rate_init': 0.005, 'momentum': 0.7}\n",
      "0.759190 (0.000033) with: {'alpha': 0.0007, 'learning_rate_init': 0.001, 'momentum': 0.9}\n",
      "0.759190 (0.000033) with: {'alpha': 0.0007, 'learning_rate_init': 0.001, 'momentum': 0.85}\n",
      "0.759190 (0.000033) with: {'alpha': 0.0007, 'learning_rate_init': 0.001, 'momentum': 0.8}\n",
      "0.759190 (0.000033) with: {'alpha': 0.0007, 'learning_rate_init': 0.001, 'momentum': 0.75}\n",
      "0.759190 (0.000033) with: {'alpha': 0.0007, 'learning_rate_init': 0.001, 'momentum': 0.7}\n",
      "0.759190 (0.000033) with: {'alpha': 0.0007, 'learning_rate_init': 0.002, 'momentum': 0.9}\n",
      "0.759190 (0.000033) with: {'alpha': 0.0007, 'learning_rate_init': 0.002, 'momentum': 0.75}\n",
      "0.759190 (0.000033) with: {'alpha': 0.0007, 'learning_rate_init': 0.002, 'momentum': 0.7}\n",
      "0.759190 (0.000033) with: {'alpha': 0.001, 'learning_rate_init': 0.001, 'momentum': 0.85}\n",
      "0.759190 (0.000033) with: {'alpha': 0.001, 'learning_rate_init': 0.001, 'momentum': 0.8}\n",
      "0.759190 (0.000033) with: {'alpha': 0.001, 'learning_rate_init': 0.001, 'momentum': 0.75}\n",
      "0.759190 (0.000033) with: {'alpha': 0.001, 'learning_rate_init': 0.001, 'momentum': 0.7}\n",
      "0.759190 (0.000033) with: {'alpha': 0.001, 'learning_rate_init': 0.002, 'momentum': 0.8}\n",
      "0.759190 (0.000033) with: {'alpha': 0.001, 'learning_rate_init': 0.002, 'momentum': 0.75}\n",
      "0.759190 (0.000033) with: {'alpha': 0.001, 'learning_rate_init': 0.002, 'momentum': 0.7}\n",
      "0.759190 (0.000033) with: {'alpha': 0.001, 'learning_rate_init': 0.005, 'momentum': 0.8}\n",
      "0.759190 (0.000033) with: {'alpha': 0.002, 'learning_rate_init': 0.001, 'momentum': 0.9}\n",
      "0.759190 (0.000033) with: {'alpha': 0.002, 'learning_rate_init': 0.001, 'momentum': 0.85}\n",
      "0.759190 (0.000033) with: {'alpha': 0.002, 'learning_rate_init': 0.001, 'momentum': 0.8}\n",
      "0.759190 (0.000033) with: {'alpha': 0.002, 'learning_rate_init': 0.001, 'momentum': 0.75}\n",
      "0.759190 (0.000033) with: {'alpha': 0.002, 'learning_rate_init': 0.001, 'momentum': 0.7}\n",
      "0.759190 (0.000033) with: {'alpha': 0.002, 'learning_rate_init': 0.002, 'momentum': 0.9}\n",
      "0.759190 (0.000033) with: {'alpha': 0.002, 'learning_rate_init': 0.002, 'momentum': 0.85}\n",
      "0.759190 (0.000033) with: {'alpha': 0.002, 'learning_rate_init': 0.002, 'momentum': 0.8}\n",
      "0.759190 (0.000033) with: {'alpha': 0.002, 'learning_rate_init': 0.002, 'momentum': 0.75}\n",
      "0.759190 (0.000033) with: {'alpha': 0.002, 'learning_rate_init': 0.002, 'momentum': 0.7}\n",
      "0.759190 (0.000033) with: {'alpha': 0.002, 'learning_rate_init': 0.005, 'momentum': 0.7}\n",
      "0.759190 (0.000033) with: {'alpha': 0.002, 'learning_rate_init': 0.007, 'momentum': 0.7}\n",
      "0.759190 (0.000033) with: {'alpha': 0.005, 'learning_rate_init': 0.001, 'momentum': 0.9}\n",
      "0.759190 (0.000033) with: {'alpha': 0.005, 'learning_rate_init': 0.001, 'momentum': 0.85}\n",
      "0.759190 (0.000033) with: {'alpha': 0.005, 'learning_rate_init': 0.001, 'momentum': 0.8}\n",
      "0.759190 (0.000033) with: {'alpha': 0.005, 'learning_rate_init': 0.001, 'momentum': 0.75}\n",
      "0.759190 (0.000033) with: {'alpha': 0.005, 'learning_rate_init': 0.001, 'momentum': 0.7}\n",
      "0.759190 (0.000033) with: {'alpha': 0.005, 'learning_rate_init': 0.002, 'momentum': 0.85}\n",
      "0.759190 (0.000033) with: {'alpha': 0.005, 'learning_rate_init': 0.002, 'momentum': 0.75}\n",
      "0.759190 (0.000033) with: {'alpha': 0.005, 'learning_rate_init': 0.005, 'momentum': 0.7}\n",
      "0.759190 (0.000033) with: {'alpha': 0.01, 'learning_rate_init': 0.001, 'momentum': 0.9}\n",
      "0.759190 (0.000033) with: {'alpha': 0.01, 'learning_rate_init': 0.001, 'momentum': 0.85}\n",
      "0.759190 (0.000033) with: {'alpha': 0.01, 'learning_rate_init': 0.001, 'momentum': 0.8}\n",
      "0.759190 (0.000033) with: {'alpha': 0.01, 'learning_rate_init': 0.001, 'momentum': 0.75}\n",
      "0.759190 (0.000033) with: {'alpha': 0.01, 'learning_rate_init': 0.001, 'momentum': 0.7}\n",
      "0.759190 (0.000033) with: {'alpha': 0.01, 'learning_rate_init': 0.002, 'momentum': 0.9}\n",
      "0.759190 (0.000033) with: {'alpha': 0.01, 'learning_rate_init': 0.002, 'momentum': 0.85}\n",
      "0.759190 (0.000033) with: {'alpha': 0.01, 'learning_rate_init': 0.002, 'momentum': 0.8}\n",
      "0.759190 (0.000033) with: {'alpha': 0.01, 'learning_rate_init': 0.002, 'momentum': 0.75}\n",
      "0.759190 (0.000033) with: {'alpha': 0.01, 'learning_rate_init': 0.002, 'momentum': 0.7}\n"
     ]
    },
    {
     "name": "stdout",
     "output_type": "stream",
     "text": [
      "0.7591904425539756\n",
      "0.7637737239727289\n"
     ]
    }
   ],
   "source": [
    "alphas = [0.0001, 0.0002, 0.0005, 0.0007, 0.001, 0.002, 0.005, 0.01]\n",
    "learning_rates = [0.001, 0.002, 0.005, 0.007, 0.01]\n",
    "momentums = [0.9, 0.85, 0.8, 0.75, 0.7]\n",
    "param_grid = dict(alpha=alphas, learning_rate_init = learning_rates, momentum = momentums)\n",
    "grid_nn = GridSearchCV(estimator=nn, param_grid=param_grid)\n",
    "grid_result_nn = grid_nn.fit(processed_adult_training_set, adult_training_set_labels)\n",
    "\n",
    "\n",
    "print(\"Best: %f using %s\" % (grid_result_nn.best_score_, grid_result_nn.best_params_))\n",
    "means = grid_result_nn.cv_results_['mean_test_score']\n",
    "stds = grid_result_nn.cv_results_['std_test_score']\n",
    "params = grid_result_nn.cv_results_['params']\n",
    "results = zip(means, stds, params)\n",
    "for mean, stdev, param in sorted(results, key=lambda x: x[0], reverse=True):\n",
    "    print(\"%f (%f) with: %r\" % (mean, stdev, param))\n",
    "    \n",
    "\n",
    "predicted_training_set_labels = grid_nn.predict(processed_adult_training_set)\n",
    "predicted_training_set_labels = pd.DataFrame(predicted_training_set_labels) \n",
    "training_set_acc_nn=accuracy_score(adult_training_set_labels, predicted_training_set_labels)\n",
    "\n",
    "predicted_testing_set_labels = grid_nn.predict(processed_adult_testing_set)\n",
    "predicted_testing_set_labels = pd.DataFrame(predicted_testing_set_labels)\n",
    "testing_set_acc_nn=accuracy_score(adult_testing_set_labels, predicted_testing_set_labels)\n",
    "\n",
    "print(training_set_acc_nn)\n",
    "print(testing_set_acc_nn)"
   ]
  },
  {
   "cell_type": "code",
   "execution_count": 12,
   "metadata": {},
   "outputs": [
    {
     "name": "stdout",
     "output_type": "stream",
     "text": [
      "             precision    recall  f1-score   support\n",
      "\n",
      "      <=50K       0.76      1.00      0.87     12435\n",
      "       >50K       0.00      0.00      0.00      3846\n",
      "\n",
      "avg / total       0.58      0.76      0.66     16281\n",
      "\n"
     ]
    },
    {
     "name": "stderr",
     "output_type": "stream",
     "text": [
      "c:\\users\\tommy\\.virtualenvs\\assignment1-ocs3pq-h\\lib\\site-packages\\sklearn\\metrics\\classification.py:1135: UndefinedMetricWarning: Precision and F-score are ill-defined and being set to 0.0 in labels with no predicted samples.\n",
      "  'precision', 'predicted', average, warn_for)\n"
     ]
    }
   ],
   "source": [
    "print(classification_report(adult_testing_set_labels, predicted_testing_set_labels, target_names=target_names))\n",
    "metrics.append(precision_recall_fscore_support(adult_testing_set_labels, predicted_testing_set_labels, average='weighted'))"
   ]
  },
  {
   "cell_type": "code",
   "execution_count": 13,
   "metadata": {},
   "outputs": [
    {
     "data": {
      "text/plain": [
       "<Figure size 432x288 with 0 Axes>"
      ]
     },
     "metadata": {},
     "output_type": "display_data"
    }
   ],
   "source": [
    "cv = cross_validation.ShuffleSplit(processed_adult_training_set.shape[0], n_iter=10,\n",
    "                                   test_size=0.2, random_state=0)\n",
    "cv = 5\n",
    "estimator = MLPClassifier(activation='logistic', solver='sgd',alpha=0.0001, learning_rate_init=0.01, momentum=0.9)\n",
    "train_sizes = np.linspace(.1, 1.0, 5)\n",
    "train_sizes, train_scores, test_scores = learning_curve(\n",
    "        estimator, processed_adult_training_set, adult_training_set_labels, cv=cv, n_jobs=1, train_sizes=train_sizes)\n",
    "\n",
    "plot.learning_curve(train_scores, test_scores, train_sizes)\n",
    "plt.savefig('NNLearningCurve.png')\n",
    "plt.clf()\n",
    "plt.show()"
   ]
  },
  {
   "cell_type": "code",
   "execution_count": 14,
   "metadata": {},
   "outputs": [
    {
     "name": "stderr",
     "output_type": "stream",
     "text": [
      "c:\\users\\tommy\\.virtualenvs\\assignment1-ocs3pq-h\\lib\\site-packages\\sklearn\\model_selection\\_search.py:762: DeprecationWarning: The grid_scores_ attribute was deprecated in version 0.18 in favor of the more elaborate cv_results_ attribute. The grid_scores_ attribute will not be available from 0.20\n",
      "  DeprecationWarning)\n",
      "c:\\users\\tommy\\.virtualenvs\\assignment1-ocs3pq-h\\lib\\site-packages\\sklearn\\model_selection\\_search.py:762: DeprecationWarning: The grid_scores_ attribute was deprecated in version 0.18 in favor of the more elaborate cv_results_ attribute. The grid_scores_ attribute will not be available from 0.20\n",
      "  DeprecationWarning)\n"
     ]
    },
    {
     "data": {
      "text/plain": [
       "<Figure size 720x576 with 0 Axes>"
      ]
     },
     "metadata": {},
     "output_type": "display_data"
    }
   ],
   "source": [
    "ax = plot.grid_search(grid_nn.grid_scores_, change=('alpha', 'learning_rate_init'),\n",
    "              subset={'momentum': 0.7})\n",
    "fig = ax.get_figure()\n",
    "fig.set_size_inches(10, 8)\n",
    "fig.savefig('NN1.png')\n",
    "fig.clf()\n",
    "ax = plot.grid_search(grid_nn.grid_scores_, change=('alpha', 'momentum'),\n",
    "              subset={'learning_rate_init': 0.01})\n",
    "fig = ax.get_figure()\n",
    "fig.set_size_inches(10, 8)\n",
    "fig.savefig('NN2.png')\n",
    "fig.clf()"
   ]
  },
  {
   "cell_type": "code",
   "execution_count": 47,
   "metadata": {},
   "outputs": [
    {
     "name": "stdout",
     "output_type": "stream",
     "text": [
      "1302.5908310502246 milleseconds\n",
      "86.39736986305024 milleseconds\n"
     ]
    }
   ],
   "source": [
    "start_time = timeit.default_timer()\n",
    "estimator = MLPClassifier(activation='logistic', solver='sgd',alpha=0.0001, learning_rate_init=0.01, momentum=0.9)\n",
    "estimator.fit(processed_adult_training_set,adult_training_set_labels)\n",
    "end_time = timeit.default_timer()\n",
    "elapsed = end_time - start_time\n",
    "training_times.append(elapsed*1000)\n",
    "print(elapsed*1000, 'milleseconds')\n",
    "start_time = timeit.default_timer()\n",
    "estimator.predict(processed_adult_testing_set)\n",
    "end_time = timeit.default_timer()\n",
    "elapsed = end_time - start_time\n",
    "print(elapsed*1000, 'milleseconds')\n",
    "testing_times.append(elapsed*1000)"
   ]
  },
  {
   "cell_type": "code",
   "execution_count": 15,
   "metadata": {
    "scrolled": true
   },
   "outputs": [
    {
     "name": "stdout",
     "output_type": "stream",
     "text": [
      "0.8690457909769356\n",
      "0.8692954978195443\n"
     ]
    }
   ],
   "source": [
    "# boosting\n",
    "gbc = GradientBoostingClassifier()\n",
    "gbc.fit(processed_adult_training_set, adult_training_set_labels)\n",
    "\n",
    "predicted_training_set_labels = gbc.predict(processed_adult_training_set)\n",
    "predicted_training_set_labels = pd.DataFrame(predicted_training_set_labels) \n",
    "training_set_acc=accuracy_score(adult_training_set_labels, predicted_training_set_labels)\n",
    "\n",
    "predicted_testing_set_labels = gbc.predict(processed_adult_testing_set)\n",
    "predicted_testing_set_labels = pd.DataFrame(predicted_testing_set_labels)\n",
    "testing_set_acc=accuracy_score(adult_testing_set_labels, predicted_testing_set_labels)\n",
    "\n",
    "print(training_set_acc)\n",
    "print(testing_set_acc)"
   ]
  },
  {
   "cell_type": "code",
   "execution_count": 16,
   "metadata": {},
   "outputs": [
    {
     "name": "stdout",
     "output_type": "stream",
     "text": [
      "Best: 0.872271 using {'learning_rate': 0.1, 'n_estimators': 500}\n",
      "0.872271 (0.002709) with: {'learning_rate': 0.1, 'n_estimators': 500}\n",
      "0.871533 (0.003613) with: {'learning_rate': 0.1, 'n_estimators': 300}\n",
      "0.871503 (0.002813) with: {'learning_rate': 0.1, 'n_estimators': 700}\n",
      "0.870520 (0.003117) with: {'learning_rate': 0.1, 'n_estimators': 900}\n",
      "0.869906 (0.003246) with: {'learning_rate': 0.3, 'n_estimators': 100}\n",
      "0.869199 (0.002102) with: {'learning_rate': 0.3, 'n_estimators': 300}\n",
      "0.869199 (0.002478) with: {'learning_rate': 0.5, 'n_estimators': 100}\n",
      "0.867203 (0.004259) with: {'learning_rate': 0.7, 'n_estimators': 100}\n",
      "0.865698 (0.003238) with: {'learning_rate': 0.1, 'n_estimators': 100}\n",
      "0.864593 (0.002049) with: {'learning_rate': 0.3, 'n_estimators': 500}\n",
      "0.864562 (0.004306) with: {'learning_rate': 1.0, 'n_estimators': 100}\n",
      "0.863333 (0.002371) with: {'learning_rate': 0.3, 'n_estimators': 700}\n",
      "0.863333 (0.001091) with: {'learning_rate': 0.5, 'n_estimators': 300}\n",
      "0.862228 (0.002393) with: {'learning_rate': 0.3, 'n_estimators': 900}\n",
      "0.860754 (0.000110) with: {'learning_rate': 0.5, 'n_estimators': 500}\n",
      "0.858635 (0.003967) with: {'learning_rate': 1.0, 'n_estimators': 300}\n",
      "0.858512 (0.003915) with: {'learning_rate': 0.7, 'n_estimators': 300}\n",
      "0.858481 (0.001134) with: {'learning_rate': 0.5, 'n_estimators': 700}\n",
      "0.856055 (0.000865) with: {'learning_rate': 0.5, 'n_estimators': 900}\n",
      "0.855348 (0.005158) with: {'learning_rate': 1.0, 'n_estimators': 500}\n",
      "0.855072 (0.005117) with: {'learning_rate': 1.0, 'n_estimators': 700}\n",
      "0.854949 (0.005487) with: {'learning_rate': 1.0, 'n_estimators': 900}\n",
      "0.854488 (0.004226) with: {'learning_rate': 0.7, 'n_estimators': 500}\n",
      "0.853045 (0.004924) with: {'learning_rate': 0.7, 'n_estimators': 700}\n",
      "0.851417 (0.002765) with: {'learning_rate': 0.7, 'n_estimators': 900}\n",
      "0.8866742421915789\n",
      "0.8600208832381303\n"
     ]
    }
   ],
   "source": [
    "nEstimators = [100, 300, 500, 700, 900]\n",
    "learning_rates = [0.1, 0.3, 0.5, 0.7, 1.0]\n",
    "param_grid = dict(learning_rate = learning_rates, n_estimators = nEstimators)\n",
    "grid_b = GridSearchCV(estimator=gbc, param_grid=param_grid)\n",
    "grid_result_b = grid_b.fit(processed_adult_training_set, adult_training_set_labels)\n",
    "\n",
    "\n",
    "print(\"Best: %f using %s\" % (grid_result_b.best_score_, grid_result_b.best_params_))\n",
    "means = grid_result_b.cv_results_['mean_test_score']\n",
    "stds = grid_result_b.cv_results_['std_test_score']\n",
    "params = grid_result_b.cv_results_['params']\n",
    "results = zip(means, stds, params)\n",
    "for mean, stdev, param in sorted(results, key=lambda x: x[0], reverse=True):\n",
    "    print(\"%f (%f) with: %r\" % (mean, stdev, param))\n",
    "    \n",
    "\n",
    "predicted_training_set_labels = grid_b.predict(processed_adult_training_set)\n",
    "predicted_training_set_labels = pd.DataFrame(predicted_training_set_labels) \n",
    "training_set_acc=accuracy_score(adult_training_set_labels, predicted_training_set_labels)\n",
    "\n",
    "predicted_testing_set_labels = grid_b.predict(processed_adult_testing_set)\n",
    "predicted_testing_set_labels = pd.DataFrame(predicted_testing_set_labels)\n",
    "testing_set_acc=accuracy_score(adult_testing_set_labels, predicted_testing_set_labels)\n",
    "\n",
    "print(training_set_acc)\n",
    "print(testing_set_acc)"
   ]
  },
  {
   "cell_type": "code",
   "execution_count": 17,
   "metadata": {},
   "outputs": [
    {
     "name": "stdout",
     "output_type": "stream",
     "text": [
      "             precision    recall  f1-score   support\n",
      "\n",
      "      <=50K       0.87      0.96      0.91     12435\n",
      "       >50K       0.79      0.55      0.65      3846\n",
      "\n",
      "avg / total       0.85      0.86      0.85     16281\n",
      "\n"
     ]
    }
   ],
   "source": [
    "print(classification_report(adult_testing_set_labels, predicted_testing_set_labels, target_names=target_names))\n",
    "metrics.append(precision_recall_fscore_support(adult_testing_set_labels, predicted_testing_set_labels, average='weighted'))"
   ]
  },
  {
   "cell_type": "code",
   "execution_count": 18,
   "metadata": {},
   "outputs": [
    {
     "name": "stderr",
     "output_type": "stream",
     "text": [
      "c:\\users\\tommy\\.virtualenvs\\assignment1-ocs3pq-h\\lib\\site-packages\\sklearn\\model_selection\\_search.py:762: DeprecationWarning: The grid_scores_ attribute was deprecated in version 0.18 in favor of the more elaborate cv_results_ attribute. The grid_scores_ attribute will not be available from 0.20\n",
      "  DeprecationWarning)\n"
     ]
    },
    {
     "data": {
      "text/plain": [
       "<Figure size 720x576 with 0 Axes>"
      ]
     },
     "metadata": {},
     "output_type": "display_data"
    }
   ],
   "source": [
    "ax = plot.grid_search(grid_b.grid_scores_, change=('learning_rate', 'n_estimators'))\n",
    "fig = ax.get_figure()\n",
    "fig.set_size_inches(10, 8)\n",
    "fig.savefig('boosting1.png')\n",
    "fig.clf()"
   ]
  },
  {
   "cell_type": "code",
   "execution_count": 19,
   "metadata": {},
   "outputs": [
    {
     "name": "stdout",
     "output_type": "stream",
     "text": [
      "Best: 0.872209 using {'learning_rate': 0.1, 'n_estimators': 500}\n",
      "0.872209 (0.002673) with: {'learning_rate': 0.1, 'n_estimators': 500}\n",
      "0.872117 (0.002955) with: {'learning_rate': 0.1, 'n_estimators': 400}\n",
      "0.871994 (0.002440) with: {'learning_rate': 0.1, 'n_estimators': 600}\n",
      "0.871595 (0.003610) with: {'learning_rate': 0.1, 'n_estimators': 300}\n",
      "0.871503 (0.002861) with: {'learning_rate': 0.1, 'n_estimators': 700}\n",
      "0.870858 (0.003136) with: {'learning_rate': 0.1, 'n_estimators': 800}\n",
      "0.870489 (0.003005) with: {'learning_rate': 0.1, 'n_estimators': 900}\n",
      "0.869906 (0.002239) with: {'learning_rate': 0.1, 'n_estimators': 1000}\n",
      "0.868800 (0.003531) with: {'learning_rate': 0.1, 'n_estimators': 200}\n",
      "0.865668 (0.003271) with: {'learning_rate': 0.1, 'n_estimators': 100}\n",
      "0.8866742421915789\n",
      "0.8599594619495117\n"
     ]
    }
   ],
   "source": [
    "nEstimators = [100, 200, 300, 400, 500, 600, 700, 800, 900, 1000]\n",
    "learning_rate=[0.1]\n",
    "param_grid = dict(n_estimators = nEstimators, learning_rate=learning_rate)\n",
    "grid_b2 = GridSearchCV(estimator=gbc, param_grid=param_grid)\n",
    "grid_result_b2 = grid_b2.fit(processed_adult_training_set, adult_training_set_labels)\n",
    "\n",
    "\n",
    "print(\"Best: %f using %s\" % (grid_result_b2.best_score_, grid_result_b2.best_params_))\n",
    "means = grid_result_b2.cv_results_['mean_test_score']\n",
    "stds = grid_result_b2.cv_results_['std_test_score']\n",
    "params = grid_result_b2.cv_results_['params']\n",
    "results = zip(means, stds, params)\n",
    "for mean, stdev, param in sorted(results, key=lambda x: x[0], reverse=True):\n",
    "    print(\"%f (%f) with: %r\" % (mean, stdev, param))\n",
    "    \n",
    "\n",
    "predicted_training_set_labels = grid_b2.predict(processed_adult_training_set)\n",
    "predicted_training_set_labels = pd.DataFrame(predicted_training_set_labels) \n",
    "training_set_acc=accuracy_score(adult_training_set_labels, predicted_training_set_labels)\n",
    "\n",
    "predicted_testing_set_labels = grid_b2.predict(processed_adult_testing_set)\n",
    "predicted_testing_set_labels = pd.DataFrame(predicted_testing_set_labels)\n",
    "testing_set_acc=accuracy_score(adult_testing_set_labels, predicted_testing_set_labels)\n",
    "\n",
    "print(training_set_acc)\n",
    "print(testing_set_acc)"
   ]
  },
  {
   "cell_type": "code",
   "execution_count": 20,
   "metadata": {},
   "outputs": [
    {
     "data": {
      "text/plain": [
       "<Figure size 432x288 with 0 Axes>"
      ]
     },
     "metadata": {},
     "output_type": "display_data"
    }
   ],
   "source": [
    "cv = cross_validation.ShuffleSplit(processed_adult_training_set.shape[0], n_iter=10,\n",
    "                                   test_size=0.2, random_state=0)\n",
    "cv = 5\n",
    "estimator = GradientBoostingClassifier(learning_rate=0.1, n_estimators=500)\n",
    "train_sizes = np.linspace(.1, 1.0, 5)\n",
    "train_sizes, train_scores, test_scores = learning_curve(\n",
    "        estimator, processed_adult_training_set, adult_training_set_labels, cv=cv, n_jobs=1, train_sizes=train_sizes)\n",
    "plot.learning_curve(train_scores, test_scores, train_sizes)\n",
    "plt.savefig('boostingLearningCurve.png')\n",
    "plt.clf()\n",
    "plt.show()"
   ]
  },
  {
   "cell_type": "code",
   "execution_count": 48,
   "metadata": {},
   "outputs": [
    {
     "name": "stdout",
     "output_type": "stream",
     "text": [
      "34840.503817351586 milleseconds\n",
      "133.8792328766658 milleseconds\n"
     ]
    }
   ],
   "source": [
    "start_time = timeit.default_timer()\n",
    "estimator = GradientBoostingClassifier(learning_rate=0.1, n_estimators=500)\n",
    "estimator.fit(processed_adult_training_set,adult_training_set_labels)\n",
    "end_time = timeit.default_timer()\n",
    "elapsed = end_time - start_time\n",
    "training_times.append(elapsed*1000)\n",
    "print(elapsed*1000, 'milleseconds')\n",
    "start_time = timeit.default_timer()\n",
    "estimator.predict(processed_adult_testing_set)\n",
    "end_time = timeit.default_timer()\n",
    "elapsed = end_time - start_time\n",
    "print(elapsed*1000, 'milleseconds')\n",
    "testing_times.append(elapsed*1000)"
   ]
  },
  {
   "cell_type": "code",
   "execution_count": 21,
   "metadata": {},
   "outputs": [
    {
     "name": "stdout",
     "output_type": "stream",
     "text": [
      "[mean: 0.86567, std: 0.00327, params: {'learning_rate': 0.1, 'n_estimators': 100}, mean: 0.86880, std: 0.00353, params: {'learning_rate': 0.1, 'n_estimators': 200}, mean: 0.87159, std: 0.00361, params: {'learning_rate': 0.1, 'n_estimators': 300}, mean: 0.87212, std: 0.00295, params: {'learning_rate': 0.1, 'n_estimators': 400}, mean: 0.87221, std: 0.00267, params: {'learning_rate': 0.1, 'n_estimators': 500}, mean: 0.87199, std: 0.00244, params: {'learning_rate': 0.1, 'n_estimators': 600}, mean: 0.87150, std: 0.00286, params: {'learning_rate': 0.1, 'n_estimators': 700}, mean: 0.87086, std: 0.00314, params: {'learning_rate': 0.1, 'n_estimators': 800}, mean: 0.87049, std: 0.00301, params: {'learning_rate': 0.1, 'n_estimators': 900}, mean: 0.86991, std: 0.00224, params: {'learning_rate': 0.1, 'n_estimators': 1000}]\n"
     ]
    },
    {
     "name": "stderr",
     "output_type": "stream",
     "text": [
      "c:\\users\\tommy\\.virtualenvs\\assignment1-ocs3pq-h\\lib\\site-packages\\sklearn\\model_selection\\_search.py:762: DeprecationWarning: The grid_scores_ attribute was deprecated in version 0.18 in favor of the more elaborate cv_results_ attribute. The grid_scores_ attribute will not be available from 0.20\n",
      "  DeprecationWarning)\n",
      "c:\\users\\tommy\\.virtualenvs\\assignment1-ocs3pq-h\\lib\\site-packages\\sklearn\\model_selection\\_search.py:762: DeprecationWarning: The grid_scores_ attribute was deprecated in version 0.18 in favor of the more elaborate cv_results_ attribute. The grid_scores_ attribute will not be available from 0.20\n",
      "  DeprecationWarning)\n"
     ]
    },
    {
     "data": {
      "text/plain": [
       "<Figure size 720x576 with 0 Axes>"
      ]
     },
     "metadata": {},
     "output_type": "display_data"
    }
   ],
   "source": [
    "print(grid_b2.grid_scores_)\n",
    "ax = plot.grid_search(grid_b2.grid_scores_, change='n_estimators')\n",
    "fig = ax.get_figure()\n",
    "fig.savefig('boosting2.png')\n",
    "fig.set_size_inches(10, 8)\n",
    "fig.clf()"
   ]
  },
  {
   "cell_type": "code",
   "execution_count": 22,
   "metadata": {},
   "outputs": [
    {
     "name": "stdout",
     "output_type": "stream",
     "text": [
      "Best: 0.871994 using {'learning_rate': 0.1, 'max_depth': 6}\n",
      "0.871994 (0.002840) with: {'learning_rate': 0.1, 'max_depth': 6}\n",
      "0.871411 (0.002571) with: {'learning_rate': 0.1, 'max_depth': 7}\n",
      "0.871196 (0.003419) with: {'learning_rate': 0.1, 'max_depth': 5}\n",
      "0.868708 (0.003091) with: {'learning_rate': 0.1, 'max_depth': 4}\n",
      "0.865698 (0.003264) with: {'learning_rate': 0.1, 'max_depth': 3}\n",
      "0.8916802309511379\n",
      "0.8742092009090351\n"
     ]
    }
   ],
   "source": [
    "maxDepths = [3, 4, 5, 6, 7]\n",
    "learning_rate=[0.1]\n",
    "param_grid = dict(max_depth = maxDepths, learning_rate=learning_rate)\n",
    "grid_b3 = GridSearchCV(estimator=gbc, param_grid=param_grid)\n",
    "grid_result_b3 = grid_b3.fit(processed_adult_training_set, adult_training_set_labels)\n",
    "\n",
    "\n",
    "print(\"Best: %f using %s\" % (grid_result_b3.best_score_, grid_result_b3.best_params_))\n",
    "means = grid_result_b3.cv_results_['mean_test_score']\n",
    "stds = grid_result_b3.cv_results_['std_test_score']\n",
    "params = grid_result_b3.cv_results_['params']\n",
    "results = zip(means, stds, params)\n",
    "for mean, stdev, param in sorted(results, key=lambda x: x[0], reverse=True):\n",
    "    print(\"%f (%f) with: %r\" % (mean, stdev, param))\n",
    "    \n",
    "\n",
    "predicted_training_set_labels = grid_b3.predict(processed_adult_training_set)\n",
    "predicted_training_set_labels = pd.DataFrame(predicted_training_set_labels) \n",
    "training_set_acc=accuracy_score(adult_training_set_labels, predicted_training_set_labels)\n",
    "\n",
    "predicted_testing_set_labels = grid_b3.predict(processed_adult_testing_set)\n",
    "predicted_testing_set_labels = pd.DataFrame(predicted_testing_set_labels)\n",
    "testing_set_acc=accuracy_score(adult_testing_set_labels, predicted_testing_set_labels)\n",
    "\n",
    "print(training_set_acc)\n",
    "print(testing_set_acc)"
   ]
  },
  {
   "cell_type": "code",
   "execution_count": 23,
   "metadata": {},
   "outputs": [
    {
     "name": "stderr",
     "output_type": "stream",
     "text": [
      "c:\\users\\tommy\\.virtualenvs\\assignment1-ocs3pq-h\\lib\\site-packages\\sklearn\\model_selection\\_search.py:762: DeprecationWarning: The grid_scores_ attribute was deprecated in version 0.18 in favor of the more elaborate cv_results_ attribute. The grid_scores_ attribute will not be available from 0.20\n",
      "  DeprecationWarning)\n"
     ]
    },
    {
     "data": {
      "text/plain": [
       "<Figure size 432x288 with 0 Axes>"
      ]
     },
     "metadata": {},
     "output_type": "display_data"
    }
   ],
   "source": [
    "ax = plot.grid_search(grid_b3.grid_scores_, change=('max_depth'))\n",
    "fig = ax.get_figure()\n",
    "fig.savefig('boosting3.png')\n",
    "fig.clf()"
   ]
  },
  {
   "cell_type": "code",
   "execution_count": 24,
   "metadata": {},
   "outputs": [
    {
     "name": "stdout",
     "output_type": "stream",
     "text": [
      "0.8357851417339762\n",
      "0.7769793010257355\n"
     ]
    }
   ],
   "source": [
    "# KNN\n",
    "knn = KNeighborsClassifier()\n",
    "knn.fit(processed_adult_training_set, adult_training_set_labels)\n",
    "\n",
    "predicted_training_set_labels = knn.predict(processed_adult_training_set)\n",
    "predicted_training_set_labels = pd.DataFrame(predicted_training_set_labels) \n",
    "training_set_acc=accuracy_score(adult_training_set_labels, predicted_training_set_labels)\n",
    "\n",
    "predicted_testing_set_labels = knn.predict(processed_adult_testing_set)\n",
    "predicted_testing_set_labels = pd.DataFrame(predicted_testing_set_labels)\n",
    "testing_set_acc=accuracy_score(adult_testing_set_labels, predicted_testing_set_labels)\n",
    "\n",
    "print(training_set_acc)\n",
    "print(testing_set_acc)"
   ]
  },
  {
   "cell_type": "code",
   "execution_count": 25,
   "metadata": {},
   "outputs": [
    {
     "name": "stdout",
     "output_type": "stream",
     "text": [
      "Best: 0.797457 using {'n_neighbors': 10, 'p': 1, 'weights': 'uniform'}\n",
      "0.797457 (0.000361) with: {'n_neighbors': 10, 'p': 1, 'weights': 'uniform'}\n",
      "0.796781 (0.001817) with: {'n_neighbors': 8, 'p': 1, 'weights': 'uniform'}\n",
      "0.795430 (0.000450) with: {'n_neighbors': 6, 'p': 1, 'weights': 'uniform'}\n",
      "0.795399 (0.000319) with: {'n_neighbors': 10, 'p': 2, 'weights': 'uniform'}\n",
      "0.794877 (0.000108) with: {'n_neighbors': 10, 'p': 3, 'weights': 'uniform'}\n",
      "0.794785 (0.000407) with: {'n_neighbors': 10, 'p': 4, 'weights': 'uniform'}\n",
      "0.794232 (0.000829) with: {'n_neighbors': 8, 'p': 2, 'weights': 'uniform'}\n",
      "0.793342 (0.000792) with: {'n_neighbors': 8, 'p': 3, 'weights': 'uniform'}\n",
      "0.792881 (0.000492) with: {'n_neighbors': 8, 'p': 4, 'weights': 'uniform'}\n",
      "0.792543 (0.001005) with: {'n_neighbors': 10, 'p': 1, 'weights': 'distance'}\n",
      "0.792359 (0.001401) with: {'n_neighbors': 9, 'p': 1, 'weights': 'uniform'}\n",
      "0.791591 (0.000193) with: {'n_neighbors': 9, 'p': 1, 'weights': 'distance'}\n",
      "0.791560 (0.000961) with: {'n_neighbors': 6, 'p': 2, 'weights': 'uniform'}\n",
      "0.790455 (0.000976) with: {'n_neighbors': 6, 'p': 3, 'weights': 'uniform'}\n",
      "0.789994 (0.001065) with: {'n_neighbors': 6, 'p': 4, 'weights': 'uniform'}\n",
      "0.789626 (0.000704) with: {'n_neighbors': 9, 'p': 2, 'weights': 'uniform'}\n",
      "0.789257 (0.001024) with: {'n_neighbors': 9, 'p': 3, 'weights': 'uniform'}\n",
      "0.788674 (0.001150) with: {'n_neighbors': 9, 'p': 4, 'weights': 'uniform'}\n",
      "0.787292 (0.000388) with: {'n_neighbors': 7, 'p': 1, 'weights': 'uniform'}\n",
      "0.787230 (0.000492) with: {'n_neighbors': 8, 'p': 1, 'weights': 'distance'}\n",
      "0.784220 (0.000274) with: {'n_neighbors': 7, 'p': 1, 'weights': 'distance'}\n",
      "0.783913 (0.001600) with: {'n_neighbors': 7, 'p': 2, 'weights': 'uniform'}\n",
      "0.783790 (0.000790) with: {'n_neighbors': 7, 'p': 3, 'weights': 'uniform'}\n",
      "0.783698 (0.001036) with: {'n_neighbors': 10, 'p': 2, 'weights': 'distance'}\n",
      "0.782623 (0.001325) with: {'n_neighbors': 7, 'p': 4, 'weights': 'uniform'}\n",
      "0.782255 (0.001446) with: {'n_neighbors': 9, 'p': 2, 'weights': 'distance'}\n",
      "0.781241 (0.001120) with: {'n_neighbors': 10, 'p': 3, 'weights': 'distance'}\n",
      "0.780781 (0.001477) with: {'n_neighbors': 9, 'p': 3, 'weights': 'distance'}\n",
      "0.780689 (0.001316) with: {'n_neighbors': 10, 'p': 4, 'weights': 'distance'}\n",
      "0.780105 (0.000473) with: {'n_neighbors': 6, 'p': 1, 'weights': 'distance'}\n",
      "0.779951 (0.001650) with: {'n_neighbors': 9, 'p': 4, 'weights': 'distance'}\n",
      "0.779307 (0.001875) with: {'n_neighbors': 5, 'p': 1, 'weights': 'uniform'}\n",
      "0.778815 (0.000631) with: {'n_neighbors': 8, 'p': 2, 'weights': 'distance'}\n",
      "0.777433 (0.000846) with: {'n_neighbors': 8, 'p': 3, 'weights': 'distance'}\n",
      "0.777065 (0.000648) with: {'n_neighbors': 7, 'p': 2, 'weights': 'distance'}\n",
      "0.776420 (0.000795) with: {'n_neighbors': 8, 'p': 4, 'weights': 'distance'}\n",
      "0.775836 (0.001222) with: {'n_neighbors': 7, 'p': 3, 'weights': 'distance'}\n",
      "0.775529 (0.001995) with: {'n_neighbors': 5, 'p': 2, 'weights': 'uniform'}\n",
      "0.774853 (0.001339) with: {'n_neighbors': 7, 'p': 4, 'weights': 'distance'}\n",
      "0.774546 (0.001758) with: {'n_neighbors': 5, 'p': 3, 'weights': 'uniform'}\n",
      "0.774454 (0.001889) with: {'n_neighbors': 5, 'p': 1, 'weights': 'distance'}\n",
      "0.774301 (0.001732) with: {'n_neighbors': 5, 'p': 4, 'weights': 'uniform'}\n",
      "0.772212 (0.001130) with: {'n_neighbors': 6, 'p': 2, 'weights': 'distance'}\n",
      "0.770124 (0.000858) with: {'n_neighbors': 6, 'p': 3, 'weights': 'distance'}\n",
      "0.769417 (0.001028) with: {'n_neighbors': 6, 'p': 4, 'weights': 'distance'}\n",
      "0.767421 (0.001576) with: {'n_neighbors': 5, 'p': 2, 'weights': 'distance'}\n",
      "0.766285 (0.001497) with: {'n_neighbors': 5, 'p': 3, 'weights': 'distance'}\n",
      "0.765425 (0.001685) with: {'n_neighbors': 5, 'p': 4, 'weights': 'distance'}\n",
      "0.8159454562206321\n",
      "0.8006264971439101\n"
     ]
    }
   ],
   "source": [
    "n_neighbors = [5, 6, 7, 8, 9, 10]\n",
    "weights = [\"uniform\", \"distance\"]\n",
    "p = [1, 2, 3, 4]\n",
    "param_grid = dict(n_neighbors = n_neighbors, weights = weights, p = p)\n",
    "grid_knn = GridSearchCV(estimator=knn, param_grid=param_grid)\n",
    "grid_result_knn = grid_knn.fit(processed_adult_training_set, adult_training_set_labels)\n",
    "\n",
    "\n",
    "print(\"Best: %f using %s\" % (grid_result_knn.best_score_, grid_result_knn.best_params_))\n",
    "means = grid_result_knn.cv_results_['mean_test_score']\n",
    "stds = grid_result_knn.cv_results_['std_test_score']\n",
    "params = grid_result_knn.cv_results_['params']\n",
    "results = zip(means, stds, params)\n",
    "for mean, stdev, param in sorted(results, key=lambda x: x[0], reverse=True):\n",
    "    print(\"%f (%f) with: %r\" % (mean, stdev, param))\n",
    "    \n",
    "\n",
    "predicted_training_set_labels = grid_knn.predict(processed_adult_training_set)\n",
    "predicted_training_set_labels = pd.DataFrame(predicted_training_set_labels) \n",
    "training_set_acc=accuracy_score(adult_training_set_labels, predicted_training_set_labels)\n",
    "\n",
    "predicted_testing_set_labels = grid_knn.predict(processed_adult_testing_set)\n",
    "predicted_testing_set_labels = pd.DataFrame(predicted_testing_set_labels)\n",
    "testing_set_acc=accuracy_score(adult_testing_set_labels, predicted_testing_set_labels)\n",
    "\n",
    "print(training_set_acc)\n",
    "print(testing_set_acc)"
   ]
  },
  {
   "cell_type": "code",
   "execution_count": 26,
   "metadata": {},
   "outputs": [
    {
     "name": "stdout",
     "output_type": "stream",
     "text": [
      "             precision    recall  f1-score   support\n",
      "\n",
      "      <=50K       0.81      0.97      0.88     12435\n",
      "       >50K       0.74      0.24      0.36      3846\n",
      "\n",
      "avg / total       0.79      0.80      0.76     16281\n",
      "\n"
     ]
    }
   ],
   "source": [
    "target_names=['<=50K', '>50K']\n",
    "print(classification_report(adult_testing_set_labels, predicted_testing_set_labels, target_names=target_names))\n",
    "metrics.append(precision_recall_fscore_support(adult_testing_set_labels, predicted_testing_set_labels, average='weighted'))"
   ]
  },
  {
   "cell_type": "code",
   "execution_count": 27,
   "metadata": {},
   "outputs": [
    {
     "name": "stderr",
     "output_type": "stream",
     "text": [
      "c:\\users\\tommy\\.virtualenvs\\assignment1-ocs3pq-h\\lib\\site-packages\\sklearn\\model_selection\\_search.py:762: DeprecationWarning: The grid_scores_ attribute was deprecated in version 0.18 in favor of the more elaborate cv_results_ attribute. The grid_scores_ attribute will not be available from 0.20\n",
      "  DeprecationWarning)\n",
      "c:\\users\\tommy\\.virtualenvs\\assignment1-ocs3pq-h\\lib\\site-packages\\sklearn\\model_selection\\_search.py:762: DeprecationWarning: The grid_scores_ attribute was deprecated in version 0.18 in favor of the more elaborate cv_results_ attribute. The grid_scores_ attribute will not be available from 0.20\n",
      "  DeprecationWarning)\n"
     ]
    },
    {
     "data": {
      "text/plain": [
       "<Figure size 720x576 with 0 Axes>"
      ]
     },
     "metadata": {},
     "output_type": "display_data"
    }
   ],
   "source": [
    "ax = plot.grid_search(grid_knn.grid_scores_, change=('n_neighbors', 'p'), subset={'weights': 'uniform'})\n",
    "fig = ax.get_figure()\n",
    "fig.set_size_inches(10, 8)\n",
    "fig.savefig('knn1.png')\n",
    "fig.clf()\n",
    "ax = plot.grid_search(grid_knn.grid_scores_, change=('n_neighbors', 'p'), subset={'weights': 'distance'})\n",
    "fig = ax.get_figure()\n",
    "fig.set_size_inches(10, 8)\n",
    "fig.savefig('knn2.png')\n",
    "fig.clf()"
   ]
  },
  {
   "cell_type": "code",
   "execution_count": 28,
   "metadata": {},
   "outputs": [
    {
     "name": "stdout",
     "output_type": "stream",
     "text": [
      "Best: 0.798808 using {'n_neighbors': 25, 'p': 1, 'weights': 'uniform'}\n",
      "0.798808 (0.000748) with: {'n_neighbors': 25, 'p': 1, 'weights': 'uniform'}\n",
      "0.798686 (0.002208) with: {'n_neighbors': 15, 'p': 1, 'weights': 'uniform'}\n",
      "0.798071 (0.000796) with: {'n_neighbors': 20, 'p': 1, 'weights': 'uniform'}\n",
      "0.797457 (0.000361) with: {'n_neighbors': 10, 'p': 1, 'weights': 'uniform'}\n",
      "0.796874 (0.000751) with: {'n_neighbors': 30, 'p': 1, 'weights': 'uniform'}\n",
      "0.796044 (0.001166) with: {'n_neighbors': 35, 'p': 1, 'weights': 'uniform'}\n",
      "0.794693 (0.000799) with: {'n_neighbors': 40, 'p': 1, 'weights': 'uniform'}\n",
      "0.793710 (0.000792) with: {'n_neighbors': 45, 'p': 1, 'weights': 'uniform'}\n",
      "0.791898 (0.001020) with: {'n_neighbors': 50, 'p': 1, 'weights': 'uniform'}\n",
      "0.779307 (0.001875) with: {'n_neighbors': 5, 'p': 1, 'weights': 'uniform'}\n",
      "0.8050428426645373\n",
      "0.8041275105951723\n"
     ]
    }
   ],
   "source": [
    "n_neighbors = [5, 10, 15, 20, 25, 30, 35, 40, 45, 50]\n",
    "weights = [\"uniform\"]\n",
    "p = [1]\n",
    "param_grid = dict(n_neighbors = n_neighbors, weights = weights, p=p)\n",
    "grid_knn = GridSearchCV(estimator=knn, param_grid=param_grid)\n",
    "grid_result_knn = grid_knn.fit(processed_adult_training_set, adult_training_set_labels)\n",
    "\n",
    "\n",
    "print(\"Best: %f using %s\" % (grid_result_knn.best_score_, grid_result_knn.best_params_))\n",
    "means = grid_result_knn.cv_results_['mean_test_score']\n",
    "stds = grid_result_knn.cv_results_['std_test_score']\n",
    "params = grid_result_knn.cv_results_['params']\n",
    "results = zip(means, stds, params)\n",
    "for mean, stdev, param in sorted(results, key=lambda x: x[0], reverse=True):\n",
    "    print(\"%f (%f) with: %r\" % (mean, stdev, param))\n",
    "    \n",
    "\n",
    "predicted_training_set_labels = grid_knn.predict(processed_adult_training_set)\n",
    "predicted_training_set_labels = pd.DataFrame(predicted_training_set_labels) \n",
    "training_set_acc=accuracy_score(adult_training_set_labels, predicted_training_set_labels)\n",
    "\n",
    "predicted_testing_set_labels = grid_knn.predict(processed_adult_testing_set)\n",
    "predicted_testing_set_labels = pd.DataFrame(predicted_testing_set_labels)\n",
    "testing_set_acc=accuracy_score(adult_testing_set_labels, predicted_testing_set_labels)\n",
    "\n",
    "print(training_set_acc)\n",
    "print(testing_set_acc)"
   ]
  },
  {
   "cell_type": "code",
   "execution_count": 29,
   "metadata": {},
   "outputs": [
    {
     "data": {
      "text/plain": [
       "<Figure size 432x288 with 0 Axes>"
      ]
     },
     "metadata": {},
     "output_type": "display_data"
    }
   ],
   "source": [
    "cv = cross_validation.ShuffleSplit(processed_adult_training_set.shape[0], n_iter=10,\n",
    "                                   test_size=0.2, random_state=0)\n",
    "cv = 5\n",
    "estimator = KNeighborsClassifier(n_neighbors= 25, p= 1, weights= 'uniform')\n",
    "train_sizes = np.linspace(.1, 1.0, 5)\n",
    "train_sizes, train_scores, test_scores = learning_curve(\n",
    "        estimator, processed_adult_training_set, adult_training_set_labels, cv=cv, n_jobs=1, train_sizes=train_sizes)\n",
    "plot.learning_curve(train_scores, test_scores, train_sizes)\n",
    "plt.savefig('knnLearningCurve.png')\n",
    "plt.clf()\n",
    "plt.show()"
   ]
  },
  {
   "cell_type": "code",
   "execution_count": 30,
   "metadata": {},
   "outputs": [
    {
     "name": "stdout",
     "output_type": "stream",
     "text": [
      "             precision    recall  f1-score   support\n",
      "\n",
      "      <=50K       0.80      0.99      0.89     12435\n",
      "       >50K       0.84      0.21      0.34      3846\n",
      "\n",
      "avg / total       0.81      0.80      0.76     16281\n",
      "\n"
     ]
    }
   ],
   "source": [
    "print(classification_report(adult_testing_set_labels, predicted_testing_set_labels, target_names=target_names))"
   ]
  },
  {
   "cell_type": "code",
   "execution_count": 31,
   "metadata": {},
   "outputs": [
    {
     "name": "stderr",
     "output_type": "stream",
     "text": [
      "c:\\users\\tommy\\.virtualenvs\\assignment1-ocs3pq-h\\lib\\site-packages\\sklearn\\model_selection\\_search.py:762: DeprecationWarning: The grid_scores_ attribute was deprecated in version 0.18 in favor of the more elaborate cv_results_ attribute. The grid_scores_ attribute will not be available from 0.20\n",
      "  DeprecationWarning)\n"
     ]
    },
    {
     "data": {
      "text/plain": [
       "<Figure size 720x576 with 0 Axes>"
      ]
     },
     "metadata": {},
     "output_type": "display_data"
    }
   ],
   "source": [
    "ax = plot.grid_search(grid_knn.grid_scores_, change=('n_neighbors'))\n",
    "fig = ax.get_figure()\n",
    "fig.set_size_inches(10, 8)\n",
    "fig.savefig('knn3.png')\n",
    "fig.clf()"
   ]
  },
  {
   "cell_type": "code",
   "execution_count": 49,
   "metadata": {},
   "outputs": [
    {
     "name": "stdout",
     "output_type": "stream",
     "text": [
      "496.96818264840203 milleseconds\n",
      "1361.3866666666468 milleseconds\n"
     ]
    }
   ],
   "source": [
    "start_time = timeit.default_timer()\n",
    "estimator = KNeighborsClassifier(n_neighbors= 25, p= 1, weights= 'uniform')\n",
    "estimator.fit(processed_adult_training_set,adult_training_set_labels)\n",
    "end_time = timeit.default_timer()\n",
    "elapsed = end_time - start_time\n",
    "training_times.append(elapsed*1000)\n",
    "print(elapsed*1000, 'milleseconds')\n",
    "start_time = timeit.default_timer()\n",
    "estimator.predict(processed_adult_testing_set)\n",
    "end_time = timeit.default_timer()\n",
    "elapsed = end_time - start_time\n",
    "print(elapsed*1000, 'milleseconds')\n",
    "testing_times.append(elapsed*1000)"
   ]
  },
  {
   "cell_type": "code",
   "execution_count": 32,
   "metadata": {},
   "outputs": [
    {
     "name": "stdout",
     "output_type": "stream",
     "text": [
      "0.9603206289733116\n",
      "0.7604569743873226\n"
     ]
    }
   ],
   "source": [
    "# SVM\n",
    "svm_c = svm.SVC()\n",
    "svm_c.fit(processed_adult_training_set, adult_training_set_labels)\n",
    "\n",
    "predicted_training_set_labels = svm_c.predict(processed_adult_training_set)\n",
    "predicted_training_set_labels = pd.DataFrame(predicted_training_set_labels) \n",
    "training_set_acc=accuracy_score(adult_training_set_labels, predicted_training_set_labels)\n",
    "\n",
    "predicted_testing_set_labels = svm_c.predict(processed_adult_testing_set)\n",
    "predicted_testing_set_labels = pd.DataFrame(predicted_testing_set_labels)\n",
    "testing_set_acc=accuracy_score(adult_testing_set_labels, predicted_testing_set_labels)\n",
    "\n",
    "print(training_set_acc)\n",
    "print(testing_set_acc)"
   ]
  },
  {
   "cell_type": "code",
   "execution_count": 33,
   "metadata": {},
   "outputs": [],
   "source": [
    "# C_range = 10. ** np.arange(-3, 4)\n",
    "# gamma_range = 10. ** np.arange(-3, 4)\n",
    "# param_grid = dict(C = C_range, gamma = gamma_range)\n",
    "# grid_svc = GridSearchCV(estimator=svm_c, param_grid=param_grid)\n",
    "# grid_result_svc = grid_svc.fit(processed_adult_training_set, adult_training_set_labels)\n",
    "\n",
    "\n",
    "# print(\"Best: %f using %s\" % (grid_result_svc.best_score_, grid_result_svc.best_params_))\n",
    "# means = grid_result_svc.cv_results_['mean_test_score']\n",
    "# stds = grid_result_svc.cv_results_['std_test_score']\n",
    "# params = grid_result_svc.cv_results_['params']\n",
    "# results = zip(means, stds, params)\n",
    "# for mean, stdev, param in sorted(results, key=lambda x: x[0], reverse=True):\n",
    "#     print(\"%f (%f) with: %r\" % (mean, stdev, param))\n",
    "    \n",
    "\n",
    "# predicted_training_set_labels = grid_svc.predict(processed_adult_training_set)\n",
    "# predicted_training_set_labels = pd.DataFrame(predicted_training_set_labels) \n",
    "# training_set_acc=accuracy_score(adult_training_set_labels, predicted_training_set_labels)\n",
    "\n",
    "# predicted_testing_set_labels = grid_svc.predict(processed_adult_testing_set)\n",
    "# predicted_testing_set_labels = pd.DataFrame(predicted_testing_set_labels)\n",
    "# testing_set_acc=accuracy_score(adult_testing_set_labels, predicted_testing_set_labels)\n",
    "\n",
    "# print(training_set_acc)\n",
    "# print(testing_set_acc)"
   ]
  },
  {
   "cell_type": "code",
   "execution_count": 34,
   "metadata": {},
   "outputs": [
    {
     "name": "stdout",
     "output_type": "stream",
     "text": [
      "             precision    recall  f1-score   support\n",
      "\n",
      "      <=50K       0.77      0.98      0.86     12435\n",
      "       >50K       0.45      0.06      0.10      3846\n",
      "\n",
      "avg / total       0.69      0.76      0.68     16281\n",
      "\n"
     ]
    }
   ],
   "source": [
    "print(classification_report(adult_testing_set_labels, predicted_testing_set_labels, target_names=target_names))\n",
    "metrics.append(precision_recall_fscore_support(adult_testing_set_labels, predicted_testing_set_labels, average='weighted'))"
   ]
  },
  {
   "cell_type": "code",
   "execution_count": 35,
   "metadata": {},
   "outputs": [
    {
     "data": {
      "text/plain": [
       "<Figure size 432x288 with 0 Axes>"
      ]
     },
     "metadata": {},
     "output_type": "display_data"
    }
   ],
   "source": [
    "cv = cross_validation.ShuffleSplit(processed_adult_training_set.shape[0], n_iter=10,\n",
    "                                   test_size=0.2, random_state=0)\n",
    "cv = 5\n",
    "estimator = svm.SVC()\n",
    "train_sizes = np.linspace(.1, 1.0, 5)\n",
    "train_sizes, train_scores, test_scores = learning_curve(\n",
    "        estimator, processed_adult_training_set, adult_training_set_labels, cv=cv, n_jobs=1, train_sizes=train_sizes)\n",
    "plot.learning_curve(train_scores, test_scores, train_sizes)\n",
    "plt.savefig('svmLearningCurve.png')\n",
    "plt.clf()\n",
    "plt.show()"
   ]
  },
  {
   "cell_type": "code",
   "execution_count": 51,
   "metadata": {},
   "outputs": [
    {
     "name": "stdout",
     "output_type": "stream",
     "text": [
      "510924.5726392694 milleseconds\n",
      "73128.76390867587 milleseconds\n"
     ]
    }
   ],
   "source": [
    "start_time = timeit.default_timer()\n",
    "estimator = svm.SVC()\n",
    "estimator.fit(processed_adult_training_set,adult_training_set_labels)\n",
    "end_time = timeit.default_timer()\n",
    "elapsed = end_time - start_time\n",
    "training_times.append(elapsed*1000)\n",
    "print(elapsed*1000, 'milleseconds')\n",
    "start_time = timeit.default_timer()\n",
    "estimator.predict(processed_adult_testing_set)\n",
    "end_time = timeit.default_timer()\n",
    "elapsed = end_time - start_time\n",
    "print(elapsed*1000, 'milleseconds')\n",
    "testing_times.append(elapsed*1000)"
   ]
  },
  {
   "cell_type": "code",
   "execution_count": 36,
   "metadata": {},
   "outputs": [],
   "source": [
    "# ax = plot.grid_search(grid_svc.grid_scores_, change=('C', 'gamma'))\n",
    "# fig = ax.get_figure()\n",
    "# fig.set_size_inches(10, 8)\n",
    "# fig.savefig('svm1.png')\n",
    "# fig.clf()"
   ]
  },
  {
   "cell_type": "code",
   "execution_count": 37,
   "metadata": {},
   "outputs": [
    {
     "name": "stdout",
     "output_type": "stream",
     "text": [
      "[(0.8512548945356734, 0.8576254529820035, 0.8518444537461067, None), (0.5833503014311704, 0.7637737239727289, 0.6614797504945593, None), (0.854214798865117, 0.8600208832381303, 0.8506603469598725, None), (0.790830202565322, 0.8006264971439101, 0.7586860700906195, None), (0.6939371719731662, 0.7604569743873226, 0.6826275730520256, None)]\n"
     ]
    },
    {
     "data": {
      "text/plain": [
       "<Figure size 432x288 with 0 Axes>"
      ]
     },
     "metadata": {},
     "output_type": "display_data"
    }
   ],
   "source": [
    "print(metrics)\n",
    "x=['Decision Tree', 'Neural Net', 'Boosting', 'KNN', 'SVM']\n",
    "plt.bar(x, [prec[0] for prec in metrics])\n",
    "plt.title('Precisions by Classifiers')\n",
    "plt.ylim(0.0, 1.1)\n",
    "plt.savefig('precisions.png')\n",
    "plt.clf()\n",
    "\n",
    "plt.bar(x, [rec[1] for rec in metrics])\n",
    "plt.title('Recalls by Classifiers')\n",
    "plt.ylim(0.0, 1.1)\n",
    "plt.savefig('recalls.png')\n",
    "plt.clf()\n",
    "\n",
    "plt.bar(x, [f[2] for f in metrics])\n",
    "plt.title('F1 Scores by Classifiers')\n",
    "plt.ylim(0.0, 1.1)\n",
    "plt.savefig('F1.png')\n",
    "plt.clf()"
   ]
  },
  {
   "cell_type": "code",
   "execution_count": 52,
   "metadata": {},
   "outputs": [
    {
     "name": "stdout",
     "output_type": "stream",
     "text": [
      "[396.9204018264918, 1302.5908310502246, 34840.503817351586, 496.96818264840203, 510924.5726392694]\n",
      "[396.9204018264918, 1302.5908310502246, 34840.503817351586, 496.96818264840203, 510924.5726392694]\n"
     ]
    },
    {
     "data": {
      "text/plain": [
       "<Figure size 432x288 with 0 Axes>"
      ]
     },
     "metadata": {},
     "output_type": "display_data"
    }
   ],
   "source": [
    "print(training_times)\n",
    "x=['Decision Tree', 'Neural Net', 'Boosting', 'KNN', 'SVM']\n",
    "plt.bar(x, training_times)\n",
    "plt.title('Training Times by Classifiers')\n",
    "plt.ylabel('Milleseconds')\n",
    "plt.savefig('training_times.png')\n",
    "plt.clf()\n",
    "\n",
    "print(training_times)\n",
    "x=['Decision Tree', 'Neural Net', 'Boosting', 'KNN', 'SVM']\n",
    "plt.bar(x, testing_times)\n",
    "plt.title('Running Times by Classifiers')\n",
    "plt.ylabel('Milleseconds')\n",
    "plt.savefig('predicting_times.png')\n",
    "plt.clf()"
   ]
  },
  {
   "cell_type": "code",
   "execution_count": null,
   "metadata": {},
   "outputs": [],
   "source": []
  }
 ],
 "metadata": {
  "kernelspec": {
   "display_name": "Python 3",
   "language": "python",
   "name": "python3"
  },
  "language_info": {
   "codemirror_mode": {
    "name": "ipython",
    "version": 3
   },
   "file_extension": ".py",
   "mimetype": "text/x-python",
   "name": "python",
   "nbconvert_exporter": "python",
   "pygments_lexer": "ipython3",
   "version": "3.6.2"
  }
 },
 "nbformat": 4,
 "nbformat_minor": 2
}
