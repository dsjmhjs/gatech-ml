{
 "cells": [
  {
   "cell_type": "code",
   "execution_count": 1,
   "metadata": {},
   "outputs": [
    {
     "name": "stderr",
     "output_type": "stream",
     "text": [
      "c:\\users\\tommy\\.virtualenvs\\assignment1-ocs3pq-h\\lib\\site-packages\\sklearn\\cross_validation.py:41: DeprecationWarning: This module was deprecated in version 0.18 in favor of the model_selection module into which all the refactored classes and functions are moved. Also note that the interface of the new CV iterators are different from that of this module. This module will be removed in 0.20.\n",
      "  \"This module will be removed in 0.20.\", DeprecationWarning)\n",
      "c:\\users\\tommy\\.virtualenvs\\assignment1-ocs3pq-h\\lib\\site-packages\\sklearn\\ensemble\\weight_boosting.py:29: DeprecationWarning: numpy.core.umath_tests is an internal NumPy module and should not be imported. It will be removed in a future NumPy release.\n",
      "  from numpy.core.umath_tests import inner1d\n"
     ]
    }
   ],
   "source": [
    "%matplotlib inline\n",
    "import matplotlib.pyplot as plt\n",
    "from sklearn_evaluation import plot\n",
    "import loadData\n",
    "import pandas as pd\n",
    "import numpy as np\n",
    "from sklearn import tree\n",
    "import graphviz\n",
    "from sklearn.preprocessing import LabelEncoder\n",
    "from sklearn.preprocessing import OneHotEncoder\n",
    "from sklearn.metrics import accuracy_score\n",
    "from sklearn.neural_network import MLPClassifier\n",
    "from sklearn.tree._tree import TREE_LEAF\n",
    "from sklearn.model_selection import GridSearchCV\n",
    "from sklearn.ensemble import GradientBoostingClassifier\n",
    "from sklearn.neighbors import KNeighborsClassifier\n",
    "from sklearn import svm"
   ]
  },
  {
   "cell_type": "code",
   "execution_count": 2,
   "metadata": {},
   "outputs": [
    {
     "name": "stdout",
     "output_type": "stream",
     "text": [
      "Index(['native-country_Holand-Netherlands'], dtype='object')\n"
     ]
    }
   ],
   "source": [
    "# load data\n",
    "adult_training_set, adult_testing_set = loadData.loadDataWithTestSet('adult.data', 'adult.test')\n",
    "# preprocess data\n",
    "# training set\n",
    "adult_training_set_labels = adult_training_set.iloc[:,-1]\n",
    "adult_training_set = adult_training_set.iloc[:,0:-1]\n",
    "adult_training_set_labels[adult_training_set_labels.str.contains('>50K',na=False)] = 1\n",
    "adult_training_set_labels[adult_training_set_labels.str.contains('<=50K',na=False)] = 0\n",
    "adult_training_set_labels = adult_training_set_labels.astype('int')\n",
    "# testing set\n",
    "adult_testing_set_labels = adult_testing_set.iloc[:,-1]\n",
    "adult_testing_set = adult_testing_set.iloc[:,0:-1]\n",
    "adult_testing_set_labels[adult_testing_set_labels.str.contains('>50K',na=False)] = 1\n",
    "adult_testing_set_labels[adult_testing_set_labels.str.contains('<=50K',na=False)] = 0\n",
    "adult_testing_set_labels = adult_testing_set_labels.astype('int')\n",
    "\n",
    "processed_adult_training_set = pd.get_dummies(adult_training_set, columns=['workclass','education','marital-status','occupation','relationship',\n",
    "                                           'race','sex','native-country'])\n",
    "processed_adult_testing_set = pd.get_dummies(adult_testing_set, columns=['workclass','education','marital-status','occupation','relationship',\n",
    "                                           'race','sex','native-country'])\n",
    "print(processed_adult_training_set.columns[~processed_adult_training_set.columns.isin(processed_adult_testing_set.columns)])\n",
    "missing_column = np.zeros(16281)\n",
    "missing_column = pd.DataFrame(missing_column, columns=['native-country_Holand-Netherlands'])\n",
    "processed_adult_testing_set = pd.concat([processed_adult_testing_set,missing_column], axis=1)"
   ]
  },
  {
   "cell_type": "code",
   "execution_count": 9,
   "metadata": {},
   "outputs": [
    {
     "name": "stdout",
     "output_type": "stream",
     "text": [
      "[0.9999692884125181, 0.9104450109026135, 0.8926937133380425, 0.8848315469426614, 0.880900463744971, 0.877982862934185, 0.874512453548724, 0.8729154509996622, 0.8719019686127576, 0.8692914836767912, 0.8689536562144897, 0.8681244433524768, 0.8671109609655723, 0.8667731335032708, 0.8656368047664383, 0.8652375541291729, 0.8649304382543533, 0.8649304382543533, 0.8635177052301833, 0.8633948588802555, 0.8633948588802555, 0.8633948588802555, 0.8627499155431344, 0.8627499155431344, 0.8624427996683148, 0.8620742606185313, 0.8613986056939283, 0.8613986056939283, 0.8613986056939283, 0.8613986056939283, 0.8600780074322042, 0.8600780074322042, 0.8600780074322042, 0.8600780074322042, 0.8596480452074567, 0.8596480452074567, 0.8596480452074567, 0.8596480452074567, 0.8591259482202636, 0.85875740917048, 0.8584810048831424, 0.8584810048831424, 0.8584810048831424, 0.8584810048831424, 0.8584810048831424, 0.8584810048831424, 0.8584810048831424, 0.8584810048831424, 0.8584810048831424, 0.8584810048831424]\n",
      "[0.8022848719366132, 0.8315214053190836, 0.8329340949573122, 0.8466924636078865, 0.8516061666973773, 0.8510533750998096, 0.8526503286038941, 0.8540630182421227, 0.8541244395307414, 0.8536330692217923, 0.8535716479331736, 0.854861494994165, 0.8544929672624532, 0.8585467723112831, 0.8590995639088508, 0.858731036177139, 0.8585467723112831, 0.8585467723112831, 0.8592838277747067, 0.8592838277747067, 0.8592838277747067, 0.8592838277747067, 0.8579325594250967, 0.8579325594250967, 0.8579939807137154, 0.8586696148885203, 0.8584853510226644, 0.8584853510226644, 0.8584853510226644, 0.8584853510226644, 0.8581782445795713, 0.8581782445795713, 0.8581782445795713, 0.8581782445795713, 0.8584853510226644, 0.8584853510226644, 0.8584853510226644, 0.8584853510226644, 0.8584239297340458, 0.8577482955592408, 0.8576254529820035, 0.8576254529820035, 0.8576254529820035, 0.8576254529820035, 0.8576254529820035, 0.8576254529820035, 0.8576254529820035, 0.8576254529820035, 0.8576254529820035, 0.8576254529820035]\n"
     ]
    }
   ],
   "source": [
    "# decision tree\n",
    "dtc = tree.DecisionTreeClassifier()\n",
    "dtc = dtc.fit(processed_adult_training_set, adult_training_set_labels)\n",
    "\n",
    "def prune_index(inner_tree, index, threshold):\n",
    "    if inner_tree.value[index].min() < threshold:\n",
    "        # turn node into a leaf by \"unlinking\" its children\n",
    "        inner_tree.children_left[index] = TREE_LEAF\n",
    "        inner_tree.children_right[index] = TREE_LEAF\n",
    "    # if there are shildren, visit them as well\n",
    "    if inner_tree.children_left[index] != TREE_LEAF:\n",
    "        prune_index(inner_tree, inner_tree.children_left[index], threshold)\n",
    "        prune_index(inner_tree, inner_tree.children_right[index], threshold)\n",
    "\n",
    "training_set_acc_DT = []\n",
    "testing_set_acc_DT = []\n",
    "thresholds = range(0, 500, 10)\n",
    "for x in thresholds:\n",
    "    prune_index(dtc.tree_, 0, x)\n",
    "    predicted_training_set_labels = dtc.predict(processed_adult_training_set)\n",
    "    predicted_training_set_labels = pd.DataFrame(predicted_training_set_labels) \n",
    "    training_set_acc_DT.append(accuracy_score(adult_training_set_labels, predicted_training_set_labels))\n",
    "    \n",
    "    predicted_testing_set_labels = dtc.predict(processed_adult_testing_set)\n",
    "    predicted_testing_set_labels = pd.DataFrame(predicted_testing_set_labels)\n",
    "    testing_set_acc_DT.append(accuracy_score(adult_testing_set_labels, predicted_testing_set_labels))\n",
    "print(training_set_acc_DT)\n",
    "print(testing_set_acc_DT)\n"
   ]
  },
  {
   "cell_type": "code",
   "execution_count": 10,
   "metadata": {},
   "outputs": [
    {
     "data": {
      "image/png": "[encoded data removed]",
      "text/plain": [
       "<Figure size 432x288 with 1 Axes>"
      ]
     },
     "metadata": {},
     "output_type": "display_data"
    }
   ],
   "source": [
    "fig = plt.figure()\n",
    "ax = fig.add_subplot(111)\n",
    "ax.plot(thresholds, training_set_acc_DT, color='lightblue', linewidth=3, label='Training Set Accuracy')\n",
    "ax.plot(thresholds, testing_set_acc_DT, color='red', linewidth=3, label='Testing Set Accuracy')\n",
    "ax.set_xlim(-10, 210)\n",
    "ax.set(title='Decision Tree with Pruning',\n",
    " ylabel='% Accuracy', xlabel='Pruning Thresholds')\n",
    "plt.savefig('DT1.png')\n",
    "plt.show()"
   ]
  },
  {
   "cell_type": "code",
   "execution_count": 11,
   "metadata": {},
   "outputs": [
    {
     "data": {
      "text/plain": [
       "0"
      ]
     },
     "execution_count": 11,
     "metadata": {},
     "output_type": "execute_result"
    }
   ],
   "source": [
    "# graph decision tree as png\n",
    "dot_data = tree.export_graphviz(dtc, out_file='tree1.dot', feature_names=processed_adult_training_set.columns, \n",
    "                                filled=True, rounded=True)  \n",
    "graph = graphviz.Source(dot_data)\n",
    "from subprocess import check_call\n",
    "check_call(['dot','-Tpng','tree1.dot','-o','tree1.png'])"
   ]
  },
  {
   "cell_type": "code",
   "execution_count": 3,
   "metadata": {},
   "outputs": [
    {
     "name": "stdout",
     "output_type": "stream",
     "text": [
      "0.7591904425539756\n",
      "0.7637737239727289\n"
     ]
    }
   ],
   "source": [
    "# neural networks\n",
    "nn = MLPClassifier(activation='logistic', solver='sgd')\n",
    "nn.fit(processed_adult_training_set, adult_training_set_labels)\n",
    "\n",
    "predicted_training_set_labels = nn.predict(processed_adult_training_set)\n",
    "predicted_training_set_labels = pd.DataFrame(predicted_training_set_labels) \n",
    "training_set_acc=accuracy_score(adult_training_set_labels, predicted_training_set_labels)\n",
    "\n",
    "predicted_testing_set_labels = nn.predict(processed_adult_testing_set)\n",
    "predicted_testing_set_labels = pd.DataFrame(predicted_testing_set_labels)\n",
    "testing_set_acc=accuracy_score(adult_testing_set_labels, predicted_testing_set_labels)\n",
    "\n",
    "print(training_set_acc)\n",
    "print(testing_set_acc)"
   ]
  },
  {
   "cell_type": "code",
   "execution_count": 18,
   "metadata": {},
   "outputs": [
    {
     "name": "stdout",
     "output_type": "stream",
     "text": [
      "Best: 0.762845 using {'alpha': 0.005, 'learning_rate_init': 0.007, 'momentum': 0.9}\n",
      "0.762845 (0.001790) with: {'alpha': 0.005, 'learning_rate_init': 0.007, 'momentum': 0.9}\n",
      "0.762722 (0.000639) with: {'alpha': 0.0002, 'learning_rate_init': 0.01, 'momentum': 0.75}\n",
      "0.762415 (0.002555) with: {'alpha': 0.0007, 'learning_rate_init': 0.01, 'momentum': 0.9}\n",
      "0.762262 (0.001905) with: {'alpha': 0.0001, 'learning_rate_init': 0.007, 'momentum': 0.9}\n",
      "0.762231 (0.001041) with: {'alpha': 0.01, 'learning_rate_init': 0.01, 'momentum': 0.85}\n",
      "0.762108 (0.001430) with: {'alpha': 0.001, 'learning_rate_init': 0.005, 'momentum': 0.9}\n",
      "0.761893 (0.000490) with: {'alpha': 0.005, 'learning_rate_init': 0.01, 'momentum': 0.9}\n",
      "0.761801 (0.000729) with: {'alpha': 0.0005, 'learning_rate_init': 0.007, 'momentum': 0.85}\n",
      "0.761801 (0.001387) with: {'alpha': 0.0007, 'learning_rate_init': 0.01, 'momentum': 0.85}\n",
      "0.761801 (0.001266) with: {'alpha': 0.01, 'learning_rate_init': 0.005, 'momentum': 0.9}\n",
      "0.761770 (0.001885) with: {'alpha': 0.001, 'learning_rate_init': 0.007, 'momentum': 0.85}\n",
      "0.761647 (0.001434) with: {'alpha': 0.0001, 'learning_rate_init': 0.01, 'momentum': 0.9}\n",
      "0.761617 (0.002234) with: {'alpha': 0.001, 'learning_rate_init': 0.01, 'momentum': 0.85}\n",
      "0.761586 (0.001633) with: {'alpha': 0.002, 'learning_rate_init': 0.007, 'momentum': 0.9}\n",
      "0.761586 (0.000616) with: {'alpha': 0.002, 'learning_rate_init': 0.01, 'momentum': 0.9}\n",
      "0.761463 (0.001500) with: {'alpha': 0.001, 'learning_rate_init': 0.01, 'momentum': 0.7}\n",
      "0.761432 (0.002111) with: {'alpha': 0.0005, 'learning_rate_init': 0.01, 'momentum': 0.85}\n",
      "0.761432 (0.001339) with: {'alpha': 0.001, 'learning_rate_init': 0.01, 'momentum': 0.9}\n",
      "0.761340 (0.002171) with: {'alpha': 0.001, 'learning_rate_init': 0.007, 'momentum': 0.8}\n",
      "0.761340 (0.001797) with: {'alpha': 0.002, 'learning_rate_init': 0.01, 'momentum': 0.85}\n",
      "0.761187 (0.001725) with: {'alpha': 0.0001, 'learning_rate_init': 0.01, 'momentum': 0.85}\n",
      "0.761156 (0.001796) with: {'alpha': 0.001, 'learning_rate_init': 0.007, 'momentum': 0.75}\n",
      "0.761095 (0.000775) with: {'alpha': 0.0001, 'learning_rate_init': 0.01, 'momentum': 0.8}\n",
      "0.761095 (0.002346) with: {'alpha': 0.005, 'learning_rate_init': 0.01, 'momentum': 0.85}\n",
      "0.761002 (0.001496) with: {'alpha': 0.0002, 'learning_rate_init': 0.01, 'momentum': 0.8}\n",
      "0.760941 (0.002509) with: {'alpha': 0.002, 'learning_rate_init': 0.007, 'momentum': 0.7}\n",
      "0.760910 (0.001044) with: {'alpha': 0.0002, 'learning_rate_init': 0.01, 'momentum': 0.9}\n",
      "0.760910 (0.002465) with: {'alpha': 0.0005, 'learning_rate_init': 0.01, 'momentum': 0.7}\n",
      "0.760880 (0.001868) with: {'alpha': 0.0005, 'learning_rate_init': 0.005, 'momentum': 0.9}\n",
      "0.760849 (0.001988) with: {'alpha': 0.0007, 'learning_rate_init': 0.01, 'momentum': 0.8}\n",
      "0.760818 (0.001063) with: {'alpha': 0.0001, 'learning_rate_init': 0.005, 'momentum': 0.8}\n",
      "0.760726 (0.000819) with: {'alpha': 0.01, 'learning_rate_init': 0.007, 'momentum': 0.9}\n",
      "0.760665 (0.001232) with: {'alpha': 0.0001, 'learning_rate_init': 0.005, 'momentum': 0.9}\n",
      "0.760665 (0.001875) with: {'alpha': 0.002, 'learning_rate_init': 0.007, 'momentum': 0.75}\n",
      "0.760634 (0.002074) with: {'alpha': 0.0005, 'learning_rate_init': 0.007, 'momentum': 0.8}\n",
      "0.760603 (0.000937) with: {'alpha': 0.005, 'learning_rate_init': 0.005, 'momentum': 0.9}\n",
      "0.760572 (0.001938) with: {'alpha': 0.0005, 'learning_rate_init': 0.01, 'momentum': 0.9}\n",
      "0.760572 (0.001093) with: {'alpha': 0.0005, 'learning_rate_init': 0.01, 'momentum': 0.75}\n",
      "0.760542 (0.001629) with: {'alpha': 0.0007, 'learning_rate_init': 0.005, 'momentum': 0.85}\n",
      "0.760511 (0.001254) with: {'alpha': 0.0002, 'learning_rate_init': 0.005, 'momentum': 0.9}\n",
      "0.760480 (0.000721) with: {'alpha': 0.0005, 'learning_rate_init': 0.01, 'momentum': 0.8}\n",
      "0.760480 (0.000829) with: {'alpha': 0.01, 'learning_rate_init': 0.01, 'momentum': 0.8}\n",
      "0.760419 (0.001465) with: {'alpha': 0.01, 'learning_rate_init': 0.002, 'momentum': 0.8}\n",
      "0.760388 (0.000676) with: {'alpha': 0.01, 'learning_rate_init': 0.007, 'momentum': 0.85}\n",
      "0.760327 (0.000639) with: {'alpha': 0.0007, 'learning_rate_init': 0.005, 'momentum': 0.9}\n",
      "0.760327 (0.000559) with: {'alpha': 0.0007, 'learning_rate_init': 0.007, 'momentum': 0.9}\n",
      "0.760327 (0.001575) with: {'alpha': 0.005, 'learning_rate_init': 0.01, 'momentum': 0.8}\n",
      "0.760296 (0.001597) with: {'alpha': 0.0007, 'learning_rate_init': 0.01, 'momentum': 0.7}\n",
      "0.760265 (0.001114) with: {'alpha': 0.0002, 'learning_rate_init': 0.01, 'momentum': 0.85}\n",
      "0.760265 (0.001301) with: {'alpha': 0.0007, 'learning_rate_init': 0.01, 'momentum': 0.75}\n",
      "0.760235 (0.001460) with: {'alpha': 0.0007, 'learning_rate_init': 0.007, 'momentum': 0.75}\n",
      "0.760173 (0.000662) with: {'alpha': 0.0002, 'learning_rate_init': 0.007, 'momentum': 0.9}\n",
      "0.760112 (0.001033) with: {'alpha': 0.0001, 'learning_rate_init': 0.01, 'momentum': 0.7}\n",
      "0.760112 (0.000812) with: {'alpha': 0.0002, 'learning_rate_init': 0.005, 'momentum': 0.85}\n",
      "0.760112 (0.000863) with: {'alpha': 0.001, 'learning_rate_init': 0.005, 'momentum': 0.85}\n",
      "0.760081 (0.000988) with: {'alpha': 0.0002, 'learning_rate_init': 0.01, 'momentum': 0.7}\n",
      "0.760050 (0.001249) with: {'alpha': 0.01, 'learning_rate_init': 0.005, 'momentum': 0.8}\n",
      "0.759989 (0.000914) with: {'alpha': 0.0002, 'learning_rate_init': 0.007, 'momentum': 0.8}\n",
      "0.759958 (0.001070) with: {'alpha': 0.0005, 'learning_rate_init': 0.005, 'momentum': 0.7}\n",
      "0.759958 (0.001054) with: {'alpha': 0.005, 'learning_rate_init': 0.01, 'momentum': 0.75}\n",
      "0.759928 (0.001075) with: {'alpha': 0.0001, 'learning_rate_init': 0.007, 'momentum': 0.8}\n",
      "0.759897 (0.000567) with: {'alpha': 0.0007, 'learning_rate_init': 0.007, 'momentum': 0.85}\n",
      "0.759866 (0.000549) with: {'alpha': 0.002, 'learning_rate_init': 0.01, 'momentum': 0.75}\n",
      "0.759866 (0.000359) with: {'alpha': 0.005, 'learning_rate_init': 0.007, 'momentum': 0.85}\n",
      "0.759835 (0.000049) with: {'alpha': 0.01, 'learning_rate_init': 0.007, 'momentum': 0.8}\n",
      "0.759805 (0.000853) with: {'alpha': 0.0005, 'learning_rate_init': 0.001, 'momentum': 0.9}\n",
      "0.759805 (0.000658) with: {'alpha': 0.0005, 'learning_rate_init': 0.007, 'momentum': 0.9}\n",
      "0.759805 (0.000662) with: {'alpha': 0.001, 'learning_rate_init': 0.01, 'momentum': 0.75}\n",
      "0.759774 (0.000529) with: {'alpha': 0.002, 'learning_rate_init': 0.01, 'momentum': 0.8}\n",
      "0.759682 (0.000679) with: {'alpha': 0.0001, 'learning_rate_init': 0.01, 'momentum': 0.75}\n",
      "0.759682 (0.000491) with: {'alpha': 0.005, 'learning_rate_init': 0.007, 'momentum': 0.8}\n",
      "0.759620 (0.000592) with: {'alpha': 0.002, 'learning_rate_init': 0.007, 'momentum': 0.8}\n",
      "0.759590 (0.000549) with: {'alpha': 0.001, 'learning_rate_init': 0.01, 'momentum': 0.8}\n",
      "0.759590 (0.000306) with: {'alpha': 0.002, 'learning_rate_init': 0.005, 'momentum': 0.85}\n",
      "0.759528 (0.000264) with: {'alpha': 0.01, 'learning_rate_init': 0.01, 'momentum': 0.75}\n",
      "0.759498 (0.000256) with: {'alpha': 0.0002, 'learning_rate_init': 0.005, 'momentum': 0.8}\n",
      "0.759498 (0.000419) with: {'alpha': 0.0005, 'learning_rate_init': 0.002, 'momentum': 0.9}\n",
      "0.759498 (0.000345) with: {'alpha': 0.001, 'learning_rate_init': 0.005, 'momentum': 0.75}\n",
      "0.759498 (0.000467) with: {'alpha': 0.005, 'learning_rate_init': 0.005, 'momentum': 0.8}\n",
      "0.759498 (0.000419) with: {'alpha': 0.01, 'learning_rate_init': 0.001, 'momentum': 0.9}\n",
      "0.759467 (0.000255) with: {'alpha': 0.0002, 'learning_rate_init': 0.005, 'momentum': 0.75}\n",
      "0.759467 (0.000303) with: {'alpha': 0.01, 'learning_rate_init': 0.005, 'momentum': 0.85}\n",
      "0.759436 (0.000217) with: {'alpha': 0.0007, 'learning_rate_init': 0.005, 'momentum': 0.75}\n",
      "0.759405 (0.000337) with: {'alpha': 0.002, 'learning_rate_init': 0.002, 'momentum': 0.8}\n",
      "0.759375 (0.000049) with: {'alpha': 0.0002, 'learning_rate_init': 0.007, 'momentum': 0.85}\n",
      "0.759375 (0.000246) with: {'alpha': 0.0007, 'learning_rate_init': 0.007, 'momentum': 0.7}\n",
      "0.759375 (0.000246) with: {'alpha': 0.005, 'learning_rate_init': 0.01, 'momentum': 0.7}\n",
      "0.759375 (0.000097) with: {'alpha': 0.01, 'learning_rate_init': 0.002, 'momentum': 0.85}\n",
      "0.759375 (0.000180) with: {'alpha': 0.01, 'learning_rate_init': 0.01, 'momentum': 0.9}\n",
      "0.759344 (0.000151) with: {'alpha': 0.0001, 'learning_rate_init': 0.005, 'momentum': 0.85}\n",
      "0.759344 (0.000203) with: {'alpha': 0.0002, 'learning_rate_init': 0.002, 'momentum': 0.85}\n",
      "0.759344 (0.000203) with: {'alpha': 0.0002, 'learning_rate_init': 0.005, 'momentum': 0.7}\n",
      "0.759344 (0.000142) with: {'alpha': 0.001, 'learning_rate_init': 0.001, 'momentum': 0.7}\n",
      "0.759344 (0.000203) with: {'alpha': 0.001, 'learning_rate_init': 0.002, 'momentum': 0.9}\n",
      "0.759344 (0.000203) with: {'alpha': 0.001, 'learning_rate_init': 0.007, 'momentum': 0.9}\n",
      "0.759344 (0.000250) with: {'alpha': 0.002, 'learning_rate_init': 0.005, 'momentum': 0.9}\n",
      "0.759344 (0.000084) with: {'alpha': 0.002, 'learning_rate_init': 0.007, 'momentum': 0.85}\n",
      "0.759344 (0.000189) with: {'alpha': 0.005, 'learning_rate_init': 0.005, 'momentum': 0.75}\n",
      "0.759344 (0.000250) with: {'alpha': 0.005, 'learning_rate_init': 0.007, 'momentum': 0.75}\n",
      "0.759313 (0.000160) with: {'alpha': 0.0002, 'learning_rate_init': 0.001, 'momentum': 0.7}\n",
      "0.759313 (0.000160) with: {'alpha': 0.0007, 'learning_rate_init': 0.005, 'momentum': 0.7}\n",
      "0.759313 (0.000207) with: {'alpha': 0.005, 'learning_rate_init': 0.001, 'momentum': 0.7}\n",
      "0.759313 (0.000107) with: {'alpha': 0.01, 'learning_rate_init': 0.007, 'momentum': 0.7}\n",
      "0.759313 (0.000093) with: {'alpha': 0.01, 'learning_rate_init': 0.01, 'momentum': 0.7}\n",
      "0.759283 (0.000117) with: {'alpha': 0.0001, 'learning_rate_init': 0.001, 'momentum': 0.85}\n",
      "0.759283 (0.000163) with: {'alpha': 0.0001, 'learning_rate_init': 0.005, 'momentum': 0.7}\n",
      "0.759283 (0.000117) with: {'alpha': 0.0001, 'learning_rate_init': 0.007, 'momentum': 0.85}\n",
      "0.759283 (0.000163) with: {'alpha': 0.0002, 'learning_rate_init': 0.001, 'momentum': 0.75}\n",
      "0.759283 (0.000117) with: {'alpha': 0.0002, 'learning_rate_init': 0.002, 'momentum': 0.75}\n",
      "0.759283 (0.000117) with: {'alpha': 0.0005, 'learning_rate_init': 0.001, 'momentum': 0.75}\n",
      "0.759283 (0.000117) with: {'alpha': 0.0007, 'learning_rate_init': 0.007, 'momentum': 0.8}\n",
      "0.759283 (0.000117) with: {'alpha': 0.001, 'learning_rate_init': 0.005, 'momentum': 0.8}\n",
      "0.759283 (0.000117) with: {'alpha': 0.002, 'learning_rate_init': 0.002, 'momentum': 0.85}\n",
      "0.759283 (0.000117) with: {'alpha': 0.005, 'learning_rate_init': 0.002, 'momentum': 0.75}\n",
      "0.759283 (0.000163) with: {'alpha': 0.005, 'learning_rate_init': 0.007, 'momentum': 0.7}\n",
      "0.759252 (0.000010) with: {'alpha': 0.0001, 'learning_rate_init': 0.007, 'momentum': 0.7}\n",
      "0.759252 (0.000076) with: {'alpha': 0.0002, 'learning_rate_init': 0.001, 'momentum': 0.9}\n",
      "0.759252 (0.000076) with: {'alpha': 0.0005, 'learning_rate_init': 0.001, 'momentum': 0.8}\n",
      "0.759252 (0.000076) with: {'alpha': 0.0005, 'learning_rate_init': 0.002, 'momentum': 0.75}\n",
      "0.759252 (0.000076) with: {'alpha': 0.0007, 'learning_rate_init': 0.001, 'momentum': 0.85}\n",
      "0.759221 (0.000039) with: {'alpha': 0.0001, 'learning_rate_init': 0.001, 'momentum': 0.9}\n",
      "0.759221 (0.000076) with: {'alpha': 0.0001, 'learning_rate_init': 0.005, 'momentum': 0.75}\n",
      "0.759221 (0.000039) with: {'alpha': 0.0001, 'learning_rate_init': 0.007, 'momentum': 0.75}\n",
      "0.759221 (0.000039) with: {'alpha': 0.0005, 'learning_rate_init': 0.005, 'momentum': 0.85}\n",
      "0.759221 (0.000039) with: {'alpha': 0.002, 'learning_rate_init': 0.005, 'momentum': 0.75}\n",
      "0.759190 (0.000033) with: {'alpha': 0.0001, 'learning_rate_init': 0.001, 'momentum': 0.8}\n",
      "0.759190 (0.000033) with: {'alpha': 0.0001, 'learning_rate_init': 0.001, 'momentum': 0.75}\n",
      "0.759190 (0.000033) with: {'alpha': 0.0001, 'learning_rate_init': 0.001, 'momentum': 0.7}\n",
      "0.759190 (0.000033) with: {'alpha': 0.0001, 'learning_rate_init': 0.002, 'momentum': 0.9}\n",
      "0.759190 (0.000033) with: {'alpha': 0.0001, 'learning_rate_init': 0.002, 'momentum': 0.85}\n",
      "0.759190 (0.000033) with: {'alpha': 0.0001, 'learning_rate_init': 0.002, 'momentum': 0.8}\n",
      "0.759190 (0.000033) with: {'alpha': 0.0001, 'learning_rate_init': 0.002, 'momentum': 0.75}\n",
      "0.759190 (0.000033) with: {'alpha': 0.0001, 'learning_rate_init': 0.002, 'momentum': 0.7}\n",
      "0.759190 (0.000033) with: {'alpha': 0.0002, 'learning_rate_init': 0.001, 'momentum': 0.85}\n",
      "0.759190 (0.000033) with: {'alpha': 0.0002, 'learning_rate_init': 0.001, 'momentum': 0.8}\n",
      "0.759190 (0.000033) with: {'alpha': 0.0002, 'learning_rate_init': 0.002, 'momentum': 0.9}\n",
      "0.759190 (0.000033) with: {'alpha': 0.0002, 'learning_rate_init': 0.002, 'momentum': 0.8}\n",
      "0.759190 (0.000033) with: {'alpha': 0.0002, 'learning_rate_init': 0.002, 'momentum': 0.7}\n",
      "0.759190 (0.000033) with: {'alpha': 0.0002, 'learning_rate_init': 0.007, 'momentum': 0.75}\n",
      "0.759190 (0.000033) with: {'alpha': 0.0002, 'learning_rate_init': 0.007, 'momentum': 0.7}\n",
      "0.759190 (0.000033) with: {'alpha': 0.0005, 'learning_rate_init': 0.001, 'momentum': 0.85}\n",
      "0.759190 (0.000033) with: {'alpha': 0.0005, 'learning_rate_init': 0.001, 'momentum': 0.7}\n",
      "0.759190 (0.000033) with: {'alpha': 0.0005, 'learning_rate_init': 0.002, 'momentum': 0.85}\n",
      "0.759190 (0.000033) with: {'alpha': 0.0005, 'learning_rate_init': 0.002, 'momentum': 0.8}\n",
      "0.759190 (0.000033) with: {'alpha': 0.0005, 'learning_rate_init': 0.002, 'momentum': 0.7}\n",
      "0.759190 (0.000033) with: {'alpha': 0.0005, 'learning_rate_init': 0.005, 'momentum': 0.8}\n",
      "0.759190 (0.000033) with: {'alpha': 0.0005, 'learning_rate_init': 0.005, 'momentum': 0.75}\n",
      "0.759190 (0.000033) with: {'alpha': 0.0005, 'learning_rate_init': 0.007, 'momentum': 0.75}\n",
      "0.759190 (0.000033) with: {'alpha': 0.0005, 'learning_rate_init': 0.007, 'momentum': 0.7}\n",
      "0.759190 (0.000033) with: {'alpha': 0.0007, 'learning_rate_init': 0.001, 'momentum': 0.9}\n",
      "0.759190 (0.000033) with: {'alpha': 0.0007, 'learning_rate_init': 0.001, 'momentum': 0.8}\n",
      "0.759190 (0.000033) with: {'alpha': 0.0007, 'learning_rate_init': 0.001, 'momentum': 0.75}\n",
      "0.759190 (0.000033) with: {'alpha': 0.0007, 'learning_rate_init': 0.001, 'momentum': 0.7}\n",
      "0.759190 (0.000033) with: {'alpha': 0.0007, 'learning_rate_init': 0.002, 'momentum': 0.9}\n",
      "0.759190 (0.000033) with: {'alpha': 0.0007, 'learning_rate_init': 0.002, 'momentum': 0.85}\n",
      "0.759190 (0.000033) with: {'alpha': 0.0007, 'learning_rate_init': 0.002, 'momentum': 0.8}\n",
      "0.759190 (0.000033) with: {'alpha': 0.0007, 'learning_rate_init': 0.002, 'momentum': 0.75}\n",
      "0.759190 (0.000033) with: {'alpha': 0.0007, 'learning_rate_init': 0.002, 'momentum': 0.7}\n",
      "0.759190 (0.000033) with: {'alpha': 0.0007, 'learning_rate_init': 0.005, 'momentum': 0.8}\n",
      "0.759190 (0.000033) with: {'alpha': 0.001, 'learning_rate_init': 0.001, 'momentum': 0.9}\n",
      "0.759190 (0.000033) with: {'alpha': 0.001, 'learning_rate_init': 0.001, 'momentum': 0.85}\n",
      "0.759190 (0.000033) with: {'alpha': 0.001, 'learning_rate_init': 0.001, 'momentum': 0.8}\n",
      "0.759190 (0.000033) with: {'alpha': 0.001, 'learning_rate_init': 0.001, 'momentum': 0.75}\n",
      "0.759190 (0.000033) with: {'alpha': 0.001, 'learning_rate_init': 0.002, 'momentum': 0.85}\n",
      "0.759190 (0.000033) with: {'alpha': 0.001, 'learning_rate_init': 0.002, 'momentum': 0.8}\n",
      "0.759190 (0.000033) with: {'alpha': 0.001, 'learning_rate_init': 0.002, 'momentum': 0.75}\n",
      "0.759190 (0.000033) with: {'alpha': 0.001, 'learning_rate_init': 0.002, 'momentum': 0.7}\n",
      "0.759190 (0.000033) with: {'alpha': 0.001, 'learning_rate_init': 0.005, 'momentum': 0.7}\n",
      "0.759190 (0.000033) with: {'alpha': 0.001, 'learning_rate_init': 0.007, 'momentum': 0.7}\n",
      "0.759190 (0.000033) with: {'alpha': 0.002, 'learning_rate_init': 0.001, 'momentum': 0.9}\n",
      "0.759190 (0.000033) with: {'alpha': 0.002, 'learning_rate_init': 0.001, 'momentum': 0.85}\n",
      "0.759190 (0.000033) with: {'alpha': 0.002, 'learning_rate_init': 0.001, 'momentum': 0.8}\n",
      "0.759190 (0.000033) with: {'alpha': 0.002, 'learning_rate_init': 0.001, 'momentum': 0.75}\n",
      "0.759190 (0.000033) with: {'alpha': 0.002, 'learning_rate_init': 0.001, 'momentum': 0.7}\n",
      "0.759190 (0.000033) with: {'alpha': 0.002, 'learning_rate_init': 0.002, 'momentum': 0.9}\n",
      "0.759190 (0.000033) with: {'alpha': 0.002, 'learning_rate_init': 0.002, 'momentum': 0.75}\n",
      "0.759190 (0.000033) with: {'alpha': 0.002, 'learning_rate_init': 0.002, 'momentum': 0.7}\n",
      "0.759190 (0.000033) with: {'alpha': 0.002, 'learning_rate_init': 0.005, 'momentum': 0.8}\n",
      "0.759190 (0.000033) with: {'alpha': 0.002, 'learning_rate_init': 0.005, 'momentum': 0.7}\n",
      "0.759190 (0.000033) with: {'alpha': 0.002, 'learning_rate_init': 0.01, 'momentum': 0.7}\n",
      "0.759190 (0.000033) with: {'alpha': 0.005, 'learning_rate_init': 0.001, 'momentum': 0.9}\n",
      "0.759190 (0.000033) with: {'alpha': 0.005, 'learning_rate_init': 0.001, 'momentum': 0.85}\n",
      "0.759190 (0.000033) with: {'alpha': 0.005, 'learning_rate_init': 0.001, 'momentum': 0.8}\n",
      "0.759190 (0.000033) with: {'alpha': 0.005, 'learning_rate_init': 0.001, 'momentum': 0.75}\n",
      "0.759190 (0.000033) with: {'alpha': 0.005, 'learning_rate_init': 0.002, 'momentum': 0.9}\n",
      "0.759190 (0.000033) with: {'alpha': 0.005, 'learning_rate_init': 0.002, 'momentum': 0.85}\n",
      "0.759190 (0.000033) with: {'alpha': 0.005, 'learning_rate_init': 0.002, 'momentum': 0.8}\n",
      "0.759190 (0.000033) with: {'alpha': 0.005, 'learning_rate_init': 0.002, 'momentum': 0.7}\n",
      "0.759190 (0.000033) with: {'alpha': 0.005, 'learning_rate_init': 0.005, 'momentum': 0.85}\n",
      "0.759190 (0.000033) with: {'alpha': 0.005, 'learning_rate_init': 0.005, 'momentum': 0.7}\n",
      "0.759190 (0.000033) with: {'alpha': 0.01, 'learning_rate_init': 0.001, 'momentum': 0.85}\n",
      "0.759190 (0.000033) with: {'alpha': 0.01, 'learning_rate_init': 0.001, 'momentum': 0.8}\n",
      "0.759190 (0.000033) with: {'alpha': 0.01, 'learning_rate_init': 0.001, 'momentum': 0.75}\n",
      "0.759190 (0.000033) with: {'alpha': 0.01, 'learning_rate_init': 0.001, 'momentum': 0.7}\n",
      "0.759190 (0.000033) with: {'alpha': 0.01, 'learning_rate_init': 0.002, 'momentum': 0.9}\n",
      "0.759190 (0.000033) with: {'alpha': 0.01, 'learning_rate_init': 0.002, 'momentum': 0.75}\n",
      "0.759190 (0.000033) with: {'alpha': 0.01, 'learning_rate_init': 0.002, 'momentum': 0.7}\n",
      "0.759190 (0.000033) with: {'alpha': 0.01, 'learning_rate_init': 0.005, 'momentum': 0.75}\n",
      "0.759190 (0.000033) with: {'alpha': 0.01, 'learning_rate_init': 0.005, 'momentum': 0.7}\n",
      "0.759190 (0.000033) with: {'alpha': 0.01, 'learning_rate_init': 0.007, 'momentum': 0.75}\n"
     ]
    },
    {
     "name": "stdout",
     "output_type": "stream",
     "text": [
      "0.7612174073277848\n",
      "0.7665376819605675\n"
     ]
    }
   ],
   "source": [
    "alphas = [0.0001, 0.0002, 0.0005, 0.0007, 0.001, 0.002, 0.005, 0.01]\n",
    "learning_rates = [0.001, 0.002, 0.005, 0.007, 0.01]\n",
    "momentums = [0.9, 0.85, 0.8, 0.75, 0.7]\n",
    "param_grid = dict(alpha=alphas, learning_rate_init = learning_rates, momentum = momentums)\n",
    "grid_nn = GridSearchCV(estimator=nn, param_grid=param_grid)\n",
    "grid_result_nn = grid_nn.fit(processed_adult_training_set, adult_training_set_labels)\n",
    "\n",
    "\n",
    "print(\"Best: %f using %s\" % (grid_result_nn.best_score_, grid_result_nn.best_params_))\n",
    "means = grid_result_nn.cv_results_['mean_test_score']\n",
    "stds = grid_result_nn.cv_results_['std_test_score']\n",
    "params = grid_result_nn.cv_results_['params']\n",
    "results = zip(means, stds, params)\n",
    "for mean, stdev, param in sorted(results, key=lambda x: x[0], reverse=True):\n",
    "    print(\"%f (%f) with: %r\" % (mean, stdev, param))\n",
    "    \n",
    "\n",
    "predicted_training_set_labels = grid_nn.predict(processed_adult_training_set)\n",
    "predicted_training_set_labels = pd.DataFrame(predicted_training_set_labels) \n",
    "training_set_acc_nn=accuracy_score(adult_training_set_labels, predicted_training_set_labels)\n",
    "\n",
    "predicted_testing_set_labels = grid_nn.predict(processed_adult_testing_set)\n",
    "predicted_testing_set_labels = pd.DataFrame(predicted_testing_set_labels)\n",
    "testing_set_acc_nn=accuracy_score(adult_testing_set_labels, predicted_testing_set_labels)\n",
    "\n",
    "print(training_set_acc_nn)\n",
    "print(testing_set_acc_nn)"
   ]
  },
  {
   "cell_type": "code",
   "execution_count": 19,
   "metadata": {},
   "outputs": [
    {
     "name": "stderr",
     "output_type": "stream",
     "text": [
      "c:\\users\\tommy\\.virtualenvs\\assignment1-ocs3pq-h\\lib\\site-packages\\sklearn\\model_selection\\_search.py:762: DeprecationWarning: The grid_scores_ attribute was deprecated in version 0.18 in favor of the more elaborate cv_results_ attribute. The grid_scores_ attribute will not be available from 0.20\n",
      "  DeprecationWarning)\n",
      "c:\\users\\tommy\\.virtualenvs\\assignment1-ocs3pq-h\\lib\\site-packages\\sklearn\\model_selection\\_search.py:762: DeprecationWarning: The grid_scores_ attribute was deprecated in version 0.18 in favor of the more elaborate cv_results_ attribute. The grid_scores_ attribute will not be available from 0.20\n",
      "  DeprecationWarning)\n"
     ]
    },
    {
     "data": {
      "image/png": "[encoded data removed]",
      "text/plain": [
       "<Figure size 1332x756 with 3 Axes>"
      ]
     },
     "metadata": {
      "needs_background": "light"
     },
     "output_type": "display_data"
    }
   ],
   "source": [
    "ax = plot.grid_search(grid_nn.grid_scores_, change=('alpha', 'learning_rate_init'),\n",
    "              subset={'momentum': 0.7})\n",
    "fig = ax.get_figure()\n",
    "fig.set_size_inches(18.5, 10.5)\n",
    "fig.savefig('NN1.png')\n",
    "fig.clf()\n",
    "ax = plot.grid_search(grid_nn.grid_scores_, change=('alpha', 'momentum'),\n",
    "              subset={'learning_rate_init': 0.01})\n",
    "fig = ax.get_figure()\n",
    "fig.savefig('NN2.png')\n",
    "fig.clf()"
   ]
  },
  {
   "cell_type": "code",
   "execution_count": 20,
   "metadata": {
    "scrolled": true
   },
   "outputs": [
    {
     "name": "stdout",
     "output_type": "stream",
     "text": [
      "0.8690457909769356\n",
      "0.8693569191081629\n"
     ]
    }
   ],
   "source": [
    "# boosting\n",
    "gbc = GradientBoostingClassifier()\n",
    "gbc.fit(processed_adult_training_set, adult_training_set_labels)\n",
    "\n",
    "predicted_training_set_labels = gbc.predict(processed_adult_training_set)\n",
    "predicted_training_set_labels = pd.DataFrame(predicted_training_set_labels) \n",
    "training_set_acc=accuracy_score(adult_training_set_labels, predicted_training_set_labels)\n",
    "\n",
    "predicted_testing_set_labels = gbc.predict(processed_adult_testing_set)\n",
    "predicted_testing_set_labels = pd.DataFrame(predicted_testing_set_labels)\n",
    "testing_set_acc=accuracy_score(adult_testing_set_labels, predicted_testing_set_labels)\n",
    "\n",
    "print(training_set_acc)\n",
    "print(testing_set_acc)"
   ]
  },
  {
   "cell_type": "code",
   "execution_count": 24,
   "metadata": {},
   "outputs": [
    {
     "name": "stdout",
     "output_type": "stream",
     "text": [
      "Best: 0.872209 using {'learning_rate': 0.1, 'n_estimators': 500}\n",
      "0.872209 (0.002673) with: {'learning_rate': 0.1, 'n_estimators': 500}\n",
      "0.871656 (0.002902) with: {'learning_rate': 0.1, 'n_estimators': 700}\n",
      "0.871503 (0.003652) with: {'learning_rate': 0.1, 'n_estimators': 300}\n",
      "0.870428 (0.003237) with: {'learning_rate': 0.1, 'n_estimators': 900}\n",
      "0.869936 (0.003279) with: {'learning_rate': 0.3, 'n_estimators': 100}\n",
      "0.869291 (0.002102) with: {'learning_rate': 0.3, 'n_estimators': 300}\n",
      "0.869230 (0.002479) with: {'learning_rate': 0.5, 'n_estimators': 100}\n",
      "0.867357 (0.004121) with: {'learning_rate': 0.7, 'n_estimators': 100}\n",
      "0.865760 (0.003197) with: {'learning_rate': 0.1, 'n_estimators': 100}\n",
      "0.864838 (0.002192) with: {'learning_rate': 0.3, 'n_estimators': 500}\n",
      "0.864470 (0.004527) with: {'learning_rate': 1.0, 'n_estimators': 100}\n",
      "0.863641 (0.001280) with: {'learning_rate': 0.5, 'n_estimators': 300}\n",
      "0.863272 (0.002472) with: {'learning_rate': 0.3, 'n_estimators': 700}\n",
      "0.862320 (0.002258) with: {'learning_rate': 0.3, 'n_estimators': 900}\n",
      "0.860569 (0.000309) with: {'learning_rate': 0.5, 'n_estimators': 500}\n",
      "0.858696 (0.004078) with: {'learning_rate': 1.0, 'n_estimators': 300}\n",
      "0.858665 (0.004029) with: {'learning_rate': 0.7, 'n_estimators': 300}\n",
      "0.858450 (0.001122) with: {'learning_rate': 0.5, 'n_estimators': 700}\n",
      "0.856086 (0.000752) with: {'learning_rate': 0.5, 'n_estimators': 900}\n",
      "0.855441 (0.005036) with: {'learning_rate': 1.0, 'n_estimators': 500}\n",
      "0.854949 (0.005190) with: {'learning_rate': 1.0, 'n_estimators': 700}\n",
      "0.854949 (0.005526) with: {'learning_rate': 1.0, 'n_estimators': 900}\n",
      "0.854642 (0.004191) with: {'learning_rate': 0.7, 'n_estimators': 500}\n",
      "0.852891 (0.004912) with: {'learning_rate': 0.7, 'n_estimators': 700}\n",
      "0.851356 (0.002655) with: {'learning_rate': 0.7, 'n_estimators': 900}\n",
      "0.8866742421915789\n",
      "0.8608807812787912\n"
     ]
    }
   ],
   "source": [
    "nEstimators = [100, 300, 500, 700, 900]\n",
    "learning_rates = [0.1, 0.3, 0.5, 0.7, 1.0]\n",
    "param_grid = dict(learning_rate = learning_rates, n_estimators = nEstimators)\n",
    "grid_b = GridSearchCV(estimator=gbc, param_grid=param_grid)\n",
    "grid_result_b = grid_b.fit(processed_adult_training_set, adult_training_set_labels)\n",
    "\n",
    "\n",
    "print(\"Best: %f using %s\" % (grid_result_b.best_score_, grid_result_b.best_params_))\n",
    "means = grid_result_b.cv_results_['mean_test_score']\n",
    "stds = grid_result_b.cv_results_['std_test_score']\n",
    "params = grid_result_b.cv_results_['params']\n",
    "results = zip(means, stds, params)\n",
    "for mean, stdev, param in sorted(results, key=lambda x: x[0], reverse=True):\n",
    "    print(\"%f (%f) with: %r\" % (mean, stdev, param))\n",
    "    \n",
    "\n",
    "predicted_training_set_labels = grid_b.predict(processed_adult_training_set)\n",
    "predicted_training_set_labels = pd.DataFrame(predicted_training_set_labels) \n",
    "training_set_acc=accuracy_score(adult_training_set_labels, predicted_training_set_labels)\n",
    "\n",
    "predicted_testing_set_labels = grid_b.predict(processed_adult_testing_set)\n",
    "predicted_testing_set_labels = pd.DataFrame(predicted_testing_set_labels)\n",
    "testing_set_acc=accuracy_score(adult_testing_set_labels, predicted_testing_set_labels)\n",
    "\n",
    "print(training_set_acc)\n",
    "print(testing_set_acc)"
   ]
  },
  {
   "cell_type": "code",
   "execution_count": 26,
   "metadata": {},
   "outputs": [
    {
     "name": "stderr",
     "output_type": "stream",
     "text": [
      "c:\\users\\tommy\\.virtualenvs\\assignment1-ocs3pq-h\\lib\\site-packages\\sklearn\\model_selection\\_search.py:762: DeprecationWarning: The grid_scores_ attribute was deprecated in version 0.18 in favor of the more elaborate cv_results_ attribute. The grid_scores_ attribute will not be available from 0.20\n",
      "  DeprecationWarning)\n"
     ]
    },
    {
     "data": {
      "text/plain": [
       "<Figure size 1332x756 with 0 Axes>"
      ]
     },
     "metadata": {},
     "output_type": "display_data"
    }
   ],
   "source": [
    "ax = plot.grid_search(grid_b.grid_scores_, change=('learning_rate', 'n_estimators'))\n",
    "fig = ax.get_figure()\n",
    "fig.set_size_inches(18.5, 10.5)\n",
    "fig.savefig('boosting1.png')\n",
    "fig.clf()"
   ]
  },
  {
   "cell_type": "code",
   "execution_count": 38,
   "metadata": {},
   "outputs": [
    {
     "name": "stdout",
     "output_type": "stream",
     "text": [
      "Best: 0.872178 using {'learning_rate': 0.1, 'n_estimators': 500}\n",
      "0.872178 (0.002601) with: {'learning_rate': 0.1, 'n_estimators': 500}\n",
      "0.872117 (0.002835) with: {'learning_rate': 0.1, 'n_estimators': 400}\n",
      "0.871994 (0.002555) with: {'learning_rate': 0.1, 'n_estimators': 600}\n",
      "0.871564 (0.003574) with: {'learning_rate': 0.1, 'n_estimators': 300}\n",
      "0.871564 (0.002902) with: {'learning_rate': 0.1, 'n_estimators': 700}\n",
      "0.870796 (0.003220) with: {'learning_rate': 0.1, 'n_estimators': 800}\n",
      "0.870551 (0.003233) with: {'learning_rate': 0.1, 'n_estimators': 900}\n",
      "0.869783 (0.002450) with: {'learning_rate': 0.1, 'n_estimators': 1000}\n",
      "0.868862 (0.003456) with: {'learning_rate': 0.1, 'n_estimators': 200}\n",
      "0.865668 (0.003271) with: {'learning_rate': 0.1, 'n_estimators': 100}\n",
      "0.8866742421915789\n",
      "0.8603894109698421\n"
     ]
    }
   ],
   "source": [
    "nEstimators = [100, 200, 300, 400, 500, 600, 700, 800, 900, 1000]\n",
    "learning_rate=[0.1]\n",
    "param_grid = dict(n_estimators = nEstimators, learning_rate=learning_rate)\n",
    "grid_b2 = GridSearchCV(estimator=gbc, param_grid=param_grid)\n",
    "grid_result_b2 = grid_b2.fit(processed_adult_training_set, adult_training_set_labels)\n",
    "\n",
    "\n",
    "print(\"Best: %f using %s\" % (grid_result_b2.best_score_, grid_result_b2.best_params_))\n",
    "means = grid_result_b2.cv_results_['mean_test_score']\n",
    "stds = grid_result_b2.cv_results_['std_test_score']\n",
    "params = grid_result_b2.cv_results_['params']\n",
    "results = zip(means, stds, params)\n",
    "for mean, stdev, param in sorted(results, key=lambda x: x[0], reverse=True):\n",
    "    print(\"%f (%f) with: %r\" % (mean, stdev, param))\n",
    "    \n",
    "\n",
    "predicted_training_set_labels = grid_b2.predict(processed_adult_training_set)\n",
    "predicted_training_set_labels = pd.DataFrame(predicted_training_set_labels) \n",
    "training_set_acc=accuracy_score(adult_training_set_labels, predicted_training_set_labels)\n",
    "\n",
    "predicted_testing_set_labels = grid_b2.predict(processed_adult_testing_set)\n",
    "predicted_testing_set_labels = pd.DataFrame(predicted_testing_set_labels)\n",
    "testing_set_acc=accuracy_score(adult_testing_set_labels, predicted_testing_set_labels)\n",
    "\n",
    "print(training_set_acc)\n",
    "print(testing_set_acc)"
   ]
  },
  {
   "cell_type": "code",
   "execution_count": 39,
   "metadata": {},
   "outputs": [
    {
     "name": "stdout",
     "output_type": "stream",
     "text": [
      "[mean: 0.86567, std: 0.00327, params: {'learning_rate': 0.1, 'n_estimators': 100}, mean: 0.86886, std: 0.00346, params: {'learning_rate': 0.1, 'n_estimators': 200}, mean: 0.87156, std: 0.00357, params: {'learning_rate': 0.1, 'n_estimators': 300}, mean: 0.87212, std: 0.00283, params: {'learning_rate': 0.1, 'n_estimators': 400}, mean: 0.87218, std: 0.00260, params: {'learning_rate': 0.1, 'n_estimators': 500}, mean: 0.87199, std: 0.00255, params: {'learning_rate': 0.1, 'n_estimators': 600}, mean: 0.87156, std: 0.00290, params: {'learning_rate': 0.1, 'n_estimators': 700}, mean: 0.87080, std: 0.00322, params: {'learning_rate': 0.1, 'n_estimators': 800}, mean: 0.87055, std: 0.00323, params: {'learning_rate': 0.1, 'n_estimators': 900}, mean: 0.86978, std: 0.00245, params: {'learning_rate': 0.1, 'n_estimators': 1000}]\n"
     ]
    },
    {
     "name": "stderr",
     "output_type": "stream",
     "text": [
      "c:\\users\\tommy\\.virtualenvs\\assignment1-ocs3pq-h\\lib\\site-packages\\sklearn\\model_selection\\_search.py:762: DeprecationWarning: The grid_scores_ attribute was deprecated in version 0.18 in favor of the more elaborate cv_results_ attribute. The grid_scores_ attribute will not be available from 0.20\n",
      "  DeprecationWarning)\n",
      "c:\\users\\tommy\\.virtualenvs\\assignment1-ocs3pq-h\\lib\\site-packages\\sklearn\\model_selection\\_search.py:762: DeprecationWarning: The grid_scores_ attribute was deprecated in version 0.18 in favor of the more elaborate cv_results_ attribute. The grid_scores_ attribute will not be available from 0.20\n",
      "  DeprecationWarning)\n"
     ]
    },
    {
     "data": {
      "text/plain": [
       "<Figure size 1332x756 with 0 Axes>"
      ]
     },
     "metadata": {},
     "output_type": "display_data"
    }
   ],
   "source": [
    "print(grid_b2.grid_scores_)\n",
    "ax = plot.grid_search(grid_b2.grid_scores_, change='n_estimators')\n",
    "fig = ax.get_figure()\n",
    "fig.savefig('boosting2.png')\n",
    "fig.set_size_inches(18.5, 10.5)\n",
    "fig.clf()"
   ]
  },
  {
   "cell_type": "code",
   "execution_count": 40,
   "metadata": {},
   "outputs": [
    {
     "name": "stdout",
     "output_type": "stream",
     "text": [
      "Best: 0.872578 using {'learning_rate': 0.1, 'max_depth': 6}\n",
      "0.872578 (0.002997) with: {'learning_rate': 0.1, 'max_depth': 6}\n",
      "0.871226 (0.003513) with: {'learning_rate': 0.1, 'max_depth': 5}\n",
      "0.869599 (0.002499) with: {'learning_rate': 0.1, 'max_depth': 7}\n",
      "0.868800 (0.003059) with: {'learning_rate': 0.1, 'max_depth': 4}\n",
      "0.865729 (0.003204) with: {'learning_rate': 0.1, 'max_depth': 3}\n",
      "0.8916802309511379\n",
      "0.8745163073521283\n"
     ]
    }
   ],
   "source": [
    "maxDepths = [3, 4, 5, 6, 7]\n",
    "learning_rate=[0.1]\n",
    "param_grid = dict(max_depth = maxDepths, learning_rate=learning_rate)\n",
    "grid_b3 = GridSearchCV(estimator=gbc, param_grid=param_grid)\n",
    "grid_result_b3 = grid_b3.fit(processed_adult_training_set, adult_training_set_labels)\n",
    "\n",
    "\n",
    "print(\"Best: %f using %s\" % (grid_result_b3.best_score_, grid_result_b3.best_params_))\n",
    "means = grid_result_b3.cv_results_['mean_test_score']\n",
    "stds = grid_result_b3.cv_results_['std_test_score']\n",
    "params = grid_result_b3.cv_results_['params']\n",
    "results = zip(means, stds, params)\n",
    "for mean, stdev, param in sorted(results, key=lambda x: x[0], reverse=True):\n",
    "    print(\"%f (%f) with: %r\" % (mean, stdev, param))\n",
    "    \n",
    "\n",
    "predicted_training_set_labels = grid_b3.predict(processed_adult_training_set)\n",
    "predicted_training_set_labels = pd.DataFrame(predicted_training_set_labels) \n",
    "training_set_acc=accuracy_score(adult_training_set_labels, predicted_training_set_labels)\n",
    "\n",
    "predicted_testing_set_labels = grid_b3.predict(processed_adult_testing_set)\n",
    "predicted_testing_set_labels = pd.DataFrame(predicted_testing_set_labels)\n",
    "testing_set_acc=accuracy_score(adult_testing_set_labels, predicted_testing_set_labels)\n",
    "\n",
    "print(training_set_acc)\n",
    "print(testing_set_acc)"
   ]
  },
  {
   "cell_type": "code",
   "execution_count": 42,
   "metadata": {},
   "outputs": [
    {
     "name": "stderr",
     "output_type": "stream",
     "text": [
      "c:\\users\\tommy\\.virtualenvs\\assignment1-ocs3pq-h\\lib\\site-packages\\sklearn\\model_selection\\_search.py:762: DeprecationWarning: The grid_scores_ attribute was deprecated in version 0.18 in favor of the more elaborate cv_results_ attribute. The grid_scores_ attribute will not be available from 0.20\n",
      "  DeprecationWarning)\n"
     ]
    },
    {
     "data": {
      "text/plain": [
       "<Figure size 1332x756 with 0 Axes>"
      ]
     },
     "metadata": {},
     "output_type": "display_data"
    }
   ],
   "source": [
    "ax = plot.grid_search(grid_b3.grid_scores_, change=('max_depth'))\n",
    "fig = ax.get_figure()\n",
    "fig.set_size_inches(18.5, 10.5)\n",
    "fig.savefig('boosting3.png')\n",
    "fig.clf()"
   ]
  },
  {
   "cell_type": "code",
   "execution_count": 4,
   "metadata": {},
   "outputs": [
    {
     "name": "stdout",
     "output_type": "stream",
     "text": [
      "0.8357851417339762\n",
      "0.7769793010257355\n"
     ]
    }
   ],
   "source": [
    "# KNN\n",
    "knn = KNeighborsClassifier()\n",
    "knn.fit(processed_adult_training_set, adult_training_set_labels)\n",
    "\n",
    "predicted_training_set_labels = knn.predict(processed_adult_training_set)\n",
    "predicted_training_set_labels = pd.DataFrame(predicted_training_set_labels) \n",
    "training_set_acc=accuracy_score(adult_training_set_labels, predicted_training_set_labels)\n",
    "\n",
    "predicted_testing_set_labels = knn.predict(processed_adult_testing_set)\n",
    "predicted_testing_set_labels = pd.DataFrame(predicted_testing_set_labels)\n",
    "testing_set_acc=accuracy_score(adult_testing_set_labels, predicted_testing_set_labels)\n",
    "\n",
    "print(training_set_acc)\n",
    "print(testing_set_acc)"
   ]
  },
  {
   "cell_type": "code",
   "execution_count": null,
   "metadata": {},
   "outputs": [],
   "source": [
    "n_neighbors = [5, 6, 7, 8, 9, 10]\n",
    "weights = [\"uniform\", \"distance\"]\n",
    "p = [1, 2, 3, 4]\n",
    "param_grid = dict(n_neighbors = n_neighbors, weights = weights, p = p)\n",
    "grid_knn = GridSearchCV(estimator=knn, param_grid=param_grid)\n",
    "grid_result_knn = grid_knn.fit(processed_adult_training_set, adult_training_set_labels)\n",
    "\n",
    "\n",
    "print(\"Best: %f using %s\" % (grid_result_knn.best_score_, grid_result_knn.best_params_))\n",
    "means = grid_result_knn.cv_results_['mean_test_score']\n",
    "stds = grid_result_knn.cv_results_['std_test_score']\n",
    "params = grid_result_knn.cv_results_['params']\n",
    "results = zip(means, stds, params)\n",
    "for mean, stdev, param in sorted(results, key=lambda x: x[0], reverse=True):\n",
    "    print(\"%f (%f) with: %r\" % (mean, stdev, param))\n",
    "    \n",
    "\n",
    "predicted_training_set_labels = grid_knn.predict(processed_adult_training_set)\n",
    "predicted_training_set_labels = pd.DataFrame(predicted_training_set_labels) \n",
    "training_set_acc=accuracy_score(adult_training_set_labels, predicted_training_set_labels)\n",
    "\n",
    "predicted_testing_set_labels = grid_knn.predict(processed_adult_testing_set)\n",
    "predicted_testing_set_labels = pd.DataFrame(predicted_testing_set_labels)\n",
    "testing_set_acc=accuracy_score(adult_testing_set_labels, predicted_testing_set_labels)\n",
    "\n",
    "print(training_set_acc)\n",
    "print(testing_set_acc)"
   ]
  },
  {
   "cell_type": "code",
   "execution_count": null,
   "metadata": {},
   "outputs": [],
   "source": [
    "ax = plot.grid_search(grid_knn.grid_scores_, change=('n_neighbors', 'p'), subset={'weights': 'uniform'})\n",
    "fig = ax.get_figure()\n",
    "fig.set_size_inches(18.5, 10.5)\n",
    "fig.savefig('knn1.png')\n",
    "fig.clf()\n",
    "ax = plot.grid_search(grid_knn.grid_scores_, change=('n_neighbors', 'p'), subset={'weights': 'distance'})\n",
    "fig = ax.get_figure()\n",
    "fig.set_size_inches(18.5, 10.5)\n",
    "fig.savefig('knn2.png')\n",
    "fig.clf()"
   ]
  },
  {
   "cell_type": "code",
   "execution_count": 7,
   "metadata": {},
   "outputs": [
    {
     "name": "stdout",
     "output_type": "stream",
     "text": [
      "Best: 0.797948 using {'n_neighbors': 25, 'weights': 'uniform'}\n",
      "0.797948 (0.000860) with: {'n_neighbors': 25, 'weights': 'uniform'}\n",
      "0.797211 (0.001160) with: {'n_neighbors': 20, 'weights': 'uniform'}\n",
      "0.797150 (0.001191) with: {'n_neighbors': 30, 'weights': 'uniform'}\n",
      "0.796843 (0.001150) with: {'n_neighbors': 15, 'weights': 'uniform'}\n",
      "0.796444 (0.001430) with: {'n_neighbors': 35, 'weights': 'uniform'}\n",
      "0.795399 (0.000319) with: {'n_neighbors': 10, 'weights': 'uniform'}\n",
      "0.795399 (0.000758) with: {'n_neighbors': 40, 'weights': 'uniform'}\n",
      "0.794816 (0.000942) with: {'n_neighbors': 45, 'weights': 'uniform'}\n",
      "0.793864 (0.000865) with: {'n_neighbors': 50, 'weights': 'uniform'}\n",
      "0.775529 (0.001995) with: {'n_neighbors': 5, 'weights': 'uniform'}\n",
      "0.8036608212278493\n",
      "0.8027148209569437\n"
     ]
    }
   ],
   "source": [
    "n_neighbors = [5, 10, 15, 20, 25, 30, 35, 40, 45, 50]\n",
    "weights = [\"uniform\"]\n",
    "param_grid = dict(n_neighbors = n_neighbors, weights = weights)\n",
    "grid_knn = GridSearchCV(estimator=knn, param_grid=param_grid)\n",
    "grid_result_knn = grid_knn.fit(processed_adult_training_set, adult_training_set_labels)\n",
    "\n",
    "\n",
    "print(\"Best: %f using %s\" % (grid_result_knn.best_score_, grid_result_knn.best_params_))\n",
    "means = grid_result_knn.cv_results_['mean_test_score']\n",
    "stds = grid_result_knn.cv_results_['std_test_score']\n",
    "params = grid_result_knn.cv_results_['params']\n",
    "results = zip(means, stds, params)\n",
    "for mean, stdev, param in sorted(results, key=lambda x: x[0], reverse=True):\n",
    "    print(\"%f (%f) with: %r\" % (mean, stdev, param))\n",
    "    \n",
    "\n",
    "predicted_training_set_labels = grid_knn.predict(processed_adult_training_set)\n",
    "predicted_training_set_labels = pd.DataFrame(predicted_training_set_labels) \n",
    "training_set_acc=accuracy_score(adult_training_set_labels, predicted_training_set_labels)\n",
    "\n",
    "predicted_testing_set_labels = grid_knn.predict(processed_adult_testing_set)\n",
    "predicted_testing_set_labels = pd.DataFrame(predicted_testing_set_labels)\n",
    "testing_set_acc=accuracy_score(adult_testing_set_labels, predicted_testing_set_labels)\n",
    "\n",
    "print(training_set_acc)\n",
    "print(testing_set_acc)"
   ]
  },
  {
   "cell_type": "code",
   "execution_count": 8,
   "metadata": {},
   "outputs": [
    {
     "name": "stderr",
     "output_type": "stream",
     "text": [
      "c:\\users\\tommy\\.virtualenvs\\assignment1-ocs3pq-h\\lib\\site-packages\\sklearn\\model_selection\\_search.py:762: DeprecationWarning: The grid_scores_ attribute was deprecated in version 0.18 in favor of the more elaborate cv_results_ attribute. The grid_scores_ attribute will not be available from 0.20\n",
      "  DeprecationWarning)\n"
     ]
    },
    {
     "data": {
      "text/plain": [
       "<Figure size 1332x756 with 0 Axes>"
      ]
     },
     "metadata": {},
     "output_type": "display_data"
    }
   ],
   "source": [
    "ax = plot.grid_search(grid_knn.grid_scores_, change=('n_neighbors'))\n",
    "fig = ax.get_figure()\n",
    "fig.set_size_inches(18.5, 10.5)\n",
    "fig.savefig('knn3.png')\n",
    "fig.clf()"
   ]
  },
  {
   "cell_type": "code",
   "execution_count": 9,
   "metadata": {},
   "outputs": [
    {
     "name": "stdout",
     "output_type": "stream",
     "text": [
      "0.9603206289733116\n",
      "0.7604569743873226\n"
     ]
    }
   ],
   "source": [
    "# SVM\n",
    "svm = svm.SVC()\n",
    "svm.fit(processed_adult_training_set, adult_training_set_labels)\n",
    "\n",
    "predicted_training_set_labels = svm.predict(processed_adult_training_set)\n",
    "predicted_training_set_labels = pd.DataFrame(predicted_training_set_labels) \n",
    "training_set_acc=accuracy_score(adult_training_set_labels, predicted_training_set_labels)\n",
    "\n",
    "predicted_testing_set_labels = svm.predict(processed_adult_testing_set)\n",
    "predicted_testing_set_labels = pd.DataFrame(predicted_testing_set_labels)\n",
    "testing_set_acc=accuracy_score(adult_testing_set_labels, predicted_testing_set_labels)\n",
    "\n",
    "print(training_set_acc)\n",
    "print(testing_set_acc)"
   ]
  },
  {
   "cell_type": "code",
   "execution_count": null,
   "metadata": {},
   "outputs": [],
   "source": [
    "kernels = ['linear', 'poly', 'rbf']\n",
    "C=[1.0]\n",
    "param_grid = dict(kernel = kernels, C=C)\n",
    "grid = GridSearchCV(estimator=svm, param_grid=param_grid)\n",
    "grid_result = grid.fit(processed_adult_training_set, adult_training_set_labels)\n",
    "\n",
    "\n",
    "print(\"Best: %f using %s\" % (grid_result.best_score_, grid_result.best_params_))\n",
    "means = grid_result.cv_results_['mean_test_score']\n",
    "stds = grid_result.cv_results_['std_test_score']\n",
    "params = grid_result.cv_results_['params']\n",
    "results = zip(means, stds, params)\n",
    "for mean, stdev, param in sorted(results, key=lambda x: x[0], reverse=True):\n",
    "    print(\"%f (%f) with: %r\" % (mean, stdev, param))\n",
    "    \n",
    "\n",
    "predicted_training_set_labels = grid.predict(processed_adult_training_set)\n",
    "predicted_training_set_labels = pd.DataFrame(predicted_training_set_labels) \n",
    "training_set_acc=accuracy_score(adult_training_set_labels, predicted_training_set_labels)\n",
    "\n",
    "predicted_testing_set_labels = grid.predict(processed_adult_testing_set)\n",
    "predicted_testing_set_labels = pd.DataFrame(predicted_testing_set_labels)\n",
    "testing_set_acc=accuracy_score(adult_testing_set_labels, predicted_testing_set_labels)\n",
    "\n",
    "print(training_set_acc)\n",
    "print(testing_set_acc)"
   ]
  },
  {
   "cell_type": "code",
   "execution_count": null,
   "metadata": {},
   "outputs": [],
   "source": [
    "ax = plot.grid_search(grid_knn.grid_scores_, change=(kernels), subset={'C': 1.0})\n",
    "fig = ax.get_figure()\n",
    "fig.set_size_inches(18.5, 10.5)\n",
    "fig.savefig('svm1.png')\n",
    "fig.clf()"
   ]
  },
  {
   "cell_type": "code",
   "execution_count": null,
   "metadata": {},
   "outputs": [],
   "source": []
  }
 ],
 "metadata": {
  "kernelspec": {
   "display_name": "Python 3",
   "language": "python",
   "name": "python3"
  },
  "language_info": {
   "codemirror_mode": {
    "name": "ipython",
    "version": 3
   },
   "file_extension": ".py",
   "mimetype": "text/x-python",
   "name": "python",
   "nbconvert_exporter": "python",
   "pygments_lexer": "ipython3",
   "version": "3.6.2"
  }
 },
 "nbformat": 4,
 "nbformat_minor": 2
}
